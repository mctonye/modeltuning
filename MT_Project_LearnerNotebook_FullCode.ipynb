{
 "cells": [
  {
   "cell_type": "markdown",
   "metadata": {
    "id": "9EaJ8AGwpM-2"
   },
   "source": [
    "## Problem Statement"
   ]
  },
  {
   "cell_type": "markdown",
   "metadata": {
    "id": "x3-QehJxbp0t"
   },
   "source": [
    "### Business Context\n",
    "\n",
    "Renewable energy sources play an increasingly important role in the global energy mix, as the effort to reduce the environmental impact of energy production increases.\n",
    "\n",
    "Out of all the renewable energy alternatives, wind energy is one of the most developed technologies worldwide. The U.S Department of Energy has put together a guide to achieving operational efficiency using predictive maintenance practices.\n",
    "\n",
    "Predictive maintenance uses sensor information and analysis methods to measure and predict degradation and future component capability. The idea behind predictive maintenance is that failure patterns are predictable and if component failure can be predicted accurately and the component is replaced before it fails, the costs of operation and maintenance will be much lower.\n",
    "\n",
    "The sensors fitted across different machines involved in the process of energy generation collect data related to various environmental factors (temperature, humidity, wind speed, etc.) and additional features related to various parts of the wind turbine (gearbox, tower, blades, break, etc.). \n",
    "\n",
    "\n",
    "\n",
    "## Objective\n",
    "“ReneWind” is a company working on improving the machinery/processes involved in the production of wind energy using machine learning and has collected data of generator failure of wind turbines using sensors. They have shared a ciphered version of the data, as the data collected through sensors is confidential (the type of data collected varies with companies). Data has 40 predictors, 20000 observations in the training set and 5000 in the test set.\n",
    "\n",
    "The objective is to build various classification models, tune them, and find the best one that will help identify failures so that the generators could be repaired before failing/breaking to reduce the overall maintenance cost. \n",
    "The nature of predictions made by the classification model will translate as follows:\n",
    "\n",
    "- True positives (TP) are failures correctly predicted by the model. These will result in repairing costs.\n",
    "- False negatives (FN) are real failures where there is no detection by the model. These will result in replacement costs.\n",
    "- False positives (FP) are detections where there is no failure. These will result in inspection costs.\n",
    "\n",
    "It is given that the cost of repairing a generator is much less than the cost of replacing it, and the cost of inspection is less than the cost of repair.\n",
    "\n",
    "“1” in the target variables should be considered as “failure” and “0” represents “No failure”.\n",
    "\n",
    "## Data Description\n",
    "- The data provided is a transformed version of original data which was collected using sensors.\n",
    "- Train.csv - To be used for training and tuning of models. \n",
    "- Test.csv - To be used only for testing the performance of the final best model.\n",
    "- Both the datasets consist of 40 predictor variables and 1 target variable"
   ]
  },
  {
   "cell_type": "markdown",
   "metadata": {
    "id": "v_-uuGqH-qTt"
   },
   "source": [
    "## Importing necessary libraries"
   ]
  },
  {
   "cell_type": "code",
   "execution_count": 1,
   "metadata": {
    "id": "83D17_Wl4jal"
   },
   "outputs": [
    {
     "data": {
      "application/javascript": [
       "\n",
       "            setTimeout(function() {\n",
       "                var nbb_cell_id = 1;\n",
       "                var nbb_unformatted_code = \"# This will help in making the Python code more structured automatically (good coding practice)\\n%load_ext nb_black\\n\\n# To suppress warnings\\nimport warnings\\n\\nwarnings.filterwarnings(\\\"ignore\\\")\\n\\n# Libraries to help with reading and manipulating data\\nimport pandas as pd\\nimport numpy as np\\n\\n# Libaries to help with data visualization\\nimport matplotlib.pyplot as plt\\nimport seaborn as sns\\n\\n# To tune model, get different metric scores, and split data\\nfrom sklearn.metrics import (\\n    f1_score,\\n    accuracy_score,\\n    recall_score,\\n    precision_score,\\n    confusion_matrix,\\n    roc_auc_score,\\n    plot_confusion_matrix,\\n)\\nfrom sklearn import metrics\\n\\nfrom sklearn.model_selection import train_test_split, StratifiedKFold, cross_val_score\\n\\n# To be used for data scaling and one hot encoding\\nfrom sklearn.preprocessing import StandardScaler, MinMaxScaler, OneHotEncoder\\n\\n# To impute missing values\\nfrom sklearn.impute import SimpleImputer\\n\\n# To oversample and undersample data\\nfrom imblearn.over_sampling import SMOTE\\nfrom imblearn.under_sampling import RandomUnderSampler\\n\\n# To do hyperparameter tuning\\nfrom sklearn.model_selection import RandomizedSearchCV\\n\\n# To be used for creating pipelines and personalizing them\\nfrom sklearn.pipeline import Pipeline\\nfrom sklearn.compose import ColumnTransformer\\n\\n# To define maximum number of columns to be displayed in a dataframe\\npd.set_option(\\\"display.max_columns\\\", None)\\npd.set_option(\\\"display.max_rows\\\", None)\\n\\n# To supress scientific notations for a dataframe\\npd.set_option(\\\"display.float_format\\\", lambda x: \\\"%.3f\\\" % x)\\n\\n# To help with model building\\nfrom sklearn.linear_model import LogisticRegression\\nfrom sklearn.tree import DecisionTreeClassifier\\nfrom sklearn.ensemble import (\\n    AdaBoostClassifier,\\n    GradientBoostingClassifier,\\n    RandomForestClassifier,\\n    BaggingClassifier,\\n)\\nfrom xgboost import XGBClassifier\\n\\n# To suppress scientific notations\\npd.set_option(\\\"display.float_format\\\", lambda x: \\\"%.3f\\\" % x)\";\n",
       "                var nbb_formatted_code = \"# This will help in making the Python code more structured automatically (good coding practice)\\n%load_ext nb_black\\n\\n# To suppress warnings\\nimport warnings\\n\\nwarnings.filterwarnings(\\\"ignore\\\")\\n\\n# Libraries to help with reading and manipulating data\\nimport pandas as pd\\nimport numpy as np\\n\\n# Libaries to help with data visualization\\nimport matplotlib.pyplot as plt\\nimport seaborn as sns\\n\\n# To tune model, get different metric scores, and split data\\nfrom sklearn.metrics import (\\n    f1_score,\\n    accuracy_score,\\n    recall_score,\\n    precision_score,\\n    confusion_matrix,\\n    roc_auc_score,\\n    plot_confusion_matrix,\\n)\\nfrom sklearn import metrics\\n\\nfrom sklearn.model_selection import train_test_split, StratifiedKFold, cross_val_score\\n\\n# To be used for data scaling and one hot encoding\\nfrom sklearn.preprocessing import StandardScaler, MinMaxScaler, OneHotEncoder\\n\\n# To impute missing values\\nfrom sklearn.impute import SimpleImputer\\n\\n# To oversample and undersample data\\nfrom imblearn.over_sampling import SMOTE\\nfrom imblearn.under_sampling import RandomUnderSampler\\n\\n# To do hyperparameter tuning\\nfrom sklearn.model_selection import RandomizedSearchCV\\n\\n# To be used for creating pipelines and personalizing them\\nfrom sklearn.pipeline import Pipeline\\nfrom sklearn.compose import ColumnTransformer\\n\\n# To define maximum number of columns to be displayed in a dataframe\\npd.set_option(\\\"display.max_columns\\\", None)\\npd.set_option(\\\"display.max_rows\\\", None)\\n\\n# To supress scientific notations for a dataframe\\npd.set_option(\\\"display.float_format\\\", lambda x: \\\"%.3f\\\" % x)\\n\\n# To help with model building\\nfrom sklearn.linear_model import LogisticRegression\\nfrom sklearn.tree import DecisionTreeClassifier\\nfrom sklearn.ensemble import (\\n    AdaBoostClassifier,\\n    GradientBoostingClassifier,\\n    RandomForestClassifier,\\n    BaggingClassifier,\\n)\\nfrom xgboost import XGBClassifier\\n\\n# To suppress scientific notations\\npd.set_option(\\\"display.float_format\\\", lambda x: \\\"%.3f\\\" % x)\";\n",
       "                var nbb_cells = Jupyter.notebook.get_cells();\n",
       "                for (var i = 0; i < nbb_cells.length; ++i) {\n",
       "                    if (nbb_cells[i].input_prompt_number == nbb_cell_id) {\n",
       "                        if (nbb_cells[i].get_text() == nbb_unformatted_code) {\n",
       "                             nbb_cells[i].set_text(nbb_formatted_code);\n",
       "                        }\n",
       "                        break;\n",
       "                    }\n",
       "                }\n",
       "            }, 500);\n",
       "            "
      ],
      "text/plain": [
       "<IPython.core.display.Javascript object>"
      ]
     },
     "metadata": {},
     "output_type": "display_data"
    }
   ],
   "source": [
    "# This will help in making the Python code more structured automatically (good coding practice)\n",
    "%load_ext nb_black\n",
    "\n",
    "# To suppress warnings\n",
    "import warnings\n",
    "\n",
    "warnings.filterwarnings(\"ignore\")\n",
    "\n",
    "# Libraries to help with reading and manipulating data\n",
    "import pandas as pd\n",
    "import numpy as np\n",
    "\n",
    "# Libaries to help with data visualization\n",
    "import matplotlib.pyplot as plt\n",
    "import seaborn as sns\n",
    "\n",
    "# To tune model, get different metric scores, and split data\n",
    "from sklearn.metrics import (\n",
    "    f1_score,\n",
    "    accuracy_score,\n",
    "    recall_score,\n",
    "    precision_score,\n",
    "    confusion_matrix,\n",
    "    roc_auc_score,\n",
    "    plot_confusion_matrix,\n",
    ")\n",
    "from sklearn import metrics\n",
    "\n",
    "from sklearn.model_selection import train_test_split, StratifiedKFold, cross_val_score\n",
    "\n",
    "# To be used for data scaling and one hot encoding\n",
    "from sklearn.preprocessing import StandardScaler, MinMaxScaler, OneHotEncoder\n",
    "\n",
    "# To impute missing values\n",
    "from sklearn.impute import SimpleImputer\n",
    "\n",
    "# To oversample and undersample data\n",
    "from imblearn.over_sampling import SMOTE\n",
    "from imblearn.under_sampling import RandomUnderSampler\n",
    "\n",
    "# To do hyperparameter tuning\n",
    "from sklearn.model_selection import RandomizedSearchCV\n",
    "\n",
    "# To be used for creating pipelines and personalizing them\n",
    "from sklearn.pipeline import Pipeline\n",
    "from sklearn.compose import ColumnTransformer\n",
    "\n",
    "# To define maximum number of columns to be displayed in a dataframe\n",
    "pd.set_option(\"display.max_columns\", None)\n",
    "pd.set_option(\"display.max_rows\", None)\n",
    "\n",
    "# To supress scientific notations for a dataframe\n",
    "pd.set_option(\"display.float_format\", lambda x: \"%.3f\" % x)\n",
    "\n",
    "# To help with model building\n",
    "from sklearn.linear_model import LogisticRegression\n",
    "from sklearn.tree import DecisionTreeClassifier\n",
    "from sklearn.ensemble import (\n",
    "    AdaBoostClassifier,\n",
    "    GradientBoostingClassifier,\n",
    "    RandomForestClassifier,\n",
    "    BaggingClassifier,\n",
    ")\n",
    "from xgboost import XGBClassifier\n",
    "\n",
    "# To suppress scientific notations\n",
    "pd.set_option(\"display.float_format\", lambda x: \"%.3f\" % x)"
   ]
  },
  {
   "cell_type": "markdown",
   "metadata": {
    "id": "xxhpZv9y-qTw"
   },
   "source": [
    "## Loading the dataset"
   ]
  },
  {
   "cell_type": "code",
   "execution_count": 2,
   "metadata": {
    "id": "oJnKoHy14jam"
   },
   "outputs": [
    {
     "data": {
      "application/javascript": [
       "\n",
       "            setTimeout(function() {\n",
       "                var nbb_cell_id = 2;\n",
       "                var nbb_unformatted_code = \"df_train = pd.read_csv(\\n    \\\"C:/Users/mctal/Documents/DSBA materials/6 Model Tuning/Train.csv\\\"\\n)\\ndf_test = pd.read_csv(\\\"C:/Users/mctal/Documents/DSBA materials/6 Model Tuning/Test.csv\\\")\";\n",
       "                var nbb_formatted_code = \"df_train = pd.read_csv(\\n    \\\"C:/Users/mctal/Documents/DSBA materials/6 Model Tuning/Train.csv\\\"\\n)\\ndf_test = pd.read_csv(\\\"C:/Users/mctal/Documents/DSBA materials/6 Model Tuning/Test.csv\\\")\";\n",
       "                var nbb_cells = Jupyter.notebook.get_cells();\n",
       "                for (var i = 0; i < nbb_cells.length; ++i) {\n",
       "                    if (nbb_cells[i].input_prompt_number == nbb_cell_id) {\n",
       "                        if (nbb_cells[i].get_text() == nbb_unformatted_code) {\n",
       "                             nbb_cells[i].set_text(nbb_formatted_code);\n",
       "                        }\n",
       "                        break;\n",
       "                    }\n",
       "                }\n",
       "            }, 500);\n",
       "            "
      ],
      "text/plain": [
       "<IPython.core.display.Javascript object>"
      ]
     },
     "metadata": {},
     "output_type": "display_data"
    }
   ],
   "source": [
    "df_train = pd.read_csv(\n",
    "    \"C:/Users/mctal/Documents/DSBA materials/6 Model Tuning/Train.csv\"\n",
    ")\n",
    "df_test = pd.read_csv(\"C:/Users/mctal/Documents/DSBA materials/6 Model Tuning/Test.csv\")"
   ]
  },
  {
   "cell_type": "markdown",
   "metadata": {
    "id": "UvpMDcaaMKtI"
   },
   "source": [
    "## Data Overview"
   ]
  },
  {
   "cell_type": "markdown",
   "metadata": {
    "id": "tIiCRwqZ54_C"
   },
   "source": [
    "- Observations\n",
    "- Sanity checks"
   ]
  },
  {
   "cell_type": "code",
   "execution_count": 3,
   "metadata": {
    "id": "01hJQ7EfMKtK"
   },
   "outputs": [
    {
     "data": {
      "text/html": [
       "<div>\n",
       "<style scoped>\n",
       "    .dataframe tbody tr th:only-of-type {\n",
       "        vertical-align: middle;\n",
       "    }\n",
       "\n",
       "    .dataframe tbody tr th {\n",
       "        vertical-align: top;\n",
       "    }\n",
       "\n",
       "    .dataframe thead th {\n",
       "        text-align: right;\n",
       "    }\n",
       "</style>\n",
       "<table border=\"1\" class=\"dataframe\">\n",
       "  <thead>\n",
       "    <tr style=\"text-align: right;\">\n",
       "      <th></th>\n",
       "      <th>V1</th>\n",
       "      <th>V2</th>\n",
       "      <th>V3</th>\n",
       "      <th>V4</th>\n",
       "      <th>V5</th>\n",
       "      <th>V6</th>\n",
       "      <th>V7</th>\n",
       "      <th>V8</th>\n",
       "      <th>V9</th>\n",
       "      <th>V10</th>\n",
       "      <th>V11</th>\n",
       "      <th>V12</th>\n",
       "      <th>V13</th>\n",
       "      <th>V14</th>\n",
       "      <th>V15</th>\n",
       "      <th>V16</th>\n",
       "      <th>V17</th>\n",
       "      <th>V18</th>\n",
       "      <th>V19</th>\n",
       "      <th>V20</th>\n",
       "      <th>V21</th>\n",
       "      <th>V22</th>\n",
       "      <th>V23</th>\n",
       "      <th>V24</th>\n",
       "      <th>V25</th>\n",
       "      <th>V26</th>\n",
       "      <th>V27</th>\n",
       "      <th>V28</th>\n",
       "      <th>V29</th>\n",
       "      <th>V30</th>\n",
       "      <th>V31</th>\n",
       "      <th>V32</th>\n",
       "      <th>V33</th>\n",
       "      <th>V34</th>\n",
       "      <th>V35</th>\n",
       "      <th>V36</th>\n",
       "      <th>V37</th>\n",
       "      <th>V38</th>\n",
       "      <th>V39</th>\n",
       "      <th>V40</th>\n",
       "      <th>Target</th>\n",
       "    </tr>\n",
       "  </thead>\n",
       "  <tbody>\n",
       "    <tr>\n",
       "      <th>0</th>\n",
       "      <td>-4.465</td>\n",
       "      <td>-4.679</td>\n",
       "      <td>3.102</td>\n",
       "      <td>0.506</td>\n",
       "      <td>-0.221</td>\n",
       "      <td>-2.033</td>\n",
       "      <td>-2.911</td>\n",
       "      <td>0.051</td>\n",
       "      <td>-1.522</td>\n",
       "      <td>3.762</td>\n",
       "      <td>-5.715</td>\n",
       "      <td>0.736</td>\n",
       "      <td>0.981</td>\n",
       "      <td>1.418</td>\n",
       "      <td>-3.376</td>\n",
       "      <td>-3.047</td>\n",
       "      <td>0.306</td>\n",
       "      <td>2.914</td>\n",
       "      <td>2.270</td>\n",
       "      <td>4.395</td>\n",
       "      <td>-2.388</td>\n",
       "      <td>0.646</td>\n",
       "      <td>-1.191</td>\n",
       "      <td>3.133</td>\n",
       "      <td>0.665</td>\n",
       "      <td>-2.511</td>\n",
       "      <td>-0.037</td>\n",
       "      <td>0.726</td>\n",
       "      <td>-3.982</td>\n",
       "      <td>-1.073</td>\n",
       "      <td>1.667</td>\n",
       "      <td>3.060</td>\n",
       "      <td>-1.690</td>\n",
       "      <td>2.846</td>\n",
       "      <td>2.235</td>\n",
       "      <td>6.667</td>\n",
       "      <td>0.444</td>\n",
       "      <td>-2.369</td>\n",
       "      <td>2.951</td>\n",
       "      <td>-3.480</td>\n",
       "      <td>0</td>\n",
       "    </tr>\n",
       "    <tr>\n",
       "      <th>1</th>\n",
       "      <td>3.366</td>\n",
       "      <td>3.653</td>\n",
       "      <td>0.910</td>\n",
       "      <td>-1.368</td>\n",
       "      <td>0.332</td>\n",
       "      <td>2.359</td>\n",
       "      <td>0.733</td>\n",
       "      <td>-4.332</td>\n",
       "      <td>0.566</td>\n",
       "      <td>-0.101</td>\n",
       "      <td>1.914</td>\n",
       "      <td>-0.951</td>\n",
       "      <td>-1.255</td>\n",
       "      <td>-2.707</td>\n",
       "      <td>0.193</td>\n",
       "      <td>-4.769</td>\n",
       "      <td>-2.205</td>\n",
       "      <td>0.908</td>\n",
       "      <td>0.757</td>\n",
       "      <td>-5.834</td>\n",
       "      <td>-3.065</td>\n",
       "      <td>1.597</td>\n",
       "      <td>-1.757</td>\n",
       "      <td>1.766</td>\n",
       "      <td>-0.267</td>\n",
       "      <td>3.625</td>\n",
       "      <td>1.500</td>\n",
       "      <td>-0.586</td>\n",
       "      <td>0.783</td>\n",
       "      <td>-0.201</td>\n",
       "      <td>0.025</td>\n",
       "      <td>-1.795</td>\n",
       "      <td>3.033</td>\n",
       "      <td>-2.468</td>\n",
       "      <td>1.895</td>\n",
       "      <td>-2.298</td>\n",
       "      <td>-1.731</td>\n",
       "      <td>5.909</td>\n",
       "      <td>-0.386</td>\n",
       "      <td>0.616</td>\n",
       "      <td>0</td>\n",
       "    </tr>\n",
       "    <tr>\n",
       "      <th>2</th>\n",
       "      <td>-3.832</td>\n",
       "      <td>-5.824</td>\n",
       "      <td>0.634</td>\n",
       "      <td>-2.419</td>\n",
       "      <td>-1.774</td>\n",
       "      <td>1.017</td>\n",
       "      <td>-2.099</td>\n",
       "      <td>-3.173</td>\n",
       "      <td>-2.082</td>\n",
       "      <td>5.393</td>\n",
       "      <td>-0.771</td>\n",
       "      <td>1.107</td>\n",
       "      <td>1.144</td>\n",
       "      <td>0.943</td>\n",
       "      <td>-3.164</td>\n",
       "      <td>-4.248</td>\n",
       "      <td>-4.039</td>\n",
       "      <td>3.689</td>\n",
       "      <td>3.311</td>\n",
       "      <td>1.059</td>\n",
       "      <td>-2.143</td>\n",
       "      <td>1.650</td>\n",
       "      <td>-1.661</td>\n",
       "      <td>1.680</td>\n",
       "      <td>-0.451</td>\n",
       "      <td>-4.551</td>\n",
       "      <td>3.739</td>\n",
       "      <td>1.134</td>\n",
       "      <td>-2.034</td>\n",
       "      <td>0.841</td>\n",
       "      <td>-1.600</td>\n",
       "      <td>-0.257</td>\n",
       "      <td>0.804</td>\n",
       "      <td>4.086</td>\n",
       "      <td>2.292</td>\n",
       "      <td>5.361</td>\n",
       "      <td>0.352</td>\n",
       "      <td>2.940</td>\n",
       "      <td>3.839</td>\n",
       "      <td>-4.309</td>\n",
       "      <td>0</td>\n",
       "    </tr>\n",
       "    <tr>\n",
       "      <th>3</th>\n",
       "      <td>1.618</td>\n",
       "      <td>1.888</td>\n",
       "      <td>7.046</td>\n",
       "      <td>-1.147</td>\n",
       "      <td>0.083</td>\n",
       "      <td>-1.530</td>\n",
       "      <td>0.207</td>\n",
       "      <td>-2.494</td>\n",
       "      <td>0.345</td>\n",
       "      <td>2.119</td>\n",
       "      <td>-3.053</td>\n",
       "      <td>0.460</td>\n",
       "      <td>2.705</td>\n",
       "      <td>-0.636</td>\n",
       "      <td>-0.454</td>\n",
       "      <td>-3.174</td>\n",
       "      <td>-3.404</td>\n",
       "      <td>-1.282</td>\n",
       "      <td>1.582</td>\n",
       "      <td>-1.952</td>\n",
       "      <td>-3.517</td>\n",
       "      <td>-1.206</td>\n",
       "      <td>-5.628</td>\n",
       "      <td>-1.818</td>\n",
       "      <td>2.124</td>\n",
       "      <td>5.295</td>\n",
       "      <td>4.748</td>\n",
       "      <td>-2.309</td>\n",
       "      <td>-3.963</td>\n",
       "      <td>-6.029</td>\n",
       "      <td>4.949</td>\n",
       "      <td>-3.584</td>\n",
       "      <td>-2.577</td>\n",
       "      <td>1.364</td>\n",
       "      <td>0.623</td>\n",
       "      <td>5.550</td>\n",
       "      <td>-1.527</td>\n",
       "      <td>0.139</td>\n",
       "      <td>3.101</td>\n",
       "      <td>-1.277</td>\n",
       "      <td>0</td>\n",
       "    </tr>\n",
       "    <tr>\n",
       "      <th>4</th>\n",
       "      <td>-0.111</td>\n",
       "      <td>3.872</td>\n",
       "      <td>-3.758</td>\n",
       "      <td>-2.983</td>\n",
       "      <td>3.793</td>\n",
       "      <td>0.545</td>\n",
       "      <td>0.205</td>\n",
       "      <td>4.849</td>\n",
       "      <td>-1.855</td>\n",
       "      <td>-6.220</td>\n",
       "      <td>1.998</td>\n",
       "      <td>4.724</td>\n",
       "      <td>0.709</td>\n",
       "      <td>-1.989</td>\n",
       "      <td>-2.633</td>\n",
       "      <td>4.184</td>\n",
       "      <td>2.245</td>\n",
       "      <td>3.734</td>\n",
       "      <td>-6.313</td>\n",
       "      <td>-5.380</td>\n",
       "      <td>-0.887</td>\n",
       "      <td>2.062</td>\n",
       "      <td>9.446</td>\n",
       "      <td>4.490</td>\n",
       "      <td>-3.945</td>\n",
       "      <td>4.582</td>\n",
       "      <td>-8.780</td>\n",
       "      <td>-3.383</td>\n",
       "      <td>5.107</td>\n",
       "      <td>6.788</td>\n",
       "      <td>2.044</td>\n",
       "      <td>8.266</td>\n",
       "      <td>6.629</td>\n",
       "      <td>-10.069</td>\n",
       "      <td>1.223</td>\n",
       "      <td>-3.230</td>\n",
       "      <td>1.687</td>\n",
       "      <td>-2.164</td>\n",
       "      <td>-3.645</td>\n",
       "      <td>6.510</td>\n",
       "      <td>0</td>\n",
       "    </tr>\n",
       "  </tbody>\n",
       "</table>\n",
       "</div>"
      ],
      "text/plain": [
       "      V1     V2     V3     V4     V5     V6     V7     V8     V9    V10  \\\n",
       "0 -4.465 -4.679  3.102  0.506 -0.221 -2.033 -2.911  0.051 -1.522  3.762   \n",
       "1  3.366  3.653  0.910 -1.368  0.332  2.359  0.733 -4.332  0.566 -0.101   \n",
       "2 -3.832 -5.824  0.634 -2.419 -1.774  1.017 -2.099 -3.173 -2.082  5.393   \n",
       "3  1.618  1.888  7.046 -1.147  0.083 -1.530  0.207 -2.494  0.345  2.119   \n",
       "4 -0.111  3.872 -3.758 -2.983  3.793  0.545  0.205  4.849 -1.855 -6.220   \n",
       "\n",
       "     V11    V12    V13    V14    V15    V16    V17    V18    V19    V20  \\\n",
       "0 -5.715  0.736  0.981  1.418 -3.376 -3.047  0.306  2.914  2.270  4.395   \n",
       "1  1.914 -0.951 -1.255 -2.707  0.193 -4.769 -2.205  0.908  0.757 -5.834   \n",
       "2 -0.771  1.107  1.144  0.943 -3.164 -4.248 -4.039  3.689  3.311  1.059   \n",
       "3 -3.053  0.460  2.705 -0.636 -0.454 -3.174 -3.404 -1.282  1.582 -1.952   \n",
       "4  1.998  4.724  0.709 -1.989 -2.633  4.184  2.245  3.734 -6.313 -5.380   \n",
       "\n",
       "     V21    V22    V23    V24    V25    V26    V27    V28    V29    V30  \\\n",
       "0 -2.388  0.646 -1.191  3.133  0.665 -2.511 -0.037  0.726 -3.982 -1.073   \n",
       "1 -3.065  1.597 -1.757  1.766 -0.267  3.625  1.500 -0.586  0.783 -0.201   \n",
       "2 -2.143  1.650 -1.661  1.680 -0.451 -4.551  3.739  1.134 -2.034  0.841   \n",
       "3 -3.517 -1.206 -5.628 -1.818  2.124  5.295  4.748 -2.309 -3.963 -6.029   \n",
       "4 -0.887  2.062  9.446  4.490 -3.945  4.582 -8.780 -3.383  5.107  6.788   \n",
       "\n",
       "     V31    V32    V33     V34   V35    V36    V37    V38    V39    V40  \\\n",
       "0  1.667  3.060 -1.690   2.846 2.235  6.667  0.444 -2.369  2.951 -3.480   \n",
       "1  0.025 -1.795  3.033  -2.468 1.895 -2.298 -1.731  5.909 -0.386  0.616   \n",
       "2 -1.600 -0.257  0.804   4.086 2.292  5.361  0.352  2.940  3.839 -4.309   \n",
       "3  4.949 -3.584 -2.577   1.364 0.623  5.550 -1.527  0.139  3.101 -1.277   \n",
       "4  2.044  8.266  6.629 -10.069 1.223 -3.230  1.687 -2.164 -3.645  6.510   \n",
       "\n",
       "   Target  \n",
       "0       0  \n",
       "1       0  \n",
       "2       0  \n",
       "3       0  \n",
       "4       0  "
      ]
     },
     "execution_count": 3,
     "metadata": {},
     "output_type": "execute_result"
    },
    {
     "data": {
      "application/javascript": [
       "\n",
       "            setTimeout(function() {\n",
       "                var nbb_cell_id = 3;\n",
       "                var nbb_unformatted_code = \"df_train.head()\";\n",
       "                var nbb_formatted_code = \"df_train.head()\";\n",
       "                var nbb_cells = Jupyter.notebook.get_cells();\n",
       "                for (var i = 0; i < nbb_cells.length; ++i) {\n",
       "                    if (nbb_cells[i].input_prompt_number == nbb_cell_id) {\n",
       "                        if (nbb_cells[i].get_text() == nbb_unformatted_code) {\n",
       "                             nbb_cells[i].set_text(nbb_formatted_code);\n",
       "                        }\n",
       "                        break;\n",
       "                    }\n",
       "                }\n",
       "            }, 500);\n",
       "            "
      ],
      "text/plain": [
       "<IPython.core.display.Javascript object>"
      ]
     },
     "metadata": {},
     "output_type": "display_data"
    }
   ],
   "source": [
    "df_train.head()"
   ]
  },
  {
   "cell_type": "markdown",
   "metadata": {},
   "source": [
    "- train dataset loaded correctly"
   ]
  },
  {
   "cell_type": "code",
   "execution_count": 4,
   "metadata": {},
   "outputs": [
    {
     "data": {
      "text/html": [
       "<div>\n",
       "<style scoped>\n",
       "    .dataframe tbody tr th:only-of-type {\n",
       "        vertical-align: middle;\n",
       "    }\n",
       "\n",
       "    .dataframe tbody tr th {\n",
       "        vertical-align: top;\n",
       "    }\n",
       "\n",
       "    .dataframe thead th {\n",
       "        text-align: right;\n",
       "    }\n",
       "</style>\n",
       "<table border=\"1\" class=\"dataframe\">\n",
       "  <thead>\n",
       "    <tr style=\"text-align: right;\">\n",
       "      <th></th>\n",
       "      <th>V1</th>\n",
       "      <th>V2</th>\n",
       "      <th>V3</th>\n",
       "      <th>V4</th>\n",
       "      <th>V5</th>\n",
       "      <th>V6</th>\n",
       "      <th>V7</th>\n",
       "      <th>V8</th>\n",
       "      <th>V9</th>\n",
       "      <th>V10</th>\n",
       "      <th>V11</th>\n",
       "      <th>V12</th>\n",
       "      <th>V13</th>\n",
       "      <th>V14</th>\n",
       "      <th>V15</th>\n",
       "      <th>V16</th>\n",
       "      <th>V17</th>\n",
       "      <th>V18</th>\n",
       "      <th>V19</th>\n",
       "      <th>V20</th>\n",
       "      <th>V21</th>\n",
       "      <th>V22</th>\n",
       "      <th>V23</th>\n",
       "      <th>V24</th>\n",
       "      <th>V25</th>\n",
       "      <th>V26</th>\n",
       "      <th>V27</th>\n",
       "      <th>V28</th>\n",
       "      <th>V29</th>\n",
       "      <th>V30</th>\n",
       "      <th>V31</th>\n",
       "      <th>V32</th>\n",
       "      <th>V33</th>\n",
       "      <th>V34</th>\n",
       "      <th>V35</th>\n",
       "      <th>V36</th>\n",
       "      <th>V37</th>\n",
       "      <th>V38</th>\n",
       "      <th>V39</th>\n",
       "      <th>V40</th>\n",
       "      <th>Target</th>\n",
       "    </tr>\n",
       "  </thead>\n",
       "  <tbody>\n",
       "    <tr>\n",
       "      <th>0</th>\n",
       "      <td>-0.613</td>\n",
       "      <td>-3.820</td>\n",
       "      <td>2.202</td>\n",
       "      <td>1.300</td>\n",
       "      <td>-1.185</td>\n",
       "      <td>-4.496</td>\n",
       "      <td>-1.836</td>\n",
       "      <td>4.723</td>\n",
       "      <td>1.206</td>\n",
       "      <td>-0.342</td>\n",
       "      <td>-5.123</td>\n",
       "      <td>1.017</td>\n",
       "      <td>4.819</td>\n",
       "      <td>3.269</td>\n",
       "      <td>-2.984</td>\n",
       "      <td>1.387</td>\n",
       "      <td>2.032</td>\n",
       "      <td>-0.512</td>\n",
       "      <td>-1.023</td>\n",
       "      <td>7.339</td>\n",
       "      <td>-2.242</td>\n",
       "      <td>0.155</td>\n",
       "      <td>2.054</td>\n",
       "      <td>-2.772</td>\n",
       "      <td>1.851</td>\n",
       "      <td>-1.789</td>\n",
       "      <td>-0.277</td>\n",
       "      <td>-1.255</td>\n",
       "      <td>-3.833</td>\n",
       "      <td>-1.505</td>\n",
       "      <td>1.587</td>\n",
       "      <td>2.291</td>\n",
       "      <td>-5.411</td>\n",
       "      <td>0.870</td>\n",
       "      <td>0.574</td>\n",
       "      <td>4.157</td>\n",
       "      <td>1.428</td>\n",
       "      <td>-10.511</td>\n",
       "      <td>0.455</td>\n",
       "      <td>-1.448</td>\n",
       "      <td>0</td>\n",
       "    </tr>\n",
       "    <tr>\n",
       "      <th>1</th>\n",
       "      <td>0.390</td>\n",
       "      <td>-0.512</td>\n",
       "      <td>0.527</td>\n",
       "      <td>-2.577</td>\n",
       "      <td>-1.017</td>\n",
       "      <td>2.235</td>\n",
       "      <td>-0.441</td>\n",
       "      <td>-4.406</td>\n",
       "      <td>-0.333</td>\n",
       "      <td>1.967</td>\n",
       "      <td>1.797</td>\n",
       "      <td>0.410</td>\n",
       "      <td>0.638</td>\n",
       "      <td>-1.390</td>\n",
       "      <td>-1.883</td>\n",
       "      <td>-5.018</td>\n",
       "      <td>-3.827</td>\n",
       "      <td>2.418</td>\n",
       "      <td>1.762</td>\n",
       "      <td>-3.242</td>\n",
       "      <td>-3.193</td>\n",
       "      <td>1.857</td>\n",
       "      <td>-1.708</td>\n",
       "      <td>0.633</td>\n",
       "      <td>-0.588</td>\n",
       "      <td>0.084</td>\n",
       "      <td>3.014</td>\n",
       "      <td>-0.182</td>\n",
       "      <td>0.224</td>\n",
       "      <td>0.865</td>\n",
       "      <td>-1.782</td>\n",
       "      <td>-2.475</td>\n",
       "      <td>2.494</td>\n",
       "      <td>0.315</td>\n",
       "      <td>2.059</td>\n",
       "      <td>0.684</td>\n",
       "      <td>-0.485</td>\n",
       "      <td>5.128</td>\n",
       "      <td>1.721</td>\n",
       "      <td>-1.488</td>\n",
       "      <td>0</td>\n",
       "    </tr>\n",
       "    <tr>\n",
       "      <th>2</th>\n",
       "      <td>-0.875</td>\n",
       "      <td>-0.641</td>\n",
       "      <td>4.084</td>\n",
       "      <td>-1.590</td>\n",
       "      <td>0.526</td>\n",
       "      <td>-1.958</td>\n",
       "      <td>-0.695</td>\n",
       "      <td>1.347</td>\n",
       "      <td>-1.732</td>\n",
       "      <td>0.466</td>\n",
       "      <td>-4.928</td>\n",
       "      <td>3.565</td>\n",
       "      <td>-0.449</td>\n",
       "      <td>-0.656</td>\n",
       "      <td>-0.167</td>\n",
       "      <td>-1.630</td>\n",
       "      <td>2.292</td>\n",
       "      <td>2.396</td>\n",
       "      <td>0.601</td>\n",
       "      <td>1.794</td>\n",
       "      <td>-2.120</td>\n",
       "      <td>0.482</td>\n",
       "      <td>-0.841</td>\n",
       "      <td>1.790</td>\n",
       "      <td>1.874</td>\n",
       "      <td>0.364</td>\n",
       "      <td>-0.169</td>\n",
       "      <td>-0.484</td>\n",
       "      <td>-2.119</td>\n",
       "      <td>-2.157</td>\n",
       "      <td>2.907</td>\n",
       "      <td>-1.319</td>\n",
       "      <td>-2.997</td>\n",
       "      <td>0.460</td>\n",
       "      <td>0.620</td>\n",
       "      <td>5.632</td>\n",
       "      <td>1.324</td>\n",
       "      <td>-1.752</td>\n",
       "      <td>1.808</td>\n",
       "      <td>1.676</td>\n",
       "      <td>0</td>\n",
       "    </tr>\n",
       "    <tr>\n",
       "      <th>3</th>\n",
       "      <td>0.238</td>\n",
       "      <td>1.459</td>\n",
       "      <td>4.015</td>\n",
       "      <td>2.534</td>\n",
       "      <td>1.197</td>\n",
       "      <td>-3.117</td>\n",
       "      <td>-0.924</td>\n",
       "      <td>0.269</td>\n",
       "      <td>1.322</td>\n",
       "      <td>0.702</td>\n",
       "      <td>-5.578</td>\n",
       "      <td>-0.851</td>\n",
       "      <td>2.591</td>\n",
       "      <td>0.767</td>\n",
       "      <td>-2.391</td>\n",
       "      <td>-2.342</td>\n",
       "      <td>0.572</td>\n",
       "      <td>-0.934</td>\n",
       "      <td>0.509</td>\n",
       "      <td>1.211</td>\n",
       "      <td>-3.260</td>\n",
       "      <td>0.105</td>\n",
       "      <td>-0.659</td>\n",
       "      <td>1.498</td>\n",
       "      <td>1.100</td>\n",
       "      <td>4.143</td>\n",
       "      <td>-0.248</td>\n",
       "      <td>-1.137</td>\n",
       "      <td>-5.356</td>\n",
       "      <td>-4.546</td>\n",
       "      <td>3.809</td>\n",
       "      <td>3.518</td>\n",
       "      <td>-3.074</td>\n",
       "      <td>-0.284</td>\n",
       "      <td>0.955</td>\n",
       "      <td>3.029</td>\n",
       "      <td>-1.367</td>\n",
       "      <td>-3.412</td>\n",
       "      <td>0.906</td>\n",
       "      <td>-2.451</td>\n",
       "      <td>0</td>\n",
       "    </tr>\n",
       "    <tr>\n",
       "      <th>4</th>\n",
       "      <td>5.828</td>\n",
       "      <td>2.768</td>\n",
       "      <td>-1.235</td>\n",
       "      <td>2.809</td>\n",
       "      <td>-1.642</td>\n",
       "      <td>-1.407</td>\n",
       "      <td>0.569</td>\n",
       "      <td>0.965</td>\n",
       "      <td>1.918</td>\n",
       "      <td>-2.775</td>\n",
       "      <td>-0.530</td>\n",
       "      <td>1.375</td>\n",
       "      <td>-0.651</td>\n",
       "      <td>-1.679</td>\n",
       "      <td>-0.379</td>\n",
       "      <td>-4.443</td>\n",
       "      <td>3.894</td>\n",
       "      <td>-0.608</td>\n",
       "      <td>2.945</td>\n",
       "      <td>0.367</td>\n",
       "      <td>-5.789</td>\n",
       "      <td>4.598</td>\n",
       "      <td>4.450</td>\n",
       "      <td>3.225</td>\n",
       "      <td>0.397</td>\n",
       "      <td>0.248</td>\n",
       "      <td>-2.362</td>\n",
       "      <td>1.079</td>\n",
       "      <td>-0.473</td>\n",
       "      <td>2.243</td>\n",
       "      <td>-3.591</td>\n",
       "      <td>1.774</td>\n",
       "      <td>-1.502</td>\n",
       "      <td>-2.227</td>\n",
       "      <td>4.777</td>\n",
       "      <td>-6.560</td>\n",
       "      <td>-0.806</td>\n",
       "      <td>-0.276</td>\n",
       "      <td>-3.858</td>\n",
       "      <td>-0.538</td>\n",
       "      <td>0</td>\n",
       "    </tr>\n",
       "  </tbody>\n",
       "</table>\n",
       "</div>"
      ],
      "text/plain": [
       "      V1     V2     V3     V4     V5     V6     V7     V8     V9    V10  \\\n",
       "0 -0.613 -3.820  2.202  1.300 -1.185 -4.496 -1.836  4.723  1.206 -0.342   \n",
       "1  0.390 -0.512  0.527 -2.577 -1.017  2.235 -0.441 -4.406 -0.333  1.967   \n",
       "2 -0.875 -0.641  4.084 -1.590  0.526 -1.958 -0.695  1.347 -1.732  0.466   \n",
       "3  0.238  1.459  4.015  2.534  1.197 -3.117 -0.924  0.269  1.322  0.702   \n",
       "4  5.828  2.768 -1.235  2.809 -1.642 -1.407  0.569  0.965  1.918 -2.775   \n",
       "\n",
       "     V11    V12    V13    V14    V15    V16    V17    V18    V19    V20  \\\n",
       "0 -5.123  1.017  4.819  3.269 -2.984  1.387  2.032 -0.512 -1.023  7.339   \n",
       "1  1.797  0.410  0.638 -1.390 -1.883 -5.018 -3.827  2.418  1.762 -3.242   \n",
       "2 -4.928  3.565 -0.449 -0.656 -0.167 -1.630  2.292  2.396  0.601  1.794   \n",
       "3 -5.578 -0.851  2.591  0.767 -2.391 -2.342  0.572 -0.934  0.509  1.211   \n",
       "4 -0.530  1.375 -0.651 -1.679 -0.379 -4.443  3.894 -0.608  2.945  0.367   \n",
       "\n",
       "     V21   V22    V23    V24    V25    V26    V27    V28    V29    V30    V31  \\\n",
       "0 -2.242 0.155  2.054 -2.772  1.851 -1.789 -0.277 -1.255 -3.833 -1.505  1.587   \n",
       "1 -3.193 1.857 -1.708  0.633 -0.588  0.084  3.014 -0.182  0.224  0.865 -1.782   \n",
       "2 -2.120 0.482 -0.841  1.790  1.874  0.364 -0.169 -0.484 -2.119 -2.157  2.907   \n",
       "3 -3.260 0.105 -0.659  1.498  1.100  4.143 -0.248 -1.137 -5.356 -4.546  3.809   \n",
       "4 -5.789 4.598  4.450  3.225  0.397  0.248 -2.362  1.079 -0.473  2.243 -3.591   \n",
       "\n",
       "     V32    V33    V34   V35    V36    V37     V38    V39    V40  Target  \n",
       "0  2.291 -5.411  0.870 0.574  4.157  1.428 -10.511  0.455 -1.448       0  \n",
       "1 -2.475  2.494  0.315 2.059  0.684 -0.485   5.128  1.721 -1.488       0  \n",
       "2 -1.319 -2.997  0.460 0.620  5.632  1.324  -1.752  1.808  1.676       0  \n",
       "3  3.518 -3.074 -0.284 0.955  3.029 -1.367  -3.412  0.906 -2.451       0  \n",
       "4  1.774 -1.502 -2.227 4.777 -6.560 -0.806  -0.276 -3.858 -0.538       0  "
      ]
     },
     "execution_count": 4,
     "metadata": {},
     "output_type": "execute_result"
    },
    {
     "data": {
      "application/javascript": [
       "\n",
       "            setTimeout(function() {\n",
       "                var nbb_cell_id = 4;\n",
       "                var nbb_unformatted_code = \"df_test.head()\";\n",
       "                var nbb_formatted_code = \"df_test.head()\";\n",
       "                var nbb_cells = Jupyter.notebook.get_cells();\n",
       "                for (var i = 0; i < nbb_cells.length; ++i) {\n",
       "                    if (nbb_cells[i].input_prompt_number == nbb_cell_id) {\n",
       "                        if (nbb_cells[i].get_text() == nbb_unformatted_code) {\n",
       "                             nbb_cells[i].set_text(nbb_formatted_code);\n",
       "                        }\n",
       "                        break;\n",
       "                    }\n",
       "                }\n",
       "            }, 500);\n",
       "            "
      ],
      "text/plain": [
       "<IPython.core.display.Javascript object>"
      ]
     },
     "metadata": {},
     "output_type": "display_data"
    }
   ],
   "source": [
    "df_test.head()"
   ]
  },
  {
   "cell_type": "markdown",
   "metadata": {},
   "source": [
    "- test dataset loaded correctly"
   ]
  },
  {
   "cell_type": "code",
   "execution_count": 5,
   "metadata": {},
   "outputs": [
    {
     "data": {
      "text/plain": [
       "(20000, 41)"
      ]
     },
     "execution_count": 5,
     "metadata": {},
     "output_type": "execute_result"
    },
    {
     "data": {
      "application/javascript": [
       "\n",
       "            setTimeout(function() {\n",
       "                var nbb_cell_id = 5;\n",
       "                var nbb_unformatted_code = \"df_train.shape\";\n",
       "                var nbb_formatted_code = \"df_train.shape\";\n",
       "                var nbb_cells = Jupyter.notebook.get_cells();\n",
       "                for (var i = 0; i < nbb_cells.length; ++i) {\n",
       "                    if (nbb_cells[i].input_prompt_number == nbb_cell_id) {\n",
       "                        if (nbb_cells[i].get_text() == nbb_unformatted_code) {\n",
       "                             nbb_cells[i].set_text(nbb_formatted_code);\n",
       "                        }\n",
       "                        break;\n",
       "                    }\n",
       "                }\n",
       "            }, 500);\n",
       "            "
      ],
      "text/plain": [
       "<IPython.core.display.Javascript object>"
      ]
     },
     "metadata": {},
     "output_type": "display_data"
    }
   ],
   "source": [
    "df_train.shape"
   ]
  },
  {
   "cell_type": "markdown",
   "metadata": {},
   "source": [
    "- There are 20,000 rows and 41 columns in the train dataset"
   ]
  },
  {
   "cell_type": "code",
   "execution_count": 6,
   "metadata": {},
   "outputs": [
    {
     "data": {
      "text/plain": [
       "(5000, 41)"
      ]
     },
     "execution_count": 6,
     "metadata": {},
     "output_type": "execute_result"
    },
    {
     "data": {
      "application/javascript": [
       "\n",
       "            setTimeout(function() {\n",
       "                var nbb_cell_id = 6;\n",
       "                var nbb_unformatted_code = \"df_test.shape\";\n",
       "                var nbb_formatted_code = \"df_test.shape\";\n",
       "                var nbb_cells = Jupyter.notebook.get_cells();\n",
       "                for (var i = 0; i < nbb_cells.length; ++i) {\n",
       "                    if (nbb_cells[i].input_prompt_number == nbb_cell_id) {\n",
       "                        if (nbb_cells[i].get_text() == nbb_unformatted_code) {\n",
       "                             nbb_cells[i].set_text(nbb_formatted_code);\n",
       "                        }\n",
       "                        break;\n",
       "                    }\n",
       "                }\n",
       "            }, 500);\n",
       "            "
      ],
      "text/plain": [
       "<IPython.core.display.Javascript object>"
      ]
     },
     "metadata": {},
     "output_type": "display_data"
    }
   ],
   "source": [
    "df_test.shape"
   ]
  },
  {
   "cell_type": "markdown",
   "metadata": {},
   "source": [
    "- There are 5,000 rows and 41 columns in the test dataset"
   ]
  },
  {
   "cell_type": "code",
   "execution_count": 7,
   "metadata": {},
   "outputs": [
    {
     "name": "stdout",
     "output_type": "stream",
     "text": [
      "<class 'pandas.core.frame.DataFrame'>\n",
      "RangeIndex: 20000 entries, 0 to 19999\n",
      "Data columns (total 41 columns):\n",
      " #   Column  Non-Null Count  Dtype  \n",
      "---  ------  --------------  -----  \n",
      " 0   V1      19982 non-null  float64\n",
      " 1   V2      19982 non-null  float64\n",
      " 2   V3      20000 non-null  float64\n",
      " 3   V4      20000 non-null  float64\n",
      " 4   V5      20000 non-null  float64\n",
      " 5   V6      20000 non-null  float64\n",
      " 6   V7      20000 non-null  float64\n",
      " 7   V8      20000 non-null  float64\n",
      " 8   V9      20000 non-null  float64\n",
      " 9   V10     20000 non-null  float64\n",
      " 10  V11     20000 non-null  float64\n",
      " 11  V12     20000 non-null  float64\n",
      " 12  V13     20000 non-null  float64\n",
      " 13  V14     20000 non-null  float64\n",
      " 14  V15     20000 non-null  float64\n",
      " 15  V16     20000 non-null  float64\n",
      " 16  V17     20000 non-null  float64\n",
      " 17  V18     20000 non-null  float64\n",
      " 18  V19     20000 non-null  float64\n",
      " 19  V20     20000 non-null  float64\n",
      " 20  V21     20000 non-null  float64\n",
      " 21  V22     20000 non-null  float64\n",
      " 22  V23     20000 non-null  float64\n",
      " 23  V24     20000 non-null  float64\n",
      " 24  V25     20000 non-null  float64\n",
      " 25  V26     20000 non-null  float64\n",
      " 26  V27     20000 non-null  float64\n",
      " 27  V28     20000 non-null  float64\n",
      " 28  V29     20000 non-null  float64\n",
      " 29  V30     20000 non-null  float64\n",
      " 30  V31     20000 non-null  float64\n",
      " 31  V32     20000 non-null  float64\n",
      " 32  V33     20000 non-null  float64\n",
      " 33  V34     20000 non-null  float64\n",
      " 34  V35     20000 non-null  float64\n",
      " 35  V36     20000 non-null  float64\n",
      " 36  V37     20000 non-null  float64\n",
      " 37  V38     20000 non-null  float64\n",
      " 38  V39     20000 non-null  float64\n",
      " 39  V40     20000 non-null  float64\n",
      " 40  Target  20000 non-null  int64  \n",
      "dtypes: float64(40), int64(1)\n",
      "memory usage: 6.3 MB\n"
     ]
    },
    {
     "data": {
      "application/javascript": [
       "\n",
       "            setTimeout(function() {\n",
       "                var nbb_cell_id = 7;\n",
       "                var nbb_unformatted_code = \"df_train.info()\";\n",
       "                var nbb_formatted_code = \"df_train.info()\";\n",
       "                var nbb_cells = Jupyter.notebook.get_cells();\n",
       "                for (var i = 0; i < nbb_cells.length; ++i) {\n",
       "                    if (nbb_cells[i].input_prompt_number == nbb_cell_id) {\n",
       "                        if (nbb_cells[i].get_text() == nbb_unformatted_code) {\n",
       "                             nbb_cells[i].set_text(nbb_formatted_code);\n",
       "                        }\n",
       "                        break;\n",
       "                    }\n",
       "                }\n",
       "            }, 500);\n",
       "            "
      ],
      "text/plain": [
       "<IPython.core.display.Javascript object>"
      ]
     },
     "metadata": {},
     "output_type": "display_data"
    }
   ],
   "source": [
    "df_train.info()"
   ]
  },
  {
   "cell_type": "markdown",
   "metadata": {},
   "source": [
    "- All columns are of numerical values\n",
    "- There are some missing values in columns V1 and V2"
   ]
  },
  {
   "cell_type": "code",
   "execution_count": 8,
   "metadata": {},
   "outputs": [
    {
     "name": "stdout",
     "output_type": "stream",
     "text": [
      "<class 'pandas.core.frame.DataFrame'>\n",
      "RangeIndex: 5000 entries, 0 to 4999\n",
      "Data columns (total 41 columns):\n",
      " #   Column  Non-Null Count  Dtype  \n",
      "---  ------  --------------  -----  \n",
      " 0   V1      4995 non-null   float64\n",
      " 1   V2      4994 non-null   float64\n",
      " 2   V3      5000 non-null   float64\n",
      " 3   V4      5000 non-null   float64\n",
      " 4   V5      5000 non-null   float64\n",
      " 5   V6      5000 non-null   float64\n",
      " 6   V7      5000 non-null   float64\n",
      " 7   V8      5000 non-null   float64\n",
      " 8   V9      5000 non-null   float64\n",
      " 9   V10     5000 non-null   float64\n",
      " 10  V11     5000 non-null   float64\n",
      " 11  V12     5000 non-null   float64\n",
      " 12  V13     5000 non-null   float64\n",
      " 13  V14     5000 non-null   float64\n",
      " 14  V15     5000 non-null   float64\n",
      " 15  V16     5000 non-null   float64\n",
      " 16  V17     5000 non-null   float64\n",
      " 17  V18     5000 non-null   float64\n",
      " 18  V19     5000 non-null   float64\n",
      " 19  V20     5000 non-null   float64\n",
      " 20  V21     5000 non-null   float64\n",
      " 21  V22     5000 non-null   float64\n",
      " 22  V23     5000 non-null   float64\n",
      " 23  V24     5000 non-null   float64\n",
      " 24  V25     5000 non-null   float64\n",
      " 25  V26     5000 non-null   float64\n",
      " 26  V27     5000 non-null   float64\n",
      " 27  V28     5000 non-null   float64\n",
      " 28  V29     5000 non-null   float64\n",
      " 29  V30     5000 non-null   float64\n",
      " 30  V31     5000 non-null   float64\n",
      " 31  V32     5000 non-null   float64\n",
      " 32  V33     5000 non-null   float64\n",
      " 33  V34     5000 non-null   float64\n",
      " 34  V35     5000 non-null   float64\n",
      " 35  V36     5000 non-null   float64\n",
      " 36  V37     5000 non-null   float64\n",
      " 37  V38     5000 non-null   float64\n",
      " 38  V39     5000 non-null   float64\n",
      " 39  V40     5000 non-null   float64\n",
      " 40  Target  5000 non-null   int64  \n",
      "dtypes: float64(40), int64(1)\n",
      "memory usage: 1.6 MB\n"
     ]
    },
    {
     "data": {
      "application/javascript": [
       "\n",
       "            setTimeout(function() {\n",
       "                var nbb_cell_id = 8;\n",
       "                var nbb_unformatted_code = \"df_test.info()\";\n",
       "                var nbb_formatted_code = \"df_test.info()\";\n",
       "                var nbb_cells = Jupyter.notebook.get_cells();\n",
       "                for (var i = 0; i < nbb_cells.length; ++i) {\n",
       "                    if (nbb_cells[i].input_prompt_number == nbb_cell_id) {\n",
       "                        if (nbb_cells[i].get_text() == nbb_unformatted_code) {\n",
       "                             nbb_cells[i].set_text(nbb_formatted_code);\n",
       "                        }\n",
       "                        break;\n",
       "                    }\n",
       "                }\n",
       "            }, 500);\n",
       "            "
      ],
      "text/plain": [
       "<IPython.core.display.Javascript object>"
      ]
     },
     "metadata": {},
     "output_type": "display_data"
    }
   ],
   "source": [
    "df_test.info()"
   ]
  },
  {
   "cell_type": "markdown",
   "metadata": {},
   "source": [
    "- All columns are of numerical values\n",
    "- There are some missing values in columns V1 and V2"
   ]
  },
  {
   "cell_type": "code",
   "execution_count": 9,
   "metadata": {},
   "outputs": [
    {
     "data": {
      "text/plain": [
       "0"
      ]
     },
     "execution_count": 9,
     "metadata": {},
     "output_type": "execute_result"
    },
    {
     "data": {
      "application/javascript": [
       "\n",
       "            setTimeout(function() {\n",
       "                var nbb_cell_id = 9;\n",
       "                var nbb_unformatted_code = \"df_train.duplicated().sum()\";\n",
       "                var nbb_formatted_code = \"df_train.duplicated().sum()\";\n",
       "                var nbb_cells = Jupyter.notebook.get_cells();\n",
       "                for (var i = 0; i < nbb_cells.length; ++i) {\n",
       "                    if (nbb_cells[i].input_prompt_number == nbb_cell_id) {\n",
       "                        if (nbb_cells[i].get_text() == nbb_unformatted_code) {\n",
       "                             nbb_cells[i].set_text(nbb_formatted_code);\n",
       "                        }\n",
       "                        break;\n",
       "                    }\n",
       "                }\n",
       "            }, 500);\n",
       "            "
      ],
      "text/plain": [
       "<IPython.core.display.Javascript object>"
      ]
     },
     "metadata": {},
     "output_type": "display_data"
    }
   ],
   "source": [
    "df_train.duplicated().sum()"
   ]
  },
  {
   "cell_type": "markdown",
   "metadata": {},
   "source": [
    "- There are no duplicated values in the train dataset"
   ]
  },
  {
   "cell_type": "code",
   "execution_count": 10,
   "metadata": {},
   "outputs": [
    {
     "data": {
      "text/plain": [
       "0"
      ]
     },
     "execution_count": 10,
     "metadata": {},
     "output_type": "execute_result"
    },
    {
     "data": {
      "application/javascript": [
       "\n",
       "            setTimeout(function() {\n",
       "                var nbb_cell_id = 10;\n",
       "                var nbb_unformatted_code = \"df_test.duplicated().sum()\";\n",
       "                var nbb_formatted_code = \"df_test.duplicated().sum()\";\n",
       "                var nbb_cells = Jupyter.notebook.get_cells();\n",
       "                for (var i = 0; i < nbb_cells.length; ++i) {\n",
       "                    if (nbb_cells[i].input_prompt_number == nbb_cell_id) {\n",
       "                        if (nbb_cells[i].get_text() == nbb_unformatted_code) {\n",
       "                             nbb_cells[i].set_text(nbb_formatted_code);\n",
       "                        }\n",
       "                        break;\n",
       "                    }\n",
       "                }\n",
       "            }, 500);\n",
       "            "
      ],
      "text/plain": [
       "<IPython.core.display.Javascript object>"
      ]
     },
     "metadata": {},
     "output_type": "display_data"
    }
   ],
   "source": [
    "df_test.duplicated().sum()"
   ]
  },
  {
   "cell_type": "markdown",
   "metadata": {},
   "source": [
    "- There are no duplicated values in the test dataset"
   ]
  },
  {
   "cell_type": "code",
   "execution_count": 11,
   "metadata": {},
   "outputs": [
    {
     "data": {
      "text/plain": [
       "V1        18\n",
       "V2        18\n",
       "V3         0\n",
       "V4         0\n",
       "V5         0\n",
       "V6         0\n",
       "V7         0\n",
       "V8         0\n",
       "V9         0\n",
       "V10        0\n",
       "V11        0\n",
       "V12        0\n",
       "V13        0\n",
       "V14        0\n",
       "V15        0\n",
       "V16        0\n",
       "V17        0\n",
       "V18        0\n",
       "V19        0\n",
       "V20        0\n",
       "V21        0\n",
       "V22        0\n",
       "V23        0\n",
       "V24        0\n",
       "V25        0\n",
       "V26        0\n",
       "V27        0\n",
       "V28        0\n",
       "V29        0\n",
       "V30        0\n",
       "V31        0\n",
       "V32        0\n",
       "V33        0\n",
       "V34        0\n",
       "V35        0\n",
       "V36        0\n",
       "V37        0\n",
       "V38        0\n",
       "V39        0\n",
       "V40        0\n",
       "Target     0\n",
       "dtype: int64"
      ]
     },
     "execution_count": 11,
     "metadata": {},
     "output_type": "execute_result"
    },
    {
     "data": {
      "application/javascript": [
       "\n",
       "            setTimeout(function() {\n",
       "                var nbb_cell_id = 11;\n",
       "                var nbb_unformatted_code = \"df_train.isnull().sum()\";\n",
       "                var nbb_formatted_code = \"df_train.isnull().sum()\";\n",
       "                var nbb_cells = Jupyter.notebook.get_cells();\n",
       "                for (var i = 0; i < nbb_cells.length; ++i) {\n",
       "                    if (nbb_cells[i].input_prompt_number == nbb_cell_id) {\n",
       "                        if (nbb_cells[i].get_text() == nbb_unformatted_code) {\n",
       "                             nbb_cells[i].set_text(nbb_formatted_code);\n",
       "                        }\n",
       "                        break;\n",
       "                    }\n",
       "                }\n",
       "            }, 500);\n",
       "            "
      ],
      "text/plain": [
       "<IPython.core.display.Javascript object>"
      ]
     },
     "metadata": {},
     "output_type": "display_data"
    }
   ],
   "source": [
    "df_train.isnull().sum()"
   ]
  },
  {
   "cell_type": "markdown",
   "metadata": {},
   "source": [
    "- There 18 missing values in columns V1 and V2 respectively in train dataset"
   ]
  },
  {
   "cell_type": "code",
   "execution_count": 12,
   "metadata": {},
   "outputs": [
    {
     "data": {
      "text/plain": [
       "V1        5\n",
       "V2        6\n",
       "V3        0\n",
       "V4        0\n",
       "V5        0\n",
       "V6        0\n",
       "V7        0\n",
       "V8        0\n",
       "V9        0\n",
       "V10       0\n",
       "V11       0\n",
       "V12       0\n",
       "V13       0\n",
       "V14       0\n",
       "V15       0\n",
       "V16       0\n",
       "V17       0\n",
       "V18       0\n",
       "V19       0\n",
       "V20       0\n",
       "V21       0\n",
       "V22       0\n",
       "V23       0\n",
       "V24       0\n",
       "V25       0\n",
       "V26       0\n",
       "V27       0\n",
       "V28       0\n",
       "V29       0\n",
       "V30       0\n",
       "V31       0\n",
       "V32       0\n",
       "V33       0\n",
       "V34       0\n",
       "V35       0\n",
       "V36       0\n",
       "V37       0\n",
       "V38       0\n",
       "V39       0\n",
       "V40       0\n",
       "Target    0\n",
       "dtype: int64"
      ]
     },
     "execution_count": 12,
     "metadata": {},
     "output_type": "execute_result"
    },
    {
     "data": {
      "application/javascript": [
       "\n",
       "            setTimeout(function() {\n",
       "                var nbb_cell_id = 12;\n",
       "                var nbb_unformatted_code = \"df_test.isnull().sum()\";\n",
       "                var nbb_formatted_code = \"df_test.isnull().sum()\";\n",
       "                var nbb_cells = Jupyter.notebook.get_cells();\n",
       "                for (var i = 0; i < nbb_cells.length; ++i) {\n",
       "                    if (nbb_cells[i].input_prompt_number == nbb_cell_id) {\n",
       "                        if (nbb_cells[i].get_text() == nbb_unformatted_code) {\n",
       "                             nbb_cells[i].set_text(nbb_formatted_code);\n",
       "                        }\n",
       "                        break;\n",
       "                    }\n",
       "                }\n",
       "            }, 500);\n",
       "            "
      ],
      "text/plain": [
       "<IPython.core.display.Javascript object>"
      ]
     },
     "metadata": {},
     "output_type": "display_data"
    }
   ],
   "source": [
    "df_test.isnull().sum()"
   ]
  },
  {
   "cell_type": "markdown",
   "metadata": {},
   "source": [
    "- There 5 and 6 missing values in columns V1 and V2 respectively in test dataset"
   ]
  },
  {
   "cell_type": "code",
   "execution_count": 13,
   "metadata": {},
   "outputs": [
    {
     "data": {
      "text/html": [
       "<div>\n",
       "<style scoped>\n",
       "    .dataframe tbody tr th:only-of-type {\n",
       "        vertical-align: middle;\n",
       "    }\n",
       "\n",
       "    .dataframe tbody tr th {\n",
       "        vertical-align: top;\n",
       "    }\n",
       "\n",
       "    .dataframe thead th {\n",
       "        text-align: right;\n",
       "    }\n",
       "</style>\n",
       "<table border=\"1\" class=\"dataframe\">\n",
       "  <thead>\n",
       "    <tr style=\"text-align: right;\">\n",
       "      <th></th>\n",
       "      <th>count</th>\n",
       "      <th>mean</th>\n",
       "      <th>std</th>\n",
       "      <th>min</th>\n",
       "      <th>25%</th>\n",
       "      <th>50%</th>\n",
       "      <th>75%</th>\n",
       "      <th>max</th>\n",
       "    </tr>\n",
       "  </thead>\n",
       "  <tbody>\n",
       "    <tr>\n",
       "      <th>V1</th>\n",
       "      <td>19982.000</td>\n",
       "      <td>-0.272</td>\n",
       "      <td>3.442</td>\n",
       "      <td>-11.876</td>\n",
       "      <td>-2.737</td>\n",
       "      <td>-0.748</td>\n",
       "      <td>1.840</td>\n",
       "      <td>15.493</td>\n",
       "    </tr>\n",
       "    <tr>\n",
       "      <th>V2</th>\n",
       "      <td>19982.000</td>\n",
       "      <td>0.440</td>\n",
       "      <td>3.151</td>\n",
       "      <td>-12.320</td>\n",
       "      <td>-1.641</td>\n",
       "      <td>0.472</td>\n",
       "      <td>2.544</td>\n",
       "      <td>13.089</td>\n",
       "    </tr>\n",
       "    <tr>\n",
       "      <th>V3</th>\n",
       "      <td>20000.000</td>\n",
       "      <td>2.485</td>\n",
       "      <td>3.389</td>\n",
       "      <td>-10.708</td>\n",
       "      <td>0.207</td>\n",
       "      <td>2.256</td>\n",
       "      <td>4.566</td>\n",
       "      <td>17.091</td>\n",
       "    </tr>\n",
       "    <tr>\n",
       "      <th>V4</th>\n",
       "      <td>20000.000</td>\n",
       "      <td>-0.083</td>\n",
       "      <td>3.432</td>\n",
       "      <td>-15.082</td>\n",
       "      <td>-2.348</td>\n",
       "      <td>-0.135</td>\n",
       "      <td>2.131</td>\n",
       "      <td>13.236</td>\n",
       "    </tr>\n",
       "    <tr>\n",
       "      <th>V5</th>\n",
       "      <td>20000.000</td>\n",
       "      <td>-0.054</td>\n",
       "      <td>2.105</td>\n",
       "      <td>-8.603</td>\n",
       "      <td>-1.536</td>\n",
       "      <td>-0.102</td>\n",
       "      <td>1.340</td>\n",
       "      <td>8.134</td>\n",
       "    </tr>\n",
       "    <tr>\n",
       "      <th>V6</th>\n",
       "      <td>20000.000</td>\n",
       "      <td>-0.995</td>\n",
       "      <td>2.041</td>\n",
       "      <td>-10.227</td>\n",
       "      <td>-2.347</td>\n",
       "      <td>-1.001</td>\n",
       "      <td>0.380</td>\n",
       "      <td>6.976</td>\n",
       "    </tr>\n",
       "    <tr>\n",
       "      <th>V7</th>\n",
       "      <td>20000.000</td>\n",
       "      <td>-0.879</td>\n",
       "      <td>1.762</td>\n",
       "      <td>-7.950</td>\n",
       "      <td>-2.031</td>\n",
       "      <td>-0.917</td>\n",
       "      <td>0.224</td>\n",
       "      <td>8.006</td>\n",
       "    </tr>\n",
       "    <tr>\n",
       "      <th>V8</th>\n",
       "      <td>20000.000</td>\n",
       "      <td>-0.548</td>\n",
       "      <td>3.296</td>\n",
       "      <td>-15.658</td>\n",
       "      <td>-2.643</td>\n",
       "      <td>-0.389</td>\n",
       "      <td>1.723</td>\n",
       "      <td>11.679</td>\n",
       "    </tr>\n",
       "    <tr>\n",
       "      <th>V9</th>\n",
       "      <td>20000.000</td>\n",
       "      <td>-0.017</td>\n",
       "      <td>2.161</td>\n",
       "      <td>-8.596</td>\n",
       "      <td>-1.495</td>\n",
       "      <td>-0.068</td>\n",
       "      <td>1.409</td>\n",
       "      <td>8.138</td>\n",
       "    </tr>\n",
       "    <tr>\n",
       "      <th>V10</th>\n",
       "      <td>20000.000</td>\n",
       "      <td>-0.013</td>\n",
       "      <td>2.193</td>\n",
       "      <td>-9.854</td>\n",
       "      <td>-1.411</td>\n",
       "      <td>0.101</td>\n",
       "      <td>1.477</td>\n",
       "      <td>8.108</td>\n",
       "    </tr>\n",
       "    <tr>\n",
       "      <th>V11</th>\n",
       "      <td>20000.000</td>\n",
       "      <td>-1.895</td>\n",
       "      <td>3.124</td>\n",
       "      <td>-14.832</td>\n",
       "      <td>-3.922</td>\n",
       "      <td>-1.921</td>\n",
       "      <td>0.119</td>\n",
       "      <td>11.826</td>\n",
       "    </tr>\n",
       "    <tr>\n",
       "      <th>V12</th>\n",
       "      <td>20000.000</td>\n",
       "      <td>1.605</td>\n",
       "      <td>2.930</td>\n",
       "      <td>-12.948</td>\n",
       "      <td>-0.397</td>\n",
       "      <td>1.508</td>\n",
       "      <td>3.571</td>\n",
       "      <td>15.081</td>\n",
       "    </tr>\n",
       "    <tr>\n",
       "      <th>V13</th>\n",
       "      <td>20000.000</td>\n",
       "      <td>1.580</td>\n",
       "      <td>2.875</td>\n",
       "      <td>-13.228</td>\n",
       "      <td>-0.224</td>\n",
       "      <td>1.637</td>\n",
       "      <td>3.460</td>\n",
       "      <td>15.420</td>\n",
       "    </tr>\n",
       "    <tr>\n",
       "      <th>V14</th>\n",
       "      <td>20000.000</td>\n",
       "      <td>-0.951</td>\n",
       "      <td>1.790</td>\n",
       "      <td>-7.739</td>\n",
       "      <td>-2.171</td>\n",
       "      <td>-0.957</td>\n",
       "      <td>0.271</td>\n",
       "      <td>5.671</td>\n",
       "    </tr>\n",
       "    <tr>\n",
       "      <th>V15</th>\n",
       "      <td>20000.000</td>\n",
       "      <td>-2.415</td>\n",
       "      <td>3.355</td>\n",
       "      <td>-16.417</td>\n",
       "      <td>-4.415</td>\n",
       "      <td>-2.383</td>\n",
       "      <td>-0.359</td>\n",
       "      <td>12.246</td>\n",
       "    </tr>\n",
       "    <tr>\n",
       "      <th>V16</th>\n",
       "      <td>20000.000</td>\n",
       "      <td>-2.925</td>\n",
       "      <td>4.222</td>\n",
       "      <td>-20.374</td>\n",
       "      <td>-5.634</td>\n",
       "      <td>-2.683</td>\n",
       "      <td>-0.095</td>\n",
       "      <td>13.583</td>\n",
       "    </tr>\n",
       "    <tr>\n",
       "      <th>V17</th>\n",
       "      <td>20000.000</td>\n",
       "      <td>-0.134</td>\n",
       "      <td>3.345</td>\n",
       "      <td>-14.091</td>\n",
       "      <td>-2.216</td>\n",
       "      <td>-0.015</td>\n",
       "      <td>2.069</td>\n",
       "      <td>16.756</td>\n",
       "    </tr>\n",
       "    <tr>\n",
       "      <th>V18</th>\n",
       "      <td>20000.000</td>\n",
       "      <td>1.189</td>\n",
       "      <td>2.592</td>\n",
       "      <td>-11.644</td>\n",
       "      <td>-0.404</td>\n",
       "      <td>0.883</td>\n",
       "      <td>2.572</td>\n",
       "      <td>13.180</td>\n",
       "    </tr>\n",
       "    <tr>\n",
       "      <th>V19</th>\n",
       "      <td>20000.000</td>\n",
       "      <td>1.182</td>\n",
       "      <td>3.397</td>\n",
       "      <td>-13.492</td>\n",
       "      <td>-1.050</td>\n",
       "      <td>1.279</td>\n",
       "      <td>3.493</td>\n",
       "      <td>13.238</td>\n",
       "    </tr>\n",
       "    <tr>\n",
       "      <th>V20</th>\n",
       "      <td>20000.000</td>\n",
       "      <td>0.024</td>\n",
       "      <td>3.669</td>\n",
       "      <td>-13.923</td>\n",
       "      <td>-2.433</td>\n",
       "      <td>0.033</td>\n",
       "      <td>2.512</td>\n",
       "      <td>16.052</td>\n",
       "    </tr>\n",
       "    <tr>\n",
       "      <th>V21</th>\n",
       "      <td>20000.000</td>\n",
       "      <td>-3.611</td>\n",
       "      <td>3.568</td>\n",
       "      <td>-17.956</td>\n",
       "      <td>-5.930</td>\n",
       "      <td>-3.533</td>\n",
       "      <td>-1.266</td>\n",
       "      <td>13.840</td>\n",
       "    </tr>\n",
       "    <tr>\n",
       "      <th>V22</th>\n",
       "      <td>20000.000</td>\n",
       "      <td>0.952</td>\n",
       "      <td>1.652</td>\n",
       "      <td>-10.122</td>\n",
       "      <td>-0.118</td>\n",
       "      <td>0.975</td>\n",
       "      <td>2.026</td>\n",
       "      <td>7.410</td>\n",
       "    </tr>\n",
       "    <tr>\n",
       "      <th>V23</th>\n",
       "      <td>20000.000</td>\n",
       "      <td>-0.366</td>\n",
       "      <td>4.032</td>\n",
       "      <td>-14.866</td>\n",
       "      <td>-3.099</td>\n",
       "      <td>-0.262</td>\n",
       "      <td>2.452</td>\n",
       "      <td>14.459</td>\n",
       "    </tr>\n",
       "    <tr>\n",
       "      <th>V24</th>\n",
       "      <td>20000.000</td>\n",
       "      <td>1.134</td>\n",
       "      <td>3.912</td>\n",
       "      <td>-16.387</td>\n",
       "      <td>-1.468</td>\n",
       "      <td>0.969</td>\n",
       "      <td>3.546</td>\n",
       "      <td>17.163</td>\n",
       "    </tr>\n",
       "    <tr>\n",
       "      <th>V25</th>\n",
       "      <td>20000.000</td>\n",
       "      <td>-0.002</td>\n",
       "      <td>2.017</td>\n",
       "      <td>-8.228</td>\n",
       "      <td>-1.365</td>\n",
       "      <td>0.025</td>\n",
       "      <td>1.397</td>\n",
       "      <td>8.223</td>\n",
       "    </tr>\n",
       "    <tr>\n",
       "      <th>V26</th>\n",
       "      <td>20000.000</td>\n",
       "      <td>1.874</td>\n",
       "      <td>3.435</td>\n",
       "      <td>-11.834</td>\n",
       "      <td>-0.338</td>\n",
       "      <td>1.951</td>\n",
       "      <td>4.130</td>\n",
       "      <td>16.836</td>\n",
       "    </tr>\n",
       "    <tr>\n",
       "      <th>V27</th>\n",
       "      <td>20000.000</td>\n",
       "      <td>-0.612</td>\n",
       "      <td>4.369</td>\n",
       "      <td>-14.905</td>\n",
       "      <td>-3.652</td>\n",
       "      <td>-0.885</td>\n",
       "      <td>2.189</td>\n",
       "      <td>17.560</td>\n",
       "    </tr>\n",
       "    <tr>\n",
       "      <th>V28</th>\n",
       "      <td>20000.000</td>\n",
       "      <td>-0.883</td>\n",
       "      <td>1.918</td>\n",
       "      <td>-9.269</td>\n",
       "      <td>-2.171</td>\n",
       "      <td>-0.891</td>\n",
       "      <td>0.376</td>\n",
       "      <td>6.528</td>\n",
       "    </tr>\n",
       "    <tr>\n",
       "      <th>V29</th>\n",
       "      <td>20000.000</td>\n",
       "      <td>-0.986</td>\n",
       "      <td>2.684</td>\n",
       "      <td>-12.579</td>\n",
       "      <td>-2.787</td>\n",
       "      <td>-1.176</td>\n",
       "      <td>0.630</td>\n",
       "      <td>10.722</td>\n",
       "    </tr>\n",
       "    <tr>\n",
       "      <th>V30</th>\n",
       "      <td>20000.000</td>\n",
       "      <td>-0.016</td>\n",
       "      <td>3.005</td>\n",
       "      <td>-14.796</td>\n",
       "      <td>-1.867</td>\n",
       "      <td>0.184</td>\n",
       "      <td>2.036</td>\n",
       "      <td>12.506</td>\n",
       "    </tr>\n",
       "    <tr>\n",
       "      <th>V31</th>\n",
       "      <td>20000.000</td>\n",
       "      <td>0.487</td>\n",
       "      <td>3.461</td>\n",
       "      <td>-13.723</td>\n",
       "      <td>-1.818</td>\n",
       "      <td>0.490</td>\n",
       "      <td>2.731</td>\n",
       "      <td>17.255</td>\n",
       "    </tr>\n",
       "    <tr>\n",
       "      <th>V32</th>\n",
       "      <td>20000.000</td>\n",
       "      <td>0.304</td>\n",
       "      <td>5.500</td>\n",
       "      <td>-19.877</td>\n",
       "      <td>-3.420</td>\n",
       "      <td>0.052</td>\n",
       "      <td>3.762</td>\n",
       "      <td>23.633</td>\n",
       "    </tr>\n",
       "    <tr>\n",
       "      <th>V33</th>\n",
       "      <td>20000.000</td>\n",
       "      <td>0.050</td>\n",
       "      <td>3.575</td>\n",
       "      <td>-16.898</td>\n",
       "      <td>-2.243</td>\n",
       "      <td>-0.066</td>\n",
       "      <td>2.255</td>\n",
       "      <td>16.692</td>\n",
       "    </tr>\n",
       "    <tr>\n",
       "      <th>V34</th>\n",
       "      <td>20000.000</td>\n",
       "      <td>-0.463</td>\n",
       "      <td>3.184</td>\n",
       "      <td>-17.985</td>\n",
       "      <td>-2.137</td>\n",
       "      <td>-0.255</td>\n",
       "      <td>1.437</td>\n",
       "      <td>14.358</td>\n",
       "    </tr>\n",
       "    <tr>\n",
       "      <th>V35</th>\n",
       "      <td>20000.000</td>\n",
       "      <td>2.230</td>\n",
       "      <td>2.937</td>\n",
       "      <td>-15.350</td>\n",
       "      <td>0.336</td>\n",
       "      <td>2.099</td>\n",
       "      <td>4.064</td>\n",
       "      <td>15.291</td>\n",
       "    </tr>\n",
       "    <tr>\n",
       "      <th>V36</th>\n",
       "      <td>20000.000</td>\n",
       "      <td>1.515</td>\n",
       "      <td>3.801</td>\n",
       "      <td>-14.833</td>\n",
       "      <td>-0.944</td>\n",
       "      <td>1.567</td>\n",
       "      <td>3.984</td>\n",
       "      <td>19.330</td>\n",
       "    </tr>\n",
       "    <tr>\n",
       "      <th>V37</th>\n",
       "      <td>20000.000</td>\n",
       "      <td>0.011</td>\n",
       "      <td>1.788</td>\n",
       "      <td>-5.478</td>\n",
       "      <td>-1.256</td>\n",
       "      <td>-0.128</td>\n",
       "      <td>1.176</td>\n",
       "      <td>7.467</td>\n",
       "    </tr>\n",
       "    <tr>\n",
       "      <th>V38</th>\n",
       "      <td>20000.000</td>\n",
       "      <td>-0.344</td>\n",
       "      <td>3.948</td>\n",
       "      <td>-17.375</td>\n",
       "      <td>-2.988</td>\n",
       "      <td>-0.317</td>\n",
       "      <td>2.279</td>\n",
       "      <td>15.290</td>\n",
       "    </tr>\n",
       "    <tr>\n",
       "      <th>V39</th>\n",
       "      <td>20000.000</td>\n",
       "      <td>0.891</td>\n",
       "      <td>1.753</td>\n",
       "      <td>-6.439</td>\n",
       "      <td>-0.272</td>\n",
       "      <td>0.919</td>\n",
       "      <td>2.058</td>\n",
       "      <td>7.760</td>\n",
       "    </tr>\n",
       "    <tr>\n",
       "      <th>V40</th>\n",
       "      <td>20000.000</td>\n",
       "      <td>-0.876</td>\n",
       "      <td>3.012</td>\n",
       "      <td>-11.024</td>\n",
       "      <td>-2.940</td>\n",
       "      <td>-0.921</td>\n",
       "      <td>1.120</td>\n",
       "      <td>10.654</td>\n",
       "    </tr>\n",
       "    <tr>\n",
       "      <th>Target</th>\n",
       "      <td>20000.000</td>\n",
       "      <td>0.056</td>\n",
       "      <td>0.229</td>\n",
       "      <td>0.000</td>\n",
       "      <td>0.000</td>\n",
       "      <td>0.000</td>\n",
       "      <td>0.000</td>\n",
       "      <td>1.000</td>\n",
       "    </tr>\n",
       "  </tbody>\n",
       "</table>\n",
       "</div>"
      ],
      "text/plain": [
       "           count   mean   std     min    25%    50%    75%    max\n",
       "V1     19982.000 -0.272 3.442 -11.876 -2.737 -0.748  1.840 15.493\n",
       "V2     19982.000  0.440 3.151 -12.320 -1.641  0.472  2.544 13.089\n",
       "V3     20000.000  2.485 3.389 -10.708  0.207  2.256  4.566 17.091\n",
       "V4     20000.000 -0.083 3.432 -15.082 -2.348 -0.135  2.131 13.236\n",
       "V5     20000.000 -0.054 2.105  -8.603 -1.536 -0.102  1.340  8.134\n",
       "V6     20000.000 -0.995 2.041 -10.227 -2.347 -1.001  0.380  6.976\n",
       "V7     20000.000 -0.879 1.762  -7.950 -2.031 -0.917  0.224  8.006\n",
       "V8     20000.000 -0.548 3.296 -15.658 -2.643 -0.389  1.723 11.679\n",
       "V9     20000.000 -0.017 2.161  -8.596 -1.495 -0.068  1.409  8.138\n",
       "V10    20000.000 -0.013 2.193  -9.854 -1.411  0.101  1.477  8.108\n",
       "V11    20000.000 -1.895 3.124 -14.832 -3.922 -1.921  0.119 11.826\n",
       "V12    20000.000  1.605 2.930 -12.948 -0.397  1.508  3.571 15.081\n",
       "V13    20000.000  1.580 2.875 -13.228 -0.224  1.637  3.460 15.420\n",
       "V14    20000.000 -0.951 1.790  -7.739 -2.171 -0.957  0.271  5.671\n",
       "V15    20000.000 -2.415 3.355 -16.417 -4.415 -2.383 -0.359 12.246\n",
       "V16    20000.000 -2.925 4.222 -20.374 -5.634 -2.683 -0.095 13.583\n",
       "V17    20000.000 -0.134 3.345 -14.091 -2.216 -0.015  2.069 16.756\n",
       "V18    20000.000  1.189 2.592 -11.644 -0.404  0.883  2.572 13.180\n",
       "V19    20000.000  1.182 3.397 -13.492 -1.050  1.279  3.493 13.238\n",
       "V20    20000.000  0.024 3.669 -13.923 -2.433  0.033  2.512 16.052\n",
       "V21    20000.000 -3.611 3.568 -17.956 -5.930 -3.533 -1.266 13.840\n",
       "V22    20000.000  0.952 1.652 -10.122 -0.118  0.975  2.026  7.410\n",
       "V23    20000.000 -0.366 4.032 -14.866 -3.099 -0.262  2.452 14.459\n",
       "V24    20000.000  1.134 3.912 -16.387 -1.468  0.969  3.546 17.163\n",
       "V25    20000.000 -0.002 2.017  -8.228 -1.365  0.025  1.397  8.223\n",
       "V26    20000.000  1.874 3.435 -11.834 -0.338  1.951  4.130 16.836\n",
       "V27    20000.000 -0.612 4.369 -14.905 -3.652 -0.885  2.189 17.560\n",
       "V28    20000.000 -0.883 1.918  -9.269 -2.171 -0.891  0.376  6.528\n",
       "V29    20000.000 -0.986 2.684 -12.579 -2.787 -1.176  0.630 10.722\n",
       "V30    20000.000 -0.016 3.005 -14.796 -1.867  0.184  2.036 12.506\n",
       "V31    20000.000  0.487 3.461 -13.723 -1.818  0.490  2.731 17.255\n",
       "V32    20000.000  0.304 5.500 -19.877 -3.420  0.052  3.762 23.633\n",
       "V33    20000.000  0.050 3.575 -16.898 -2.243 -0.066  2.255 16.692\n",
       "V34    20000.000 -0.463 3.184 -17.985 -2.137 -0.255  1.437 14.358\n",
       "V35    20000.000  2.230 2.937 -15.350  0.336  2.099  4.064 15.291\n",
       "V36    20000.000  1.515 3.801 -14.833 -0.944  1.567  3.984 19.330\n",
       "V37    20000.000  0.011 1.788  -5.478 -1.256 -0.128  1.176  7.467\n",
       "V38    20000.000 -0.344 3.948 -17.375 -2.988 -0.317  2.279 15.290\n",
       "V39    20000.000  0.891 1.753  -6.439 -0.272  0.919  2.058  7.760\n",
       "V40    20000.000 -0.876 3.012 -11.024 -2.940 -0.921  1.120 10.654\n",
       "Target 20000.000  0.056 0.229   0.000  0.000  0.000  0.000  1.000"
      ]
     },
     "execution_count": 13,
     "metadata": {},
     "output_type": "execute_result"
    },
    {
     "data": {
      "application/javascript": [
       "\n",
       "            setTimeout(function() {\n",
       "                var nbb_cell_id = 13;\n",
       "                var nbb_unformatted_code = \"df_train.describe().T\";\n",
       "                var nbb_formatted_code = \"df_train.describe().T\";\n",
       "                var nbb_cells = Jupyter.notebook.get_cells();\n",
       "                for (var i = 0; i < nbb_cells.length; ++i) {\n",
       "                    if (nbb_cells[i].input_prompt_number == nbb_cell_id) {\n",
       "                        if (nbb_cells[i].get_text() == nbb_unformatted_code) {\n",
       "                             nbb_cells[i].set_text(nbb_formatted_code);\n",
       "                        }\n",
       "                        break;\n",
       "                    }\n",
       "                }\n",
       "            }, 500);\n",
       "            "
      ],
      "text/plain": [
       "<IPython.core.display.Javascript object>"
      ]
     },
     "metadata": {},
     "output_type": "display_data"
    }
   ],
   "source": [
    "df_train.describe().T"
   ]
  },
  {
   "cell_type": "markdown",
   "metadata": {},
   "source": [
    "- V1 to V40 columns have values ranging from negative to positive values\n",
    "- The columns will have a highly skewed distributions "
   ]
  },
  {
   "cell_type": "code",
   "execution_count": 14,
   "metadata": {},
   "outputs": [
    {
     "data": {
      "text/html": [
       "<div>\n",
       "<style scoped>\n",
       "    .dataframe tbody tr th:only-of-type {\n",
       "        vertical-align: middle;\n",
       "    }\n",
       "\n",
       "    .dataframe tbody tr th {\n",
       "        vertical-align: top;\n",
       "    }\n",
       "\n",
       "    .dataframe thead th {\n",
       "        text-align: right;\n",
       "    }\n",
       "</style>\n",
       "<table border=\"1\" class=\"dataframe\">\n",
       "  <thead>\n",
       "    <tr style=\"text-align: right;\">\n",
       "      <th></th>\n",
       "      <th>count</th>\n",
       "      <th>mean</th>\n",
       "      <th>std</th>\n",
       "      <th>min</th>\n",
       "      <th>25%</th>\n",
       "      <th>50%</th>\n",
       "      <th>75%</th>\n",
       "      <th>max</th>\n",
       "    </tr>\n",
       "  </thead>\n",
       "  <tbody>\n",
       "    <tr>\n",
       "      <th>V1</th>\n",
       "      <td>4995.000</td>\n",
       "      <td>-0.278</td>\n",
       "      <td>3.466</td>\n",
       "      <td>-12.382</td>\n",
       "      <td>-2.744</td>\n",
       "      <td>-0.765</td>\n",
       "      <td>1.831</td>\n",
       "      <td>13.504</td>\n",
       "    </tr>\n",
       "    <tr>\n",
       "      <th>V2</th>\n",
       "      <td>4994.000</td>\n",
       "      <td>0.398</td>\n",
       "      <td>3.140</td>\n",
       "      <td>-10.716</td>\n",
       "      <td>-1.649</td>\n",
       "      <td>0.427</td>\n",
       "      <td>2.444</td>\n",
       "      <td>14.079</td>\n",
       "    </tr>\n",
       "    <tr>\n",
       "      <th>V3</th>\n",
       "      <td>5000.000</td>\n",
       "      <td>2.552</td>\n",
       "      <td>3.327</td>\n",
       "      <td>-9.238</td>\n",
       "      <td>0.315</td>\n",
       "      <td>2.260</td>\n",
       "      <td>4.587</td>\n",
       "      <td>15.315</td>\n",
       "    </tr>\n",
       "    <tr>\n",
       "      <th>V4</th>\n",
       "      <td>5000.000</td>\n",
       "      <td>-0.049</td>\n",
       "      <td>3.414</td>\n",
       "      <td>-14.682</td>\n",
       "      <td>-2.293</td>\n",
       "      <td>-0.146</td>\n",
       "      <td>2.166</td>\n",
       "      <td>12.140</td>\n",
       "    </tr>\n",
       "    <tr>\n",
       "      <th>V5</th>\n",
       "      <td>5000.000</td>\n",
       "      <td>-0.080</td>\n",
       "      <td>2.111</td>\n",
       "      <td>-7.712</td>\n",
       "      <td>-1.615</td>\n",
       "      <td>-0.132</td>\n",
       "      <td>1.341</td>\n",
       "      <td>7.673</td>\n",
       "    </tr>\n",
       "    <tr>\n",
       "      <th>V6</th>\n",
       "      <td>5000.000</td>\n",
       "      <td>-1.042</td>\n",
       "      <td>2.005</td>\n",
       "      <td>-8.924</td>\n",
       "      <td>-2.369</td>\n",
       "      <td>-1.049</td>\n",
       "      <td>0.308</td>\n",
       "      <td>5.068</td>\n",
       "    </tr>\n",
       "    <tr>\n",
       "      <th>V7</th>\n",
       "      <td>5000.000</td>\n",
       "      <td>-0.908</td>\n",
       "      <td>1.769</td>\n",
       "      <td>-8.124</td>\n",
       "      <td>-2.054</td>\n",
       "      <td>-0.940</td>\n",
       "      <td>0.212</td>\n",
       "      <td>7.616</td>\n",
       "    </tr>\n",
       "    <tr>\n",
       "      <th>V8</th>\n",
       "      <td>5000.000</td>\n",
       "      <td>-0.575</td>\n",
       "      <td>3.332</td>\n",
       "      <td>-12.253</td>\n",
       "      <td>-2.642</td>\n",
       "      <td>-0.358</td>\n",
       "      <td>1.713</td>\n",
       "      <td>10.415</td>\n",
       "    </tr>\n",
       "    <tr>\n",
       "      <th>V9</th>\n",
       "      <td>5000.000</td>\n",
       "      <td>0.030</td>\n",
       "      <td>2.174</td>\n",
       "      <td>-6.785</td>\n",
       "      <td>-1.456</td>\n",
       "      <td>-0.080</td>\n",
       "      <td>1.450</td>\n",
       "      <td>8.851</td>\n",
       "    </tr>\n",
       "    <tr>\n",
       "      <th>V10</th>\n",
       "      <td>5000.000</td>\n",
       "      <td>0.019</td>\n",
       "      <td>2.145</td>\n",
       "      <td>-8.171</td>\n",
       "      <td>-1.353</td>\n",
       "      <td>0.166</td>\n",
       "      <td>1.511</td>\n",
       "      <td>6.599</td>\n",
       "    </tr>\n",
       "    <tr>\n",
       "      <th>V11</th>\n",
       "      <td>5000.000</td>\n",
       "      <td>-2.009</td>\n",
       "      <td>3.112</td>\n",
       "      <td>-13.152</td>\n",
       "      <td>-4.050</td>\n",
       "      <td>-2.043</td>\n",
       "      <td>0.044</td>\n",
       "      <td>9.956</td>\n",
       "    </tr>\n",
       "    <tr>\n",
       "      <th>V12</th>\n",
       "      <td>5000.000</td>\n",
       "      <td>1.576</td>\n",
       "      <td>2.907</td>\n",
       "      <td>-8.164</td>\n",
       "      <td>-0.450</td>\n",
       "      <td>1.488</td>\n",
       "      <td>3.563</td>\n",
       "      <td>12.984</td>\n",
       "    </tr>\n",
       "    <tr>\n",
       "      <th>V13</th>\n",
       "      <td>5000.000</td>\n",
       "      <td>1.622</td>\n",
       "      <td>2.883</td>\n",
       "      <td>-11.548</td>\n",
       "      <td>-0.126</td>\n",
       "      <td>1.719</td>\n",
       "      <td>3.465</td>\n",
       "      <td>12.620</td>\n",
       "    </tr>\n",
       "    <tr>\n",
       "      <th>V14</th>\n",
       "      <td>5000.000</td>\n",
       "      <td>-0.921</td>\n",
       "      <td>1.803</td>\n",
       "      <td>-7.814</td>\n",
       "      <td>-2.111</td>\n",
       "      <td>-0.896</td>\n",
       "      <td>0.272</td>\n",
       "      <td>5.734</td>\n",
       "    </tr>\n",
       "    <tr>\n",
       "      <th>V15</th>\n",
       "      <td>5000.000</td>\n",
       "      <td>-2.452</td>\n",
       "      <td>3.387</td>\n",
       "      <td>-15.286</td>\n",
       "      <td>-4.479</td>\n",
       "      <td>-2.417</td>\n",
       "      <td>-0.433</td>\n",
       "      <td>11.673</td>\n",
       "    </tr>\n",
       "    <tr>\n",
       "      <th>V16</th>\n",
       "      <td>5000.000</td>\n",
       "      <td>-3.019</td>\n",
       "      <td>4.264</td>\n",
       "      <td>-20.986</td>\n",
       "      <td>-5.648</td>\n",
       "      <td>-2.774</td>\n",
       "      <td>-0.178</td>\n",
       "      <td>13.976</td>\n",
       "    </tr>\n",
       "    <tr>\n",
       "      <th>V17</th>\n",
       "      <td>5000.000</td>\n",
       "      <td>-0.104</td>\n",
       "      <td>3.337</td>\n",
       "      <td>-13.418</td>\n",
       "      <td>-2.228</td>\n",
       "      <td>0.047</td>\n",
       "      <td>2.112</td>\n",
       "      <td>19.777</td>\n",
       "    </tr>\n",
       "    <tr>\n",
       "      <th>V18</th>\n",
       "      <td>5000.000</td>\n",
       "      <td>1.196</td>\n",
       "      <td>2.586</td>\n",
       "      <td>-12.214</td>\n",
       "      <td>-0.409</td>\n",
       "      <td>0.881</td>\n",
       "      <td>2.604</td>\n",
       "      <td>13.642</td>\n",
       "    </tr>\n",
       "    <tr>\n",
       "      <th>V19</th>\n",
       "      <td>5000.000</td>\n",
       "      <td>1.210</td>\n",
       "      <td>3.385</td>\n",
       "      <td>-14.170</td>\n",
       "      <td>-1.026</td>\n",
       "      <td>1.296</td>\n",
       "      <td>3.526</td>\n",
       "      <td>12.428</td>\n",
       "    </tr>\n",
       "    <tr>\n",
       "      <th>V20</th>\n",
       "      <td>5000.000</td>\n",
       "      <td>0.138</td>\n",
       "      <td>3.657</td>\n",
       "      <td>-13.720</td>\n",
       "      <td>-2.325</td>\n",
       "      <td>0.193</td>\n",
       "      <td>2.540</td>\n",
       "      <td>13.871</td>\n",
       "    </tr>\n",
       "    <tr>\n",
       "      <th>V21</th>\n",
       "      <td>5000.000</td>\n",
       "      <td>-3.664</td>\n",
       "      <td>3.578</td>\n",
       "      <td>-16.341</td>\n",
       "      <td>-5.944</td>\n",
       "      <td>-3.663</td>\n",
       "      <td>-1.330</td>\n",
       "      <td>11.047</td>\n",
       "    </tr>\n",
       "    <tr>\n",
       "      <th>V22</th>\n",
       "      <td>5000.000</td>\n",
       "      <td>0.962</td>\n",
       "      <td>1.640</td>\n",
       "      <td>-6.740</td>\n",
       "      <td>-0.048</td>\n",
       "      <td>0.986</td>\n",
       "      <td>2.029</td>\n",
       "      <td>7.505</td>\n",
       "    </tr>\n",
       "    <tr>\n",
       "      <th>V23</th>\n",
       "      <td>5000.000</td>\n",
       "      <td>-0.422</td>\n",
       "      <td>4.057</td>\n",
       "      <td>-14.422</td>\n",
       "      <td>-3.163</td>\n",
       "      <td>-0.279</td>\n",
       "      <td>2.426</td>\n",
       "      <td>13.181</td>\n",
       "    </tr>\n",
       "    <tr>\n",
       "      <th>V24</th>\n",
       "      <td>5000.000</td>\n",
       "      <td>1.089</td>\n",
       "      <td>3.968</td>\n",
       "      <td>-12.316</td>\n",
       "      <td>-1.623</td>\n",
       "      <td>0.913</td>\n",
       "      <td>3.537</td>\n",
       "      <td>17.806</td>\n",
       "    </tr>\n",
       "    <tr>\n",
       "      <th>V25</th>\n",
       "      <td>5000.000</td>\n",
       "      <td>0.061</td>\n",
       "      <td>2.010</td>\n",
       "      <td>-6.770</td>\n",
       "      <td>-1.298</td>\n",
       "      <td>0.077</td>\n",
       "      <td>1.428</td>\n",
       "      <td>6.557</td>\n",
       "    </tr>\n",
       "    <tr>\n",
       "      <th>V26</th>\n",
       "      <td>5000.000</td>\n",
       "      <td>1.847</td>\n",
       "      <td>3.400</td>\n",
       "      <td>-11.414</td>\n",
       "      <td>-0.242</td>\n",
       "      <td>1.917</td>\n",
       "      <td>4.156</td>\n",
       "      <td>17.528</td>\n",
       "    </tr>\n",
       "    <tr>\n",
       "      <th>V27</th>\n",
       "      <td>5000.000</td>\n",
       "      <td>-0.552</td>\n",
       "      <td>4.403</td>\n",
       "      <td>-13.177</td>\n",
       "      <td>-3.663</td>\n",
       "      <td>-0.872</td>\n",
       "      <td>2.247</td>\n",
       "      <td>17.290</td>\n",
       "    </tr>\n",
       "    <tr>\n",
       "      <th>V28</th>\n",
       "      <td>5000.000</td>\n",
       "      <td>-0.868</td>\n",
       "      <td>1.926</td>\n",
       "      <td>-7.933</td>\n",
       "      <td>-2.160</td>\n",
       "      <td>-0.931</td>\n",
       "      <td>0.421</td>\n",
       "      <td>7.416</td>\n",
       "    </tr>\n",
       "    <tr>\n",
       "      <th>V29</th>\n",
       "      <td>5000.000</td>\n",
       "      <td>-1.096</td>\n",
       "      <td>2.655</td>\n",
       "      <td>-9.988</td>\n",
       "      <td>-2.861</td>\n",
       "      <td>-1.341</td>\n",
       "      <td>0.522</td>\n",
       "      <td>14.039</td>\n",
       "    </tr>\n",
       "    <tr>\n",
       "      <th>V30</th>\n",
       "      <td>5000.000</td>\n",
       "      <td>-0.119</td>\n",
       "      <td>3.023</td>\n",
       "      <td>-12.438</td>\n",
       "      <td>-1.997</td>\n",
       "      <td>0.112</td>\n",
       "      <td>1.946</td>\n",
       "      <td>10.315</td>\n",
       "    </tr>\n",
       "    <tr>\n",
       "      <th>V31</th>\n",
       "      <td>5000.000</td>\n",
       "      <td>0.469</td>\n",
       "      <td>3.446</td>\n",
       "      <td>-11.263</td>\n",
       "      <td>-1.822</td>\n",
       "      <td>0.486</td>\n",
       "      <td>2.779</td>\n",
       "      <td>12.559</td>\n",
       "    </tr>\n",
       "    <tr>\n",
       "      <th>V32</th>\n",
       "      <td>5000.000</td>\n",
       "      <td>0.233</td>\n",
       "      <td>5.586</td>\n",
       "      <td>-17.244</td>\n",
       "      <td>-3.556</td>\n",
       "      <td>-0.077</td>\n",
       "      <td>3.752</td>\n",
       "      <td>26.539</td>\n",
       "    </tr>\n",
       "    <tr>\n",
       "      <th>V33</th>\n",
       "      <td>5000.000</td>\n",
       "      <td>-0.080</td>\n",
       "      <td>3.539</td>\n",
       "      <td>-14.904</td>\n",
       "      <td>-2.348</td>\n",
       "      <td>-0.160</td>\n",
       "      <td>2.099</td>\n",
       "      <td>13.324</td>\n",
       "    </tr>\n",
       "    <tr>\n",
       "      <th>V34</th>\n",
       "      <td>5000.000</td>\n",
       "      <td>-0.393</td>\n",
       "      <td>3.166</td>\n",
       "      <td>-14.700</td>\n",
       "      <td>-2.010</td>\n",
       "      <td>-0.172</td>\n",
       "      <td>1.465</td>\n",
       "      <td>12.146</td>\n",
       "    </tr>\n",
       "    <tr>\n",
       "      <th>V35</th>\n",
       "      <td>5000.000</td>\n",
       "      <td>2.211</td>\n",
       "      <td>2.948</td>\n",
       "      <td>-12.261</td>\n",
       "      <td>0.322</td>\n",
       "      <td>2.112</td>\n",
       "      <td>4.032</td>\n",
       "      <td>13.489</td>\n",
       "    </tr>\n",
       "    <tr>\n",
       "      <th>V36</th>\n",
       "      <td>5000.000</td>\n",
       "      <td>1.595</td>\n",
       "      <td>3.775</td>\n",
       "      <td>-12.736</td>\n",
       "      <td>-0.866</td>\n",
       "      <td>1.703</td>\n",
       "      <td>4.104</td>\n",
       "      <td>17.116</td>\n",
       "    </tr>\n",
       "    <tr>\n",
       "      <th>V37</th>\n",
       "      <td>5000.000</td>\n",
       "      <td>0.023</td>\n",
       "      <td>1.785</td>\n",
       "      <td>-5.079</td>\n",
       "      <td>-1.241</td>\n",
       "      <td>-0.110</td>\n",
       "      <td>1.238</td>\n",
       "      <td>6.810</td>\n",
       "    </tr>\n",
       "    <tr>\n",
       "      <th>V38</th>\n",
       "      <td>5000.000</td>\n",
       "      <td>-0.406</td>\n",
       "      <td>3.969</td>\n",
       "      <td>-15.335</td>\n",
       "      <td>-2.984</td>\n",
       "      <td>-0.381</td>\n",
       "      <td>2.288</td>\n",
       "      <td>13.065</td>\n",
       "    </tr>\n",
       "    <tr>\n",
       "      <th>V39</th>\n",
       "      <td>5000.000</td>\n",
       "      <td>0.939</td>\n",
       "      <td>1.717</td>\n",
       "      <td>-5.451</td>\n",
       "      <td>-0.208</td>\n",
       "      <td>0.959</td>\n",
       "      <td>2.131</td>\n",
       "      <td>7.182</td>\n",
       "    </tr>\n",
       "    <tr>\n",
       "      <th>V40</th>\n",
       "      <td>5000.000</td>\n",
       "      <td>-0.932</td>\n",
       "      <td>2.978</td>\n",
       "      <td>-10.076</td>\n",
       "      <td>-2.987</td>\n",
       "      <td>-1.003</td>\n",
       "      <td>1.080</td>\n",
       "      <td>8.698</td>\n",
       "    </tr>\n",
       "    <tr>\n",
       "      <th>Target</th>\n",
       "      <td>5000.000</td>\n",
       "      <td>0.056</td>\n",
       "      <td>0.231</td>\n",
       "      <td>0.000</td>\n",
       "      <td>0.000</td>\n",
       "      <td>0.000</td>\n",
       "      <td>0.000</td>\n",
       "      <td>1.000</td>\n",
       "    </tr>\n",
       "  </tbody>\n",
       "</table>\n",
       "</div>"
      ],
      "text/plain": [
       "          count   mean   std     min    25%    50%    75%    max\n",
       "V1     4995.000 -0.278 3.466 -12.382 -2.744 -0.765  1.831 13.504\n",
       "V2     4994.000  0.398 3.140 -10.716 -1.649  0.427  2.444 14.079\n",
       "V3     5000.000  2.552 3.327  -9.238  0.315  2.260  4.587 15.315\n",
       "V4     5000.000 -0.049 3.414 -14.682 -2.293 -0.146  2.166 12.140\n",
       "V5     5000.000 -0.080 2.111  -7.712 -1.615 -0.132  1.341  7.673\n",
       "V6     5000.000 -1.042 2.005  -8.924 -2.369 -1.049  0.308  5.068\n",
       "V7     5000.000 -0.908 1.769  -8.124 -2.054 -0.940  0.212  7.616\n",
       "V8     5000.000 -0.575 3.332 -12.253 -2.642 -0.358  1.713 10.415\n",
       "V9     5000.000  0.030 2.174  -6.785 -1.456 -0.080  1.450  8.851\n",
       "V10    5000.000  0.019 2.145  -8.171 -1.353  0.166  1.511  6.599\n",
       "V11    5000.000 -2.009 3.112 -13.152 -4.050 -2.043  0.044  9.956\n",
       "V12    5000.000  1.576 2.907  -8.164 -0.450  1.488  3.563 12.984\n",
       "V13    5000.000  1.622 2.883 -11.548 -0.126  1.719  3.465 12.620\n",
       "V14    5000.000 -0.921 1.803  -7.814 -2.111 -0.896  0.272  5.734\n",
       "V15    5000.000 -2.452 3.387 -15.286 -4.479 -2.417 -0.433 11.673\n",
       "V16    5000.000 -3.019 4.264 -20.986 -5.648 -2.774 -0.178 13.976\n",
       "V17    5000.000 -0.104 3.337 -13.418 -2.228  0.047  2.112 19.777\n",
       "V18    5000.000  1.196 2.586 -12.214 -0.409  0.881  2.604 13.642\n",
       "V19    5000.000  1.210 3.385 -14.170 -1.026  1.296  3.526 12.428\n",
       "V20    5000.000  0.138 3.657 -13.720 -2.325  0.193  2.540 13.871\n",
       "V21    5000.000 -3.664 3.578 -16.341 -5.944 -3.663 -1.330 11.047\n",
       "V22    5000.000  0.962 1.640  -6.740 -0.048  0.986  2.029  7.505\n",
       "V23    5000.000 -0.422 4.057 -14.422 -3.163 -0.279  2.426 13.181\n",
       "V24    5000.000  1.089 3.968 -12.316 -1.623  0.913  3.537 17.806\n",
       "V25    5000.000  0.061 2.010  -6.770 -1.298  0.077  1.428  6.557\n",
       "V26    5000.000  1.847 3.400 -11.414 -0.242  1.917  4.156 17.528\n",
       "V27    5000.000 -0.552 4.403 -13.177 -3.663 -0.872  2.247 17.290\n",
       "V28    5000.000 -0.868 1.926  -7.933 -2.160 -0.931  0.421  7.416\n",
       "V29    5000.000 -1.096 2.655  -9.988 -2.861 -1.341  0.522 14.039\n",
       "V30    5000.000 -0.119 3.023 -12.438 -1.997  0.112  1.946 10.315\n",
       "V31    5000.000  0.469 3.446 -11.263 -1.822  0.486  2.779 12.559\n",
       "V32    5000.000  0.233 5.586 -17.244 -3.556 -0.077  3.752 26.539\n",
       "V33    5000.000 -0.080 3.539 -14.904 -2.348 -0.160  2.099 13.324\n",
       "V34    5000.000 -0.393 3.166 -14.700 -2.010 -0.172  1.465 12.146\n",
       "V35    5000.000  2.211 2.948 -12.261  0.322  2.112  4.032 13.489\n",
       "V36    5000.000  1.595 3.775 -12.736 -0.866  1.703  4.104 17.116\n",
       "V37    5000.000  0.023 1.785  -5.079 -1.241 -0.110  1.238  6.810\n",
       "V38    5000.000 -0.406 3.969 -15.335 -2.984 -0.381  2.288 13.065\n",
       "V39    5000.000  0.939 1.717  -5.451 -0.208  0.959  2.131  7.182\n",
       "V40    5000.000 -0.932 2.978 -10.076 -2.987 -1.003  1.080  8.698\n",
       "Target 5000.000  0.056 0.231   0.000  0.000  0.000  0.000  1.000"
      ]
     },
     "execution_count": 14,
     "metadata": {},
     "output_type": "execute_result"
    },
    {
     "data": {
      "application/javascript": [
       "\n",
       "            setTimeout(function() {\n",
       "                var nbb_cell_id = 14;\n",
       "                var nbb_unformatted_code = \"df_test.describe().T\";\n",
       "                var nbb_formatted_code = \"df_test.describe().T\";\n",
       "                var nbb_cells = Jupyter.notebook.get_cells();\n",
       "                for (var i = 0; i < nbb_cells.length; ++i) {\n",
       "                    if (nbb_cells[i].input_prompt_number == nbb_cell_id) {\n",
       "                        if (nbb_cells[i].get_text() == nbb_unformatted_code) {\n",
       "                             nbb_cells[i].set_text(nbb_formatted_code);\n",
       "                        }\n",
       "                        break;\n",
       "                    }\n",
       "                }\n",
       "            }, 500);\n",
       "            "
      ],
      "text/plain": [
       "<IPython.core.display.Javascript object>"
      ]
     },
     "metadata": {},
     "output_type": "display_data"
    }
   ],
   "source": [
    "df_test.describe().T"
   ]
  },
  {
   "cell_type": "markdown",
   "metadata": {},
   "source": [
    "- Also in the test dataset, V1 to V40 colmns have values ranging from negative to positive values"
   ]
  },
  {
   "cell_type": "markdown",
   "metadata": {
    "id": "__7ciGcIDPyk"
   },
   "source": [
    "## Exploratory Data Analysis (EDA)"
   ]
  },
  {
   "cell_type": "markdown",
   "metadata": {
    "id": "TWlGr1u1hKyk"
   },
   "source": [
    "### Plotting histograms and boxplots for all the variables"
   ]
  },
  {
   "cell_type": "code",
   "execution_count": 15,
   "metadata": {
    "id": "c2op1ZUyhKyk"
   },
   "outputs": [
    {
     "data": {
      "application/javascript": [
       "\n",
       "            setTimeout(function() {\n",
       "                var nbb_cell_id = 15;\n",
       "                var nbb_unformatted_code = \"# function to plot a boxplot and a histogram along the same scale.\\n\\n\\ndef histogram_boxplot(data, feature, figsize=(12, 7), kde=False, bins=None):\\n    \\\"\\\"\\\"\\n    Boxplot and histogram combined\\n\\n    data: dataframe\\n    feature: dataframe column\\n    figsize: size of figure (default (12,7))\\n    kde: whether to the show density curve (default False)\\n    bins: number of bins for histogram (default None)\\n    \\\"\\\"\\\"\\n    f2, (ax_box2, ax_hist2) = plt.subplots(\\n        nrows=2,  # Number of rows of the subplot grid= 2\\n        sharex=True,  # x-axis will be shared among all subplots\\n        gridspec_kw={\\\"height_ratios\\\": (0.25, 0.75)},\\n        figsize=figsize,\\n    )  # creating the 2 subplots\\n    sns.boxplot(\\n        data=data, x=feature, ax=ax_box2, showmeans=True, color=\\\"violet\\\"\\n    )  # boxplot will be created and a star will indicate the mean value of the column\\n    sns.histplot(\\n        data=data, x=feature, kde=kde, ax=ax_hist2, bins=bins, palette=\\\"winter\\\"\\n    ) if bins else sns.histplot(\\n        data=data, x=feature, kde=kde, ax=ax_hist2\\n    )  # For histogram\\n    ax_hist2.axvline(\\n        data[feature].mean(), color=\\\"green\\\", linestyle=\\\"--\\\"\\n    )  # Add mean to the histogram\\n    ax_hist2.axvline(\\n        data[feature].median(), color=\\\"black\\\", linestyle=\\\"-\\\"\\n    )  # Add median to the histogram\";\n",
       "                var nbb_formatted_code = \"# function to plot a boxplot and a histogram along the same scale.\\n\\n\\ndef histogram_boxplot(data, feature, figsize=(12, 7), kde=False, bins=None):\\n    \\\"\\\"\\\"\\n    Boxplot and histogram combined\\n\\n    data: dataframe\\n    feature: dataframe column\\n    figsize: size of figure (default (12,7))\\n    kde: whether to the show density curve (default False)\\n    bins: number of bins for histogram (default None)\\n    \\\"\\\"\\\"\\n    f2, (ax_box2, ax_hist2) = plt.subplots(\\n        nrows=2,  # Number of rows of the subplot grid= 2\\n        sharex=True,  # x-axis will be shared among all subplots\\n        gridspec_kw={\\\"height_ratios\\\": (0.25, 0.75)},\\n        figsize=figsize,\\n    )  # creating the 2 subplots\\n    sns.boxplot(\\n        data=data, x=feature, ax=ax_box2, showmeans=True, color=\\\"violet\\\"\\n    )  # boxplot will be created and a star will indicate the mean value of the column\\n    sns.histplot(\\n        data=data, x=feature, kde=kde, ax=ax_hist2, bins=bins, palette=\\\"winter\\\"\\n    ) if bins else sns.histplot(\\n        data=data, x=feature, kde=kde, ax=ax_hist2\\n    )  # For histogram\\n    ax_hist2.axvline(\\n        data[feature].mean(), color=\\\"green\\\", linestyle=\\\"--\\\"\\n    )  # Add mean to the histogram\\n    ax_hist2.axvline(\\n        data[feature].median(), color=\\\"black\\\", linestyle=\\\"-\\\"\\n    )  # Add median to the histogram\";\n",
       "                var nbb_cells = Jupyter.notebook.get_cells();\n",
       "                for (var i = 0; i < nbb_cells.length; ++i) {\n",
       "                    if (nbb_cells[i].input_prompt_number == nbb_cell_id) {\n",
       "                        if (nbb_cells[i].get_text() == nbb_unformatted_code) {\n",
       "                             nbb_cells[i].set_text(nbb_formatted_code);\n",
       "                        }\n",
       "                        break;\n",
       "                    }\n",
       "                }\n",
       "            }, 500);\n",
       "            "
      ],
      "text/plain": [
       "<IPython.core.display.Javascript object>"
      ]
     },
     "metadata": {},
     "output_type": "display_data"
    }
   ],
   "source": [
    "# function to plot a boxplot and a histogram along the same scale.\n",
    "\n",
    "\n",
    "def histogram_boxplot(data, feature, figsize=(12, 7), kde=False, bins=None):\n",
    "    \"\"\"\n",
    "    Boxplot and histogram combined\n",
    "\n",
    "    data: dataframe\n",
    "    feature: dataframe column\n",
    "    figsize: size of figure (default (12,7))\n",
    "    kde: whether to the show density curve (default False)\n",
    "    bins: number of bins for histogram (default None)\n",
    "    \"\"\"\n",
    "    f2, (ax_box2, ax_hist2) = plt.subplots(\n",
    "        nrows=2,  # Number of rows of the subplot grid= 2\n",
    "        sharex=True,  # x-axis will be shared among all subplots\n",
    "        gridspec_kw={\"height_ratios\": (0.25, 0.75)},\n",
    "        figsize=figsize,\n",
    "    )  # creating the 2 subplots\n",
    "    sns.boxplot(\n",
    "        data=data, x=feature, ax=ax_box2, showmeans=True, color=\"violet\"\n",
    "    )  # boxplot will be created and a star will indicate the mean value of the column\n",
    "    sns.histplot(\n",
    "        data=data, x=feature, kde=kde, ax=ax_hist2, bins=bins, palette=\"winter\"\n",
    "    ) if bins else sns.histplot(\n",
    "        data=data, x=feature, kde=kde, ax=ax_hist2\n",
    "    )  # For histogram\n",
    "    ax_hist2.axvline(\n",
    "        data[feature].mean(), color=\"green\", linestyle=\"--\"\n",
    "    )  # Add mean to the histogram\n",
    "    ax_hist2.axvline(\n",
    "        data[feature].median(), color=\"black\", linestyle=\"-\"\n",
    "    )  # Add median to the histogram"
   ]
  },
  {
   "cell_type": "markdown",
   "metadata": {
    "id": "_jUaMoVvhKyl"
   },
   "source": [
    "### Plotting all the features at one go"
   ]
  },
  {
   "cell_type": "code",
   "execution_count": null,
   "metadata": {
    "id": "W91y_f944jan"
   },
   "outputs": [],
   "source": [
    "for feature in df_train.columns:\n",
    "    histogram_boxplot(df_train, feature, figsize=(12, 7), kde=False, bins=None)"
   ]
  },
  {
   "cell_type": "markdown",
   "metadata": {},
   "source": [
    "- There are outliers in V1 to V40 charts\n",
    "- Distribution of values range from negative to positive values\n",
    "- The target column values are imbalanced, majority of the values have 0 (no failures) than 1 (faliures)"
   ]
  },
  {
   "cell_type": "markdown",
   "metadata": {
    "id": "knk0w9XH4jao"
   },
   "source": [
    "## Data Pre-processing"
   ]
  },
  {
   "cell_type": "code",
   "execution_count": null,
   "metadata": {
    "id": "2JbJc1bX4jao"
   },
   "outputs": [],
   "source": [
    "# Creating a copy of the train and test dataset\n",
    "data_train = df_train.copy()\n",
    "data_test = df_test.copy()"
   ]
  },
  {
   "cell_type": "code",
   "execution_count": null,
   "metadata": {},
   "outputs": [],
   "source": [
    "# Dividing train data into X and y\n",
    "X = data_train.drop([\"Target\"], axis=1)\n",
    "y = data_train[\"Target\"]"
   ]
  },
  {
   "cell_type": "code",
   "execution_count": null,
   "metadata": {},
   "outputs": [],
   "source": [
    "# Splitting data into training and validation set, we already have a test set:\n",
    "\n",
    "X_train, X_val, y_train, y_val = train_test_split(\n",
    "    X, y, test_size=0.25, random_state=1, stratify=y\n",
    ")\n",
    "print(X_train.shape, X_val.shape)"
   ]
  },
  {
   "cell_type": "code",
   "execution_count": null,
   "metadata": {},
   "outputs": [],
   "source": [
    "# Dividing test data into X_test and y_test\n",
    "X_test = data_test.drop([\"Target\"], axis=1)\n",
    "y_test = data_test[\"Target\"]"
   ]
  },
  {
   "cell_type": "code",
   "execution_count": null,
   "metadata": {},
   "outputs": [],
   "source": [
    "print(X_test.shape)"
   ]
  },
  {
   "cell_type": "markdown",
   "metadata": {
    "id": "0J99-7Kubp09"
   },
   "source": [
    "## Missing value imputation\n",
    "\n",
    "\n"
   ]
  },
  {
   "cell_type": "code",
   "execution_count": null,
   "metadata": {
    "id": "hke9uYOfBqoQ"
   },
   "outputs": [],
   "source": [
    "# creating an instace of the imputer to be used\n",
    "imputer = SimpleImputer(strategy=\"median\")"
   ]
  },
  {
   "cell_type": "code",
   "execution_count": null,
   "metadata": {},
   "outputs": [],
   "source": [
    "# Fit and transform the train data\n",
    "X_train = pd.DataFrame(imputer.fit_transform(X_train), columns=X_train.columns)\n",
    "\n",
    "# Transform the validation data\n",
    "X_val = pd.DataFrame(imputer.fit_transform(X_val), columns=X_train.columns)\n",
    "\n",
    "# Transform the test data\n",
    "X_test = pd.DataFrame(imputer.fit_transform(X_test), columns=X_train.columns)"
   ]
  },
  {
   "cell_type": "code",
   "execution_count": null,
   "metadata": {},
   "outputs": [],
   "source": [
    "# Checking that no column has missing values in train or test sets\n",
    "print(X_train.isna().sum())\n",
    "print(\"-\" * 30)\n",
    "print(X_val.isna().sum())\n",
    "print(\"-\" * 30)\n",
    "print(X_test.isna().sum())"
   ]
  },
  {
   "cell_type": "markdown",
   "metadata": {},
   "source": [
    "- No missing values in train, validation and test datasets"
   ]
  },
  {
   "cell_type": "markdown",
   "metadata": {
    "id": "OzOa9FGA6WtG"
   },
   "source": [
    "## Model Building"
   ]
  },
  {
   "cell_type": "markdown",
   "metadata": {
    "id": "YZqmoqz7bp0-"
   },
   "source": [
    "### Model evaluation criterion"
   ]
  },
  {
   "cell_type": "markdown",
   "metadata": {
    "id": "l2ORUgmUjDZC"
   },
   "source": [
    "The nature of predictions made by the classification model will translate as follows:\n",
    "\n",
    "- True positives (TP) are failures correctly predicted by the model.\n",
    "- False negatives (FN) are real failures in a generator where there is no detection by model. \n",
    "- False positives (FP) are failure detections in a generator where there is no failure.\n",
    "\n",
    "**Which metric to optimize?**\n",
    "\n",
    "* We need to choose the metric which will ensure that the maximum number of generator failures are predicted correctly by the model.\n",
    "* We would want Recall to be maximized as greater the Recall, the higher the chances of minimizing false negatives.\n",
    "* We want to minimize false negatives because if a model predicts that a machine will have no failure when there will be a failure, it will increase the maintenance cost."
   ]
  },
  {
   "cell_type": "markdown",
   "metadata": {
    "id": "djQTqGKU4jap"
   },
   "source": [
    "**Let's define a function to output different metrics (including recall) on the train and test set and a function to show confusion matrix so that we do not have to use the same code repetitively while evaluating models.**"
   ]
  },
  {
   "cell_type": "code",
   "execution_count": null,
   "metadata": {
    "id": "bIekBxwp4jaq"
   },
   "outputs": [],
   "source": [
    "# defining a function to compute different metrics to check performance of a classification model built using sklearn\n",
    "def model_performance_classification_sklearn(model, predictors, target):\n",
    "    \"\"\"\n",
    "    Function to compute different metrics to check classification model performance\n",
    "\n",
    "    model: classifier\n",
    "    predictors: independent variables\n",
    "    target: dependent variable\n",
    "    \"\"\"\n",
    "\n",
    "    # predicting using the independent variables\n",
    "    pred = model.predict(predictors)\n",
    "\n",
    "    acc = accuracy_score(target, pred)  # to compute Accuracy\n",
    "    recall = recall_score(target, pred)  # to compute Recall\n",
    "    precision = precision_score(target, pred)  # to compute Precision\n",
    "    f1 = f1_score(target, pred)  # to compute F1-score\n",
    "\n",
    "    # creating a dataframe of metrics\n",
    "    df_perf = pd.DataFrame(\n",
    "        {\"Accuracy\": acc, \"Recall\": recall, \"Precision\": precision, \"F1\": f1},\n",
    "        index=[0],\n",
    "    )\n",
    "\n",
    "    return df_perf"
   ]
  },
  {
   "cell_type": "markdown",
   "metadata": {
    "id": "-hOzddAXbp0_"
   },
   "source": [
    "### Defining scorer to be used for cross-validation and hyperparameter tuning"
   ]
  },
  {
   "cell_type": "markdown",
   "metadata": {
    "id": "dzLUm-eSi_cJ"
   },
   "source": [
    "- We want to reduce false negatives and will try to maximize \"Recall\".\n",
    "- To maximize Recall, we can use Recall as a **scorer** in cross-validation and hyperparameter tuning."
   ]
  },
  {
   "cell_type": "code",
   "execution_count": null,
   "metadata": {
    "id": "ayLcyOLsbp0_"
   },
   "outputs": [],
   "source": [
    "# Type of scoring used to compare parameter combinations\n",
    "scorer = metrics.make_scorer(metrics.recall_score)"
   ]
  },
  {
   "cell_type": "markdown",
   "metadata": {
    "id": "eqCDCbcw4jas"
   },
   "source": [
    "### Model Building with original data"
   ]
  },
  {
   "cell_type": "code",
   "execution_count": 27,
   "metadata": {
    "id": "V-tpzI7g4jas"
   },
   "outputs": [
    {
     "name": "stdout",
     "output_type": "stream",
     "text": [
      "Random forest: 0.7235192266070268\n",
      "GBM: 0.7066661857008874\n",
      "Adaboost: 0.6309140754635308\n",
      "Xgboost: 0.7956208065796118\n",
      "\n",
      "Validation Performance:\n",
      "\n",
      "dtree: 0.7050359712230215\n",
      "Logistic regression: 0.48201438848920863\n",
      "Bagging: 0.7302158273381295\n",
      "Random forest: 0.7266187050359713\n",
      "GBM: 0.7230215827338129\n",
      "Adaboost: 0.6762589928057554\n",
      "Xgboost: 0.8201438848920863\n"
     ]
    },
    {
     "data": {
      "application/javascript": [
       "\n",
       "            setTimeout(function() {\n",
       "                var nbb_cell_id = 27;\n",
       "                var nbb_unformatted_code = \"models = []  # Empty list to store all the models\\n\\n# Appending models into the list\\nmodels.append((\\\"dtree\\\", DecisionTreeClassifier(random_state=1)))\\nmodels.append((\\\"Logistic regression\\\", LogisticRegression(random_state=1)))\\nmodels.append((\\\"Bagging\\\", BaggingClassifier(random_state=1)))\\nmodels.append((\\\"Random forest\\\", RandomForestClassifier(random_state=1)))\\nmodels.append((\\\"GBM\\\", GradientBoostingClassifier(random_state=1)))\\nmodels.append((\\\"Adaboost\\\", AdaBoostClassifier(random_state=1)))\\nmodels.append((\\\"Xgboost\\\", XGBClassifier(random_state=1, eval_metric=\\\"logloss\\\")))\\n\\nresults1 = []  # Empty list to store all model's CV scores\\nnames = []  # Empty list to store name of the models\\n\\n\\n# loop through all models to get the mean cross validated score\\nprint(\\\"\\\\n\\\" \\\"Cross-Validation performance on training dataset:\\\" \\\"\\\\n\\\")\\n\\nfor name, model in models:\\n    kfold = StratifiedKFold(\\n        n_splits=5, shuffle=True, random_state=1\\n    )  # Setting number of splits equal to 5\\n    cv_result = cross_val_score(\\n        estimator=model, X=X_train, y=y_train, scoring=scorer, cv=kfold\\n    )\\n    results1.append(cv_result)\\n    names.append(name)\\n    print(\\\"{}: {}\\\".format(name, cv_result.mean()))\\n\\nprint(\\\"\\\\n\\\" \\\"Validation Performance:\\\" \\\"\\\\n\\\")\\n\\nfor name, model in models:\\n    model.fit(X_train, y_train)\\n    scores = recall_score(y_val, model.predict(X_val))\\n    print(\\\"{}: {}\\\".format(name, scores))\";\n",
       "                var nbb_formatted_code = \"models = []  # Empty list to store all the models\\n\\n# Appending models into the list\\nmodels.append((\\\"dtree\\\", DecisionTreeClassifier(random_state=1)))\\nmodels.append((\\\"Logistic regression\\\", LogisticRegression(random_state=1)))\\nmodels.append((\\\"Bagging\\\", BaggingClassifier(random_state=1)))\\nmodels.append((\\\"Random forest\\\", RandomForestClassifier(random_state=1)))\\nmodels.append((\\\"GBM\\\", GradientBoostingClassifier(random_state=1)))\\nmodels.append((\\\"Adaboost\\\", AdaBoostClassifier(random_state=1)))\\nmodels.append((\\\"Xgboost\\\", XGBClassifier(random_state=1, eval_metric=\\\"logloss\\\")))\\n\\nresults1 = []  # Empty list to store all model's CV scores\\nnames = []  # Empty list to store name of the models\\n\\n\\n# loop through all models to get the mean cross validated score\\nprint(\\\"\\\\n\\\" \\\"Cross-Validation performance on training dataset:\\\" \\\"\\\\n\\\")\\n\\nfor name, model in models:\\n    kfold = StratifiedKFold(\\n        n_splits=5, shuffle=True, random_state=1\\n    )  # Setting number of splits equal to 5\\n    cv_result = cross_val_score(\\n        estimator=model, X=X_train, y=y_train, scoring=scorer, cv=kfold\\n    )\\n    results1.append(cv_result)\\n    names.append(name)\\n    print(\\\"{}: {}\\\".format(name, cv_result.mean()))\\n\\nprint(\\\"\\\\n\\\" \\\"Validation Performance:\\\" \\\"\\\\n\\\")\\n\\nfor name, model in models:\\n    model.fit(X_train, y_train)\\n    scores = recall_score(y_val, model.predict(X_val))\\n    print(\\\"{}: {}\\\".format(name, scores))\";\n",
       "                var nbb_cells = Jupyter.notebook.get_cells();\n",
       "                for (var i = 0; i < nbb_cells.length; ++i) {\n",
       "                    if (nbb_cells[i].input_prompt_number == nbb_cell_id) {\n",
       "                        if (nbb_cells[i].get_text() == nbb_unformatted_code) {\n",
       "                             nbb_cells[i].set_text(nbb_formatted_code);\n",
       "                        }\n",
       "                        break;\n",
       "                    }\n",
       "                }\n",
       "            }, 500);\n",
       "            "
      ],
      "text/plain": [
       "<IPython.core.display.Javascript object>"
      ]
     },
     "metadata": {},
     "output_type": "display_data"
    }
   ],
   "source": [
    "models = []  # Empty list to store all the models\n",
    "\n",
    "# Appending models into the list\n",
    "models.append((\"dtree\", DecisionTreeClassifier(random_state=1)))\n",
    "models.append((\"Logistic regression\", LogisticRegression(random_state=1)))\n",
    "models.append((\"Bagging\", BaggingClassifier(random_state=1)))\n",
    "models.append((\"Random forest\", RandomForestClassifier(random_state=1)))\n",
    "models.append((\"GBM\", GradientBoostingClassifier(random_state=1)))\n",
    "models.append((\"Adaboost\", AdaBoostClassifier(random_state=1)))\n",
    "models.append((\"Xgboost\", XGBClassifier(random_state=1, eval_metric=\"logloss\")))\n",
    "\n",
    "results1 = []  # Empty list to store all model's CV scores\n",
    "names = []  # Empty list to store name of the models\n",
    "\n",
    "\n",
    "# loop through all models to get the mean cross validated score\n",
    "print(\"\\n\" \"Cross-Validation performance on training dataset:\" \"\\n\")\n",
    "\n",
    "for name, model in models:\n",
    "    kfold = StratifiedKFold(\n",
    "        n_splits=5, shuffle=True, random_state=1\n",
    "    )  # Setting number of splits equal to 5\n",
    "    cv_result = cross_val_score(\n",
    "        estimator=model, X=X_train, y=y_train, scoring=scorer, cv=kfold\n",
    "    )\n",
    "    results1.append(cv_result)\n",
    "    names.append(name)\n",
    "    print(\"{}: {}\".format(name, cv_result.mean()))\n",
    "\n",
    "print(\"\\n\" \"Validation Performance:\" \"\\n\")\n",
    "\n",
    "for name, model in models:\n",
    "    model.fit(X_train, y_train)\n",
    "    scores = recall_score(y_val, model.predict(X_val))\n",
    "    print(\"{}: {}\".format(name, scores))"
   ]
  },
  {
   "cell_type": "code",
   "execution_count": 28,
   "metadata": {},
   "outputs": [
    {
     "data": {
      "image/png": "[encoded data removed]",
      "text/plain": [
       "<Figure size 720x504 with 1 Axes>"
      ]
     },
     "metadata": {
      "needs_background": "light"
     },
     "output_type": "display_data"
    },
    {
     "data": {
      "application/javascript": [
       "\n",
       "            setTimeout(function() {\n",
       "                var nbb_cell_id = 28;\n",
       "                var nbb_unformatted_code = \"# Plotting boxplots for CV scores of all models defined above\\nfig = plt.figure(figsize=(10, 7))\\n\\nfig.suptitle(\\\"Algorithm Comparison\\\")\\nax = fig.add_subplot(111)\\n\\nplt.boxplot(results1)\\nax.set_xticklabels(names)\\n\\nplt.show()\";\n",
       "                var nbb_formatted_code = \"# Plotting boxplots for CV scores of all models defined above\\nfig = plt.figure(figsize=(10, 7))\\n\\nfig.suptitle(\\\"Algorithm Comparison\\\")\\nax = fig.add_subplot(111)\\n\\nplt.boxplot(results1)\\nax.set_xticklabels(names)\\n\\nplt.show()\";\n",
       "                var nbb_cells = Jupyter.notebook.get_cells();\n",
       "                for (var i = 0; i < nbb_cells.length; ++i) {\n",
       "                    if (nbb_cells[i].input_prompt_number == nbb_cell_id) {\n",
       "                        if (nbb_cells[i].get_text() == nbb_unformatted_code) {\n",
       "                             nbb_cells[i].set_text(nbb_formatted_code);\n",
       "                        }\n",
       "                        break;\n",
       "                    }\n",
       "                }\n",
       "            }, 500);\n",
       "            "
      ],
      "text/plain": [
       "<IPython.core.display.Javascript object>"
      ]
     },
     "metadata": {},
     "output_type": "display_data"
    }
   ],
   "source": [
    "# Plotting boxplots for CV scores of all models defined above\n",
    "fig = plt.figure(figsize=(10, 7))\n",
    "\n",
    "fig.suptitle(\"Algorithm Comparison\")\n",
    "ax = fig.add_subplot(111)\n",
    "\n",
    "plt.boxplot(results1)\n",
    "ax.set_xticklabels(names)\n",
    "\n",
    "plt.show()"
   ]
  },
  {
   "cell_type": "markdown",
   "metadata": {},
   "source": [
    "- From the chart we will pick 4 models that performed well for further hyperparameter tuning;\n",
    "    - Decision Tree\n",
    "    - Bagging\n",
    "    - Random  Forest\n",
    "    - XGBoost"
   ]
  },
  {
   "cell_type": "markdown",
   "metadata": {
    "id": "oBKJaFU24jas"
   },
   "source": [
    "### Model Building with Oversampled data\n"
   ]
  },
  {
   "cell_type": "code",
   "execution_count": 29,
   "metadata": {
    "id": "FKxnygkE4jat"
   },
   "outputs": [
    {
     "name": "stdout",
     "output_type": "stream",
     "text": [
      "Before OverSampling, counts of label '1': 832\n",
      "Before OverSampling, counts of label '0': 14168 \n",
      "\n",
      "After OverSampling, counts of label '1': 14168\n",
      "After OverSampling, counts of label '0': 14168 \n",
      "\n",
      "After OverSampling, the shape of train_X: (28336, 40)\n",
      "After OverSampling, the shape of train_y: (28336,) \n",
      "\n"
     ]
    },
    {
     "data": {
      "application/javascript": [
       "\n",
       "            setTimeout(function() {\n",
       "                var nbb_cell_id = 29;\n",
       "                var nbb_unformatted_code = \"print(\\\"Before OverSampling, counts of label '1': {}\\\".format(sum(y_train == 1)))\\nprint(\\\"Before OverSampling, counts of label '0': {} \\\\n\\\".format(sum(y_train == 0)))\\n\\n# Synthetic Minority Over Sampling Technique\\nsm = SMOTE(sampling_strategy=1, k_neighbors=5, random_state=1)\\nX_train_over, y_train_over = sm.fit_resample(X_train, y_train)\\n\\nprint(\\\"After OverSampling, counts of label '1': {}\\\".format(sum(y_train_over == 1)))\\nprint(\\\"After OverSampling, counts of label '0': {} \\\\n\\\".format(sum(y_train_over == 0)))\\n\\n\\nprint(\\\"After OverSampling, the shape of train_X: {}\\\".format(X_train_over.shape))\\nprint(\\\"After OverSampling, the shape of train_y: {} \\\\n\\\".format(y_train_over.shape))\";\n",
       "                var nbb_formatted_code = \"print(\\\"Before OverSampling, counts of label '1': {}\\\".format(sum(y_train == 1)))\\nprint(\\\"Before OverSampling, counts of label '0': {} \\\\n\\\".format(sum(y_train == 0)))\\n\\n# Synthetic Minority Over Sampling Technique\\nsm = SMOTE(sampling_strategy=1, k_neighbors=5, random_state=1)\\nX_train_over, y_train_over = sm.fit_resample(X_train, y_train)\\n\\nprint(\\\"After OverSampling, counts of label '1': {}\\\".format(sum(y_train_over == 1)))\\nprint(\\\"After OverSampling, counts of label '0': {} \\\\n\\\".format(sum(y_train_over == 0)))\\n\\n\\nprint(\\\"After OverSampling, the shape of train_X: {}\\\".format(X_train_over.shape))\\nprint(\\\"After OverSampling, the shape of train_y: {} \\\\n\\\".format(y_train_over.shape))\";\n",
       "                var nbb_cells = Jupyter.notebook.get_cells();\n",
       "                for (var i = 0; i < nbb_cells.length; ++i) {\n",
       "                    if (nbb_cells[i].input_prompt_number == nbb_cell_id) {\n",
       "                        if (nbb_cells[i].get_text() == nbb_unformatted_code) {\n",
       "                             nbb_cells[i].set_text(nbb_formatted_code);\n",
       "                        }\n",
       "                        break;\n",
       "                    }\n",
       "                }\n",
       "            }, 500);\n",
       "            "
      ],
      "text/plain": [
       "<IPython.core.display.Javascript object>"
      ]
     },
     "metadata": {},
     "output_type": "display_data"
    }
   ],
   "source": [
    "print(\"Before OverSampling, counts of label '1': {}\".format(sum(y_train == 1)))\n",
    "print(\"Before OverSampling, counts of label '0': {} \\n\".format(sum(y_train == 0)))\n",
    "\n",
    "# Synthetic Minority Over Sampling Technique\n",
    "sm = SMOTE(sampling_strategy=1, k_neighbors=5, random_state=1)\n",
    "X_train_over, y_train_over = sm.fit_resample(X_train, y_train)\n",
    "\n",
    "print(\"After OverSampling, counts of label '1': {}\".format(sum(y_train_over == 1)))\n",
    "print(\"After OverSampling, counts of label '0': {} \\n\".format(sum(y_train_over == 0)))\n",
    "\n",
    "\n",
    "print(\"After OverSampling, the shape of train_X: {}\".format(X_train_over.shape))\n",
    "print(\"After OverSampling, the shape of train_y: {} \\n\".format(y_train_over.shape))"
   ]
  },
  {
   "cell_type": "code",
   "execution_count": 30,
   "metadata": {
    "id": "uYDlbnUO4jat"
   },
   "outputs": [
    {
     "name": "stdout",
     "output_type": "stream",
     "text": [
      "\n",
      "Cross-Validation performance on training dataset:\n",
      "\n",
      "dtree: 0.9720494245534969\n",
      "Logistic regression: 0.883963699328486\n",
      "Bagging: 0.9762141471581656\n",
      "Random forest: 0.9839075260047615\n",
      "GBM: 0.9256068151319724\n",
      "Adaboost: 0.8978689011775473\n",
      "Xgboost: 0.989554053559209\n",
      "\n",
      "Validation Performance:\n",
      "\n",
      "dtree: 0.7769784172661871\n",
      "Logistic regression: 0.8489208633093526\n",
      "Bagging: 0.8345323741007195\n",
      "Random forest: 0.8489208633093526\n",
      "GBM: 0.8776978417266187\n",
      "Adaboost: 0.8561151079136691\n",
      "Xgboost: 0.8669064748201439\n"
     ]
    },
    {
     "data": {
      "application/javascript": [
       "\n",
       "            setTimeout(function() {\n",
       "                var nbb_cell_id = 30;\n",
       "                var nbb_unformatted_code = \"models = []  # Empty list to store all the models\\n\\n# Appending models into the list\\nmodels.append((\\\"dtree\\\", DecisionTreeClassifier(random_state=1)))\\nmodels.append((\\\"Logistic regression\\\", LogisticRegression(random_state=1)))\\nmodels.append((\\\"Bagging\\\", BaggingClassifier(random_state=1)))\\nmodels.append((\\\"Random forest\\\", RandomForestClassifier(random_state=1)))\\nmodels.append((\\\"GBM\\\", GradientBoostingClassifier(random_state=1)))\\nmodels.append((\\\"Adaboost\\\", AdaBoostClassifier(random_state=1)))\\nmodels.append((\\\"Xgboost\\\", XGBClassifier(random_state=1, eval_metric=\\\"logloss\\\")))\\n\\nresults1 = []  # Empty list to store all model's CV scores\\nnames = []  # Empty list to store name of the models\\n\\n\\n# loop through all models to get the mean cross validated score\\nprint(\\\"\\\\n\\\" \\\"Cross-Validation performance on training dataset:\\\" \\\"\\\\n\\\")\\n\\nfor name, model in models:\\n    kfold = StratifiedKFold(\\n        n_splits=5, shuffle=True, random_state=1\\n    )  # Setting number of splits equal to 5\\n    cv_result = cross_val_score(\\n        estimator=model, X=X_train_over, y=y_train_over, scoring=scorer, cv=kfold\\n    )\\n    results1.append(cv_result)\\n    names.append(name)\\n    print(\\\"{}: {}\\\".format(name, cv_result.mean()))\\n\\nprint(\\\"\\\\n\\\" \\\"Validation Performance:\\\" \\\"\\\\n\\\")\\n\\nfor name, model in models:\\n    model.fit(X_train_over, y_train_over)\\n    scores = recall_score(y_val, model.predict(X_val))\\n    print(\\\"{}: {}\\\".format(name, scores))\";\n",
       "                var nbb_formatted_code = \"models = []  # Empty list to store all the models\\n\\n# Appending models into the list\\nmodels.append((\\\"dtree\\\", DecisionTreeClassifier(random_state=1)))\\nmodels.append((\\\"Logistic regression\\\", LogisticRegression(random_state=1)))\\nmodels.append((\\\"Bagging\\\", BaggingClassifier(random_state=1)))\\nmodels.append((\\\"Random forest\\\", RandomForestClassifier(random_state=1)))\\nmodels.append((\\\"GBM\\\", GradientBoostingClassifier(random_state=1)))\\nmodels.append((\\\"Adaboost\\\", AdaBoostClassifier(random_state=1)))\\nmodels.append((\\\"Xgboost\\\", XGBClassifier(random_state=1, eval_metric=\\\"logloss\\\")))\\n\\nresults1 = []  # Empty list to store all model's CV scores\\nnames = []  # Empty list to store name of the models\\n\\n\\n# loop through all models to get the mean cross validated score\\nprint(\\\"\\\\n\\\" \\\"Cross-Validation performance on training dataset:\\\" \\\"\\\\n\\\")\\n\\nfor name, model in models:\\n    kfold = StratifiedKFold(\\n        n_splits=5, shuffle=True, random_state=1\\n    )  # Setting number of splits equal to 5\\n    cv_result = cross_val_score(\\n        estimator=model, X=X_train_over, y=y_train_over, scoring=scorer, cv=kfold\\n    )\\n    results1.append(cv_result)\\n    names.append(name)\\n    print(\\\"{}: {}\\\".format(name, cv_result.mean()))\\n\\nprint(\\\"\\\\n\\\" \\\"Validation Performance:\\\" \\\"\\\\n\\\")\\n\\nfor name, model in models:\\n    model.fit(X_train_over, y_train_over)\\n    scores = recall_score(y_val, model.predict(X_val))\\n    print(\\\"{}: {}\\\".format(name, scores))\";\n",
       "                var nbb_cells = Jupyter.notebook.get_cells();\n",
       "                for (var i = 0; i < nbb_cells.length; ++i) {\n",
       "                    if (nbb_cells[i].input_prompt_number == nbb_cell_id) {\n",
       "                        if (nbb_cells[i].get_text() == nbb_unformatted_code) {\n",
       "                             nbb_cells[i].set_text(nbb_formatted_code);\n",
       "                        }\n",
       "                        break;\n",
       "                    }\n",
       "                }\n",
       "            }, 500);\n",
       "            "
      ],
      "text/plain": [
       "<IPython.core.display.Javascript object>"
      ]
     },
     "metadata": {},
     "output_type": "display_data"
    }
   ],
   "source": [
    "models = []  # Empty list to store all the models\n",
    "\n",
    "# Appending models into the list\n",
    "models.append((\"dtree\", DecisionTreeClassifier(random_state=1)))\n",
    "models.append((\"Logistic regression\", LogisticRegression(random_state=1)))\n",
    "models.append((\"Bagging\", BaggingClassifier(random_state=1)))\n",
    "models.append((\"Random forest\", RandomForestClassifier(random_state=1)))\n",
    "models.append((\"GBM\", GradientBoostingClassifier(random_state=1)))\n",
    "models.append((\"Adaboost\", AdaBoostClassifier(random_state=1)))\n",
    "models.append((\"Xgboost\", XGBClassifier(random_state=1, eval_metric=\"logloss\")))\n",
    "\n",
    "results1 = []  # Empty list to store all model's CV scores\n",
    "names = []  # Empty list to store name of the models\n",
    "\n",
    "\n",
    "# loop through all models to get the mean cross validated score\n",
    "print(\"\\n\" \"Cross-Validation performance on training dataset:\" \"\\n\")\n",
    "\n",
    "for name, model in models:\n",
    "    kfold = StratifiedKFold(\n",
    "        n_splits=5, shuffle=True, random_state=1\n",
    "    )  # Setting number of splits equal to 5\n",
    "    cv_result = cross_val_score(\n",
    "        estimator=model, X=X_train_over, y=y_train_over, scoring=scorer, cv=kfold\n",
    "    )\n",
    "    results1.append(cv_result)\n",
    "    names.append(name)\n",
    "    print(\"{}: {}\".format(name, cv_result.mean()))\n",
    "\n",
    "print(\"\\n\" \"Validation Performance:\" \"\\n\")\n",
    "\n",
    "for name, model in models:\n",
    "    model.fit(X_train_over, y_train_over)\n",
    "    scores = recall_score(y_val, model.predict(X_val))\n",
    "    print(\"{}: {}\".format(name, scores))"
   ]
  },
  {
   "cell_type": "code",
   "execution_count": 31,
   "metadata": {},
   "outputs": [
    {
     "data": {
      "image/png": "[encoded data removed]",
      "text/plain": [
       "<Figure size 720x504 with 1 Axes>"
      ]
     },
     "metadata": {
      "needs_background": "light"
     },
     "output_type": "display_data"
    },
    {
     "data": {
      "application/javascript": [
       "\n",
       "            setTimeout(function() {\n",
       "                var nbb_cell_id = 31;\n",
       "                var nbb_unformatted_code = \"# Plotting boxplots for CV scores of all models defined above\\nfig = plt.figure(figsize=(10, 7))\\n\\nfig.suptitle(\\\"Algorithm Comparison\\\")\\nax = fig.add_subplot(111)\\n\\nplt.boxplot(results1)\\nax.set_xticklabels(names)\\n\\nplt.show()\";\n",
       "                var nbb_formatted_code = \"# Plotting boxplots for CV scores of all models defined above\\nfig = plt.figure(figsize=(10, 7))\\n\\nfig.suptitle(\\\"Algorithm Comparison\\\")\\nax = fig.add_subplot(111)\\n\\nplt.boxplot(results1)\\nax.set_xticklabels(names)\\n\\nplt.show()\";\n",
       "                var nbb_cells = Jupyter.notebook.get_cells();\n",
       "                for (var i = 0; i < nbb_cells.length; ++i) {\n",
       "                    if (nbb_cells[i].input_prompt_number == nbb_cell_id) {\n",
       "                        if (nbb_cells[i].get_text() == nbb_unformatted_code) {\n",
       "                             nbb_cells[i].set_text(nbb_formatted_code);\n",
       "                        }\n",
       "                        break;\n",
       "                    }\n",
       "                }\n",
       "            }, 500);\n",
       "            "
      ],
      "text/plain": [
       "<IPython.core.display.Javascript object>"
      ]
     },
     "metadata": {},
     "output_type": "display_data"
    }
   ],
   "source": [
    "# Plotting boxplots for CV scores of all models defined above\n",
    "fig = plt.figure(figsize=(10, 7))\n",
    "\n",
    "fig.suptitle(\"Algorithm Comparison\")\n",
    "ax = fig.add_subplot(111)\n",
    "\n",
    "plt.boxplot(results1)\n",
    "ax.set_xticklabels(names)\n",
    "\n",
    "plt.show()"
   ]
  },
  {
   "cell_type": "markdown",
   "metadata": {},
   "source": [
    "- From the chart we will pick 4 models that performed well for further hyperparameter tuning, this is the same in the original data performance: Decision Tree, Bagging, Random  Forest and XGBoost"
   ]
  },
  {
   "cell_type": "markdown",
   "metadata": {
    "id": "1aimb6bn4jat"
   },
   "source": [
    "### Model Building with Undersampled data"
   ]
  },
  {
   "cell_type": "code",
   "execution_count": 32,
   "metadata": {
    "id": "DhxfTkvu4jat"
   },
   "outputs": [
    {
     "name": "stdout",
     "output_type": "stream",
     "text": [
      "Before UnderSampling, counts of label '1': 832\n",
      "Before UnderSampling, counts of label '0': 14168 \n",
      "\n",
      "After UnderSampling, counts of label '1': 832\n",
      "After UnderSampling, counts of label '0': 832 \n",
      "\n",
      "After UnderSampling, the shape of train_X: (1664, 40)\n",
      "After UnderSampling, the shape of train_y: (1664,) \n",
      "\n"
     ]
    },
    {
     "data": {
      "application/javascript": [
       "\n",
       "            setTimeout(function() {\n",
       "                var nbb_cell_id = 32;\n",
       "                var nbb_unformatted_code = \"print(\\\"Before UnderSampling, counts of label '1': {}\\\".format(sum(y_train == 1)))\\nprint(\\\"Before UnderSampling, counts of label '0': {} \\\\n\\\".format(sum(y_train == 0)))\\n\\n# Random undersampler for under sampling the data\\nrus = RandomUnderSampler(random_state=1, sampling_strategy=1)\\nX_train_un, y_train_un = rus.fit_resample(X_train, y_train)\\n\\n\\nprint(\\\"After UnderSampling, counts of label '1': {}\\\".format(sum(y_train_un == 1)))\\nprint(\\\"After UnderSampling, counts of label '0': {} \\\\n\\\".format(sum(y_train_un == 0)))\\n\\n\\nprint(\\\"After UnderSampling, the shape of train_X: {}\\\".format(X_train_un.shape))\\nprint(\\\"After UnderSampling, the shape of train_y: {} \\\\n\\\".format(y_train_un.shape))\";\n",
       "                var nbb_formatted_code = \"print(\\\"Before UnderSampling, counts of label '1': {}\\\".format(sum(y_train == 1)))\\nprint(\\\"Before UnderSampling, counts of label '0': {} \\\\n\\\".format(sum(y_train == 0)))\\n\\n# Random undersampler for under sampling the data\\nrus = RandomUnderSampler(random_state=1, sampling_strategy=1)\\nX_train_un, y_train_un = rus.fit_resample(X_train, y_train)\\n\\n\\nprint(\\\"After UnderSampling, counts of label '1': {}\\\".format(sum(y_train_un == 1)))\\nprint(\\\"After UnderSampling, counts of label '0': {} \\\\n\\\".format(sum(y_train_un == 0)))\\n\\n\\nprint(\\\"After UnderSampling, the shape of train_X: {}\\\".format(X_train_un.shape))\\nprint(\\\"After UnderSampling, the shape of train_y: {} \\\\n\\\".format(y_train_un.shape))\";\n",
       "                var nbb_cells = Jupyter.notebook.get_cells();\n",
       "                for (var i = 0; i < nbb_cells.length; ++i) {\n",
       "                    if (nbb_cells[i].input_prompt_number == nbb_cell_id) {\n",
       "                        if (nbb_cells[i].get_text() == nbb_unformatted_code) {\n",
       "                             nbb_cells[i].set_text(nbb_formatted_code);\n",
       "                        }\n",
       "                        break;\n",
       "                    }\n",
       "                }\n",
       "            }, 500);\n",
       "            "
      ],
      "text/plain": [
       "<IPython.core.display.Javascript object>"
      ]
     },
     "metadata": {},
     "output_type": "display_data"
    }
   ],
   "source": [
    "print(\"Before UnderSampling, counts of label '1': {}\".format(sum(y_train == 1)))\n",
    "print(\"Before UnderSampling, counts of label '0': {} \\n\".format(sum(y_train == 0)))\n",
    "\n",
    "# Random undersampler for under sampling the data\n",
    "rus = RandomUnderSampler(random_state=1, sampling_strategy=1)\n",
    "X_train_un, y_train_un = rus.fit_resample(X_train, y_train)\n",
    "\n",
    "\n",
    "print(\"After UnderSampling, counts of label '1': {}\".format(sum(y_train_un == 1)))\n",
    "print(\"After UnderSampling, counts of label '0': {} \\n\".format(sum(y_train_un == 0)))\n",
    "\n",
    "\n",
    "print(\"After UnderSampling, the shape of train_X: {}\".format(X_train_un.shape))\n",
    "print(\"After UnderSampling, the shape of train_y: {} \\n\".format(y_train_un.shape))"
   ]
  },
  {
   "cell_type": "code",
   "execution_count": 33,
   "metadata": {
    "id": "jROP_DVF4jau"
   },
   "outputs": [
    {
     "name": "stdout",
     "output_type": "stream",
     "text": [
      "\n",
      "Cross-Validation performance on training dataset:\n",
      "\n",
      "dtree: 0.8617776495202367\n",
      "Logistic regression: 0.8726138085275232\n",
      "Bagging: 0.8641945025611427\n",
      "Random forest: 0.9038669648654498\n",
      "GBM: 0.8978572974532861\n",
      "Adaboost: 0.8666113556020489\n",
      "Xgboost: 0.9074742082100858\n",
      "\n",
      "Validation Performance:\n",
      "\n",
      "dtree: 0.841726618705036\n",
      "Logistic regression: 0.8525179856115108\n",
      "Bagging: 0.8705035971223022\n",
      "Random forest: 0.8920863309352518\n",
      "GBM: 0.8884892086330936\n",
      "Adaboost: 0.8489208633093526\n",
      "Xgboost: 0.9028776978417267\n"
     ]
    },
    {
     "data": {
      "application/javascript": [
       "\n",
       "            setTimeout(function() {\n",
       "                var nbb_cell_id = 33;\n",
       "                var nbb_unformatted_code = \"models = []  # Empty list to store all the models\\n\\n# Appending models into the list\\nmodels.append((\\\"dtree\\\", DecisionTreeClassifier(random_state=1)))\\nmodels.append((\\\"Logistic regression\\\", LogisticRegression(random_state=1)))\\nmodels.append((\\\"Bagging\\\", BaggingClassifier(random_state=1)))\\nmodels.append((\\\"Random forest\\\", RandomForestClassifier(random_state=1)))\\nmodels.append((\\\"GBM\\\", GradientBoostingClassifier(random_state=1)))\\nmodels.append((\\\"Adaboost\\\", AdaBoostClassifier(random_state=1)))\\nmodels.append((\\\"Xgboost\\\", XGBClassifier(random_state=1, eval_metric=\\\"logloss\\\")))\\n\\nresults1 = []  # Empty list to store all model's CV scores\\nnames = []  # Empty list to store name of the models\\n\\n\\n# loop through all models to get the mean cross validated score\\nprint(\\\"\\\\n\\\" \\\"Cross-Validation performance on training dataset:\\\" \\\"\\\\n\\\")\\n\\nfor name, model in models:\\n    kfold = StratifiedKFold(\\n        n_splits=5, shuffle=True, random_state=1\\n    )  # Setting number of splits equal to 5\\n    cv_result = cross_val_score(\\n        estimator=model, X=X_train_un, y=y_train_un, scoring=scorer, cv=kfold\\n    )\\n    results1.append(cv_result)\\n    names.append(name)\\n    print(\\\"{}: {}\\\".format(name, cv_result.mean()))\\n\\nprint(\\\"\\\\n\\\" \\\"Validation Performance:\\\" \\\"\\\\n\\\")\\n\\nfor name, model in models:\\n    model.fit(X_train_un, y_train_un)\\n    scores = recall_score(y_val, model.predict(X_val))\\n    print(\\\"{}: {}\\\".format(name, scores))\";\n",
       "                var nbb_formatted_code = \"models = []  # Empty list to store all the models\\n\\n# Appending models into the list\\nmodels.append((\\\"dtree\\\", DecisionTreeClassifier(random_state=1)))\\nmodels.append((\\\"Logistic regression\\\", LogisticRegression(random_state=1)))\\nmodels.append((\\\"Bagging\\\", BaggingClassifier(random_state=1)))\\nmodels.append((\\\"Random forest\\\", RandomForestClassifier(random_state=1)))\\nmodels.append((\\\"GBM\\\", GradientBoostingClassifier(random_state=1)))\\nmodels.append((\\\"Adaboost\\\", AdaBoostClassifier(random_state=1)))\\nmodels.append((\\\"Xgboost\\\", XGBClassifier(random_state=1, eval_metric=\\\"logloss\\\")))\\n\\nresults1 = []  # Empty list to store all model's CV scores\\nnames = []  # Empty list to store name of the models\\n\\n\\n# loop through all models to get the mean cross validated score\\nprint(\\\"\\\\n\\\" \\\"Cross-Validation performance on training dataset:\\\" \\\"\\\\n\\\")\\n\\nfor name, model in models:\\n    kfold = StratifiedKFold(\\n        n_splits=5, shuffle=True, random_state=1\\n    )  # Setting number of splits equal to 5\\n    cv_result = cross_val_score(\\n        estimator=model, X=X_train_un, y=y_train_un, scoring=scorer, cv=kfold\\n    )\\n    results1.append(cv_result)\\n    names.append(name)\\n    print(\\\"{}: {}\\\".format(name, cv_result.mean()))\\n\\nprint(\\\"\\\\n\\\" \\\"Validation Performance:\\\" \\\"\\\\n\\\")\\n\\nfor name, model in models:\\n    model.fit(X_train_un, y_train_un)\\n    scores = recall_score(y_val, model.predict(X_val))\\n    print(\\\"{}: {}\\\".format(name, scores))\";\n",
       "                var nbb_cells = Jupyter.notebook.get_cells();\n",
       "                for (var i = 0; i < nbb_cells.length; ++i) {\n",
       "                    if (nbb_cells[i].input_prompt_number == nbb_cell_id) {\n",
       "                        if (nbb_cells[i].get_text() == nbb_unformatted_code) {\n",
       "                             nbb_cells[i].set_text(nbb_formatted_code);\n",
       "                        }\n",
       "                        break;\n",
       "                    }\n",
       "                }\n",
       "            }, 500);\n",
       "            "
      ],
      "text/plain": [
       "<IPython.core.display.Javascript object>"
      ]
     },
     "metadata": {},
     "output_type": "display_data"
    }
   ],
   "source": [
    "models = []  # Empty list to store all the models\n",
    "\n",
    "# Appending models into the list\n",
    "models.append((\"dtree\", DecisionTreeClassifier(random_state=1)))\n",
    "models.append((\"Logistic regression\", LogisticRegression(random_state=1)))\n",
    "models.append((\"Bagging\", BaggingClassifier(random_state=1)))\n",
    "models.append((\"Random forest\", RandomForestClassifier(random_state=1)))\n",
    "models.append((\"GBM\", GradientBoostingClassifier(random_state=1)))\n",
    "models.append((\"Adaboost\", AdaBoostClassifier(random_state=1)))\n",
    "models.append((\"Xgboost\", XGBClassifier(random_state=1, eval_metric=\"logloss\")))\n",
    "\n",
    "results1 = []  # Empty list to store all model's CV scores\n",
    "names = []  # Empty list to store name of the models\n",
    "\n",
    "\n",
    "# loop through all models to get the mean cross validated score\n",
    "print(\"\\n\" \"Cross-Validation performance on training dataset:\" \"\\n\")\n",
    "\n",
    "for name, model in models:\n",
    "    kfold = StratifiedKFold(\n",
    "        n_splits=5, shuffle=True, random_state=1\n",
    "    )  # Setting number of splits equal to 5\n",
    "    cv_result = cross_val_score(\n",
    "        estimator=model, X=X_train_un, y=y_train_un, scoring=scorer, cv=kfold\n",
    "    )\n",
    "    results1.append(cv_result)\n",
    "    names.append(name)\n",
    "    print(\"{}: {}\".format(name, cv_result.mean()))\n",
    "\n",
    "print(\"\\n\" \"Validation Performance:\" \"\\n\")\n",
    "\n",
    "for name, model in models:\n",
    "    model.fit(X_train_un, y_train_un)\n",
    "    scores = recall_score(y_val, model.predict(X_val))\n",
    "    print(\"{}: {}\".format(name, scores))"
   ]
  },
  {
   "cell_type": "code",
   "execution_count": 34,
   "metadata": {},
   "outputs": [
    {
     "data": {
      "image/png": "[encoded data removed]",
      "text/plain": [
       "<Figure size 720x504 with 1 Axes>"
      ]
     },
     "metadata": {
      "needs_background": "light"
     },
     "output_type": "display_data"
    },
    {
     "data": {
      "application/javascript": [
       "\n",
       "            setTimeout(function() {\n",
       "                var nbb_cell_id = 34;\n",
       "                var nbb_unformatted_code = \"# Plotting boxplots for CV scores of all models defined above\\nfig = plt.figure(figsize=(10, 7))\\n\\nfig.suptitle(\\\"Algorithm Comparison\\\")\\nax = fig.add_subplot(111)\\n\\nplt.boxplot(results1)\\nax.set_xticklabels(names)\\n\\nplt.show()\";\n",
       "                var nbb_formatted_code = \"# Plotting boxplots for CV scores of all models defined above\\nfig = plt.figure(figsize=(10, 7))\\n\\nfig.suptitle(\\\"Algorithm Comparison\\\")\\nax = fig.add_subplot(111)\\n\\nplt.boxplot(results1)\\nax.set_xticklabels(names)\\n\\nplt.show()\";\n",
       "                var nbb_cells = Jupyter.notebook.get_cells();\n",
       "                for (var i = 0; i < nbb_cells.length; ++i) {\n",
       "                    if (nbb_cells[i].input_prompt_number == nbb_cell_id) {\n",
       "                        if (nbb_cells[i].get_text() == nbb_unformatted_code) {\n",
       "                             nbb_cells[i].set_text(nbb_formatted_code);\n",
       "                        }\n",
       "                        break;\n",
       "                    }\n",
       "                }\n",
       "            }, 500);\n",
       "            "
      ],
      "text/plain": [
       "<IPython.core.display.Javascript object>"
      ]
     },
     "metadata": {},
     "output_type": "display_data"
    }
   ],
   "source": [
    "# Plotting boxplots for CV scores of all models defined above\n",
    "fig = plt.figure(figsize=(10, 7))\n",
    "\n",
    "fig.suptitle(\"Algorithm Comparison\")\n",
    "ax = fig.add_subplot(111)\n",
    "\n",
    "plt.boxplot(results1)\n",
    "ax.set_xticklabels(names)\n",
    "\n",
    "plt.show()"
   ]
  },
  {
   "cell_type": "markdown",
   "metadata": {},
   "source": [
    "- To maintain the same best models from original and oversampling we will use Decision Tree, Bagging, Random  Forest and XGBoost for Hyperparameter tuning"
   ]
  },
  {
   "cell_type": "markdown",
   "metadata": {
    "id": "yZGY1eL84jau"
   },
   "source": [
    "## HyperparameterTuning "
   ]
  },
  {
   "cell_type": "markdown",
   "metadata": {
    "id": "rxM3jQuK_Pqc"
   },
   "source": [
    "### Sample Parameter Grids"
   ]
  },
  {
   "cell_type": "markdown",
   "metadata": {
    "id": "czq7BZ5b4jau"
   },
   "source": [
    "**Hyperparameter tuning can take a long time to run, so to avoid that time complexity - you can use the following grids, wherever required.**\n",
    "\n",
    "- For Gradient Boosting:\n",
    "\n",
    "param_grid = {\n",
    "    \"n_estimators\": np.arange(100,150,25),\n",
    "    \"learning_rate\": [0.2, 0.05, 1],\n",
    "    \"subsample\":[0.5,0.7], \n",
    "    \"max_features\":[0.5,0.7]\n",
    "}\n",
    "\n",
    "- For Adaboost:\n",
    "\n",
    "param_grid = {\n",
    "    \"n_estimators\": [100, 150, 200],\n",
    "    \"learning_rate\": [0.2, 0.05],\n",
    "    \"base_estimator\": [DecisionTreeClassifier(max_depth=1, random_state=1), DecisionTreeClassifier(max_depth=2, random_state=1), DecisionTreeClassifier(max_depth=3, random_state=1),\n",
    "    ]\n",
    "}\n",
    "\n",
    "- For Bagging Classifier:\n",
    "\n",
    "param_grid = {\n",
    "    'max_samples': [0.8,0.9,1], \n",
    "    'max_features': [0.7,0.8,0.9],\n",
    "    'n_estimators' : [30,50,70],\n",
    "}\n",
    "\n",
    "- For Random Forest:\n",
    "\n",
    "param_grid = {\n",
    "    \"n_estimators\": [200,250,300],\n",
    "    \"min_samples_leaf\": np.arange(1, 4),\n",
    "    \"max_features\": [np.arange(0.3, 0.6, 0.1),'sqrt'],\n",
    "    \"max_samples\": np.arange(0.4, 0.7, 0.1)\n",
    "}\n",
    "\n",
    "- For Decision Trees:\n",
    "\n",
    "param_grid = {\n",
    "    'max_depth': np.arange(2,6), \n",
    "    'min_samples_leaf': [1, 4, 7],\n",
    "    'max_leaf_nodes' : [10, 15],\n",
    "    'min_impurity_decrease': [0.0001,0.001]\n",
    "}\n",
    "\n",
    "- For Logistic Regression:\n",
    "\n",
    "param_grid = {'C': np.arange(0.1,1.1,0.1)}\n",
    "\n",
    "- For XGBoost:\n",
    "\n",
    "param_grid={\n",
    "    'n_estimators': [150, 200, 250],\n",
    "    'scale_pos_weight': [5,10],\n",
    "    'learning_rate': [0.1,0.2],\n",
    "    'gamma': [0,3,5],\n",
    "    'subsample': [0.8,0.9]\n",
    "}"
   ]
  },
  {
   "cell_type": "markdown",
   "metadata": {
    "id": "GMReRXdH_YUd"
   },
   "source": [
    "### Decision tree with original data"
   ]
  },
  {
   "cell_type": "code",
   "execution_count": 35,
   "metadata": {
    "id": "o9kks1hG_Xhy"
   },
   "outputs": [
    {
     "name": "stdout",
     "output_type": "stream",
     "text": [
      "Best parameters are {'min_samples_leaf': 7, 'min_impurity_decrease': 0.0001, 'max_leaf_nodes': 15, 'max_depth': 5} with CV score=0.5684366207344347:\n"
     ]
    },
    {
     "data": {
      "application/javascript": [
       "\n",
       "            setTimeout(function() {\n",
       "                var nbb_cell_id = 35;\n",
       "                var nbb_unformatted_code = \"# defining model\\nModel = DecisionTreeClassifier(random_state=1)\\n\\n# Parameter grid to pass in RandomSearchCV\\nparam_grid = {\\n    \\\"max_depth\\\": np.arange(2, 6),\\n    \\\"min_samples_leaf\\\": [1, 4, 7],\\n    \\\"max_leaf_nodes\\\": [10, 15],\\n    \\\"min_impurity_decrease\\\": [0.0001, 0.001],\\n}\\n\\n# Calling RandomizedSearchCV\\nrandomized_cv = RandomizedSearchCV(\\n    estimator=Model,\\n    param_distributions=param_grid,\\n    n_iter=10,\\n    n_jobs=-1,\\n    scoring=scorer,\\n    cv=5,\\n    random_state=1,\\n)\\n\\n# Fitting parameters in RandomizedSearchCV\\nrandomized_cv.fit(X_train, y_train)\\n\\nprint(\\n    \\\"Best parameters are {} with CV score={}:\\\".format(\\n        randomized_cv.best_params_, randomized_cv.best_score_\\n    )\\n)\";\n",
       "                var nbb_formatted_code = \"# defining model\\nModel = DecisionTreeClassifier(random_state=1)\\n\\n# Parameter grid to pass in RandomSearchCV\\nparam_grid = {\\n    \\\"max_depth\\\": np.arange(2, 6),\\n    \\\"min_samples_leaf\\\": [1, 4, 7],\\n    \\\"max_leaf_nodes\\\": [10, 15],\\n    \\\"min_impurity_decrease\\\": [0.0001, 0.001],\\n}\\n\\n# Calling RandomizedSearchCV\\nrandomized_cv = RandomizedSearchCV(\\n    estimator=Model,\\n    param_distributions=param_grid,\\n    n_iter=10,\\n    n_jobs=-1,\\n    scoring=scorer,\\n    cv=5,\\n    random_state=1,\\n)\\n\\n# Fitting parameters in RandomizedSearchCV\\nrandomized_cv.fit(X_train, y_train)\\n\\nprint(\\n    \\\"Best parameters are {} with CV score={}:\\\".format(\\n        randomized_cv.best_params_, randomized_cv.best_score_\\n    )\\n)\";\n",
       "                var nbb_cells = Jupyter.notebook.get_cells();\n",
       "                for (var i = 0; i < nbb_cells.length; ++i) {\n",
       "                    if (nbb_cells[i].input_prompt_number == nbb_cell_id) {\n",
       "                        if (nbb_cells[i].get_text() == nbb_unformatted_code) {\n",
       "                             nbb_cells[i].set_text(nbb_formatted_code);\n",
       "                        }\n",
       "                        break;\n",
       "                    }\n",
       "                }\n",
       "            }, 500);\n",
       "            "
      ],
      "text/plain": [
       "<IPython.core.display.Javascript object>"
      ]
     },
     "metadata": {},
     "output_type": "display_data"
    }
   ],
   "source": [
    "# defining model\n",
    "Model = DecisionTreeClassifier(random_state=1)\n",
    "\n",
    "# Parameter grid to pass in RandomSearchCV\n",
    "param_grid = {\n",
    "    \"max_depth\": np.arange(2, 6),\n",
    "    \"min_samples_leaf\": [1, 4, 7],\n",
    "    \"max_leaf_nodes\": [10, 15],\n",
    "    \"min_impurity_decrease\": [0.0001, 0.001],\n",
    "}\n",
    "\n",
    "# Calling RandomizedSearchCV\n",
    "randomized_cv = RandomizedSearchCV(\n",
    "    estimator=Model,\n",
    "    param_distributions=param_grid,\n",
    "    n_iter=10,\n",
    "    n_jobs=-1,\n",
    "    scoring=scorer,\n",
    "    cv=5,\n",
    "    random_state=1,\n",
    ")\n",
    "\n",
    "# Fitting parameters in RandomizedSearchCV\n",
    "randomized_cv.fit(X_train, y_train)\n",
    "\n",
    "print(\n",
    "    \"Best parameters are {} with CV score={}:\".format(\n",
    "        randomized_cv.best_params_, randomized_cv.best_score_\n",
    "    )\n",
    ")"
   ]
  },
  {
   "cell_type": "code",
   "execution_count": 36,
   "metadata": {},
   "outputs": [
    {
     "data": {
      "text/html": [
       "<style>#sk-container-id-1 {color: black;background-color: white;}#sk-container-id-1 pre{padding: 0;}#sk-container-id-1 div.sk-toggleable {background-color: white;}#sk-container-id-1 label.sk-toggleable__label {cursor: pointer;display: block;width: 100%;margin-bottom: 0;padding: 0.3em;box-sizing: border-box;text-align: center;}#sk-container-id-1 label.sk-toggleable__label-arrow:before {content: \"▸\";float: left;margin-right: 0.25em;color: #696969;}#sk-container-id-1 label.sk-toggleable__label-arrow:hover:before {color: black;}#sk-container-id-1 div.sk-estimator:hover label.sk-toggleable__label-arrow:before {color: black;}#sk-container-id-1 div.sk-toggleable__content {max-height: 0;max-width: 0;overflow: hidden;text-align: left;background-color: #f0f8ff;}#sk-container-id-1 div.sk-toggleable__content pre {margin: 0.2em;color: black;border-radius: 0.25em;background-color: #f0f8ff;}#sk-container-id-1 input.sk-toggleable__control:checked~div.sk-toggleable__content {max-height: 200px;max-width: 100%;overflow: auto;}#sk-container-id-1 input.sk-toggleable__control:checked~label.sk-toggleable__label-arrow:before {content: \"▾\";}#sk-container-id-1 div.sk-estimator input.sk-toggleable__control:checked~label.sk-toggleable__label {background-color: #d4ebff;}#sk-container-id-1 div.sk-label input.sk-toggleable__control:checked~label.sk-toggleable__label {background-color: #d4ebff;}#sk-container-id-1 input.sk-hidden--visually {border: 0;clip: rect(1px 1px 1px 1px);clip: rect(1px, 1px, 1px, 1px);height: 1px;margin: -1px;overflow: hidden;padding: 0;position: absolute;width: 1px;}#sk-container-id-1 div.sk-estimator {font-family: monospace;background-color: #f0f8ff;border: 1px dotted black;border-radius: 0.25em;box-sizing: border-box;margin-bottom: 0.5em;}#sk-container-id-1 div.sk-estimator:hover {background-color: #d4ebff;}#sk-container-id-1 div.sk-parallel-item::after {content: \"\";width: 100%;border-bottom: 1px solid gray;flex-grow: 1;}#sk-container-id-1 div.sk-label:hover label.sk-toggleable__label {background-color: #d4ebff;}#sk-container-id-1 div.sk-serial::before {content: \"\";position: absolute;border-left: 1px solid gray;box-sizing: border-box;top: 0;bottom: 0;left: 50%;z-index: 0;}#sk-container-id-1 div.sk-serial {display: flex;flex-direction: column;align-items: center;background-color: white;padding-right: 0.2em;padding-left: 0.2em;position: relative;}#sk-container-id-1 div.sk-item {position: relative;z-index: 1;}#sk-container-id-1 div.sk-parallel {display: flex;align-items: stretch;justify-content: center;background-color: white;position: relative;}#sk-container-id-1 div.sk-item::before, #sk-container-id-1 div.sk-parallel-item::before {content: \"\";position: absolute;border-left: 1px solid gray;box-sizing: border-box;top: 0;bottom: 0;left: 50%;z-index: -1;}#sk-container-id-1 div.sk-parallel-item {display: flex;flex-direction: column;z-index: 1;position: relative;background-color: white;}#sk-container-id-1 div.sk-parallel-item:first-child::after {align-self: flex-end;width: 50%;}#sk-container-id-1 div.sk-parallel-item:last-child::after {align-self: flex-start;width: 50%;}#sk-container-id-1 div.sk-parallel-item:only-child::after {width: 0;}#sk-container-id-1 div.sk-dashed-wrapped {border: 1px dashed gray;margin: 0 0.4em 0.5em 0.4em;box-sizing: border-box;padding-bottom: 0.4em;background-color: white;}#sk-container-id-1 div.sk-label label {font-family: monospace;font-weight: bold;display: inline-block;line-height: 1.2em;}#sk-container-id-1 div.sk-label-container {text-align: center;}#sk-container-id-1 div.sk-container {/* jupyter's `normalize.less` sets `[hidden] { display: none; }` but bootstrap.min.css set `[hidden] { display: none !important; }` so we also need the `!important` here to be able to override the default hidden behavior on the sphinx rendered scikit-learn.org. See: https://github.com/scikit-learn/scikit-learn/issues/21755 */display: inline-block !important;position: relative;}#sk-container-id-1 div.sk-text-repr-fallback {display: none;}</style><div id=\"sk-container-id-1\" class=\"sk-top-container\"><div class=\"sk-text-repr-fallback\"><pre>DecisionTreeClassifier(max_depth=5, max_leaf_nodes=15,\n",
       "                       min_impurity_decrease=0.0001, min_samples_leaf=7,\n",
       "                       random_state=1)</pre><b>In a Jupyter environment, please rerun this cell to show the HTML representation or trust the notebook. <br />On GitHub, the HTML representation is unable to render, please try loading this page with nbviewer.org.</b></div><div class=\"sk-container\" hidden><div class=\"sk-item\"><div class=\"sk-estimator sk-toggleable\"><input class=\"sk-toggleable__control sk-hidden--visually\" id=\"sk-estimator-id-1\" type=\"checkbox\" checked><label for=\"sk-estimator-id-1\" class=\"sk-toggleable__label sk-toggleable__label-arrow\">DecisionTreeClassifier</label><div class=\"sk-toggleable__content\"><pre>DecisionTreeClassifier(max_depth=5, max_leaf_nodes=15,\n",
       "                       min_impurity_decrease=0.0001, min_samples_leaf=7,\n",
       "                       random_state=1)</pre></div></div></div></div></div>"
      ],
      "text/plain": [
       "DecisionTreeClassifier(max_depth=5, max_leaf_nodes=15,\n",
       "                       min_impurity_decrease=0.0001, min_samples_leaf=7,\n",
       "                       random_state=1)"
      ]
     },
     "execution_count": 36,
     "metadata": {},
     "output_type": "execute_result"
    },
    {
     "data": {
      "application/javascript": [
       "\n",
       "            setTimeout(function() {\n",
       "                var nbb_cell_id = 36;\n",
       "                var nbb_unformatted_code = \"# building model with best parameters\\ndt_orig = DecisionTreeClassifier(\\n    random_state=1,\\n    max_depth=5,\\n    min_samples_leaf=7,\\n    max_leaf_nodes=15,\\n    min_impurity_decrease=0.0001,\\n)\\n\\n\\n# Fit the model on training data\\ndt_orig.fit(X_train, y_train)\";\n",
       "                var nbb_formatted_code = \"# building model with best parameters\\ndt_orig = DecisionTreeClassifier(\\n    random_state=1,\\n    max_depth=5,\\n    min_samples_leaf=7,\\n    max_leaf_nodes=15,\\n    min_impurity_decrease=0.0001,\\n)\\n\\n\\n# Fit the model on training data\\ndt_orig.fit(X_train, y_train)\";\n",
       "                var nbb_cells = Jupyter.notebook.get_cells();\n",
       "                for (var i = 0; i < nbb_cells.length; ++i) {\n",
       "                    if (nbb_cells[i].input_prompt_number == nbb_cell_id) {\n",
       "                        if (nbb_cells[i].get_text() == nbb_unformatted_code) {\n",
       "                             nbb_cells[i].set_text(nbb_formatted_code);\n",
       "                        }\n",
       "                        break;\n",
       "                    }\n",
       "                }\n",
       "            }, 500);\n",
       "            "
      ],
      "text/plain": [
       "<IPython.core.display.Javascript object>"
      ]
     },
     "metadata": {},
     "output_type": "display_data"
    }
   ],
   "source": [
    "# building model with best parameters\n",
    "dt_orig = DecisionTreeClassifier(\n",
    "    random_state=1,\n",
    "    max_depth=5,\n",
    "    min_samples_leaf=7,\n",
    "    max_leaf_nodes=15,\n",
    "    min_impurity_decrease=0.0001,\n",
    ")\n",
    "\n",
    "\n",
    "# Fit the model on training data\n",
    "dt_orig.fit(X_train, y_train)"
   ]
  },
  {
   "cell_type": "code",
   "execution_count": 37,
   "metadata": {},
   "outputs": [
    {
     "data": {
      "text/html": [
       "<div>\n",
       "<style scoped>\n",
       "    .dataframe tbody tr th:only-of-type {\n",
       "        vertical-align: middle;\n",
       "    }\n",
       "\n",
       "    .dataframe tbody tr th {\n",
       "        vertical-align: top;\n",
       "    }\n",
       "\n",
       "    .dataframe thead th {\n",
       "        text-align: right;\n",
       "    }\n",
       "</style>\n",
       "<table border=\"1\" class=\"dataframe\">\n",
       "  <thead>\n",
       "    <tr style=\"text-align: right;\">\n",
       "      <th></th>\n",
       "      <th>Accuracy</th>\n",
       "      <th>Recall</th>\n",
       "      <th>Precision</th>\n",
       "      <th>F1</th>\n",
       "    </tr>\n",
       "  </thead>\n",
       "  <tbody>\n",
       "    <tr>\n",
       "      <th>0</th>\n",
       "      <td>0.974</td>\n",
       "      <td>0.591</td>\n",
       "      <td>0.904</td>\n",
       "      <td>0.715</td>\n",
       "    </tr>\n",
       "  </tbody>\n",
       "</table>\n",
       "</div>"
      ],
      "text/plain": [
       "   Accuracy  Recall  Precision    F1\n",
       "0     0.974   0.591      0.904 0.715"
      ]
     },
     "execution_count": 37,
     "metadata": {},
     "output_type": "execute_result"
    },
    {
     "data": {
      "application/javascript": [
       "\n",
       "            setTimeout(function() {\n",
       "                var nbb_cell_id = 37;\n",
       "                var nbb_unformatted_code = \"dt_train_orig = model_performance_classification_sklearn(dt_orig, X_train, y_train)\\ndt_train_orig\";\n",
       "                var nbb_formatted_code = \"dt_train_orig = model_performance_classification_sklearn(dt_orig, X_train, y_train)\\ndt_train_orig\";\n",
       "                var nbb_cells = Jupyter.notebook.get_cells();\n",
       "                for (var i = 0; i < nbb_cells.length; ++i) {\n",
       "                    if (nbb_cells[i].input_prompt_number == nbb_cell_id) {\n",
       "                        if (nbb_cells[i].get_text() == nbb_unformatted_code) {\n",
       "                             nbb_cells[i].set_text(nbb_formatted_code);\n",
       "                        }\n",
       "                        break;\n",
       "                    }\n",
       "                }\n",
       "            }, 500);\n",
       "            "
      ],
      "text/plain": [
       "<IPython.core.display.Javascript object>"
      ]
     },
     "metadata": {},
     "output_type": "display_data"
    }
   ],
   "source": [
    "dt_train_orig = model_performance_classification_sklearn(dt_orig, X_train, y_train)\n",
    "dt_train_orig"
   ]
  },
  {
   "cell_type": "code",
   "execution_count": 38,
   "metadata": {},
   "outputs": [
    {
     "data": {
      "text/html": [
       "<div>\n",
       "<style scoped>\n",
       "    .dataframe tbody tr th:only-of-type {\n",
       "        vertical-align: middle;\n",
       "    }\n",
       "\n",
       "    .dataframe tbody tr th {\n",
       "        vertical-align: top;\n",
       "    }\n",
       "\n",
       "    .dataframe thead th {\n",
       "        text-align: right;\n",
       "    }\n",
       "</style>\n",
       "<table border=\"1\" class=\"dataframe\">\n",
       "  <thead>\n",
       "    <tr style=\"text-align: right;\">\n",
       "      <th></th>\n",
       "      <th>Accuracy</th>\n",
       "      <th>Recall</th>\n",
       "      <th>Precision</th>\n",
       "      <th>F1</th>\n",
       "    </tr>\n",
       "  </thead>\n",
       "  <tbody>\n",
       "    <tr>\n",
       "      <th>0</th>\n",
       "      <td>0.970</td>\n",
       "      <td>0.583</td>\n",
       "      <td>0.822</td>\n",
       "      <td>0.682</td>\n",
       "    </tr>\n",
       "  </tbody>\n",
       "</table>\n",
       "</div>"
      ],
      "text/plain": [
       "   Accuracy  Recall  Precision    F1\n",
       "0     0.970   0.583      0.822 0.682"
      ]
     },
     "execution_count": 38,
     "metadata": {},
     "output_type": "execute_result"
    },
    {
     "data": {
      "application/javascript": [
       "\n",
       "            setTimeout(function() {\n",
       "                var nbb_cell_id = 38;\n",
       "                var nbb_unformatted_code = \"dt_val_orig = model_performance_classification_sklearn(dt_orig, X_val, y_val)\\ndt_val_orig\";\n",
       "                var nbb_formatted_code = \"dt_val_orig = model_performance_classification_sklearn(dt_orig, X_val, y_val)\\ndt_val_orig\";\n",
       "                var nbb_cells = Jupyter.notebook.get_cells();\n",
       "                for (var i = 0; i < nbb_cells.length; ++i) {\n",
       "                    if (nbb_cells[i].input_prompt_number == nbb_cell_id) {\n",
       "                        if (nbb_cells[i].get_text() == nbb_unformatted_code) {\n",
       "                             nbb_cells[i].set_text(nbb_formatted_code);\n",
       "                        }\n",
       "                        break;\n",
       "                    }\n",
       "                }\n",
       "            }, 500);\n",
       "            "
      ],
      "text/plain": [
       "<IPython.core.display.Javascript object>"
      ]
     },
     "metadata": {},
     "output_type": "display_data"
    }
   ],
   "source": [
    "dt_val_orig = model_performance_classification_sklearn(dt_orig, X_val, y_val)\n",
    "dt_val_orig"
   ]
  },
  {
   "cell_type": "markdown",
   "metadata": {},
   "source": [
    "- the model is performing poorly on both train and validation dataset using Recall as the parameter to score performance of models"
   ]
  },
  {
   "cell_type": "markdown",
   "metadata": {
    "id": "chN8hbfThKyr"
   },
   "source": [
    "### Decision tree with oversampled data"
   ]
  },
  {
   "cell_type": "code",
   "execution_count": 39,
   "metadata": {
    "id": "tVZcJ0hv4jau"
   },
   "outputs": [
    {
     "name": "stdout",
     "output_type": "stream",
     "text": [
      "Best parameters are {'min_samples_leaf': 7, 'min_impurity_decrease': 0.001, 'max_leaf_nodes': 15, 'max_depth': 3} with CV score=0.9102913265648006:\n"
     ]
    },
    {
     "data": {
      "application/javascript": [
       "\n",
       "            setTimeout(function() {\n",
       "                var nbb_cell_id = 39;\n",
       "                var nbb_unformatted_code = \"# defining model\\nModel = DecisionTreeClassifier(random_state=1)\\n\\n# Parameter grid to pass in RandomSearchCV\\nparam_grid = {\\n    \\\"max_depth\\\": np.arange(2, 6),\\n    \\\"min_samples_leaf\\\": [1, 4, 7],\\n    \\\"max_leaf_nodes\\\": [10, 15],\\n    \\\"min_impurity_decrease\\\": [0.0001, 0.001],\\n}\\n\\n# Calling RandomizedSearchCV\\nrandomized_cv = RandomizedSearchCV(\\n    estimator=Model,\\n    param_distributions=param_grid,\\n    n_iter=10,\\n    n_jobs=-1,\\n    scoring=scorer,\\n    cv=5,\\n    random_state=1,\\n)\\n\\n# Fitting parameters in RandomizedSearchCV\\nrandomized_cv.fit(X_train_over, y_train_over)\\n\\nprint(\\n    \\\"Best parameters are {} with CV score={}:\\\".format(\\n        randomized_cv.best_params_, randomized_cv.best_score_\\n    )\\n)\";\n",
       "                var nbb_formatted_code = \"# defining model\\nModel = DecisionTreeClassifier(random_state=1)\\n\\n# Parameter grid to pass in RandomSearchCV\\nparam_grid = {\\n    \\\"max_depth\\\": np.arange(2, 6),\\n    \\\"min_samples_leaf\\\": [1, 4, 7],\\n    \\\"max_leaf_nodes\\\": [10, 15],\\n    \\\"min_impurity_decrease\\\": [0.0001, 0.001],\\n}\\n\\n# Calling RandomizedSearchCV\\nrandomized_cv = RandomizedSearchCV(\\n    estimator=Model,\\n    param_distributions=param_grid,\\n    n_iter=10,\\n    n_jobs=-1,\\n    scoring=scorer,\\n    cv=5,\\n    random_state=1,\\n)\\n\\n# Fitting parameters in RandomizedSearchCV\\nrandomized_cv.fit(X_train_over, y_train_over)\\n\\nprint(\\n    \\\"Best parameters are {} with CV score={}:\\\".format(\\n        randomized_cv.best_params_, randomized_cv.best_score_\\n    )\\n)\";\n",
       "                var nbb_cells = Jupyter.notebook.get_cells();\n",
       "                for (var i = 0; i < nbb_cells.length; ++i) {\n",
       "                    if (nbb_cells[i].input_prompt_number == nbb_cell_id) {\n",
       "                        if (nbb_cells[i].get_text() == nbb_unformatted_code) {\n",
       "                             nbb_cells[i].set_text(nbb_formatted_code);\n",
       "                        }\n",
       "                        break;\n",
       "                    }\n",
       "                }\n",
       "            }, 500);\n",
       "            "
      ],
      "text/plain": [
       "<IPython.core.display.Javascript object>"
      ]
     },
     "metadata": {},
     "output_type": "display_data"
    }
   ],
   "source": [
    "# defining model\n",
    "Model = DecisionTreeClassifier(random_state=1)\n",
    "\n",
    "# Parameter grid to pass in RandomSearchCV\n",
    "param_grid = {\n",
    "    \"max_depth\": np.arange(2, 6),\n",
    "    \"min_samples_leaf\": [1, 4, 7],\n",
    "    \"max_leaf_nodes\": [10, 15],\n",
    "    \"min_impurity_decrease\": [0.0001, 0.001],\n",
    "}\n",
    "\n",
    "# Calling RandomizedSearchCV\n",
    "randomized_cv = RandomizedSearchCV(\n",
    "    estimator=Model,\n",
    "    param_distributions=param_grid,\n",
    "    n_iter=10,\n",
    "    n_jobs=-1,\n",
    "    scoring=scorer,\n",
    "    cv=5,\n",
    "    random_state=1,\n",
    ")\n",
    "\n",
    "# Fitting parameters in RandomizedSearchCV\n",
    "randomized_cv.fit(X_train_over, y_train_over)\n",
    "\n",
    "print(\n",
    "    \"Best parameters are {} with CV score={}:\".format(\n",
    "        randomized_cv.best_params_, randomized_cv.best_score_\n",
    "    )\n",
    ")"
   ]
  },
  {
   "cell_type": "code",
   "execution_count": 40,
   "metadata": {},
   "outputs": [
    {
     "data": {
      "text/html": [
       "<style>#sk-container-id-2 {color: black;background-color: white;}#sk-container-id-2 pre{padding: 0;}#sk-container-id-2 div.sk-toggleable {background-color: white;}#sk-container-id-2 label.sk-toggleable__label {cursor: pointer;display: block;width: 100%;margin-bottom: 0;padding: 0.3em;box-sizing: border-box;text-align: center;}#sk-container-id-2 label.sk-toggleable__label-arrow:before {content: \"▸\";float: left;margin-right: 0.25em;color: #696969;}#sk-container-id-2 label.sk-toggleable__label-arrow:hover:before {color: black;}#sk-container-id-2 div.sk-estimator:hover label.sk-toggleable__label-arrow:before {color: black;}#sk-container-id-2 div.sk-toggleable__content {max-height: 0;max-width: 0;overflow: hidden;text-align: left;background-color: #f0f8ff;}#sk-container-id-2 div.sk-toggleable__content pre {margin: 0.2em;color: black;border-radius: 0.25em;background-color: #f0f8ff;}#sk-container-id-2 input.sk-toggleable__control:checked~div.sk-toggleable__content {max-height: 200px;max-width: 100%;overflow: auto;}#sk-container-id-2 input.sk-toggleable__control:checked~label.sk-toggleable__label-arrow:before {content: \"▾\";}#sk-container-id-2 div.sk-estimator input.sk-toggleable__control:checked~label.sk-toggleable__label {background-color: #d4ebff;}#sk-container-id-2 div.sk-label input.sk-toggleable__control:checked~label.sk-toggleable__label {background-color: #d4ebff;}#sk-container-id-2 input.sk-hidden--visually {border: 0;clip: rect(1px 1px 1px 1px);clip: rect(1px, 1px, 1px, 1px);height: 1px;margin: -1px;overflow: hidden;padding: 0;position: absolute;width: 1px;}#sk-container-id-2 div.sk-estimator {font-family: monospace;background-color: #f0f8ff;border: 1px dotted black;border-radius: 0.25em;box-sizing: border-box;margin-bottom: 0.5em;}#sk-container-id-2 div.sk-estimator:hover {background-color: #d4ebff;}#sk-container-id-2 div.sk-parallel-item::after {content: \"\";width: 100%;border-bottom: 1px solid gray;flex-grow: 1;}#sk-container-id-2 div.sk-label:hover label.sk-toggleable__label {background-color: #d4ebff;}#sk-container-id-2 div.sk-serial::before {content: \"\";position: absolute;border-left: 1px solid gray;box-sizing: border-box;top: 0;bottom: 0;left: 50%;z-index: 0;}#sk-container-id-2 div.sk-serial {display: flex;flex-direction: column;align-items: center;background-color: white;padding-right: 0.2em;padding-left: 0.2em;position: relative;}#sk-container-id-2 div.sk-item {position: relative;z-index: 1;}#sk-container-id-2 div.sk-parallel {display: flex;align-items: stretch;justify-content: center;background-color: white;position: relative;}#sk-container-id-2 div.sk-item::before, #sk-container-id-2 div.sk-parallel-item::before {content: \"\";position: absolute;border-left: 1px solid gray;box-sizing: border-box;top: 0;bottom: 0;left: 50%;z-index: -1;}#sk-container-id-2 div.sk-parallel-item {display: flex;flex-direction: column;z-index: 1;position: relative;background-color: white;}#sk-container-id-2 div.sk-parallel-item:first-child::after {align-self: flex-end;width: 50%;}#sk-container-id-2 div.sk-parallel-item:last-child::after {align-self: flex-start;width: 50%;}#sk-container-id-2 div.sk-parallel-item:only-child::after {width: 0;}#sk-container-id-2 div.sk-dashed-wrapped {border: 1px dashed gray;margin: 0 0.4em 0.5em 0.4em;box-sizing: border-box;padding-bottom: 0.4em;background-color: white;}#sk-container-id-2 div.sk-label label {font-family: monospace;font-weight: bold;display: inline-block;line-height: 1.2em;}#sk-container-id-2 div.sk-label-container {text-align: center;}#sk-container-id-2 div.sk-container {/* jupyter's `normalize.less` sets `[hidden] { display: none; }` but bootstrap.min.css set `[hidden] { display: none !important; }` so we also need the `!important` here to be able to override the default hidden behavior on the sphinx rendered scikit-learn.org. See: https://github.com/scikit-learn/scikit-learn/issues/21755 */display: inline-block !important;position: relative;}#sk-container-id-2 div.sk-text-repr-fallback {display: none;}</style><div id=\"sk-container-id-2\" class=\"sk-top-container\"><div class=\"sk-text-repr-fallback\"><pre>DecisionTreeClassifier(max_depth=3, max_leaf_nodes=15,\n",
       "                       min_impurity_decrease=0.001, min_samples_leaf=7,\n",
       "                       random_state=1)</pre><b>In a Jupyter environment, please rerun this cell to show the HTML representation or trust the notebook. <br />On GitHub, the HTML representation is unable to render, please try loading this page with nbviewer.org.</b></div><div class=\"sk-container\" hidden><div class=\"sk-item\"><div class=\"sk-estimator sk-toggleable\"><input class=\"sk-toggleable__control sk-hidden--visually\" id=\"sk-estimator-id-2\" type=\"checkbox\" checked><label for=\"sk-estimator-id-2\" class=\"sk-toggleable__label sk-toggleable__label-arrow\">DecisionTreeClassifier</label><div class=\"sk-toggleable__content\"><pre>DecisionTreeClassifier(max_depth=3, max_leaf_nodes=15,\n",
       "                       min_impurity_decrease=0.001, min_samples_leaf=7,\n",
       "                       random_state=1)</pre></div></div></div></div></div>"
      ],
      "text/plain": [
       "DecisionTreeClassifier(max_depth=3, max_leaf_nodes=15,\n",
       "                       min_impurity_decrease=0.001, min_samples_leaf=7,\n",
       "                       random_state=1)"
      ]
     },
     "execution_count": 40,
     "metadata": {},
     "output_type": "execute_result"
    },
    {
     "data": {
      "application/javascript": [
       "\n",
       "            setTimeout(function() {\n",
       "                var nbb_cell_id = 40;\n",
       "                var nbb_unformatted_code = \"# building model with best parameters\\ndt_ov = DecisionTreeClassifier(\\n    random_state=1,\\n    max_depth=3,\\n    min_samples_leaf=7,\\n    max_leaf_nodes=15,\\n    min_impurity_decrease=0.001,\\n)\\n\\n# Fit the model on training data\\ndt_ov.fit(X_train_over, y_train_over)\";\n",
       "                var nbb_formatted_code = \"# building model with best parameters\\ndt_ov = DecisionTreeClassifier(\\n    random_state=1,\\n    max_depth=3,\\n    min_samples_leaf=7,\\n    max_leaf_nodes=15,\\n    min_impurity_decrease=0.001,\\n)\\n\\n# Fit the model on training data\\ndt_ov.fit(X_train_over, y_train_over)\";\n",
       "                var nbb_cells = Jupyter.notebook.get_cells();\n",
       "                for (var i = 0; i < nbb_cells.length; ++i) {\n",
       "                    if (nbb_cells[i].input_prompt_number == nbb_cell_id) {\n",
       "                        if (nbb_cells[i].get_text() == nbb_unformatted_code) {\n",
       "                             nbb_cells[i].set_text(nbb_formatted_code);\n",
       "                        }\n",
       "                        break;\n",
       "                    }\n",
       "                }\n",
       "            }, 500);\n",
       "            "
      ],
      "text/plain": [
       "<IPython.core.display.Javascript object>"
      ]
     },
     "metadata": {},
     "output_type": "display_data"
    }
   ],
   "source": [
    "# building model with best parameters\n",
    "dt_ov = DecisionTreeClassifier(\n",
    "    random_state=1,\n",
    "    max_depth=3,\n",
    "    min_samples_leaf=7,\n",
    "    max_leaf_nodes=15,\n",
    "    min_impurity_decrease=0.001,\n",
    ")\n",
    "\n",
    "# Fit the model on training data\n",
    "dt_ov.fit(X_train_over, y_train_over)"
   ]
  },
  {
   "cell_type": "code",
   "execution_count": 41,
   "metadata": {},
   "outputs": [
    {
     "data": {
      "text/html": [
       "<div>\n",
       "<style scoped>\n",
       "    .dataframe tbody tr th:only-of-type {\n",
       "        vertical-align: middle;\n",
       "    }\n",
       "\n",
       "    .dataframe tbody tr th {\n",
       "        vertical-align: top;\n",
       "    }\n",
       "\n",
       "    .dataframe thead th {\n",
       "        text-align: right;\n",
       "    }\n",
       "</style>\n",
       "<table border=\"1\" class=\"dataframe\">\n",
       "  <thead>\n",
       "    <tr style=\"text-align: right;\">\n",
       "      <th></th>\n",
       "      <th>Accuracy</th>\n",
       "      <th>Recall</th>\n",
       "      <th>Precision</th>\n",
       "      <th>F1</th>\n",
       "    </tr>\n",
       "  </thead>\n",
       "  <tbody>\n",
       "    <tr>\n",
       "      <th>0</th>\n",
       "      <td>0.843</td>\n",
       "      <td>0.917</td>\n",
       "      <td>0.799</td>\n",
       "      <td>0.854</td>\n",
       "    </tr>\n",
       "  </tbody>\n",
       "</table>\n",
       "</div>"
      ],
      "text/plain": [
       "   Accuracy  Recall  Precision    F1\n",
       "0     0.843   0.917      0.799 0.854"
      ]
     },
     "execution_count": 41,
     "metadata": {},
     "output_type": "execute_result"
    },
    {
     "data": {
      "application/javascript": [
       "\n",
       "            setTimeout(function() {\n",
       "                var nbb_cell_id = 41;\n",
       "                var nbb_unformatted_code = \"dt_train_ov = model_performance_classification_sklearn(\\n    dt_ov, X_train_over, y_train_over\\n)\\ndt_train_ov\";\n",
       "                var nbb_formatted_code = \"dt_train_ov = model_performance_classification_sklearn(\\n    dt_ov, X_train_over, y_train_over\\n)\\ndt_train_ov\";\n",
       "                var nbb_cells = Jupyter.notebook.get_cells();\n",
       "                for (var i = 0; i < nbb_cells.length; ++i) {\n",
       "                    if (nbb_cells[i].input_prompt_number == nbb_cell_id) {\n",
       "                        if (nbb_cells[i].get_text() == nbb_unformatted_code) {\n",
       "                             nbb_cells[i].set_text(nbb_formatted_code);\n",
       "                        }\n",
       "                        break;\n",
       "                    }\n",
       "                }\n",
       "            }, 500);\n",
       "            "
      ],
      "text/plain": [
       "<IPython.core.display.Javascript object>"
      ]
     },
     "metadata": {},
     "output_type": "display_data"
    }
   ],
   "source": [
    "dt_train_ov = model_performance_classification_sklearn(\n",
    "    dt_ov, X_train_over, y_train_over\n",
    ")\n",
    "dt_train_ov"
   ]
  },
  {
   "cell_type": "code",
   "execution_count": 42,
   "metadata": {},
   "outputs": [
    {
     "data": {
      "text/html": [
       "<div>\n",
       "<style scoped>\n",
       "    .dataframe tbody tr th:only-of-type {\n",
       "        vertical-align: middle;\n",
       "    }\n",
       "\n",
       "    .dataframe tbody tr th {\n",
       "        vertical-align: top;\n",
       "    }\n",
       "\n",
       "    .dataframe thead th {\n",
       "        text-align: right;\n",
       "    }\n",
       "</style>\n",
       "<table border=\"1\" class=\"dataframe\">\n",
       "  <thead>\n",
       "    <tr style=\"text-align: right;\">\n",
       "      <th></th>\n",
       "      <th>Accuracy</th>\n",
       "      <th>Recall</th>\n",
       "      <th>Precision</th>\n",
       "      <th>F1</th>\n",
       "    </tr>\n",
       "  </thead>\n",
       "  <tbody>\n",
       "    <tr>\n",
       "      <th>0</th>\n",
       "      <td>0.763</td>\n",
       "      <td>0.885</td>\n",
       "      <td>0.176</td>\n",
       "      <td>0.294</td>\n",
       "    </tr>\n",
       "  </tbody>\n",
       "</table>\n",
       "</div>"
      ],
      "text/plain": [
       "   Accuracy  Recall  Precision    F1\n",
       "0     0.763   0.885      0.176 0.294"
      ]
     },
     "execution_count": 42,
     "metadata": {},
     "output_type": "execute_result"
    },
    {
     "data": {
      "application/javascript": [
       "\n",
       "            setTimeout(function() {\n",
       "                var nbb_cell_id = 42;\n",
       "                var nbb_unformatted_code = \"dt_val_ov = model_performance_classification_sklearn(dt_ov, X_val, y_val)\\ndt_val_ov\";\n",
       "                var nbb_formatted_code = \"dt_val_ov = model_performance_classification_sklearn(dt_ov, X_val, y_val)\\ndt_val_ov\";\n",
       "                var nbb_cells = Jupyter.notebook.get_cells();\n",
       "                for (var i = 0; i < nbb_cells.length; ++i) {\n",
       "                    if (nbb_cells[i].input_prompt_number == nbb_cell_id) {\n",
       "                        if (nbb_cells[i].get_text() == nbb_unformatted_code) {\n",
       "                             nbb_cells[i].set_text(nbb_formatted_code);\n",
       "                        }\n",
       "                        break;\n",
       "                    }\n",
       "                }\n",
       "            }, 500);\n",
       "            "
      ],
      "text/plain": [
       "<IPython.core.display.Javascript object>"
      ]
     },
     "metadata": {},
     "output_type": "display_data"
    }
   ],
   "source": [
    "dt_val_ov = model_performance_classification_sklearn(dt_ov, X_val, y_val)\n",
    "dt_val_ov"
   ]
  },
  {
   "cell_type": "markdown",
   "metadata": {},
   "source": [
    "- From Recall, there is overfitting in the train data set, though Precision and F1 score has poor perfomance in validation dataset"
   ]
  },
  {
   "cell_type": "markdown",
   "metadata": {
    "id": "HtPIiIS7hKyr"
   },
   "source": [
    "### Decision tree with undersampled data"
   ]
  },
  {
   "cell_type": "code",
   "execution_count": 43,
   "metadata": {
    "id": "5pbdykhHhKyr"
   },
   "outputs": [
    {
     "name": "stdout",
     "output_type": "stream",
     "text": [
      "Best parameters are {'min_samples_leaf': 1, 'min_impurity_decrease': 0.001, 'max_leaf_nodes': 5, 'max_depth': 2} with CV score=0.850811629752543:\n"
     ]
    },
    {
     "data": {
      "application/javascript": [
       "\n",
       "            setTimeout(function() {\n",
       "                var nbb_cell_id = 43;\n",
       "                var nbb_unformatted_code = \"# defining model\\nModel = DecisionTreeClassifier(random_state=1)\\n\\n# Parameter grid to pass in RandomSearchCV\\nparam_grid = {\\n    \\\"max_depth\\\": np.arange(2, 20),\\n    \\\"min_samples_leaf\\\": [1, 2, 5, 7],\\n    \\\"max_leaf_nodes\\\": [5, 10, 15],\\n    \\\"min_impurity_decrease\\\": [0.0001, 0.001],\\n}\\n\\n# Calling RandomizedSearchCV\\nrandomized_cv = RandomizedSearchCV(\\n    estimator=Model,\\n    param_distributions=param_grid,\\n    n_iter=10,\\n    n_jobs=-1,\\n    scoring=scorer,\\n    cv=5,\\n    random_state=1,\\n)\\n\\n# Fitting parameters in RandomizedSearchCV\\nrandomized_cv.fit(X_train_un, y_train_un)\\n\\nprint(\\n    \\\"Best parameters are {} with CV score={}:\\\".format(\\n        randomized_cv.best_params_, randomized_cv.best_score_\\n    )\\n)\";\n",
       "                var nbb_formatted_code = \"# defining model\\nModel = DecisionTreeClassifier(random_state=1)\\n\\n# Parameter grid to pass in RandomSearchCV\\nparam_grid = {\\n    \\\"max_depth\\\": np.arange(2, 20),\\n    \\\"min_samples_leaf\\\": [1, 2, 5, 7],\\n    \\\"max_leaf_nodes\\\": [5, 10, 15],\\n    \\\"min_impurity_decrease\\\": [0.0001, 0.001],\\n}\\n\\n# Calling RandomizedSearchCV\\nrandomized_cv = RandomizedSearchCV(\\n    estimator=Model,\\n    param_distributions=param_grid,\\n    n_iter=10,\\n    n_jobs=-1,\\n    scoring=scorer,\\n    cv=5,\\n    random_state=1,\\n)\\n\\n# Fitting parameters in RandomizedSearchCV\\nrandomized_cv.fit(X_train_un, y_train_un)\\n\\nprint(\\n    \\\"Best parameters are {} with CV score={}:\\\".format(\\n        randomized_cv.best_params_, randomized_cv.best_score_\\n    )\\n)\";\n",
       "                var nbb_cells = Jupyter.notebook.get_cells();\n",
       "                for (var i = 0; i < nbb_cells.length; ++i) {\n",
       "                    if (nbb_cells[i].input_prompt_number == nbb_cell_id) {\n",
       "                        if (nbb_cells[i].get_text() == nbb_unformatted_code) {\n",
       "                             nbb_cells[i].set_text(nbb_formatted_code);\n",
       "                        }\n",
       "                        break;\n",
       "                    }\n",
       "                }\n",
       "            }, 500);\n",
       "            "
      ],
      "text/plain": [
       "<IPython.core.display.Javascript object>"
      ]
     },
     "metadata": {},
     "output_type": "display_data"
    }
   ],
   "source": [
    "# defining model\n",
    "Model = DecisionTreeClassifier(random_state=1)\n",
    "\n",
    "# Parameter grid to pass in RandomSearchCV\n",
    "param_grid = {\n",
    "    \"max_depth\": np.arange(2, 20),\n",
    "    \"min_samples_leaf\": [1, 2, 5, 7],\n",
    "    \"max_leaf_nodes\": [5, 10, 15],\n",
    "    \"min_impurity_decrease\": [0.0001, 0.001],\n",
    "}\n",
    "\n",
    "# Calling RandomizedSearchCV\n",
    "randomized_cv = RandomizedSearchCV(\n",
    "    estimator=Model,\n",
    "    param_distributions=param_grid,\n",
    "    n_iter=10,\n",
    "    n_jobs=-1,\n",
    "    scoring=scorer,\n",
    "    cv=5,\n",
    "    random_state=1,\n",
    ")\n",
    "\n",
    "# Fitting parameters in RandomizedSearchCV\n",
    "randomized_cv.fit(X_train_un, y_train_un)\n",
    "\n",
    "print(\n",
    "    \"Best parameters are {} with CV score={}:\".format(\n",
    "        randomized_cv.best_params_, randomized_cv.best_score_\n",
    "    )\n",
    ")"
   ]
  },
  {
   "cell_type": "code",
   "execution_count": 44,
   "metadata": {},
   "outputs": [
    {
     "data": {
      "text/html": [
       "<style>#sk-container-id-3 {color: black;background-color: white;}#sk-container-id-3 pre{padding: 0;}#sk-container-id-3 div.sk-toggleable {background-color: white;}#sk-container-id-3 label.sk-toggleable__label {cursor: pointer;display: block;width: 100%;margin-bottom: 0;padding: 0.3em;box-sizing: border-box;text-align: center;}#sk-container-id-3 label.sk-toggleable__label-arrow:before {content: \"▸\";float: left;margin-right: 0.25em;color: #696969;}#sk-container-id-3 label.sk-toggleable__label-arrow:hover:before {color: black;}#sk-container-id-3 div.sk-estimator:hover label.sk-toggleable__label-arrow:before {color: black;}#sk-container-id-3 div.sk-toggleable__content {max-height: 0;max-width: 0;overflow: hidden;text-align: left;background-color: #f0f8ff;}#sk-container-id-3 div.sk-toggleable__content pre {margin: 0.2em;color: black;border-radius: 0.25em;background-color: #f0f8ff;}#sk-container-id-3 input.sk-toggleable__control:checked~div.sk-toggleable__content {max-height: 200px;max-width: 100%;overflow: auto;}#sk-container-id-3 input.sk-toggleable__control:checked~label.sk-toggleable__label-arrow:before {content: \"▾\";}#sk-container-id-3 div.sk-estimator input.sk-toggleable__control:checked~label.sk-toggleable__label {background-color: #d4ebff;}#sk-container-id-3 div.sk-label input.sk-toggleable__control:checked~label.sk-toggleable__label {background-color: #d4ebff;}#sk-container-id-3 input.sk-hidden--visually {border: 0;clip: rect(1px 1px 1px 1px);clip: rect(1px, 1px, 1px, 1px);height: 1px;margin: -1px;overflow: hidden;padding: 0;position: absolute;width: 1px;}#sk-container-id-3 div.sk-estimator {font-family: monospace;background-color: #f0f8ff;border: 1px dotted black;border-radius: 0.25em;box-sizing: border-box;margin-bottom: 0.5em;}#sk-container-id-3 div.sk-estimator:hover {background-color: #d4ebff;}#sk-container-id-3 div.sk-parallel-item::after {content: \"\";width: 100%;border-bottom: 1px solid gray;flex-grow: 1;}#sk-container-id-3 div.sk-label:hover label.sk-toggleable__label {background-color: #d4ebff;}#sk-container-id-3 div.sk-serial::before {content: \"\";position: absolute;border-left: 1px solid gray;box-sizing: border-box;top: 0;bottom: 0;left: 50%;z-index: 0;}#sk-container-id-3 div.sk-serial {display: flex;flex-direction: column;align-items: center;background-color: white;padding-right: 0.2em;padding-left: 0.2em;position: relative;}#sk-container-id-3 div.sk-item {position: relative;z-index: 1;}#sk-container-id-3 div.sk-parallel {display: flex;align-items: stretch;justify-content: center;background-color: white;position: relative;}#sk-container-id-3 div.sk-item::before, #sk-container-id-3 div.sk-parallel-item::before {content: \"\";position: absolute;border-left: 1px solid gray;box-sizing: border-box;top: 0;bottom: 0;left: 50%;z-index: -1;}#sk-container-id-3 div.sk-parallel-item {display: flex;flex-direction: column;z-index: 1;position: relative;background-color: white;}#sk-container-id-3 div.sk-parallel-item:first-child::after {align-self: flex-end;width: 50%;}#sk-container-id-3 div.sk-parallel-item:last-child::after {align-self: flex-start;width: 50%;}#sk-container-id-3 div.sk-parallel-item:only-child::after {width: 0;}#sk-container-id-3 div.sk-dashed-wrapped {border: 1px dashed gray;margin: 0 0.4em 0.5em 0.4em;box-sizing: border-box;padding-bottom: 0.4em;background-color: white;}#sk-container-id-3 div.sk-label label {font-family: monospace;font-weight: bold;display: inline-block;line-height: 1.2em;}#sk-container-id-3 div.sk-label-container {text-align: center;}#sk-container-id-3 div.sk-container {/* jupyter's `normalize.less` sets `[hidden] { display: none; }` but bootstrap.min.css set `[hidden] { display: none !important; }` so we also need the `!important` here to be able to override the default hidden behavior on the sphinx rendered scikit-learn.org. See: https://github.com/scikit-learn/scikit-learn/issues/21755 */display: inline-block !important;position: relative;}#sk-container-id-3 div.sk-text-repr-fallback {display: none;}</style><div id=\"sk-container-id-3\" class=\"sk-top-container\"><div class=\"sk-text-repr-fallback\"><pre>DecisionTreeClassifier(max_depth=2, max_leaf_nodes=5,\n",
       "                       min_impurity_decrease=0.001, random_state=1)</pre><b>In a Jupyter environment, please rerun this cell to show the HTML representation or trust the notebook. <br />On GitHub, the HTML representation is unable to render, please try loading this page with nbviewer.org.</b></div><div class=\"sk-container\" hidden><div class=\"sk-item\"><div class=\"sk-estimator sk-toggleable\"><input class=\"sk-toggleable__control sk-hidden--visually\" id=\"sk-estimator-id-3\" type=\"checkbox\" checked><label for=\"sk-estimator-id-3\" class=\"sk-toggleable__label sk-toggleable__label-arrow\">DecisionTreeClassifier</label><div class=\"sk-toggleable__content\"><pre>DecisionTreeClassifier(max_depth=2, max_leaf_nodes=5,\n",
       "                       min_impurity_decrease=0.001, random_state=1)</pre></div></div></div></div></div>"
      ],
      "text/plain": [
       "DecisionTreeClassifier(max_depth=2, max_leaf_nodes=5,\n",
       "                       min_impurity_decrease=0.001, random_state=1)"
      ]
     },
     "execution_count": 44,
     "metadata": {},
     "output_type": "execute_result"
    },
    {
     "data": {
      "application/javascript": [
       "\n",
       "            setTimeout(function() {\n",
       "                var nbb_cell_id = 44;\n",
       "                var nbb_unformatted_code = \"# building model with best parameters\\ndt_un = DecisionTreeClassifier(\\n    random_state=1,\\n    max_depth=2,\\n    min_samples_leaf=1,\\n    max_leaf_nodes=5,\\n    min_impurity_decrease=0.001,\\n)\\n\\n\\n# Fit the model on training data\\ndt_un.fit(X_train_un, y_train_un)\";\n",
       "                var nbb_formatted_code = \"# building model with best parameters\\ndt_un = DecisionTreeClassifier(\\n    random_state=1,\\n    max_depth=2,\\n    min_samples_leaf=1,\\n    max_leaf_nodes=5,\\n    min_impurity_decrease=0.001,\\n)\\n\\n\\n# Fit the model on training data\\ndt_un.fit(X_train_un, y_train_un)\";\n",
       "                var nbb_cells = Jupyter.notebook.get_cells();\n",
       "                for (var i = 0; i < nbb_cells.length; ++i) {\n",
       "                    if (nbb_cells[i].input_prompt_number == nbb_cell_id) {\n",
       "                        if (nbb_cells[i].get_text() == nbb_unformatted_code) {\n",
       "                             nbb_cells[i].set_text(nbb_formatted_code);\n",
       "                        }\n",
       "                        break;\n",
       "                    }\n",
       "                }\n",
       "            }, 500);\n",
       "            "
      ],
      "text/plain": [
       "<IPython.core.display.Javascript object>"
      ]
     },
     "metadata": {},
     "output_type": "display_data"
    }
   ],
   "source": [
    "# building model with best parameters\n",
    "dt_un = DecisionTreeClassifier(\n",
    "    random_state=1,\n",
    "    max_depth=2,\n",
    "    min_samples_leaf=1,\n",
    "    max_leaf_nodes=5,\n",
    "    min_impurity_decrease=0.001,\n",
    ")\n",
    "\n",
    "\n",
    "# Fit the model on training data\n",
    "dt_un.fit(X_train_un, y_train_un)"
   ]
  },
  {
   "cell_type": "code",
   "execution_count": 45,
   "metadata": {},
   "outputs": [
    {
     "data": {
      "text/html": [
       "<div>\n",
       "<style scoped>\n",
       "    .dataframe tbody tr th:only-of-type {\n",
       "        vertical-align: middle;\n",
       "    }\n",
       "\n",
       "    .dataframe tbody tr th {\n",
       "        vertical-align: top;\n",
       "    }\n",
       "\n",
       "    .dataframe thead th {\n",
       "        text-align: right;\n",
       "    }\n",
       "</style>\n",
       "<table border=\"1\" class=\"dataframe\">\n",
       "  <thead>\n",
       "    <tr style=\"text-align: right;\">\n",
       "      <th></th>\n",
       "      <th>Accuracy</th>\n",
       "      <th>Recall</th>\n",
       "      <th>Precision</th>\n",
       "      <th>F1</th>\n",
       "    </tr>\n",
       "  </thead>\n",
       "  <tbody>\n",
       "    <tr>\n",
       "      <th>0</th>\n",
       "      <td>0.764</td>\n",
       "      <td>0.909</td>\n",
       "      <td>0.705</td>\n",
       "      <td>0.794</td>\n",
       "    </tr>\n",
       "  </tbody>\n",
       "</table>\n",
       "</div>"
      ],
      "text/plain": [
       "   Accuracy  Recall  Precision    F1\n",
       "0     0.764   0.909      0.705 0.794"
      ]
     },
     "execution_count": 45,
     "metadata": {},
     "output_type": "execute_result"
    },
    {
     "data": {
      "application/javascript": [
       "\n",
       "            setTimeout(function() {\n",
       "                var nbb_cell_id = 45;\n",
       "                var nbb_unformatted_code = \"dt_train_un = model_performance_classification_sklearn(dt_un, X_train_un, y_train_un)\\ndt_train_un\";\n",
       "                var nbb_formatted_code = \"dt_train_un = model_performance_classification_sklearn(dt_un, X_train_un, y_train_un)\\ndt_train_un\";\n",
       "                var nbb_cells = Jupyter.notebook.get_cells();\n",
       "                for (var i = 0; i < nbb_cells.length; ++i) {\n",
       "                    if (nbb_cells[i].input_prompt_number == nbb_cell_id) {\n",
       "                        if (nbb_cells[i].get_text() == nbb_unformatted_code) {\n",
       "                             nbb_cells[i].set_text(nbb_formatted_code);\n",
       "                        }\n",
       "                        break;\n",
       "                    }\n",
       "                }\n",
       "            }, 500);\n",
       "            "
      ],
      "text/plain": [
       "<IPython.core.display.Javascript object>"
      ]
     },
     "metadata": {},
     "output_type": "display_data"
    }
   ],
   "source": [
    "dt_train_un = model_performance_classification_sklearn(dt_un, X_train_un, y_train_un)\n",
    "dt_train_un"
   ]
  },
  {
   "cell_type": "code",
   "execution_count": 46,
   "metadata": {},
   "outputs": [
    {
     "data": {
      "text/html": [
       "<div>\n",
       "<style scoped>\n",
       "    .dataframe tbody tr th:only-of-type {\n",
       "        vertical-align: middle;\n",
       "    }\n",
       "\n",
       "    .dataframe tbody tr th {\n",
       "        vertical-align: top;\n",
       "    }\n",
       "\n",
       "    .dataframe thead th {\n",
       "        text-align: right;\n",
       "    }\n",
       "</style>\n",
       "<table border=\"1\" class=\"dataframe\">\n",
       "  <thead>\n",
       "    <tr style=\"text-align: right;\">\n",
       "      <th></th>\n",
       "      <th>Accuracy</th>\n",
       "      <th>Recall</th>\n",
       "      <th>Precision</th>\n",
       "      <th>F1</th>\n",
       "    </tr>\n",
       "  </thead>\n",
       "  <tbody>\n",
       "    <tr>\n",
       "      <th>0</th>\n",
       "      <td>0.609</td>\n",
       "      <td>0.888</td>\n",
       "      <td>0.114</td>\n",
       "      <td>0.202</td>\n",
       "    </tr>\n",
       "  </tbody>\n",
       "</table>\n",
       "</div>"
      ],
      "text/plain": [
       "   Accuracy  Recall  Precision    F1\n",
       "0     0.609   0.888      0.114 0.202"
      ]
     },
     "execution_count": 46,
     "metadata": {},
     "output_type": "execute_result"
    },
    {
     "data": {
      "application/javascript": [
       "\n",
       "            setTimeout(function() {\n",
       "                var nbb_cell_id = 46;\n",
       "                var nbb_unformatted_code = \"dt_val_un = model_performance_classification_sklearn(dt_un, X_val, y_val)\\ndt_val_un\";\n",
       "                var nbb_formatted_code = \"dt_val_un = model_performance_classification_sklearn(dt_un, X_val, y_val)\\ndt_val_un\";\n",
       "                var nbb_cells = Jupyter.notebook.get_cells();\n",
       "                for (var i = 0; i < nbb_cells.length; ++i) {\n",
       "                    if (nbb_cells[i].input_prompt_number == nbb_cell_id) {\n",
       "                        if (nbb_cells[i].get_text() == nbb_unformatted_code) {\n",
       "                             nbb_cells[i].set_text(nbb_formatted_code);\n",
       "                        }\n",
       "                        break;\n",
       "                    }\n",
       "                }\n",
       "            }, 500);\n",
       "            "
      ],
      "text/plain": [
       "<IPython.core.display.Javascript object>"
      ]
     },
     "metadata": {},
     "output_type": "display_data"
    }
   ],
   "source": [
    "dt_val_un = model_performance_classification_sklearn(dt_un, X_val, y_val)\n",
    "dt_val_un"
   ]
  },
  {
   "cell_type": "markdown",
   "metadata": {},
   "source": [
    "- model is performing well in Recall"
   ]
  },
  {
   "cell_type": "markdown",
   "metadata": {},
   "source": [
    "### Bagging with original data"
   ]
  },
  {
   "cell_type": "code",
   "execution_count": 47,
   "metadata": {},
   "outputs": [
    {
     "name": "stdout",
     "output_type": "stream",
     "text": [
      "Best parameters are {'n_estimators': 70, 'max_samples': 0.8, 'max_features': 0.9} with CV score=0.7308563595700166:\n"
     ]
    },
    {
     "data": {
      "application/javascript": [
       "\n",
       "            setTimeout(function() {\n",
       "                var nbb_cell_id = 47;\n",
       "                var nbb_unformatted_code = \"# defining model\\nModel = BaggingClassifier(random_state=1)\\n\\n# Parameter grid to pass in RandomSearchCV\\nparam_grid = {\\n    \\\"max_samples\\\": [0.8, 0.9, 1],\\n    \\\"max_features\\\": [0.7, 0.8, 0.9],\\n    \\\"n_estimators\\\": [30, 50, 70],\\n}\\n\\n# Calling RandomizedSearchCV\\nrandomized_cv = RandomizedSearchCV(\\n    estimator=Model,\\n    param_distributions=param_grid,\\n    n_iter=10,\\n    n_jobs=-1,\\n    scoring=scorer,\\n    cv=5,\\n    random_state=1,\\n)\\n\\n# Fitting parameters in RandomizedSearchCV\\nrandomized_cv.fit(X_train, y_train)\\n\\nprint(\\n    \\\"Best parameters are {} with CV score={}:\\\".format(\\n        randomized_cv.best_params_, randomized_cv.best_score_\\n    )\\n)\";\n",
       "                var nbb_formatted_code = \"# defining model\\nModel = BaggingClassifier(random_state=1)\\n\\n# Parameter grid to pass in RandomSearchCV\\nparam_grid = {\\n    \\\"max_samples\\\": [0.8, 0.9, 1],\\n    \\\"max_features\\\": [0.7, 0.8, 0.9],\\n    \\\"n_estimators\\\": [30, 50, 70],\\n}\\n\\n# Calling RandomizedSearchCV\\nrandomized_cv = RandomizedSearchCV(\\n    estimator=Model,\\n    param_distributions=param_grid,\\n    n_iter=10,\\n    n_jobs=-1,\\n    scoring=scorer,\\n    cv=5,\\n    random_state=1,\\n)\\n\\n# Fitting parameters in RandomizedSearchCV\\nrandomized_cv.fit(X_train, y_train)\\n\\nprint(\\n    \\\"Best parameters are {} with CV score={}:\\\".format(\\n        randomized_cv.best_params_, randomized_cv.best_score_\\n    )\\n)\";\n",
       "                var nbb_cells = Jupyter.notebook.get_cells();\n",
       "                for (var i = 0; i < nbb_cells.length; ++i) {\n",
       "                    if (nbb_cells[i].input_prompt_number == nbb_cell_id) {\n",
       "                        if (nbb_cells[i].get_text() == nbb_unformatted_code) {\n",
       "                             nbb_cells[i].set_text(nbb_formatted_code);\n",
       "                        }\n",
       "                        break;\n",
       "                    }\n",
       "                }\n",
       "            }, 500);\n",
       "            "
      ],
      "text/plain": [
       "<IPython.core.display.Javascript object>"
      ]
     },
     "metadata": {},
     "output_type": "display_data"
    }
   ],
   "source": [
    "# defining model\n",
    "Model = BaggingClassifier(random_state=1)\n",
    "\n",
    "# Parameter grid to pass in RandomSearchCV\n",
    "param_grid = {\n",
    "    \"max_samples\": [0.8, 0.9, 1],\n",
    "    \"max_features\": [0.7, 0.8, 0.9],\n",
    "    \"n_estimators\": [30, 50, 70],\n",
    "}\n",
    "\n",
    "# Calling RandomizedSearchCV\n",
    "randomized_cv = RandomizedSearchCV(\n",
    "    estimator=Model,\n",
    "    param_distributions=param_grid,\n",
    "    n_iter=10,\n",
    "    n_jobs=-1,\n",
    "    scoring=scorer,\n",
    "    cv=5,\n",
    "    random_state=1,\n",
    ")\n",
    "\n",
    "# Fitting parameters in RandomizedSearchCV\n",
    "randomized_cv.fit(X_train, y_train)\n",
    "\n",
    "print(\n",
    "    \"Best parameters are {} with CV score={}:\".format(\n",
    "        randomized_cv.best_params_, randomized_cv.best_score_\n",
    "    )\n",
    ")"
   ]
  },
  {
   "cell_type": "code",
   "execution_count": 48,
   "metadata": {},
   "outputs": [
    {
     "data": {
      "text/html": [
       "<style>#sk-container-id-4 {color: black;background-color: white;}#sk-container-id-4 pre{padding: 0;}#sk-container-id-4 div.sk-toggleable {background-color: white;}#sk-container-id-4 label.sk-toggleable__label {cursor: pointer;display: block;width: 100%;margin-bottom: 0;padding: 0.3em;box-sizing: border-box;text-align: center;}#sk-container-id-4 label.sk-toggleable__label-arrow:before {content: \"▸\";float: left;margin-right: 0.25em;color: #696969;}#sk-container-id-4 label.sk-toggleable__label-arrow:hover:before {color: black;}#sk-container-id-4 div.sk-estimator:hover label.sk-toggleable__label-arrow:before {color: black;}#sk-container-id-4 div.sk-toggleable__content {max-height: 0;max-width: 0;overflow: hidden;text-align: left;background-color: #f0f8ff;}#sk-container-id-4 div.sk-toggleable__content pre {margin: 0.2em;color: black;border-radius: 0.25em;background-color: #f0f8ff;}#sk-container-id-4 input.sk-toggleable__control:checked~div.sk-toggleable__content {max-height: 200px;max-width: 100%;overflow: auto;}#sk-container-id-4 input.sk-toggleable__control:checked~label.sk-toggleable__label-arrow:before {content: \"▾\";}#sk-container-id-4 div.sk-estimator input.sk-toggleable__control:checked~label.sk-toggleable__label {background-color: #d4ebff;}#sk-container-id-4 div.sk-label input.sk-toggleable__control:checked~label.sk-toggleable__label {background-color: #d4ebff;}#sk-container-id-4 input.sk-hidden--visually {border: 0;clip: rect(1px 1px 1px 1px);clip: rect(1px, 1px, 1px, 1px);height: 1px;margin: -1px;overflow: hidden;padding: 0;position: absolute;width: 1px;}#sk-container-id-4 div.sk-estimator {font-family: monospace;background-color: #f0f8ff;border: 1px dotted black;border-radius: 0.25em;box-sizing: border-box;margin-bottom: 0.5em;}#sk-container-id-4 div.sk-estimator:hover {background-color: #d4ebff;}#sk-container-id-4 div.sk-parallel-item::after {content: \"\";width: 100%;border-bottom: 1px solid gray;flex-grow: 1;}#sk-container-id-4 div.sk-label:hover label.sk-toggleable__label {background-color: #d4ebff;}#sk-container-id-4 div.sk-serial::before {content: \"\";position: absolute;border-left: 1px solid gray;box-sizing: border-box;top: 0;bottom: 0;left: 50%;z-index: 0;}#sk-container-id-4 div.sk-serial {display: flex;flex-direction: column;align-items: center;background-color: white;padding-right: 0.2em;padding-left: 0.2em;position: relative;}#sk-container-id-4 div.sk-item {position: relative;z-index: 1;}#sk-container-id-4 div.sk-parallel {display: flex;align-items: stretch;justify-content: center;background-color: white;position: relative;}#sk-container-id-4 div.sk-item::before, #sk-container-id-4 div.sk-parallel-item::before {content: \"\";position: absolute;border-left: 1px solid gray;box-sizing: border-box;top: 0;bottom: 0;left: 50%;z-index: -1;}#sk-container-id-4 div.sk-parallel-item {display: flex;flex-direction: column;z-index: 1;position: relative;background-color: white;}#sk-container-id-4 div.sk-parallel-item:first-child::after {align-self: flex-end;width: 50%;}#sk-container-id-4 div.sk-parallel-item:last-child::after {align-self: flex-start;width: 50%;}#sk-container-id-4 div.sk-parallel-item:only-child::after {width: 0;}#sk-container-id-4 div.sk-dashed-wrapped {border: 1px dashed gray;margin: 0 0.4em 0.5em 0.4em;box-sizing: border-box;padding-bottom: 0.4em;background-color: white;}#sk-container-id-4 div.sk-label label {font-family: monospace;font-weight: bold;display: inline-block;line-height: 1.2em;}#sk-container-id-4 div.sk-label-container {text-align: center;}#sk-container-id-4 div.sk-container {/* jupyter's `normalize.less` sets `[hidden] { display: none; }` but bootstrap.min.css set `[hidden] { display: none !important; }` so we also need the `!important` here to be able to override the default hidden behavior on the sphinx rendered scikit-learn.org. See: https://github.com/scikit-learn/scikit-learn/issues/21755 */display: inline-block !important;position: relative;}#sk-container-id-4 div.sk-text-repr-fallback {display: none;}</style><div id=\"sk-container-id-4\" class=\"sk-top-container\"><div class=\"sk-text-repr-fallback\"><pre>BaggingClassifier(max_features=0.9, max_samples=0.8, n_estimators=70,\n",
       "                  random_state=1)</pre><b>In a Jupyter environment, please rerun this cell to show the HTML representation or trust the notebook. <br />On GitHub, the HTML representation is unable to render, please try loading this page with nbviewer.org.</b></div><div class=\"sk-container\" hidden><div class=\"sk-item\"><div class=\"sk-estimator sk-toggleable\"><input class=\"sk-toggleable__control sk-hidden--visually\" id=\"sk-estimator-id-4\" type=\"checkbox\" checked><label for=\"sk-estimator-id-4\" class=\"sk-toggleable__label sk-toggleable__label-arrow\">BaggingClassifier</label><div class=\"sk-toggleable__content\"><pre>BaggingClassifier(max_features=0.9, max_samples=0.8, n_estimators=70,\n",
       "                  random_state=1)</pre></div></div></div></div></div>"
      ],
      "text/plain": [
       "BaggingClassifier(max_features=0.9, max_samples=0.8, n_estimators=70,\n",
       "                  random_state=1)"
      ]
     },
     "execution_count": 48,
     "metadata": {},
     "output_type": "execute_result"
    },
    {
     "data": {
      "application/javascript": [
       "\n",
       "            setTimeout(function() {\n",
       "                var nbb_cell_id = 48;\n",
       "                var nbb_unformatted_code = \"# building model with best parameters\\nbag_orig = BaggingClassifier(\\n    random_state=1, n_estimators=70, max_samples=0.8, max_features=0.9\\n)\\n\\n# Fit the model on training data\\nbag_orig.fit(X_train, y_train)\";\n",
       "                var nbb_formatted_code = \"# building model with best parameters\\nbag_orig = BaggingClassifier(\\n    random_state=1, n_estimators=70, max_samples=0.8, max_features=0.9\\n)\\n\\n# Fit the model on training data\\nbag_orig.fit(X_train, y_train)\";\n",
       "                var nbb_cells = Jupyter.notebook.get_cells();\n",
       "                for (var i = 0; i < nbb_cells.length; ++i) {\n",
       "                    if (nbb_cells[i].input_prompt_number == nbb_cell_id) {\n",
       "                        if (nbb_cells[i].get_text() == nbb_unformatted_code) {\n",
       "                             nbb_cells[i].set_text(nbb_formatted_code);\n",
       "                        }\n",
       "                        break;\n",
       "                    }\n",
       "                }\n",
       "            }, 500);\n",
       "            "
      ],
      "text/plain": [
       "<IPython.core.display.Javascript object>"
      ]
     },
     "metadata": {},
     "output_type": "display_data"
    }
   ],
   "source": [
    "# building model with best parameters\n",
    "bag_orig = BaggingClassifier(\n",
    "    random_state=1, n_estimators=70, max_samples=0.8, max_features=0.9\n",
    ")\n",
    "\n",
    "# Fit the model on training data\n",
    "bag_orig.fit(X_train, y_train)"
   ]
  },
  {
   "cell_type": "code",
   "execution_count": 49,
   "metadata": {},
   "outputs": [
    {
     "data": {
      "text/html": [
       "<div>\n",
       "<style scoped>\n",
       "    .dataframe tbody tr th:only-of-type {\n",
       "        vertical-align: middle;\n",
       "    }\n",
       "\n",
       "    .dataframe tbody tr th {\n",
       "        vertical-align: top;\n",
       "    }\n",
       "\n",
       "    .dataframe thead th {\n",
       "        text-align: right;\n",
       "    }\n",
       "</style>\n",
       "<table border=\"1\" class=\"dataframe\">\n",
       "  <thead>\n",
       "    <tr style=\"text-align: right;\">\n",
       "      <th></th>\n",
       "      <th>Accuracy</th>\n",
       "      <th>Recall</th>\n",
       "      <th>Precision</th>\n",
       "      <th>F1</th>\n",
       "    </tr>\n",
       "  </thead>\n",
       "  <tbody>\n",
       "    <tr>\n",
       "      <th>0</th>\n",
       "      <td>0.999</td>\n",
       "      <td>0.978</td>\n",
       "      <td>1.000</td>\n",
       "      <td>0.989</td>\n",
       "    </tr>\n",
       "  </tbody>\n",
       "</table>\n",
       "</div>"
      ],
      "text/plain": [
       "   Accuracy  Recall  Precision    F1\n",
       "0     0.999   0.978      1.000 0.989"
      ]
     },
     "execution_count": 49,
     "metadata": {},
     "output_type": "execute_result"
    },
    {
     "data": {
      "application/javascript": [
       "\n",
       "            setTimeout(function() {\n",
       "                var nbb_cell_id = 49;\n",
       "                var nbb_unformatted_code = \"bag_train_orig = model_performance_classification_sklearn(bag_orig, X_train, y_train)\\nbag_train_orig\";\n",
       "                var nbb_formatted_code = \"bag_train_orig = model_performance_classification_sklearn(bag_orig, X_train, y_train)\\nbag_train_orig\";\n",
       "                var nbb_cells = Jupyter.notebook.get_cells();\n",
       "                for (var i = 0; i < nbb_cells.length; ++i) {\n",
       "                    if (nbb_cells[i].input_prompt_number == nbb_cell_id) {\n",
       "                        if (nbb_cells[i].get_text() == nbb_unformatted_code) {\n",
       "                             nbb_cells[i].set_text(nbb_formatted_code);\n",
       "                        }\n",
       "                        break;\n",
       "                    }\n",
       "                }\n",
       "            }, 500);\n",
       "            "
      ],
      "text/plain": [
       "<IPython.core.display.Javascript object>"
      ]
     },
     "metadata": {},
     "output_type": "display_data"
    }
   ],
   "source": [
    "bag_train_orig = model_performance_classification_sklearn(bag_orig, X_train, y_train)\n",
    "bag_train_orig"
   ]
  },
  {
   "cell_type": "code",
   "execution_count": 50,
   "metadata": {},
   "outputs": [
    {
     "data": {
      "text/html": [
       "<div>\n",
       "<style scoped>\n",
       "    .dataframe tbody tr th:only-of-type {\n",
       "        vertical-align: middle;\n",
       "    }\n",
       "\n",
       "    .dataframe tbody tr th {\n",
       "        vertical-align: top;\n",
       "    }\n",
       "\n",
       "    .dataframe thead th {\n",
       "        text-align: right;\n",
       "    }\n",
       "</style>\n",
       "<table border=\"1\" class=\"dataframe\">\n",
       "  <thead>\n",
       "    <tr style=\"text-align: right;\">\n",
       "      <th></th>\n",
       "      <th>Accuracy</th>\n",
       "      <th>Recall</th>\n",
       "      <th>Precision</th>\n",
       "      <th>F1</th>\n",
       "    </tr>\n",
       "  </thead>\n",
       "  <tbody>\n",
       "    <tr>\n",
       "      <th>0</th>\n",
       "      <td>0.984</td>\n",
       "      <td>0.737</td>\n",
       "      <td>0.958</td>\n",
       "      <td>0.833</td>\n",
       "    </tr>\n",
       "  </tbody>\n",
       "</table>\n",
       "</div>"
      ],
      "text/plain": [
       "   Accuracy  Recall  Precision    F1\n",
       "0     0.984   0.737      0.958 0.833"
      ]
     },
     "execution_count": 50,
     "metadata": {},
     "output_type": "execute_result"
    },
    {
     "data": {
      "application/javascript": [
       "\n",
       "            setTimeout(function() {\n",
       "                var nbb_cell_id = 50;\n",
       "                var nbb_unformatted_code = \"bag_val_orig = model_performance_classification_sklearn(bag_orig, X_val, y_val)\\nbag_val_orig\";\n",
       "                var nbb_formatted_code = \"bag_val_orig = model_performance_classification_sklearn(bag_orig, X_val, y_val)\\nbag_val_orig\";\n",
       "                var nbb_cells = Jupyter.notebook.get_cells();\n",
       "                for (var i = 0; i < nbb_cells.length; ++i) {\n",
       "                    if (nbb_cells[i].input_prompt_number == nbb_cell_id) {\n",
       "                        if (nbb_cells[i].get_text() == nbb_unformatted_code) {\n",
       "                             nbb_cells[i].set_text(nbb_formatted_code);\n",
       "                        }\n",
       "                        break;\n",
       "                    }\n",
       "                }\n",
       "            }, 500);\n",
       "            "
      ],
      "text/plain": [
       "<IPython.core.display.Javascript object>"
      ]
     },
     "metadata": {},
     "output_type": "display_data"
    }
   ],
   "source": [
    "bag_val_orig = model_performance_classification_sklearn(bag_orig, X_val, y_val)\n",
    "bag_val_orig"
   ]
  },
  {
   "cell_type": "markdown",
   "metadata": {},
   "source": [
    "- There is a slight overfitting in Recall"
   ]
  },
  {
   "cell_type": "markdown",
   "metadata": {},
   "source": [
    "### Bagging with oversampled data"
   ]
  },
  {
   "cell_type": "code",
   "execution_count": 51,
   "metadata": {},
   "outputs": [
    {
     "name": "stdout",
     "output_type": "stream",
     "text": [
      "Best parameters are {'n_estimators': 70, 'max_samples': 0.9, 'max_features': 0.8} with CV score=0.9828488269988673:\n"
     ]
    },
    {
     "data": {
      "application/javascript": [
       "\n",
       "            setTimeout(function() {\n",
       "                var nbb_cell_id = 51;\n",
       "                var nbb_unformatted_code = \"# defining model\\nModel = BaggingClassifier(random_state=1)\\n\\n# Parameter grid to pass in RandomSearchCV\\nparam_grid = {\\n    \\\"max_samples\\\": [0.8, 0.9, 1],\\n    \\\"max_features\\\": [0.7, 0.8, 0.9],\\n    \\\"n_estimators\\\": [30, 50, 70],\\n}\\n\\n# Calling RandomizedSearchCV\\nrandomized_cv = RandomizedSearchCV(\\n    estimator=Model,\\n    param_distributions=param_grid,\\n    n_iter=10,\\n    n_jobs=-1,\\n    scoring=scorer,\\n    cv=5,\\n    random_state=1,\\n)\\n\\n# Fitting parameters in RandomizedSearchCV\\nrandomized_cv.fit(X_train_over, y_train_over)\\n\\nprint(\\n    \\\"Best parameters are {} with CV score={}:\\\".format(\\n        randomized_cv.best_params_, randomized_cv.best_score_\\n    )\\n)\";\n",
       "                var nbb_formatted_code = \"# defining model\\nModel = BaggingClassifier(random_state=1)\\n\\n# Parameter grid to pass in RandomSearchCV\\nparam_grid = {\\n    \\\"max_samples\\\": [0.8, 0.9, 1],\\n    \\\"max_features\\\": [0.7, 0.8, 0.9],\\n    \\\"n_estimators\\\": [30, 50, 70],\\n}\\n\\n# Calling RandomizedSearchCV\\nrandomized_cv = RandomizedSearchCV(\\n    estimator=Model,\\n    param_distributions=param_grid,\\n    n_iter=10,\\n    n_jobs=-1,\\n    scoring=scorer,\\n    cv=5,\\n    random_state=1,\\n)\\n\\n# Fitting parameters in RandomizedSearchCV\\nrandomized_cv.fit(X_train_over, y_train_over)\\n\\nprint(\\n    \\\"Best parameters are {} with CV score={}:\\\".format(\\n        randomized_cv.best_params_, randomized_cv.best_score_\\n    )\\n)\";\n",
       "                var nbb_cells = Jupyter.notebook.get_cells();\n",
       "                for (var i = 0; i < nbb_cells.length; ++i) {\n",
       "                    if (nbb_cells[i].input_prompt_number == nbb_cell_id) {\n",
       "                        if (nbb_cells[i].get_text() == nbb_unformatted_code) {\n",
       "                             nbb_cells[i].set_text(nbb_formatted_code);\n",
       "                        }\n",
       "                        break;\n",
       "                    }\n",
       "                }\n",
       "            }, 500);\n",
       "            "
      ],
      "text/plain": [
       "<IPython.core.display.Javascript object>"
      ]
     },
     "metadata": {},
     "output_type": "display_data"
    }
   ],
   "source": [
    "# defining model\n",
    "Model = BaggingClassifier(random_state=1)\n",
    "\n",
    "# Parameter grid to pass in RandomSearchCV\n",
    "param_grid = {\n",
    "    \"max_samples\": [0.8, 0.9, 1],\n",
    "    \"max_features\": [0.7, 0.8, 0.9],\n",
    "    \"n_estimators\": [30, 50, 70],\n",
    "}\n",
    "\n",
    "# Calling RandomizedSearchCV\n",
    "randomized_cv = RandomizedSearchCV(\n",
    "    estimator=Model,\n",
    "    param_distributions=param_grid,\n",
    "    n_iter=10,\n",
    "    n_jobs=-1,\n",
    "    scoring=scorer,\n",
    "    cv=5,\n",
    "    random_state=1,\n",
    ")\n",
    "\n",
    "# Fitting parameters in RandomizedSearchCV\n",
    "randomized_cv.fit(X_train_over, y_train_over)\n",
    "\n",
    "print(\n",
    "    \"Best parameters are {} with CV score={}:\".format(\n",
    "        randomized_cv.best_params_, randomized_cv.best_score_\n",
    "    )\n",
    ")"
   ]
  },
  {
   "cell_type": "code",
   "execution_count": 52,
   "metadata": {},
   "outputs": [
    {
     "data": {
      "text/html": [
       "<style>#sk-container-id-5 {color: black;background-color: white;}#sk-container-id-5 pre{padding: 0;}#sk-container-id-5 div.sk-toggleable {background-color: white;}#sk-container-id-5 label.sk-toggleable__label {cursor: pointer;display: block;width: 100%;margin-bottom: 0;padding: 0.3em;box-sizing: border-box;text-align: center;}#sk-container-id-5 label.sk-toggleable__label-arrow:before {content: \"▸\";float: left;margin-right: 0.25em;color: #696969;}#sk-container-id-5 label.sk-toggleable__label-arrow:hover:before {color: black;}#sk-container-id-5 div.sk-estimator:hover label.sk-toggleable__label-arrow:before {color: black;}#sk-container-id-5 div.sk-toggleable__content {max-height: 0;max-width: 0;overflow: hidden;text-align: left;background-color: #f0f8ff;}#sk-container-id-5 div.sk-toggleable__content pre {margin: 0.2em;color: black;border-radius: 0.25em;background-color: #f0f8ff;}#sk-container-id-5 input.sk-toggleable__control:checked~div.sk-toggleable__content {max-height: 200px;max-width: 100%;overflow: auto;}#sk-container-id-5 input.sk-toggleable__control:checked~label.sk-toggleable__label-arrow:before {content: \"▾\";}#sk-container-id-5 div.sk-estimator input.sk-toggleable__control:checked~label.sk-toggleable__label {background-color: #d4ebff;}#sk-container-id-5 div.sk-label input.sk-toggleable__control:checked~label.sk-toggleable__label {background-color: #d4ebff;}#sk-container-id-5 input.sk-hidden--visually {border: 0;clip: rect(1px 1px 1px 1px);clip: rect(1px, 1px, 1px, 1px);height: 1px;margin: -1px;overflow: hidden;padding: 0;position: absolute;width: 1px;}#sk-container-id-5 div.sk-estimator {font-family: monospace;background-color: #f0f8ff;border: 1px dotted black;border-radius: 0.25em;box-sizing: border-box;margin-bottom: 0.5em;}#sk-container-id-5 div.sk-estimator:hover {background-color: #d4ebff;}#sk-container-id-5 div.sk-parallel-item::after {content: \"\";width: 100%;border-bottom: 1px solid gray;flex-grow: 1;}#sk-container-id-5 div.sk-label:hover label.sk-toggleable__label {background-color: #d4ebff;}#sk-container-id-5 div.sk-serial::before {content: \"\";position: absolute;border-left: 1px solid gray;box-sizing: border-box;top: 0;bottom: 0;left: 50%;z-index: 0;}#sk-container-id-5 div.sk-serial {display: flex;flex-direction: column;align-items: center;background-color: white;padding-right: 0.2em;padding-left: 0.2em;position: relative;}#sk-container-id-5 div.sk-item {position: relative;z-index: 1;}#sk-container-id-5 div.sk-parallel {display: flex;align-items: stretch;justify-content: center;background-color: white;position: relative;}#sk-container-id-5 div.sk-item::before, #sk-container-id-5 div.sk-parallel-item::before {content: \"\";position: absolute;border-left: 1px solid gray;box-sizing: border-box;top: 0;bottom: 0;left: 50%;z-index: -1;}#sk-container-id-5 div.sk-parallel-item {display: flex;flex-direction: column;z-index: 1;position: relative;background-color: white;}#sk-container-id-5 div.sk-parallel-item:first-child::after {align-self: flex-end;width: 50%;}#sk-container-id-5 div.sk-parallel-item:last-child::after {align-self: flex-start;width: 50%;}#sk-container-id-5 div.sk-parallel-item:only-child::after {width: 0;}#sk-container-id-5 div.sk-dashed-wrapped {border: 1px dashed gray;margin: 0 0.4em 0.5em 0.4em;box-sizing: border-box;padding-bottom: 0.4em;background-color: white;}#sk-container-id-5 div.sk-label label {font-family: monospace;font-weight: bold;display: inline-block;line-height: 1.2em;}#sk-container-id-5 div.sk-label-container {text-align: center;}#sk-container-id-5 div.sk-container {/* jupyter's `normalize.less` sets `[hidden] { display: none; }` but bootstrap.min.css set `[hidden] { display: none !important; }` so we also need the `!important` here to be able to override the default hidden behavior on the sphinx rendered scikit-learn.org. See: https://github.com/scikit-learn/scikit-learn/issues/21755 */display: inline-block !important;position: relative;}#sk-container-id-5 div.sk-text-repr-fallback {display: none;}</style><div id=\"sk-container-id-5\" class=\"sk-top-container\"><div class=\"sk-text-repr-fallback\"><pre>BaggingClassifier(max_features=0.8, max_samples=0.9, n_estimators=70,\n",
       "                  random_state=1)</pre><b>In a Jupyter environment, please rerun this cell to show the HTML representation or trust the notebook. <br />On GitHub, the HTML representation is unable to render, please try loading this page with nbviewer.org.</b></div><div class=\"sk-container\" hidden><div class=\"sk-item\"><div class=\"sk-estimator sk-toggleable\"><input class=\"sk-toggleable__control sk-hidden--visually\" id=\"sk-estimator-id-5\" type=\"checkbox\" checked><label for=\"sk-estimator-id-5\" class=\"sk-toggleable__label sk-toggleable__label-arrow\">BaggingClassifier</label><div class=\"sk-toggleable__content\"><pre>BaggingClassifier(max_features=0.8, max_samples=0.9, n_estimators=70,\n",
       "                  random_state=1)</pre></div></div></div></div></div>"
      ],
      "text/plain": [
       "BaggingClassifier(max_features=0.8, max_samples=0.9, n_estimators=70,\n",
       "                  random_state=1)"
      ]
     },
     "execution_count": 52,
     "metadata": {},
     "output_type": "execute_result"
    },
    {
     "data": {
      "application/javascript": [
       "\n",
       "            setTimeout(function() {\n",
       "                var nbb_cell_id = 52;\n",
       "                var nbb_unformatted_code = \"# building model with best parameters\\nbag_ov = BaggingClassifier(\\n    random_state=1, n_estimators=70, max_samples=0.9, max_features=0.8\\n)\\n\\n# Fit the model on training data\\nbag_ov.fit(X_train_over, y_train_over)\";\n",
       "                var nbb_formatted_code = \"# building model with best parameters\\nbag_ov = BaggingClassifier(\\n    random_state=1, n_estimators=70, max_samples=0.9, max_features=0.8\\n)\\n\\n# Fit the model on training data\\nbag_ov.fit(X_train_over, y_train_over)\";\n",
       "                var nbb_cells = Jupyter.notebook.get_cells();\n",
       "                for (var i = 0; i < nbb_cells.length; ++i) {\n",
       "                    if (nbb_cells[i].input_prompt_number == nbb_cell_id) {\n",
       "                        if (nbb_cells[i].get_text() == nbb_unformatted_code) {\n",
       "                             nbb_cells[i].set_text(nbb_formatted_code);\n",
       "                        }\n",
       "                        break;\n",
       "                    }\n",
       "                }\n",
       "            }, 500);\n",
       "            "
      ],
      "text/plain": [
       "<IPython.core.display.Javascript object>"
      ]
     },
     "metadata": {},
     "output_type": "display_data"
    }
   ],
   "source": [
    "# building model with best parameters\n",
    "bag_ov = BaggingClassifier(\n",
    "    random_state=1, n_estimators=70, max_samples=0.9, max_features=0.8\n",
    ")\n",
    "\n",
    "# Fit the model on training data\n",
    "bag_ov.fit(X_train_over, y_train_over)"
   ]
  },
  {
   "cell_type": "code",
   "execution_count": 53,
   "metadata": {},
   "outputs": [
    {
     "data": {
      "text/html": [
       "<div>\n",
       "<style scoped>\n",
       "    .dataframe tbody tr th:only-of-type {\n",
       "        vertical-align: middle;\n",
       "    }\n",
       "\n",
       "    .dataframe tbody tr th {\n",
       "        vertical-align: top;\n",
       "    }\n",
       "\n",
       "    .dataframe thead th {\n",
       "        text-align: right;\n",
       "    }\n",
       "</style>\n",
       "<table border=\"1\" class=\"dataframe\">\n",
       "  <thead>\n",
       "    <tr style=\"text-align: right;\">\n",
       "      <th></th>\n",
       "      <th>Accuracy</th>\n",
       "      <th>Recall</th>\n",
       "      <th>Precision</th>\n",
       "      <th>F1</th>\n",
       "    </tr>\n",
       "  </thead>\n",
       "  <tbody>\n",
       "    <tr>\n",
       "      <th>0</th>\n",
       "      <td>1.000</td>\n",
       "      <td>1.000</td>\n",
       "      <td>1.000</td>\n",
       "      <td>1.000</td>\n",
       "    </tr>\n",
       "  </tbody>\n",
       "</table>\n",
       "</div>"
      ],
      "text/plain": [
       "   Accuracy  Recall  Precision    F1\n",
       "0     1.000   1.000      1.000 1.000"
      ]
     },
     "execution_count": 53,
     "metadata": {},
     "output_type": "execute_result"
    },
    {
     "data": {
      "application/javascript": [
       "\n",
       "            setTimeout(function() {\n",
       "                var nbb_cell_id = 53;\n",
       "                var nbb_unformatted_code = \"bag_train_ov = model_performance_classification_sklearn(\\n    bag_ov, X_train_over, y_train_over\\n)\\nbag_train_ov\";\n",
       "                var nbb_formatted_code = \"bag_train_ov = model_performance_classification_sklearn(\\n    bag_ov, X_train_over, y_train_over\\n)\\nbag_train_ov\";\n",
       "                var nbb_cells = Jupyter.notebook.get_cells();\n",
       "                for (var i = 0; i < nbb_cells.length; ++i) {\n",
       "                    if (nbb_cells[i].input_prompt_number == nbb_cell_id) {\n",
       "                        if (nbb_cells[i].get_text() == nbb_unformatted_code) {\n",
       "                             nbb_cells[i].set_text(nbb_formatted_code);\n",
       "                        }\n",
       "                        break;\n",
       "                    }\n",
       "                }\n",
       "            }, 500);\n",
       "            "
      ],
      "text/plain": [
       "<IPython.core.display.Javascript object>"
      ]
     },
     "metadata": {},
     "output_type": "display_data"
    }
   ],
   "source": [
    "bag_train_ov = model_performance_classification_sklearn(\n",
    "    bag_ov, X_train_over, y_train_over\n",
    ")\n",
    "bag_train_ov"
   ]
  },
  {
   "cell_type": "code",
   "execution_count": 54,
   "metadata": {},
   "outputs": [
    {
     "data": {
      "text/html": [
       "<div>\n",
       "<style scoped>\n",
       "    .dataframe tbody tr th:only-of-type {\n",
       "        vertical-align: middle;\n",
       "    }\n",
       "\n",
       "    .dataframe tbody tr th {\n",
       "        vertical-align: top;\n",
       "    }\n",
       "\n",
       "    .dataframe thead th {\n",
       "        text-align: right;\n",
       "    }\n",
       "</style>\n",
       "<table border=\"1\" class=\"dataframe\">\n",
       "  <thead>\n",
       "    <tr style=\"text-align: right;\">\n",
       "      <th></th>\n",
       "      <th>Accuracy</th>\n",
       "      <th>Recall</th>\n",
       "      <th>Precision</th>\n",
       "      <th>F1</th>\n",
       "    </tr>\n",
       "  </thead>\n",
       "  <tbody>\n",
       "    <tr>\n",
       "      <th>0</th>\n",
       "      <td>0.986</td>\n",
       "      <td>0.867</td>\n",
       "      <td>0.883</td>\n",
       "      <td>0.875</td>\n",
       "    </tr>\n",
       "  </tbody>\n",
       "</table>\n",
       "</div>"
      ],
      "text/plain": [
       "   Accuracy  Recall  Precision    F1\n",
       "0     0.986   0.867      0.883 0.875"
      ]
     },
     "execution_count": 54,
     "metadata": {},
     "output_type": "execute_result"
    },
    {
     "data": {
      "application/javascript": [
       "\n",
       "            setTimeout(function() {\n",
       "                var nbb_cell_id = 54;\n",
       "                var nbb_unformatted_code = \"bag_val_ov = model_performance_classification_sklearn(bag_ov, X_val, y_val)\\nbag_val_ov\";\n",
       "                var nbb_formatted_code = \"bag_val_ov = model_performance_classification_sklearn(bag_ov, X_val, y_val)\\nbag_val_ov\";\n",
       "                var nbb_cells = Jupyter.notebook.get_cells();\n",
       "                for (var i = 0; i < nbb_cells.length; ++i) {\n",
       "                    if (nbb_cells[i].input_prompt_number == nbb_cell_id) {\n",
       "                        if (nbb_cells[i].get_text() == nbb_unformatted_code) {\n",
       "                             nbb_cells[i].set_text(nbb_formatted_code);\n",
       "                        }\n",
       "                        break;\n",
       "                    }\n",
       "                }\n",
       "            }, 500);\n",
       "            "
      ],
      "text/plain": [
       "<IPython.core.display.Javascript object>"
      ]
     },
     "metadata": {},
     "output_type": "display_data"
    }
   ],
   "source": [
    "bag_val_ov = model_performance_classification_sklearn(bag_ov, X_val, y_val)\n",
    "bag_val_ov"
   ]
  },
  {
   "cell_type": "markdown",
   "metadata": {},
   "source": [
    "- There is overfitting in the train model"
   ]
  },
  {
   "cell_type": "markdown",
   "metadata": {},
   "source": [
    "### Bagging with undersampled data"
   ]
  },
  {
   "cell_type": "code",
   "execution_count": 55,
   "metadata": {},
   "outputs": [
    {
     "name": "stdout",
     "output_type": "stream",
     "text": [
      "Best parameters are {'n_estimators': 70, 'max_samples': 0.9, 'max_features': 0.9} with CV score=0.8966236202294207:\n"
     ]
    },
    {
     "data": {
      "application/javascript": [
       "\n",
       "            setTimeout(function() {\n",
       "                var nbb_cell_id = 55;\n",
       "                var nbb_unformatted_code = \"# defining model\\nModel = BaggingClassifier(random_state=1)\\n\\n# Parameter grid to pass in RandomSearchCV\\nparam_grid = {\\n    \\\"max_samples\\\": [0.8, 0.9, 1],\\n    \\\"max_features\\\": [0.7, 0.8, 0.9],\\n    \\\"n_estimators\\\": [30, 50, 70],\\n}\\n\\n# Calling RandomizedSearchCV\\nrandomized_cv = RandomizedSearchCV(\\n    estimator=Model,\\n    param_distributions=param_grid,\\n    n_iter=10,\\n    n_jobs=-1,\\n    scoring=scorer,\\n    cv=5,\\n    random_state=1,\\n)\\n\\n# Fitting parameters in RandomizedSearchCV\\nrandomized_cv.fit(X_train_un, y_train_un)\\n\\nprint(\\n    \\\"Best parameters are {} with CV score={}:\\\".format(\\n        randomized_cv.best_params_, randomized_cv.best_score_\\n    )\\n)\";\n",
       "                var nbb_formatted_code = \"# defining model\\nModel = BaggingClassifier(random_state=1)\\n\\n# Parameter grid to pass in RandomSearchCV\\nparam_grid = {\\n    \\\"max_samples\\\": [0.8, 0.9, 1],\\n    \\\"max_features\\\": [0.7, 0.8, 0.9],\\n    \\\"n_estimators\\\": [30, 50, 70],\\n}\\n\\n# Calling RandomizedSearchCV\\nrandomized_cv = RandomizedSearchCV(\\n    estimator=Model,\\n    param_distributions=param_grid,\\n    n_iter=10,\\n    n_jobs=-1,\\n    scoring=scorer,\\n    cv=5,\\n    random_state=1,\\n)\\n\\n# Fitting parameters in RandomizedSearchCV\\nrandomized_cv.fit(X_train_un, y_train_un)\\n\\nprint(\\n    \\\"Best parameters are {} with CV score={}:\\\".format(\\n        randomized_cv.best_params_, randomized_cv.best_score_\\n    )\\n)\";\n",
       "                var nbb_cells = Jupyter.notebook.get_cells();\n",
       "                for (var i = 0; i < nbb_cells.length; ++i) {\n",
       "                    if (nbb_cells[i].input_prompt_number == nbb_cell_id) {\n",
       "                        if (nbb_cells[i].get_text() == nbb_unformatted_code) {\n",
       "                             nbb_cells[i].set_text(nbb_formatted_code);\n",
       "                        }\n",
       "                        break;\n",
       "                    }\n",
       "                }\n",
       "            }, 500);\n",
       "            "
      ],
      "text/plain": [
       "<IPython.core.display.Javascript object>"
      ]
     },
     "metadata": {},
     "output_type": "display_data"
    }
   ],
   "source": [
    "# defining model\n",
    "Model = BaggingClassifier(random_state=1)\n",
    "\n",
    "# Parameter grid to pass in RandomSearchCV\n",
    "param_grid = {\n",
    "    \"max_samples\": [0.8, 0.9, 1],\n",
    "    \"max_features\": [0.7, 0.8, 0.9],\n",
    "    \"n_estimators\": [30, 50, 70],\n",
    "}\n",
    "\n",
    "# Calling RandomizedSearchCV\n",
    "randomized_cv = RandomizedSearchCV(\n",
    "    estimator=Model,\n",
    "    param_distributions=param_grid,\n",
    "    n_iter=10,\n",
    "    n_jobs=-1,\n",
    "    scoring=scorer,\n",
    "    cv=5,\n",
    "    random_state=1,\n",
    ")\n",
    "\n",
    "# Fitting parameters in RandomizedSearchCV\n",
    "randomized_cv.fit(X_train_un, y_train_un)\n",
    "\n",
    "print(\n",
    "    \"Best parameters are {} with CV score={}:\".format(\n",
    "        randomized_cv.best_params_, randomized_cv.best_score_\n",
    "    )\n",
    ")"
   ]
  },
  {
   "cell_type": "code",
   "execution_count": 56,
   "metadata": {},
   "outputs": [
    {
     "data": {
      "text/html": [
       "<style>#sk-container-id-6 {color: black;background-color: white;}#sk-container-id-6 pre{padding: 0;}#sk-container-id-6 div.sk-toggleable {background-color: white;}#sk-container-id-6 label.sk-toggleable__label {cursor: pointer;display: block;width: 100%;margin-bottom: 0;padding: 0.3em;box-sizing: border-box;text-align: center;}#sk-container-id-6 label.sk-toggleable__label-arrow:before {content: \"▸\";float: left;margin-right: 0.25em;color: #696969;}#sk-container-id-6 label.sk-toggleable__label-arrow:hover:before {color: black;}#sk-container-id-6 div.sk-estimator:hover label.sk-toggleable__label-arrow:before {color: black;}#sk-container-id-6 div.sk-toggleable__content {max-height: 0;max-width: 0;overflow: hidden;text-align: left;background-color: #f0f8ff;}#sk-container-id-6 div.sk-toggleable__content pre {margin: 0.2em;color: black;border-radius: 0.25em;background-color: #f0f8ff;}#sk-container-id-6 input.sk-toggleable__control:checked~div.sk-toggleable__content {max-height: 200px;max-width: 100%;overflow: auto;}#sk-container-id-6 input.sk-toggleable__control:checked~label.sk-toggleable__label-arrow:before {content: \"▾\";}#sk-container-id-6 div.sk-estimator input.sk-toggleable__control:checked~label.sk-toggleable__label {background-color: #d4ebff;}#sk-container-id-6 div.sk-label input.sk-toggleable__control:checked~label.sk-toggleable__label {background-color: #d4ebff;}#sk-container-id-6 input.sk-hidden--visually {border: 0;clip: rect(1px 1px 1px 1px);clip: rect(1px, 1px, 1px, 1px);height: 1px;margin: -1px;overflow: hidden;padding: 0;position: absolute;width: 1px;}#sk-container-id-6 div.sk-estimator {font-family: monospace;background-color: #f0f8ff;border: 1px dotted black;border-radius: 0.25em;box-sizing: border-box;margin-bottom: 0.5em;}#sk-container-id-6 div.sk-estimator:hover {background-color: #d4ebff;}#sk-container-id-6 div.sk-parallel-item::after {content: \"\";width: 100%;border-bottom: 1px solid gray;flex-grow: 1;}#sk-container-id-6 div.sk-label:hover label.sk-toggleable__label {background-color: #d4ebff;}#sk-container-id-6 div.sk-serial::before {content: \"\";position: absolute;border-left: 1px solid gray;box-sizing: border-box;top: 0;bottom: 0;left: 50%;z-index: 0;}#sk-container-id-6 div.sk-serial {display: flex;flex-direction: column;align-items: center;background-color: white;padding-right: 0.2em;padding-left: 0.2em;position: relative;}#sk-container-id-6 div.sk-item {position: relative;z-index: 1;}#sk-container-id-6 div.sk-parallel {display: flex;align-items: stretch;justify-content: center;background-color: white;position: relative;}#sk-container-id-6 div.sk-item::before, #sk-container-id-6 div.sk-parallel-item::before {content: \"\";position: absolute;border-left: 1px solid gray;box-sizing: border-box;top: 0;bottom: 0;left: 50%;z-index: -1;}#sk-container-id-6 div.sk-parallel-item {display: flex;flex-direction: column;z-index: 1;position: relative;background-color: white;}#sk-container-id-6 div.sk-parallel-item:first-child::after {align-self: flex-end;width: 50%;}#sk-container-id-6 div.sk-parallel-item:last-child::after {align-self: flex-start;width: 50%;}#sk-container-id-6 div.sk-parallel-item:only-child::after {width: 0;}#sk-container-id-6 div.sk-dashed-wrapped {border: 1px dashed gray;margin: 0 0.4em 0.5em 0.4em;box-sizing: border-box;padding-bottom: 0.4em;background-color: white;}#sk-container-id-6 div.sk-label label {font-family: monospace;font-weight: bold;display: inline-block;line-height: 1.2em;}#sk-container-id-6 div.sk-label-container {text-align: center;}#sk-container-id-6 div.sk-container {/* jupyter's `normalize.less` sets `[hidden] { display: none; }` but bootstrap.min.css set `[hidden] { display: none !important; }` so we also need the `!important` here to be able to override the default hidden behavior on the sphinx rendered scikit-learn.org. See: https://github.com/scikit-learn/scikit-learn/issues/21755 */display: inline-block !important;position: relative;}#sk-container-id-6 div.sk-text-repr-fallback {display: none;}</style><div id=\"sk-container-id-6\" class=\"sk-top-container\"><div class=\"sk-text-repr-fallback\"><pre>BaggingClassifier(max_features=0.9, max_samples=0.9, n_estimators=70,\n",
       "                  random_state=1)</pre><b>In a Jupyter environment, please rerun this cell to show the HTML representation or trust the notebook. <br />On GitHub, the HTML representation is unable to render, please try loading this page with nbviewer.org.</b></div><div class=\"sk-container\" hidden><div class=\"sk-item\"><div class=\"sk-estimator sk-toggleable\"><input class=\"sk-toggleable__control sk-hidden--visually\" id=\"sk-estimator-id-6\" type=\"checkbox\" checked><label for=\"sk-estimator-id-6\" class=\"sk-toggleable__label sk-toggleable__label-arrow\">BaggingClassifier</label><div class=\"sk-toggleable__content\"><pre>BaggingClassifier(max_features=0.9, max_samples=0.9, n_estimators=70,\n",
       "                  random_state=1)</pre></div></div></div></div></div>"
      ],
      "text/plain": [
       "BaggingClassifier(max_features=0.9, max_samples=0.9, n_estimators=70,\n",
       "                  random_state=1)"
      ]
     },
     "execution_count": 56,
     "metadata": {},
     "output_type": "execute_result"
    },
    {
     "data": {
      "application/javascript": [
       "\n",
       "            setTimeout(function() {\n",
       "                var nbb_cell_id = 56;\n",
       "                var nbb_unformatted_code = \"# building model with best parameters\\nbag_un = BaggingClassifier(\\n    random_state=1, n_estimators=70, max_samples=0.9, max_features=0.9\\n)\\n\\n# Fit the model on training data\\nbag_un.fit(X_train_un, y_train_un)\";\n",
       "                var nbb_formatted_code = \"# building model with best parameters\\nbag_un = BaggingClassifier(\\n    random_state=1, n_estimators=70, max_samples=0.9, max_features=0.9\\n)\\n\\n# Fit the model on training data\\nbag_un.fit(X_train_un, y_train_un)\";\n",
       "                var nbb_cells = Jupyter.notebook.get_cells();\n",
       "                for (var i = 0; i < nbb_cells.length; ++i) {\n",
       "                    if (nbb_cells[i].input_prompt_number == nbb_cell_id) {\n",
       "                        if (nbb_cells[i].get_text() == nbb_unformatted_code) {\n",
       "                             nbb_cells[i].set_text(nbb_formatted_code);\n",
       "                        }\n",
       "                        break;\n",
       "                    }\n",
       "                }\n",
       "            }, 500);\n",
       "            "
      ],
      "text/plain": [
       "<IPython.core.display.Javascript object>"
      ]
     },
     "metadata": {},
     "output_type": "display_data"
    }
   ],
   "source": [
    "# building model with best parameters\n",
    "bag_un = BaggingClassifier(\n",
    "    random_state=1, n_estimators=70, max_samples=0.9, max_features=0.9\n",
    ")\n",
    "\n",
    "# Fit the model on training data\n",
    "bag_un.fit(X_train_un, y_train_un)"
   ]
  },
  {
   "cell_type": "code",
   "execution_count": 57,
   "metadata": {},
   "outputs": [
    {
     "data": {
      "text/html": [
       "<div>\n",
       "<style scoped>\n",
       "    .dataframe tbody tr th:only-of-type {\n",
       "        vertical-align: middle;\n",
       "    }\n",
       "\n",
       "    .dataframe tbody tr th {\n",
       "        vertical-align: top;\n",
       "    }\n",
       "\n",
       "    .dataframe thead th {\n",
       "        text-align: right;\n",
       "    }\n",
       "</style>\n",
       "<table border=\"1\" class=\"dataframe\">\n",
       "  <thead>\n",
       "    <tr style=\"text-align: right;\">\n",
       "      <th></th>\n",
       "      <th>Accuracy</th>\n",
       "      <th>Recall</th>\n",
       "      <th>Precision</th>\n",
       "      <th>F1</th>\n",
       "    </tr>\n",
       "  </thead>\n",
       "  <tbody>\n",
       "    <tr>\n",
       "      <th>0</th>\n",
       "      <td>1.000</td>\n",
       "      <td>1.000</td>\n",
       "      <td>1.000</td>\n",
       "      <td>1.000</td>\n",
       "    </tr>\n",
       "  </tbody>\n",
       "</table>\n",
       "</div>"
      ],
      "text/plain": [
       "   Accuracy  Recall  Precision    F1\n",
       "0     1.000   1.000      1.000 1.000"
      ]
     },
     "execution_count": 57,
     "metadata": {},
     "output_type": "execute_result"
    },
    {
     "data": {
      "application/javascript": [
       "\n",
       "            setTimeout(function() {\n",
       "                var nbb_cell_id = 57;\n",
       "                var nbb_unformatted_code = \"bag_train_un = model_performance_classification_sklearn(bag_un, X_train_un, y_train_un)\\nbag_train_un\";\n",
       "                var nbb_formatted_code = \"bag_train_un = model_performance_classification_sklearn(bag_un, X_train_un, y_train_un)\\nbag_train_un\";\n",
       "                var nbb_cells = Jupyter.notebook.get_cells();\n",
       "                for (var i = 0; i < nbb_cells.length; ++i) {\n",
       "                    if (nbb_cells[i].input_prompt_number == nbb_cell_id) {\n",
       "                        if (nbb_cells[i].get_text() == nbb_unformatted_code) {\n",
       "                             nbb_cells[i].set_text(nbb_formatted_code);\n",
       "                        }\n",
       "                        break;\n",
       "                    }\n",
       "                }\n",
       "            }, 500);\n",
       "            "
      ],
      "text/plain": [
       "<IPython.core.display.Javascript object>"
      ]
     },
     "metadata": {},
     "output_type": "display_data"
    }
   ],
   "source": [
    "bag_train_un = model_performance_classification_sklearn(bag_un, X_train_un, y_train_un)\n",
    "bag_train_un"
   ]
  },
  {
   "cell_type": "code",
   "execution_count": 58,
   "metadata": {},
   "outputs": [
    {
     "data": {
      "text/html": [
       "<div>\n",
       "<style scoped>\n",
       "    .dataframe tbody tr th:only-of-type {\n",
       "        vertical-align: middle;\n",
       "    }\n",
       "\n",
       "    .dataframe tbody tr th {\n",
       "        vertical-align: top;\n",
       "    }\n",
       "\n",
       "    .dataframe thead th {\n",
       "        text-align: right;\n",
       "    }\n",
       "</style>\n",
       "<table border=\"1\" class=\"dataframe\">\n",
       "  <thead>\n",
       "    <tr style=\"text-align: right;\">\n",
       "      <th></th>\n",
       "      <th>Accuracy</th>\n",
       "      <th>Recall</th>\n",
       "      <th>Precision</th>\n",
       "      <th>F1</th>\n",
       "    </tr>\n",
       "  </thead>\n",
       "  <tbody>\n",
       "    <tr>\n",
       "      <th>0</th>\n",
       "      <td>0.938</td>\n",
       "      <td>0.896</td>\n",
       "      <td>0.469</td>\n",
       "      <td>0.616</td>\n",
       "    </tr>\n",
       "  </tbody>\n",
       "</table>\n",
       "</div>"
      ],
      "text/plain": [
       "   Accuracy  Recall  Precision    F1\n",
       "0     0.938   0.896      0.469 0.616"
      ]
     },
     "execution_count": 58,
     "metadata": {},
     "output_type": "execute_result"
    },
    {
     "data": {
      "application/javascript": [
       "\n",
       "            setTimeout(function() {\n",
       "                var nbb_cell_id = 58;\n",
       "                var nbb_unformatted_code = \"bag_val_un = model_performance_classification_sklearn(bag_un, X_val, y_val)\\nbag_val_un\";\n",
       "                var nbb_formatted_code = \"bag_val_un = model_performance_classification_sklearn(bag_un, X_val, y_val)\\nbag_val_un\";\n",
       "                var nbb_cells = Jupyter.notebook.get_cells();\n",
       "                for (var i = 0; i < nbb_cells.length; ++i) {\n",
       "                    if (nbb_cells[i].input_prompt_number == nbb_cell_id) {\n",
       "                        if (nbb_cells[i].get_text() == nbb_unformatted_code) {\n",
       "                             nbb_cells[i].set_text(nbb_formatted_code);\n",
       "                        }\n",
       "                        break;\n",
       "                    }\n",
       "                }\n",
       "            }, 500);\n",
       "            "
      ],
      "text/plain": [
       "<IPython.core.display.Javascript object>"
      ]
     },
     "metadata": {},
     "output_type": "display_data"
    }
   ],
   "source": [
    "bag_val_un = model_performance_classification_sklearn(bag_un, X_val, y_val)\n",
    "bag_val_un"
   ]
  },
  {
   "cell_type": "markdown",
   "metadata": {},
   "source": [
    "- There is also overfitting in the train model"
   ]
  },
  {
   "cell_type": "markdown",
   "metadata": {},
   "source": [
    "### RandomForest with original data"
   ]
  },
  {
   "cell_type": "code",
   "execution_count": 59,
   "metadata": {},
   "outputs": [
    {
     "name": "stdout",
     "output_type": "stream",
     "text": [
      "Best parameters are {'n_estimators': 250, 'min_samples_leaf': 1, 'max_samples': 0.6, 'max_features': 'sqrt'} with CV score=0.6996248466921577:\n"
     ]
    },
    {
     "data": {
      "application/javascript": [
       "\n",
       "            setTimeout(function() {\n",
       "                var nbb_cell_id = 59;\n",
       "                var nbb_unformatted_code = \"# defining model\\nModel = RandomForestClassifier(random_state=1)\\n\\n# Parameter grid to pass in RandomSearchCV\\nparam_grid = param_grid = {\\n    \\\"n_estimators\\\": [200, 250, 300],\\n    \\\"min_samples_leaf\\\": np.arange(1, 4),\\n    \\\"max_features\\\": [np.arange(0.3, 0.6, 0.1), \\\"sqrt\\\"],\\n    \\\"max_samples\\\": np.arange(0.4, 0.7, 0.1),\\n}\\n\\n# Calling RandomizedSearchCV\\nrandomized_cv = RandomizedSearchCV(\\n    estimator=Model,\\n    param_distributions=param_grid,\\n    n_iter=10,\\n    n_jobs=-1,\\n    scoring=scorer,\\n    cv=5,\\n    random_state=1,\\n)\\n\\n# Fitting parameters in RandomizedSearchCV\\nrandomized_cv.fit(X_train, y_train)\\n\\nprint(\\n    \\\"Best parameters are {} with CV score={}:\\\".format(\\n        randomized_cv.best_params_, randomized_cv.best_score_\\n    )\\n)\";\n",
       "                var nbb_formatted_code = \"# defining model\\nModel = RandomForestClassifier(random_state=1)\\n\\n# Parameter grid to pass in RandomSearchCV\\nparam_grid = param_grid = {\\n    \\\"n_estimators\\\": [200, 250, 300],\\n    \\\"min_samples_leaf\\\": np.arange(1, 4),\\n    \\\"max_features\\\": [np.arange(0.3, 0.6, 0.1), \\\"sqrt\\\"],\\n    \\\"max_samples\\\": np.arange(0.4, 0.7, 0.1),\\n}\\n\\n# Calling RandomizedSearchCV\\nrandomized_cv = RandomizedSearchCV(\\n    estimator=Model,\\n    param_distributions=param_grid,\\n    n_iter=10,\\n    n_jobs=-1,\\n    scoring=scorer,\\n    cv=5,\\n    random_state=1,\\n)\\n\\n# Fitting parameters in RandomizedSearchCV\\nrandomized_cv.fit(X_train, y_train)\\n\\nprint(\\n    \\\"Best parameters are {} with CV score={}:\\\".format(\\n        randomized_cv.best_params_, randomized_cv.best_score_\\n    )\\n)\";\n",
       "                var nbb_cells = Jupyter.notebook.get_cells();\n",
       "                for (var i = 0; i < nbb_cells.length; ++i) {\n",
       "                    if (nbb_cells[i].input_prompt_number == nbb_cell_id) {\n",
       "                        if (nbb_cells[i].get_text() == nbb_unformatted_code) {\n",
       "                             nbb_cells[i].set_text(nbb_formatted_code);\n",
       "                        }\n",
       "                        break;\n",
       "                    }\n",
       "                }\n",
       "            }, 500);\n",
       "            "
      ],
      "text/plain": [
       "<IPython.core.display.Javascript object>"
      ]
     },
     "metadata": {},
     "output_type": "display_data"
    }
   ],
   "source": [
    "# defining model\n",
    "Model = RandomForestClassifier(random_state=1)\n",
    "\n",
    "# Parameter grid to pass in RandomSearchCV\n",
    "param_grid = param_grid = {\n",
    "    \"n_estimators\": [200, 250, 300],\n",
    "    \"min_samples_leaf\": np.arange(1, 4),\n",
    "    \"max_features\": [np.arange(0.3, 0.6, 0.1), \"sqrt\"],\n",
    "    \"max_samples\": np.arange(0.4, 0.7, 0.1),\n",
    "}\n",
    "\n",
    "# Calling RandomizedSearchCV\n",
    "randomized_cv = RandomizedSearchCV(\n",
    "    estimator=Model,\n",
    "    param_distributions=param_grid,\n",
    "    n_iter=10,\n",
    "    n_jobs=-1,\n",
    "    scoring=scorer,\n",
    "    cv=5,\n",
    "    random_state=1,\n",
    ")\n",
    "\n",
    "# Fitting parameters in RandomizedSearchCV\n",
    "randomized_cv.fit(X_train, y_train)\n",
    "\n",
    "print(\n",
    "    \"Best parameters are {} with CV score={}:\".format(\n",
    "        randomized_cv.best_params_, randomized_cv.best_score_\n",
    "    )\n",
    ")"
   ]
  },
  {
   "cell_type": "code",
   "execution_count": 60,
   "metadata": {},
   "outputs": [
    {
     "data": {
      "text/html": [
       "<style>#sk-container-id-7 {color: black;background-color: white;}#sk-container-id-7 pre{padding: 0;}#sk-container-id-7 div.sk-toggleable {background-color: white;}#sk-container-id-7 label.sk-toggleable__label {cursor: pointer;display: block;width: 100%;margin-bottom: 0;padding: 0.3em;box-sizing: border-box;text-align: center;}#sk-container-id-7 label.sk-toggleable__label-arrow:before {content: \"▸\";float: left;margin-right: 0.25em;color: #696969;}#sk-container-id-7 label.sk-toggleable__label-arrow:hover:before {color: black;}#sk-container-id-7 div.sk-estimator:hover label.sk-toggleable__label-arrow:before {color: black;}#sk-container-id-7 div.sk-toggleable__content {max-height: 0;max-width: 0;overflow: hidden;text-align: left;background-color: #f0f8ff;}#sk-container-id-7 div.sk-toggleable__content pre {margin: 0.2em;color: black;border-radius: 0.25em;background-color: #f0f8ff;}#sk-container-id-7 input.sk-toggleable__control:checked~div.sk-toggleable__content {max-height: 200px;max-width: 100%;overflow: auto;}#sk-container-id-7 input.sk-toggleable__control:checked~label.sk-toggleable__label-arrow:before {content: \"▾\";}#sk-container-id-7 div.sk-estimator input.sk-toggleable__control:checked~label.sk-toggleable__label {background-color: #d4ebff;}#sk-container-id-7 div.sk-label input.sk-toggleable__control:checked~label.sk-toggleable__label {background-color: #d4ebff;}#sk-container-id-7 input.sk-hidden--visually {border: 0;clip: rect(1px 1px 1px 1px);clip: rect(1px, 1px, 1px, 1px);height: 1px;margin: -1px;overflow: hidden;padding: 0;position: absolute;width: 1px;}#sk-container-id-7 div.sk-estimator {font-family: monospace;background-color: #f0f8ff;border: 1px dotted black;border-radius: 0.25em;box-sizing: border-box;margin-bottom: 0.5em;}#sk-container-id-7 div.sk-estimator:hover {background-color: #d4ebff;}#sk-container-id-7 div.sk-parallel-item::after {content: \"\";width: 100%;border-bottom: 1px solid gray;flex-grow: 1;}#sk-container-id-7 div.sk-label:hover label.sk-toggleable__label {background-color: #d4ebff;}#sk-container-id-7 div.sk-serial::before {content: \"\";position: absolute;border-left: 1px solid gray;box-sizing: border-box;top: 0;bottom: 0;left: 50%;z-index: 0;}#sk-container-id-7 div.sk-serial {display: flex;flex-direction: column;align-items: center;background-color: white;padding-right: 0.2em;padding-left: 0.2em;position: relative;}#sk-container-id-7 div.sk-item {position: relative;z-index: 1;}#sk-container-id-7 div.sk-parallel {display: flex;align-items: stretch;justify-content: center;background-color: white;position: relative;}#sk-container-id-7 div.sk-item::before, #sk-container-id-7 div.sk-parallel-item::before {content: \"\";position: absolute;border-left: 1px solid gray;box-sizing: border-box;top: 0;bottom: 0;left: 50%;z-index: -1;}#sk-container-id-7 div.sk-parallel-item {display: flex;flex-direction: column;z-index: 1;position: relative;background-color: white;}#sk-container-id-7 div.sk-parallel-item:first-child::after {align-self: flex-end;width: 50%;}#sk-container-id-7 div.sk-parallel-item:last-child::after {align-self: flex-start;width: 50%;}#sk-container-id-7 div.sk-parallel-item:only-child::after {width: 0;}#sk-container-id-7 div.sk-dashed-wrapped {border: 1px dashed gray;margin: 0 0.4em 0.5em 0.4em;box-sizing: border-box;padding-bottom: 0.4em;background-color: white;}#sk-container-id-7 div.sk-label label {font-family: monospace;font-weight: bold;display: inline-block;line-height: 1.2em;}#sk-container-id-7 div.sk-label-container {text-align: center;}#sk-container-id-7 div.sk-container {/* jupyter's `normalize.less` sets `[hidden] { display: none; }` but bootstrap.min.css set `[hidden] { display: none !important; }` so we also need the `!important` here to be able to override the default hidden behavior on the sphinx rendered scikit-learn.org. See: https://github.com/scikit-learn/scikit-learn/issues/21755 */display: inline-block !important;position: relative;}#sk-container-id-7 div.sk-text-repr-fallback {display: none;}</style><div id=\"sk-container-id-7\" class=\"sk-top-container\"><div class=\"sk-text-repr-fallback\"><pre>RandomForestClassifier(max_samples=0.6, n_estimators=250, random_state=1)</pre><b>In a Jupyter environment, please rerun this cell to show the HTML representation or trust the notebook. <br />On GitHub, the HTML representation is unable to render, please try loading this page with nbviewer.org.</b></div><div class=\"sk-container\" hidden><div class=\"sk-item\"><div class=\"sk-estimator sk-toggleable\"><input class=\"sk-toggleable__control sk-hidden--visually\" id=\"sk-estimator-id-7\" type=\"checkbox\" checked><label for=\"sk-estimator-id-7\" class=\"sk-toggleable__label sk-toggleable__label-arrow\">RandomForestClassifier</label><div class=\"sk-toggleable__content\"><pre>RandomForestClassifier(max_samples=0.6, n_estimators=250, random_state=1)</pre></div></div></div></div></div>"
      ],
      "text/plain": [
       "RandomForestClassifier(max_samples=0.6, n_estimators=250, random_state=1)"
      ]
     },
     "execution_count": 60,
     "metadata": {},
     "output_type": "execute_result"
    },
    {
     "data": {
      "application/javascript": [
       "\n",
       "            setTimeout(function() {\n",
       "                var nbb_cell_id = 60;\n",
       "                var nbb_unformatted_code = \"# building model with best parameters\\nrf_orig = RandomForestClassifier(\\n    random_state=1,\\n    n_estimators=250,\\n    min_samples_leaf=1,\\n    max_samples=0.6,\\n    max_features=\\\"sqrt\\\",\\n)\\n\\n# Fit the model on training data\\nrf_orig.fit(X_train, y_train)\";\n",
       "                var nbb_formatted_code = \"# building model with best parameters\\nrf_orig = RandomForestClassifier(\\n    random_state=1,\\n    n_estimators=250,\\n    min_samples_leaf=1,\\n    max_samples=0.6,\\n    max_features=\\\"sqrt\\\",\\n)\\n\\n# Fit the model on training data\\nrf_orig.fit(X_train, y_train)\";\n",
       "                var nbb_cells = Jupyter.notebook.get_cells();\n",
       "                for (var i = 0; i < nbb_cells.length; ++i) {\n",
       "                    if (nbb_cells[i].input_prompt_number == nbb_cell_id) {\n",
       "                        if (nbb_cells[i].get_text() == nbb_unformatted_code) {\n",
       "                             nbb_cells[i].set_text(nbb_formatted_code);\n",
       "                        }\n",
       "                        break;\n",
       "                    }\n",
       "                }\n",
       "            }, 500);\n",
       "            "
      ],
      "text/plain": [
       "<IPython.core.display.Javascript object>"
      ]
     },
     "metadata": {},
     "output_type": "display_data"
    }
   ],
   "source": [
    "# building model with best parameters\n",
    "rf_orig = RandomForestClassifier(\n",
    "    random_state=1,\n",
    "    n_estimators=250,\n",
    "    min_samples_leaf=1,\n",
    "    max_samples=0.6,\n",
    "    max_features=\"sqrt\",\n",
    ")\n",
    "\n",
    "# Fit the model on training data\n",
    "rf_orig.fit(X_train, y_train)"
   ]
  },
  {
   "cell_type": "code",
   "execution_count": 61,
   "metadata": {},
   "outputs": [
    {
     "data": {
      "text/html": [
       "<div>\n",
       "<style scoped>\n",
       "    .dataframe tbody tr th:only-of-type {\n",
       "        vertical-align: middle;\n",
       "    }\n",
       "\n",
       "    .dataframe tbody tr th {\n",
       "        vertical-align: top;\n",
       "    }\n",
       "\n",
       "    .dataframe thead th {\n",
       "        text-align: right;\n",
       "    }\n",
       "</style>\n",
       "<table border=\"1\" class=\"dataframe\">\n",
       "  <thead>\n",
       "    <tr style=\"text-align: right;\">\n",
       "      <th></th>\n",
       "      <th>Accuracy</th>\n",
       "      <th>Recall</th>\n",
       "      <th>Precision</th>\n",
       "      <th>F1</th>\n",
       "    </tr>\n",
       "  </thead>\n",
       "  <tbody>\n",
       "    <tr>\n",
       "      <th>0</th>\n",
       "      <td>0.995</td>\n",
       "      <td>0.909</td>\n",
       "      <td>1.000</td>\n",
       "      <td>0.952</td>\n",
       "    </tr>\n",
       "  </tbody>\n",
       "</table>\n",
       "</div>"
      ],
      "text/plain": [
       "   Accuracy  Recall  Precision    F1\n",
       "0     0.995   0.909      1.000 0.952"
      ]
     },
     "execution_count": 61,
     "metadata": {},
     "output_type": "execute_result"
    },
    {
     "data": {
      "application/javascript": [
       "\n",
       "            setTimeout(function() {\n",
       "                var nbb_cell_id = 61;\n",
       "                var nbb_unformatted_code = \"rf_train_orig = model_performance_classification_sklearn(rf_orig, X_train, y_train)\\nrf_train_orig\";\n",
       "                var nbb_formatted_code = \"rf_train_orig = model_performance_classification_sklearn(rf_orig, X_train, y_train)\\nrf_train_orig\";\n",
       "                var nbb_cells = Jupyter.notebook.get_cells();\n",
       "                for (var i = 0; i < nbb_cells.length; ++i) {\n",
       "                    if (nbb_cells[i].input_prompt_number == nbb_cell_id) {\n",
       "                        if (nbb_cells[i].get_text() == nbb_unformatted_code) {\n",
       "                             nbb_cells[i].set_text(nbb_formatted_code);\n",
       "                        }\n",
       "                        break;\n",
       "                    }\n",
       "                }\n",
       "            }, 500);\n",
       "            "
      ],
      "text/plain": [
       "<IPython.core.display.Javascript object>"
      ]
     },
     "metadata": {},
     "output_type": "display_data"
    }
   ],
   "source": [
    "rf_train_orig = model_performance_classification_sklearn(rf_orig, X_train, y_train)\n",
    "rf_train_orig"
   ]
  },
  {
   "cell_type": "code",
   "execution_count": 62,
   "metadata": {},
   "outputs": [
    {
     "data": {
      "text/html": [
       "<div>\n",
       "<style scoped>\n",
       "    .dataframe tbody tr th:only-of-type {\n",
       "        vertical-align: middle;\n",
       "    }\n",
       "\n",
       "    .dataframe tbody tr th {\n",
       "        vertical-align: top;\n",
       "    }\n",
       "\n",
       "    .dataframe thead th {\n",
       "        text-align: right;\n",
       "    }\n",
       "</style>\n",
       "<table border=\"1\" class=\"dataframe\">\n",
       "  <thead>\n",
       "    <tr style=\"text-align: right;\">\n",
       "      <th></th>\n",
       "      <th>Accuracy</th>\n",
       "      <th>Recall</th>\n",
       "      <th>Precision</th>\n",
       "      <th>F1</th>\n",
       "    </tr>\n",
       "  </thead>\n",
       "  <tbody>\n",
       "    <tr>\n",
       "      <th>0</th>\n",
       "      <td>0.983</td>\n",
       "      <td>0.712</td>\n",
       "      <td>0.985</td>\n",
       "      <td>0.827</td>\n",
       "    </tr>\n",
       "  </tbody>\n",
       "</table>\n",
       "</div>"
      ],
      "text/plain": [
       "   Accuracy  Recall  Precision    F1\n",
       "0     0.983   0.712      0.985 0.827"
      ]
     },
     "execution_count": 62,
     "metadata": {},
     "output_type": "execute_result"
    },
    {
     "data": {
      "application/javascript": [
       "\n",
       "            setTimeout(function() {\n",
       "                var nbb_cell_id = 62;\n",
       "                var nbb_unformatted_code = \"rf_val_orig = model_performance_classification_sklearn(rf_orig, X_val, y_val)\\nrf_val_orig\";\n",
       "                var nbb_formatted_code = \"rf_val_orig = model_performance_classification_sklearn(rf_orig, X_val, y_val)\\nrf_val_orig\";\n",
       "                var nbb_cells = Jupyter.notebook.get_cells();\n",
       "                for (var i = 0; i < nbb_cells.length; ++i) {\n",
       "                    if (nbb_cells[i].input_prompt_number == nbb_cell_id) {\n",
       "                        if (nbb_cells[i].get_text() == nbb_unformatted_code) {\n",
       "                             nbb_cells[i].set_text(nbb_formatted_code);\n",
       "                        }\n",
       "                        break;\n",
       "                    }\n",
       "                }\n",
       "            }, 500);\n",
       "            "
      ],
      "text/plain": [
       "<IPython.core.display.Javascript object>"
      ]
     },
     "metadata": {},
     "output_type": "display_data"
    }
   ],
   "source": [
    "rf_val_orig = model_performance_classification_sklearn(rf_orig, X_val, y_val)\n",
    "rf_val_orig"
   ]
  },
  {
   "cell_type": "markdown",
   "metadata": {},
   "source": [
    "- There is overfitting in Recall parameter, others parameters are fitting well"
   ]
  },
  {
   "cell_type": "markdown",
   "metadata": {},
   "source": [
    "### RandomForest with oversampled data"
   ]
  },
  {
   "cell_type": "code",
   "execution_count": 63,
   "metadata": {},
   "outputs": [
    {
     "name": "stdout",
     "output_type": "stream",
     "text": [
      "Best parameters are {'n_estimators': 300, 'min_samples_leaf': 1, 'max_samples': 0.6, 'max_features': 'sqrt'} with CV score=0.9815078165615898:\n"
     ]
    },
    {
     "data": {
      "application/javascript": [
       "\n",
       "            setTimeout(function() {\n",
       "                var nbb_cell_id = 63;\n",
       "                var nbb_unformatted_code = \"# defining model\\nModel = RandomForestClassifier(random_state=1)\\n\\n# Parameter grid to pass in RandomSearchCV\\nparam_grid = param_grid = {\\n    \\\"n_estimators\\\": [200, 250, 300],\\n    \\\"min_samples_leaf\\\": np.arange(1, 4),\\n    \\\"max_features\\\": [np.arange(0.3, 0.6, 0.1), \\\"sqrt\\\"],\\n    \\\"max_samples\\\": np.arange(0.4, 0.7, 0.1),\\n}\\n\\n# Calling RandomizedSearchCV\\nrandomized_cv = RandomizedSearchCV(\\n    estimator=Model,\\n    param_distributions=param_grid,\\n    n_iter=10,\\n    n_jobs=-1,\\n    scoring=scorer,\\n    cv=5,\\n    random_state=1,\\n)\\n\\n# Fitting parameters in RandomizedSearchCV\\nrandomized_cv.fit(X_train_over, y_train_over)\\n\\nprint(\\n    \\\"Best parameters are {} with CV score={}:\\\".format(\\n        randomized_cv.best_params_, randomized_cv.best_score_\\n    )\\n)\";\n",
       "                var nbb_formatted_code = \"# defining model\\nModel = RandomForestClassifier(random_state=1)\\n\\n# Parameter grid to pass in RandomSearchCV\\nparam_grid = param_grid = {\\n    \\\"n_estimators\\\": [200, 250, 300],\\n    \\\"min_samples_leaf\\\": np.arange(1, 4),\\n    \\\"max_features\\\": [np.arange(0.3, 0.6, 0.1), \\\"sqrt\\\"],\\n    \\\"max_samples\\\": np.arange(0.4, 0.7, 0.1),\\n}\\n\\n# Calling RandomizedSearchCV\\nrandomized_cv = RandomizedSearchCV(\\n    estimator=Model,\\n    param_distributions=param_grid,\\n    n_iter=10,\\n    n_jobs=-1,\\n    scoring=scorer,\\n    cv=5,\\n    random_state=1,\\n)\\n\\n# Fitting parameters in RandomizedSearchCV\\nrandomized_cv.fit(X_train_over, y_train_over)\\n\\nprint(\\n    \\\"Best parameters are {} with CV score={}:\\\".format(\\n        randomized_cv.best_params_, randomized_cv.best_score_\\n    )\\n)\";\n",
       "                var nbb_cells = Jupyter.notebook.get_cells();\n",
       "                for (var i = 0; i < nbb_cells.length; ++i) {\n",
       "                    if (nbb_cells[i].input_prompt_number == nbb_cell_id) {\n",
       "                        if (nbb_cells[i].get_text() == nbb_unformatted_code) {\n",
       "                             nbb_cells[i].set_text(nbb_formatted_code);\n",
       "                        }\n",
       "                        break;\n",
       "                    }\n",
       "                }\n",
       "            }, 500);\n",
       "            "
      ],
      "text/plain": [
       "<IPython.core.display.Javascript object>"
      ]
     },
     "metadata": {},
     "output_type": "display_data"
    }
   ],
   "source": [
    "# defining model\n",
    "Model = RandomForestClassifier(random_state=1)\n",
    "\n",
    "# Parameter grid to pass in RandomSearchCV\n",
    "param_grid = param_grid = {\n",
    "    \"n_estimators\": [200, 250, 300],\n",
    "    \"min_samples_leaf\": np.arange(1, 4),\n",
    "    \"max_features\": [np.arange(0.3, 0.6, 0.1), \"sqrt\"],\n",
    "    \"max_samples\": np.arange(0.4, 0.7, 0.1),\n",
    "}\n",
    "\n",
    "# Calling RandomizedSearchCV\n",
    "randomized_cv = RandomizedSearchCV(\n",
    "    estimator=Model,\n",
    "    param_distributions=param_grid,\n",
    "    n_iter=10,\n",
    "    n_jobs=-1,\n",
    "    scoring=scorer,\n",
    "    cv=5,\n",
    "    random_state=1,\n",
    ")\n",
    "\n",
    "# Fitting parameters in RandomizedSearchCV\n",
    "randomized_cv.fit(X_train_over, y_train_over)\n",
    "\n",
    "print(\n",
    "    \"Best parameters are {} with CV score={}:\".format(\n",
    "        randomized_cv.best_params_, randomized_cv.best_score_\n",
    "    )\n",
    ")"
   ]
  },
  {
   "cell_type": "code",
   "execution_count": 64,
   "metadata": {},
   "outputs": [
    {
     "data": {
      "text/html": [
       "<style>#sk-container-id-8 {color: black;background-color: white;}#sk-container-id-8 pre{padding: 0;}#sk-container-id-8 div.sk-toggleable {background-color: white;}#sk-container-id-8 label.sk-toggleable__label {cursor: pointer;display: block;width: 100%;margin-bottom: 0;padding: 0.3em;box-sizing: border-box;text-align: center;}#sk-container-id-8 label.sk-toggleable__label-arrow:before {content: \"▸\";float: left;margin-right: 0.25em;color: #696969;}#sk-container-id-8 label.sk-toggleable__label-arrow:hover:before {color: black;}#sk-container-id-8 div.sk-estimator:hover label.sk-toggleable__label-arrow:before {color: black;}#sk-container-id-8 div.sk-toggleable__content {max-height: 0;max-width: 0;overflow: hidden;text-align: left;background-color: #f0f8ff;}#sk-container-id-8 div.sk-toggleable__content pre {margin: 0.2em;color: black;border-radius: 0.25em;background-color: #f0f8ff;}#sk-container-id-8 input.sk-toggleable__control:checked~div.sk-toggleable__content {max-height: 200px;max-width: 100%;overflow: auto;}#sk-container-id-8 input.sk-toggleable__control:checked~label.sk-toggleable__label-arrow:before {content: \"▾\";}#sk-container-id-8 div.sk-estimator input.sk-toggleable__control:checked~label.sk-toggleable__label {background-color: #d4ebff;}#sk-container-id-8 div.sk-label input.sk-toggleable__control:checked~label.sk-toggleable__label {background-color: #d4ebff;}#sk-container-id-8 input.sk-hidden--visually {border: 0;clip: rect(1px 1px 1px 1px);clip: rect(1px, 1px, 1px, 1px);height: 1px;margin: -1px;overflow: hidden;padding: 0;position: absolute;width: 1px;}#sk-container-id-8 div.sk-estimator {font-family: monospace;background-color: #f0f8ff;border: 1px dotted black;border-radius: 0.25em;box-sizing: border-box;margin-bottom: 0.5em;}#sk-container-id-8 div.sk-estimator:hover {background-color: #d4ebff;}#sk-container-id-8 div.sk-parallel-item::after {content: \"\";width: 100%;border-bottom: 1px solid gray;flex-grow: 1;}#sk-container-id-8 div.sk-label:hover label.sk-toggleable__label {background-color: #d4ebff;}#sk-container-id-8 div.sk-serial::before {content: \"\";position: absolute;border-left: 1px solid gray;box-sizing: border-box;top: 0;bottom: 0;left: 50%;z-index: 0;}#sk-container-id-8 div.sk-serial {display: flex;flex-direction: column;align-items: center;background-color: white;padding-right: 0.2em;padding-left: 0.2em;position: relative;}#sk-container-id-8 div.sk-item {position: relative;z-index: 1;}#sk-container-id-8 div.sk-parallel {display: flex;align-items: stretch;justify-content: center;background-color: white;position: relative;}#sk-container-id-8 div.sk-item::before, #sk-container-id-8 div.sk-parallel-item::before {content: \"\";position: absolute;border-left: 1px solid gray;box-sizing: border-box;top: 0;bottom: 0;left: 50%;z-index: -1;}#sk-container-id-8 div.sk-parallel-item {display: flex;flex-direction: column;z-index: 1;position: relative;background-color: white;}#sk-container-id-8 div.sk-parallel-item:first-child::after {align-self: flex-end;width: 50%;}#sk-container-id-8 div.sk-parallel-item:last-child::after {align-self: flex-start;width: 50%;}#sk-container-id-8 div.sk-parallel-item:only-child::after {width: 0;}#sk-container-id-8 div.sk-dashed-wrapped {border: 1px dashed gray;margin: 0 0.4em 0.5em 0.4em;box-sizing: border-box;padding-bottom: 0.4em;background-color: white;}#sk-container-id-8 div.sk-label label {font-family: monospace;font-weight: bold;display: inline-block;line-height: 1.2em;}#sk-container-id-8 div.sk-label-container {text-align: center;}#sk-container-id-8 div.sk-container {/* jupyter's `normalize.less` sets `[hidden] { display: none; }` but bootstrap.min.css set `[hidden] { display: none !important; }` so we also need the `!important` here to be able to override the default hidden behavior on the sphinx rendered scikit-learn.org. See: https://github.com/scikit-learn/scikit-learn/issues/21755 */display: inline-block !important;position: relative;}#sk-container-id-8 div.sk-text-repr-fallback {display: none;}</style><div id=\"sk-container-id-8\" class=\"sk-top-container\"><div class=\"sk-text-repr-fallback\"><pre>RandomForestClassifier(max_samples=0.6, n_estimators=300, random_state=1)</pre><b>In a Jupyter environment, please rerun this cell to show the HTML representation or trust the notebook. <br />On GitHub, the HTML representation is unable to render, please try loading this page with nbviewer.org.</b></div><div class=\"sk-container\" hidden><div class=\"sk-item\"><div class=\"sk-estimator sk-toggleable\"><input class=\"sk-toggleable__control sk-hidden--visually\" id=\"sk-estimator-id-8\" type=\"checkbox\" checked><label for=\"sk-estimator-id-8\" class=\"sk-toggleable__label sk-toggleable__label-arrow\">RandomForestClassifier</label><div class=\"sk-toggleable__content\"><pre>RandomForestClassifier(max_samples=0.6, n_estimators=300, random_state=1)</pre></div></div></div></div></div>"
      ],
      "text/plain": [
       "RandomForestClassifier(max_samples=0.6, n_estimators=300, random_state=1)"
      ]
     },
     "execution_count": 64,
     "metadata": {},
     "output_type": "execute_result"
    },
    {
     "data": {
      "application/javascript": [
       "\n",
       "            setTimeout(function() {\n",
       "                var nbb_cell_id = 64;\n",
       "                var nbb_unformatted_code = \"# building model with best parameters\\nrf_ov = RandomForestClassifier(\\n    random_state=1,\\n    n_estimators=300,\\n    min_samples_leaf=1,\\n    max_samples=0.6,\\n    max_features=\\\"sqrt\\\",\\n)\\n# Fit the model on training data\\nrf_ov.fit(X_train_over, y_train_over)\";\n",
       "                var nbb_formatted_code = \"# building model with best parameters\\nrf_ov = RandomForestClassifier(\\n    random_state=1,\\n    n_estimators=300,\\n    min_samples_leaf=1,\\n    max_samples=0.6,\\n    max_features=\\\"sqrt\\\",\\n)\\n# Fit the model on training data\\nrf_ov.fit(X_train_over, y_train_over)\";\n",
       "                var nbb_cells = Jupyter.notebook.get_cells();\n",
       "                for (var i = 0; i < nbb_cells.length; ++i) {\n",
       "                    if (nbb_cells[i].input_prompt_number == nbb_cell_id) {\n",
       "                        if (nbb_cells[i].get_text() == nbb_unformatted_code) {\n",
       "                             nbb_cells[i].set_text(nbb_formatted_code);\n",
       "                        }\n",
       "                        break;\n",
       "                    }\n",
       "                }\n",
       "            }, 500);\n",
       "            "
      ],
      "text/plain": [
       "<IPython.core.display.Javascript object>"
      ]
     },
     "metadata": {},
     "output_type": "display_data"
    }
   ],
   "source": [
    "# building model with best parameters\n",
    "rf_ov = RandomForestClassifier(\n",
    "    random_state=1,\n",
    "    n_estimators=300,\n",
    "    min_samples_leaf=1,\n",
    "    max_samples=0.6,\n",
    "    max_features=\"sqrt\",\n",
    ")\n",
    "# Fit the model on training data\n",
    "rf_ov.fit(X_train_over, y_train_over)"
   ]
  },
  {
   "cell_type": "code",
   "execution_count": 65,
   "metadata": {},
   "outputs": [
    {
     "data": {
      "text/html": [
       "<div>\n",
       "<style scoped>\n",
       "    .dataframe tbody tr th:only-of-type {\n",
       "        vertical-align: middle;\n",
       "    }\n",
       "\n",
       "    .dataframe tbody tr th {\n",
       "        vertical-align: top;\n",
       "    }\n",
       "\n",
       "    .dataframe thead th {\n",
       "        text-align: right;\n",
       "    }\n",
       "</style>\n",
       "<table border=\"1\" class=\"dataframe\">\n",
       "  <thead>\n",
       "    <tr style=\"text-align: right;\">\n",
       "      <th></th>\n",
       "      <th>Accuracy</th>\n",
       "      <th>Recall</th>\n",
       "      <th>Precision</th>\n",
       "      <th>F1</th>\n",
       "    </tr>\n",
       "  </thead>\n",
       "  <tbody>\n",
       "    <tr>\n",
       "      <th>0</th>\n",
       "      <td>1.000</td>\n",
       "      <td>0.999</td>\n",
       "      <td>1.000</td>\n",
       "      <td>1.000</td>\n",
       "    </tr>\n",
       "  </tbody>\n",
       "</table>\n",
       "</div>"
      ],
      "text/plain": [
       "   Accuracy  Recall  Precision    F1\n",
       "0     1.000   0.999      1.000 1.000"
      ]
     },
     "execution_count": 65,
     "metadata": {},
     "output_type": "execute_result"
    },
    {
     "data": {
      "application/javascript": [
       "\n",
       "            setTimeout(function() {\n",
       "                var nbb_cell_id = 65;\n",
       "                var nbb_unformatted_code = \"rf_train_ov = model_performance_classification_sklearn(\\n    rf_ov, X_train_over, y_train_over\\n)\\nrf_train_ov\";\n",
       "                var nbb_formatted_code = \"rf_train_ov = model_performance_classification_sklearn(\\n    rf_ov, X_train_over, y_train_over\\n)\\nrf_train_ov\";\n",
       "                var nbb_cells = Jupyter.notebook.get_cells();\n",
       "                for (var i = 0; i < nbb_cells.length; ++i) {\n",
       "                    if (nbb_cells[i].input_prompt_number == nbb_cell_id) {\n",
       "                        if (nbb_cells[i].get_text() == nbb_unformatted_code) {\n",
       "                             nbb_cells[i].set_text(nbb_formatted_code);\n",
       "                        }\n",
       "                        break;\n",
       "                    }\n",
       "                }\n",
       "            }, 500);\n",
       "            "
      ],
      "text/plain": [
       "<IPython.core.display.Javascript object>"
      ]
     },
     "metadata": {},
     "output_type": "display_data"
    }
   ],
   "source": [
    "rf_train_ov = model_performance_classification_sklearn(\n",
    "    rf_ov, X_train_over, y_train_over\n",
    ")\n",
    "rf_train_ov"
   ]
  },
  {
   "cell_type": "code",
   "execution_count": 66,
   "metadata": {},
   "outputs": [
    {
     "data": {
      "text/html": [
       "<div>\n",
       "<style scoped>\n",
       "    .dataframe tbody tr th:only-of-type {\n",
       "        vertical-align: middle;\n",
       "    }\n",
       "\n",
       "    .dataframe tbody tr th {\n",
       "        vertical-align: top;\n",
       "    }\n",
       "\n",
       "    .dataframe thead th {\n",
       "        text-align: right;\n",
       "    }\n",
       "</style>\n",
       "<table border=\"1\" class=\"dataframe\">\n",
       "  <thead>\n",
       "    <tr style=\"text-align: right;\">\n",
       "      <th></th>\n",
       "      <th>Accuracy</th>\n",
       "      <th>Recall</th>\n",
       "      <th>Precision</th>\n",
       "      <th>F1</th>\n",
       "    </tr>\n",
       "  </thead>\n",
       "  <tbody>\n",
       "    <tr>\n",
       "      <th>0</th>\n",
       "      <td>0.988</td>\n",
       "      <td>0.860</td>\n",
       "      <td>0.926</td>\n",
       "      <td>0.892</td>\n",
       "    </tr>\n",
       "  </tbody>\n",
       "</table>\n",
       "</div>"
      ],
      "text/plain": [
       "   Accuracy  Recall  Precision    F1\n",
       "0     0.988   0.860      0.926 0.892"
      ]
     },
     "execution_count": 66,
     "metadata": {},
     "output_type": "execute_result"
    },
    {
     "data": {
      "application/javascript": [
       "\n",
       "            setTimeout(function() {\n",
       "                var nbb_cell_id = 66;\n",
       "                var nbb_unformatted_code = \"rf_val_ov = model_performance_classification_sklearn(rf_ov, X_val, y_val)\\nrf_val_ov\";\n",
       "                var nbb_formatted_code = \"rf_val_ov = model_performance_classification_sklearn(rf_ov, X_val, y_val)\\nrf_val_ov\";\n",
       "                var nbb_cells = Jupyter.notebook.get_cells();\n",
       "                for (var i = 0; i < nbb_cells.length; ++i) {\n",
       "                    if (nbb_cells[i].input_prompt_number == nbb_cell_id) {\n",
       "                        if (nbb_cells[i].get_text() == nbb_unformatted_code) {\n",
       "                             nbb_cells[i].set_text(nbb_formatted_code);\n",
       "                        }\n",
       "                        break;\n",
       "                    }\n",
       "                }\n",
       "            }, 500);\n",
       "            "
      ],
      "text/plain": [
       "<IPython.core.display.Javascript object>"
      ]
     },
     "metadata": {},
     "output_type": "display_data"
    }
   ],
   "source": [
    "rf_val_ov = model_performance_classification_sklearn(rf_ov, X_val, y_val)\n",
    "rf_val_ov"
   ]
  },
  {
   "cell_type": "markdown",
   "metadata": {},
   "source": [
    "- There is also overfitting in Recall, other parameters are peforming well"
   ]
  },
  {
   "cell_type": "markdown",
   "metadata": {},
   "source": [
    "### RandomForest with undersampled data"
   ]
  },
  {
   "cell_type": "code",
   "execution_count": 67,
   "metadata": {},
   "outputs": [
    {
     "name": "stdout",
     "output_type": "stream",
     "text": [
      "Best parameters are {'n_estimators': 250, 'min_samples_leaf': 1, 'max_samples': 0.6, 'max_features': 'sqrt'} with CV score=0.8978140105331505:\n"
     ]
    },
    {
     "data": {
      "application/javascript": [
       "\n",
       "            setTimeout(function() {\n",
       "                var nbb_cell_id = 67;\n",
       "                var nbb_unformatted_code = \"# defining model\\nModel = RandomForestClassifier(random_state=1)\\n\\n# Parameter grid to pass in RandomSearchCV\\nparam_grid = param_grid = {\\n    \\\"n_estimators\\\": [200, 250, 300],\\n    \\\"min_samples_leaf\\\": np.arange(1, 4),\\n    \\\"max_features\\\": [np.arange(0.3, 0.6, 0.1), \\\"sqrt\\\"],\\n    \\\"max_samples\\\": np.arange(0.4, 0.7, 0.1),\\n}\\n\\n# Calling RandomizedSearchCV\\nrandomized_cv = RandomizedSearchCV(\\n    estimator=Model,\\n    param_distributions=param_grid,\\n    n_iter=10,\\n    n_jobs=-1,\\n    scoring=scorer,\\n    cv=5,\\n    random_state=1,\\n)\\n\\n# Fitting parameters in RandomizedSearchCV\\nrandomized_cv.fit(X_train_un, y_train_un)\\n\\nprint(\\n    \\\"Best parameters are {} with CV score={}:\\\".format(\\n        randomized_cv.best_params_, randomized_cv.best_score_\\n    )\\n)\";\n",
       "                var nbb_formatted_code = \"# defining model\\nModel = RandomForestClassifier(random_state=1)\\n\\n# Parameter grid to pass in RandomSearchCV\\nparam_grid = param_grid = {\\n    \\\"n_estimators\\\": [200, 250, 300],\\n    \\\"min_samples_leaf\\\": np.arange(1, 4),\\n    \\\"max_features\\\": [np.arange(0.3, 0.6, 0.1), \\\"sqrt\\\"],\\n    \\\"max_samples\\\": np.arange(0.4, 0.7, 0.1),\\n}\\n\\n# Calling RandomizedSearchCV\\nrandomized_cv = RandomizedSearchCV(\\n    estimator=Model,\\n    param_distributions=param_grid,\\n    n_iter=10,\\n    n_jobs=-1,\\n    scoring=scorer,\\n    cv=5,\\n    random_state=1,\\n)\\n\\n# Fitting parameters in RandomizedSearchCV\\nrandomized_cv.fit(X_train_un, y_train_un)\\n\\nprint(\\n    \\\"Best parameters are {} with CV score={}:\\\".format(\\n        randomized_cv.best_params_, randomized_cv.best_score_\\n    )\\n)\";\n",
       "                var nbb_cells = Jupyter.notebook.get_cells();\n",
       "                for (var i = 0; i < nbb_cells.length; ++i) {\n",
       "                    if (nbb_cells[i].input_prompt_number == nbb_cell_id) {\n",
       "                        if (nbb_cells[i].get_text() == nbb_unformatted_code) {\n",
       "                             nbb_cells[i].set_text(nbb_formatted_code);\n",
       "                        }\n",
       "                        break;\n",
       "                    }\n",
       "                }\n",
       "            }, 500);\n",
       "            "
      ],
      "text/plain": [
       "<IPython.core.display.Javascript object>"
      ]
     },
     "metadata": {},
     "output_type": "display_data"
    }
   ],
   "source": [
    "# defining model\n",
    "Model = RandomForestClassifier(random_state=1)\n",
    "\n",
    "# Parameter grid to pass in RandomSearchCV\n",
    "param_grid = param_grid = {\n",
    "    \"n_estimators\": [200, 250, 300],\n",
    "    \"min_samples_leaf\": np.arange(1, 4),\n",
    "    \"max_features\": [np.arange(0.3, 0.6, 0.1), \"sqrt\"],\n",
    "    \"max_samples\": np.arange(0.4, 0.7, 0.1),\n",
    "}\n",
    "\n",
    "# Calling RandomizedSearchCV\n",
    "randomized_cv = RandomizedSearchCV(\n",
    "    estimator=Model,\n",
    "    param_distributions=param_grid,\n",
    "    n_iter=10,\n",
    "    n_jobs=-1,\n",
    "    scoring=scorer,\n",
    "    cv=5,\n",
    "    random_state=1,\n",
    ")\n",
    "\n",
    "# Fitting parameters in RandomizedSearchCV\n",
    "randomized_cv.fit(X_train_un, y_train_un)\n",
    "\n",
    "print(\n",
    "    \"Best parameters are {} with CV score={}:\".format(\n",
    "        randomized_cv.best_params_, randomized_cv.best_score_\n",
    "    )\n",
    ")"
   ]
  },
  {
   "cell_type": "code",
   "execution_count": 68,
   "metadata": {},
   "outputs": [
    {
     "data": {
      "text/html": [
       "<style>#sk-container-id-9 {color: black;background-color: white;}#sk-container-id-9 pre{padding: 0;}#sk-container-id-9 div.sk-toggleable {background-color: white;}#sk-container-id-9 label.sk-toggleable__label {cursor: pointer;display: block;width: 100%;margin-bottom: 0;padding: 0.3em;box-sizing: border-box;text-align: center;}#sk-container-id-9 label.sk-toggleable__label-arrow:before {content: \"▸\";float: left;margin-right: 0.25em;color: #696969;}#sk-container-id-9 label.sk-toggleable__label-arrow:hover:before {color: black;}#sk-container-id-9 div.sk-estimator:hover label.sk-toggleable__label-arrow:before {color: black;}#sk-container-id-9 div.sk-toggleable__content {max-height: 0;max-width: 0;overflow: hidden;text-align: left;background-color: #f0f8ff;}#sk-container-id-9 div.sk-toggleable__content pre {margin: 0.2em;color: black;border-radius: 0.25em;background-color: #f0f8ff;}#sk-container-id-9 input.sk-toggleable__control:checked~div.sk-toggleable__content {max-height: 200px;max-width: 100%;overflow: auto;}#sk-container-id-9 input.sk-toggleable__control:checked~label.sk-toggleable__label-arrow:before {content: \"▾\";}#sk-container-id-9 div.sk-estimator input.sk-toggleable__control:checked~label.sk-toggleable__label {background-color: #d4ebff;}#sk-container-id-9 div.sk-label input.sk-toggleable__control:checked~label.sk-toggleable__label {background-color: #d4ebff;}#sk-container-id-9 input.sk-hidden--visually {border: 0;clip: rect(1px 1px 1px 1px);clip: rect(1px, 1px, 1px, 1px);height: 1px;margin: -1px;overflow: hidden;padding: 0;position: absolute;width: 1px;}#sk-container-id-9 div.sk-estimator {font-family: monospace;background-color: #f0f8ff;border: 1px dotted black;border-radius: 0.25em;box-sizing: border-box;margin-bottom: 0.5em;}#sk-container-id-9 div.sk-estimator:hover {background-color: #d4ebff;}#sk-container-id-9 div.sk-parallel-item::after {content: \"\";width: 100%;border-bottom: 1px solid gray;flex-grow: 1;}#sk-container-id-9 div.sk-label:hover label.sk-toggleable__label {background-color: #d4ebff;}#sk-container-id-9 div.sk-serial::before {content: \"\";position: absolute;border-left: 1px solid gray;box-sizing: border-box;top: 0;bottom: 0;left: 50%;z-index: 0;}#sk-container-id-9 div.sk-serial {display: flex;flex-direction: column;align-items: center;background-color: white;padding-right: 0.2em;padding-left: 0.2em;position: relative;}#sk-container-id-9 div.sk-item {position: relative;z-index: 1;}#sk-container-id-9 div.sk-parallel {display: flex;align-items: stretch;justify-content: center;background-color: white;position: relative;}#sk-container-id-9 div.sk-item::before, #sk-container-id-9 div.sk-parallel-item::before {content: \"\";position: absolute;border-left: 1px solid gray;box-sizing: border-box;top: 0;bottom: 0;left: 50%;z-index: -1;}#sk-container-id-9 div.sk-parallel-item {display: flex;flex-direction: column;z-index: 1;position: relative;background-color: white;}#sk-container-id-9 div.sk-parallel-item:first-child::after {align-self: flex-end;width: 50%;}#sk-container-id-9 div.sk-parallel-item:last-child::after {align-self: flex-start;width: 50%;}#sk-container-id-9 div.sk-parallel-item:only-child::after {width: 0;}#sk-container-id-9 div.sk-dashed-wrapped {border: 1px dashed gray;margin: 0 0.4em 0.5em 0.4em;box-sizing: border-box;padding-bottom: 0.4em;background-color: white;}#sk-container-id-9 div.sk-label label {font-family: monospace;font-weight: bold;display: inline-block;line-height: 1.2em;}#sk-container-id-9 div.sk-label-container {text-align: center;}#sk-container-id-9 div.sk-container {/* jupyter's `normalize.less` sets `[hidden] { display: none; }` but bootstrap.min.css set `[hidden] { display: none !important; }` so we also need the `!important` here to be able to override the default hidden behavior on the sphinx rendered scikit-learn.org. See: https://github.com/scikit-learn/scikit-learn/issues/21755 */display: inline-block !important;position: relative;}#sk-container-id-9 div.sk-text-repr-fallback {display: none;}</style><div id=\"sk-container-id-9\" class=\"sk-top-container\"><div class=\"sk-text-repr-fallback\"><pre>RandomForestClassifier(max_samples=0.6, n_estimators=250, random_state=1)</pre><b>In a Jupyter environment, please rerun this cell to show the HTML representation or trust the notebook. <br />On GitHub, the HTML representation is unable to render, please try loading this page with nbviewer.org.</b></div><div class=\"sk-container\" hidden><div class=\"sk-item\"><div class=\"sk-estimator sk-toggleable\"><input class=\"sk-toggleable__control sk-hidden--visually\" id=\"sk-estimator-id-9\" type=\"checkbox\" checked><label for=\"sk-estimator-id-9\" class=\"sk-toggleable__label sk-toggleable__label-arrow\">RandomForestClassifier</label><div class=\"sk-toggleable__content\"><pre>RandomForestClassifier(max_samples=0.6, n_estimators=250, random_state=1)</pre></div></div></div></div></div>"
      ],
      "text/plain": [
       "RandomForestClassifier(max_samples=0.6, n_estimators=250, random_state=1)"
      ]
     },
     "execution_count": 68,
     "metadata": {},
     "output_type": "execute_result"
    },
    {
     "data": {
      "application/javascript": [
       "\n",
       "            setTimeout(function() {\n",
       "                var nbb_cell_id = 68;\n",
       "                var nbb_unformatted_code = \"# building model with best parameters\\nrf_un = RandomForestClassifier(\\n    random_state=1,\\n    n_estimators=250,\\n    min_samples_leaf=1,\\n    max_samples=0.6,\\n    max_features=\\\"sqrt\\\",\\n)\\n\\n\\n# Fit the model on training data\\nrf_un.fit(X_train_un, y_train_un)\";\n",
       "                var nbb_formatted_code = \"# building model with best parameters\\nrf_un = RandomForestClassifier(\\n    random_state=1,\\n    n_estimators=250,\\n    min_samples_leaf=1,\\n    max_samples=0.6,\\n    max_features=\\\"sqrt\\\",\\n)\\n\\n\\n# Fit the model on training data\\nrf_un.fit(X_train_un, y_train_un)\";\n",
       "                var nbb_cells = Jupyter.notebook.get_cells();\n",
       "                for (var i = 0; i < nbb_cells.length; ++i) {\n",
       "                    if (nbb_cells[i].input_prompt_number == nbb_cell_id) {\n",
       "                        if (nbb_cells[i].get_text() == nbb_unformatted_code) {\n",
       "                             nbb_cells[i].set_text(nbb_formatted_code);\n",
       "                        }\n",
       "                        break;\n",
       "                    }\n",
       "                }\n",
       "            }, 500);\n",
       "            "
      ],
      "text/plain": [
       "<IPython.core.display.Javascript object>"
      ]
     },
     "metadata": {},
     "output_type": "display_data"
    }
   ],
   "source": [
    "# building model with best parameters\n",
    "rf_un = RandomForestClassifier(\n",
    "    random_state=1,\n",
    "    n_estimators=250,\n",
    "    min_samples_leaf=1,\n",
    "    max_samples=0.6,\n",
    "    max_features=\"sqrt\",\n",
    ")\n",
    "\n",
    "\n",
    "# Fit the model on training data\n",
    "rf_un.fit(X_train_un, y_train_un)"
   ]
  },
  {
   "cell_type": "code",
   "execution_count": 69,
   "metadata": {},
   "outputs": [
    {
     "data": {
      "text/html": [
       "<div>\n",
       "<style scoped>\n",
       "    .dataframe tbody tr th:only-of-type {\n",
       "        vertical-align: middle;\n",
       "    }\n",
       "\n",
       "    .dataframe tbody tr th {\n",
       "        vertical-align: top;\n",
       "    }\n",
       "\n",
       "    .dataframe thead th {\n",
       "        text-align: right;\n",
       "    }\n",
       "</style>\n",
       "<table border=\"1\" class=\"dataframe\">\n",
       "  <thead>\n",
       "    <tr style=\"text-align: right;\">\n",
       "      <th></th>\n",
       "      <th>Accuracy</th>\n",
       "      <th>Recall</th>\n",
       "      <th>Precision</th>\n",
       "      <th>F1</th>\n",
       "    </tr>\n",
       "  </thead>\n",
       "  <tbody>\n",
       "    <tr>\n",
       "      <th>0</th>\n",
       "      <td>0.988</td>\n",
       "      <td>0.977</td>\n",
       "      <td>0.999</td>\n",
       "      <td>0.988</td>\n",
       "    </tr>\n",
       "  </tbody>\n",
       "</table>\n",
       "</div>"
      ],
      "text/plain": [
       "   Accuracy  Recall  Precision    F1\n",
       "0     0.988   0.977      0.999 0.988"
      ]
     },
     "execution_count": 69,
     "metadata": {},
     "output_type": "execute_result"
    },
    {
     "data": {
      "application/javascript": [
       "\n",
       "            setTimeout(function() {\n",
       "                var nbb_cell_id = 69;\n",
       "                var nbb_unformatted_code = \"rf_train_un = model_performance_classification_sklearn(rf_un, X_train_un, y_train_un)\\nrf_train_un\";\n",
       "                var nbb_formatted_code = \"rf_train_un = model_performance_classification_sklearn(rf_un, X_train_un, y_train_un)\\nrf_train_un\";\n",
       "                var nbb_cells = Jupyter.notebook.get_cells();\n",
       "                for (var i = 0; i < nbb_cells.length; ++i) {\n",
       "                    if (nbb_cells[i].input_prompt_number == nbb_cell_id) {\n",
       "                        if (nbb_cells[i].get_text() == nbb_unformatted_code) {\n",
       "                             nbb_cells[i].set_text(nbb_formatted_code);\n",
       "                        }\n",
       "                        break;\n",
       "                    }\n",
       "                }\n",
       "            }, 500);\n",
       "            "
      ],
      "text/plain": [
       "<IPython.core.display.Javascript object>"
      ]
     },
     "metadata": {},
     "output_type": "display_data"
    }
   ],
   "source": [
    "rf_train_un = model_performance_classification_sklearn(rf_un, X_train_un, y_train_un)\n",
    "rf_train_un"
   ]
  },
  {
   "cell_type": "code",
   "execution_count": 70,
   "metadata": {},
   "outputs": [
    {
     "data": {
      "text/html": [
       "<div>\n",
       "<style scoped>\n",
       "    .dataframe tbody tr th:only-of-type {\n",
       "        vertical-align: middle;\n",
       "    }\n",
       "\n",
       "    .dataframe tbody tr th {\n",
       "        vertical-align: top;\n",
       "    }\n",
       "\n",
       "    .dataframe thead th {\n",
       "        text-align: right;\n",
       "    }\n",
       "</style>\n",
       "<table border=\"1\" class=\"dataframe\">\n",
       "  <thead>\n",
       "    <tr style=\"text-align: right;\">\n",
       "      <th></th>\n",
       "      <th>Accuracy</th>\n",
       "      <th>Recall</th>\n",
       "      <th>Precision</th>\n",
       "      <th>F1</th>\n",
       "    </tr>\n",
       "  </thead>\n",
       "  <tbody>\n",
       "    <tr>\n",
       "      <th>0</th>\n",
       "      <td>0.944</td>\n",
       "      <td>0.885</td>\n",
       "      <td>0.496</td>\n",
       "      <td>0.636</td>\n",
       "    </tr>\n",
       "  </tbody>\n",
       "</table>\n",
       "</div>"
      ],
      "text/plain": [
       "   Accuracy  Recall  Precision    F1\n",
       "0     0.944   0.885      0.496 0.636"
      ]
     },
     "execution_count": 70,
     "metadata": {},
     "output_type": "execute_result"
    },
    {
     "data": {
      "application/javascript": [
       "\n",
       "            setTimeout(function() {\n",
       "                var nbb_cell_id = 70;\n",
       "                var nbb_unformatted_code = \"rf_val_un = model_performance_classification_sklearn(rf_un, X_val, y_val)\\nrf_val_un\";\n",
       "                var nbb_formatted_code = \"rf_val_un = model_performance_classification_sklearn(rf_un, X_val, y_val)\\nrf_val_un\";\n",
       "                var nbb_cells = Jupyter.notebook.get_cells();\n",
       "                for (var i = 0; i < nbb_cells.length; ++i) {\n",
       "                    if (nbb_cells[i].input_prompt_number == nbb_cell_id) {\n",
       "                        if (nbb_cells[i].get_text() == nbb_unformatted_code) {\n",
       "                             nbb_cells[i].set_text(nbb_formatted_code);\n",
       "                        }\n",
       "                        break;\n",
       "                    }\n",
       "                }\n",
       "            }, 500);\n",
       "            "
      ],
      "text/plain": [
       "<IPython.core.display.Javascript object>"
      ]
     },
     "metadata": {},
     "output_type": "display_data"
    }
   ],
   "source": [
    "rf_val_un = model_performance_classification_sklearn(rf_un, X_val, y_val)\n",
    "rf_val_un"
   ]
  },
  {
   "cell_type": "markdown",
   "metadata": {},
   "source": [
    "- There is overfitting in Recall, other parameters Precission and F1 score are performing poorly"
   ]
  },
  {
   "cell_type": "markdown",
   "metadata": {},
   "source": [
    "### XGBoost with original data"
   ]
  },
  {
   "cell_type": "code",
   "execution_count": 71,
   "metadata": {},
   "outputs": [
    {
     "name": "stdout",
     "output_type": "stream",
     "text": [
      "Best parameters are {'subsample': 0.8, 'scale_pos_weight': 10, 'n_estimators': 150, 'learning_rate': 0.1, 'gamma': 3} with CV score=0.8570088738186279:\n"
     ]
    },
    {
     "data": {
      "application/javascript": [
       "\n",
       "            setTimeout(function() {\n",
       "                var nbb_cell_id = 71;\n",
       "                var nbb_unformatted_code = \"# defining model\\nModel = XGBClassifier(random_state=1, eval_metric=\\\"logloss\\\")\\n\\n# Parameter grid to pass in RandomSearchCV\\nparam_grid = {\\n    \\\"n_estimators\\\": [150, 200, 250],\\n    \\\"scale_pos_weight\\\": [5, 10],\\n    \\\"learning_rate\\\": [0.1, 0.2],\\n    \\\"gamma\\\": [0, 3, 5],\\n    \\\"subsample\\\": [0.8, 0.9],\\n}\\n\\n# Calling RandomizedSearchCV\\nrandomized_cv = RandomizedSearchCV(\\n    estimator=Model,\\n    param_distributions=param_grid,\\n    n_iter=10,\\n    n_jobs=-1,\\n    scoring=scorer,\\n    cv=5,\\n    random_state=1,\\n)\\n\\n# Fitting parameters in RandomizedSearchCV\\nrandomized_cv.fit(X_train, y_train)\\n\\nprint(\\n    \\\"Best parameters are {} with CV score={}:\\\".format(\\n        randomized_cv.best_params_, randomized_cv.best_score_\\n    )\\n)\";\n",
       "                var nbb_formatted_code = \"# defining model\\nModel = XGBClassifier(random_state=1, eval_metric=\\\"logloss\\\")\\n\\n# Parameter grid to pass in RandomSearchCV\\nparam_grid = {\\n    \\\"n_estimators\\\": [150, 200, 250],\\n    \\\"scale_pos_weight\\\": [5, 10],\\n    \\\"learning_rate\\\": [0.1, 0.2],\\n    \\\"gamma\\\": [0, 3, 5],\\n    \\\"subsample\\\": [0.8, 0.9],\\n}\\n\\n# Calling RandomizedSearchCV\\nrandomized_cv = RandomizedSearchCV(\\n    estimator=Model,\\n    param_distributions=param_grid,\\n    n_iter=10,\\n    n_jobs=-1,\\n    scoring=scorer,\\n    cv=5,\\n    random_state=1,\\n)\\n\\n# Fitting parameters in RandomizedSearchCV\\nrandomized_cv.fit(X_train, y_train)\\n\\nprint(\\n    \\\"Best parameters are {} with CV score={}:\\\".format(\\n        randomized_cv.best_params_, randomized_cv.best_score_\\n    )\\n)\";\n",
       "                var nbb_cells = Jupyter.notebook.get_cells();\n",
       "                for (var i = 0; i < nbb_cells.length; ++i) {\n",
       "                    if (nbb_cells[i].input_prompt_number == nbb_cell_id) {\n",
       "                        if (nbb_cells[i].get_text() == nbb_unformatted_code) {\n",
       "                             nbb_cells[i].set_text(nbb_formatted_code);\n",
       "                        }\n",
       "                        break;\n",
       "                    }\n",
       "                }\n",
       "            }, 500);\n",
       "            "
      ],
      "text/plain": [
       "<IPython.core.display.Javascript object>"
      ]
     },
     "metadata": {},
     "output_type": "display_data"
    }
   ],
   "source": [
    "# defining model\n",
    "Model = XGBClassifier(random_state=1, eval_metric=\"logloss\")\n",
    "\n",
    "# Parameter grid to pass in RandomSearchCV\n",
    "param_grid = {\n",
    "    \"n_estimators\": [150, 200, 250],\n",
    "    \"scale_pos_weight\": [5, 10],\n",
    "    \"learning_rate\": [0.1, 0.2],\n",
    "    \"gamma\": [0, 3, 5],\n",
    "    \"subsample\": [0.8, 0.9],\n",
    "}\n",
    "\n",
    "# Calling RandomizedSearchCV\n",
    "randomized_cv = RandomizedSearchCV(\n",
    "    estimator=Model,\n",
    "    param_distributions=param_grid,\n",
    "    n_iter=10,\n",
    "    n_jobs=-1,\n",
    "    scoring=scorer,\n",
    "    cv=5,\n",
    "    random_state=1,\n",
    ")\n",
    "\n",
    "# Fitting parameters in RandomizedSearchCV\n",
    "randomized_cv.fit(X_train, y_train)\n",
    "\n",
    "print(\n",
    "    \"Best parameters are {} with CV score={}:\".format(\n",
    "        randomized_cv.best_params_, randomized_cv.best_score_\n",
    "    )\n",
    ")"
   ]
  },
  {
   "cell_type": "code",
   "execution_count": 72,
   "metadata": {},
   "outputs": [
    {
     "data": {
      "text/html": [
       "<style>#sk-container-id-10 {color: black;background-color: white;}#sk-container-id-10 pre{padding: 0;}#sk-container-id-10 div.sk-toggleable {background-color: white;}#sk-container-id-10 label.sk-toggleable__label {cursor: pointer;display: block;width: 100%;margin-bottom: 0;padding: 0.3em;box-sizing: border-box;text-align: center;}#sk-container-id-10 label.sk-toggleable__label-arrow:before {content: \"▸\";float: left;margin-right: 0.25em;color: #696969;}#sk-container-id-10 label.sk-toggleable__label-arrow:hover:before {color: black;}#sk-container-id-10 div.sk-estimator:hover label.sk-toggleable__label-arrow:before {color: black;}#sk-container-id-10 div.sk-toggleable__content {max-height: 0;max-width: 0;overflow: hidden;text-align: left;background-color: #f0f8ff;}#sk-container-id-10 div.sk-toggleable__content pre {margin: 0.2em;color: black;border-radius: 0.25em;background-color: #f0f8ff;}#sk-container-id-10 input.sk-toggleable__control:checked~div.sk-toggleable__content {max-height: 200px;max-width: 100%;overflow: auto;}#sk-container-id-10 input.sk-toggleable__control:checked~label.sk-toggleable__label-arrow:before {content: \"▾\";}#sk-container-id-10 div.sk-estimator input.sk-toggleable__control:checked~label.sk-toggleable__label {background-color: #d4ebff;}#sk-container-id-10 div.sk-label input.sk-toggleable__control:checked~label.sk-toggleable__label {background-color: #d4ebff;}#sk-container-id-10 input.sk-hidden--visually {border: 0;clip: rect(1px 1px 1px 1px);clip: rect(1px, 1px, 1px, 1px);height: 1px;margin: -1px;overflow: hidden;padding: 0;position: absolute;width: 1px;}#sk-container-id-10 div.sk-estimator {font-family: monospace;background-color: #f0f8ff;border: 1px dotted black;border-radius: 0.25em;box-sizing: border-box;margin-bottom: 0.5em;}#sk-container-id-10 div.sk-estimator:hover {background-color: #d4ebff;}#sk-container-id-10 div.sk-parallel-item::after {content: \"\";width: 100%;border-bottom: 1px solid gray;flex-grow: 1;}#sk-container-id-10 div.sk-label:hover label.sk-toggleable__label {background-color: #d4ebff;}#sk-container-id-10 div.sk-serial::before {content: \"\";position: absolute;border-left: 1px solid gray;box-sizing: border-box;top: 0;bottom: 0;left: 50%;z-index: 0;}#sk-container-id-10 div.sk-serial {display: flex;flex-direction: column;align-items: center;background-color: white;padding-right: 0.2em;padding-left: 0.2em;position: relative;}#sk-container-id-10 div.sk-item {position: relative;z-index: 1;}#sk-container-id-10 div.sk-parallel {display: flex;align-items: stretch;justify-content: center;background-color: white;position: relative;}#sk-container-id-10 div.sk-item::before, #sk-container-id-10 div.sk-parallel-item::before {content: \"\";position: absolute;border-left: 1px solid gray;box-sizing: border-box;top: 0;bottom: 0;left: 50%;z-index: -1;}#sk-container-id-10 div.sk-parallel-item {display: flex;flex-direction: column;z-index: 1;position: relative;background-color: white;}#sk-container-id-10 div.sk-parallel-item:first-child::after {align-self: flex-end;width: 50%;}#sk-container-id-10 div.sk-parallel-item:last-child::after {align-self: flex-start;width: 50%;}#sk-container-id-10 div.sk-parallel-item:only-child::after {width: 0;}#sk-container-id-10 div.sk-dashed-wrapped {border: 1px dashed gray;margin: 0 0.4em 0.5em 0.4em;box-sizing: border-box;padding-bottom: 0.4em;background-color: white;}#sk-container-id-10 div.sk-label label {font-family: monospace;font-weight: bold;display: inline-block;line-height: 1.2em;}#sk-container-id-10 div.sk-label-container {text-align: center;}#sk-container-id-10 div.sk-container {/* jupyter's `normalize.less` sets `[hidden] { display: none; }` but bootstrap.min.css set `[hidden] { display: none !important; }` so we also need the `!important` here to be able to override the default hidden behavior on the sphinx rendered scikit-learn.org. See: https://github.com/scikit-learn/scikit-learn/issues/21755 */display: inline-block !important;position: relative;}#sk-container-id-10 div.sk-text-repr-fallback {display: none;}</style><div id=\"sk-container-id-10\" class=\"sk-top-container\"><div class=\"sk-text-repr-fallback\"><pre>XGBClassifier(base_score=0.5, booster=&#x27;gbtree&#x27;, colsample_bylevel=1,\n",
       "              colsample_bynode=1, colsample_bytree=1, enable_categorical=False,\n",
       "              eval_metric=&#x27;logloss&#x27;, gamma=3, gpu_id=-1, importance_type=None,\n",
       "              interaction_constraints=&#x27;&#x27;, learning_rate=0.1, max_delta_step=0,\n",
       "              max_depth=6, min_child_weight=1, missing=nan,\n",
       "              monotone_constraints=&#x27;()&#x27;, n_estimators=150, n_jobs=4,\n",
       "              num_parallel_tree=1, predictor=&#x27;auto&#x27;, random_state=1,\n",
       "              reg_alpha=0, reg_lambda=1, scale_pos_weight=10, subsample=0.8,\n",
       "              tree_method=&#x27;exact&#x27;, validate_parameters=1, verbosity=None)</pre><b>In a Jupyter environment, please rerun this cell to show the HTML representation or trust the notebook. <br />On GitHub, the HTML representation is unable to render, please try loading this page with nbviewer.org.</b></div><div class=\"sk-container\" hidden><div class=\"sk-item\"><div class=\"sk-estimator sk-toggleable\"><input class=\"sk-toggleable__control sk-hidden--visually\" id=\"sk-estimator-id-10\" type=\"checkbox\" checked><label for=\"sk-estimator-id-10\" class=\"sk-toggleable__label sk-toggleable__label-arrow\">XGBClassifier</label><div class=\"sk-toggleable__content\"><pre>XGBClassifier(base_score=0.5, booster=&#x27;gbtree&#x27;, colsample_bylevel=1,\n",
       "              colsample_bynode=1, colsample_bytree=1, enable_categorical=False,\n",
       "              eval_metric=&#x27;logloss&#x27;, gamma=3, gpu_id=-1, importance_type=None,\n",
       "              interaction_constraints=&#x27;&#x27;, learning_rate=0.1, max_delta_step=0,\n",
       "              max_depth=6, min_child_weight=1, missing=nan,\n",
       "              monotone_constraints=&#x27;()&#x27;, n_estimators=150, n_jobs=4,\n",
       "              num_parallel_tree=1, predictor=&#x27;auto&#x27;, random_state=1,\n",
       "              reg_alpha=0, reg_lambda=1, scale_pos_weight=10, subsample=0.8,\n",
       "              tree_method=&#x27;exact&#x27;, validate_parameters=1, verbosity=None)</pre></div></div></div></div></div>"
      ],
      "text/plain": [
       "XGBClassifier(base_score=0.5, booster='gbtree', colsample_bylevel=1,\n",
       "              colsample_bynode=1, colsample_bytree=1, enable_categorical=False,\n",
       "              eval_metric='logloss', gamma=3, gpu_id=-1, importance_type=None,\n",
       "              interaction_constraints='', learning_rate=0.1, max_delta_step=0,\n",
       "              max_depth=6, min_child_weight=1, missing=nan,\n",
       "              monotone_constraints='()', n_estimators=150, n_jobs=4,\n",
       "              num_parallel_tree=1, predictor='auto', random_state=1,\n",
       "              reg_alpha=0, reg_lambda=1, scale_pos_weight=10, subsample=0.8,\n",
       "              tree_method='exact', validate_parameters=1, verbosity=None)"
      ]
     },
     "execution_count": 72,
     "metadata": {},
     "output_type": "execute_result"
    },
    {
     "data": {
      "application/javascript": [
       "\n",
       "            setTimeout(function() {\n",
       "                var nbb_cell_id = 72;\n",
       "                var nbb_unformatted_code = \"# building model with best parameters\\nxgb_orig = XGBClassifier(\\n    random_state=1,\\n    eval_metric=\\\"logloss\\\",\\n    subsample=0.8,\\n    scale_pos_weight=10,\\n    n_estimators=150,\\n    learning_rate=0.1,\\n    gamma=3,\\n)\\n\\n# Fit the model on training data\\nxgb_orig.fit(X_train, y_train)\";\n",
       "                var nbb_formatted_code = \"# building model with best parameters\\nxgb_orig = XGBClassifier(\\n    random_state=1,\\n    eval_metric=\\\"logloss\\\",\\n    subsample=0.8,\\n    scale_pos_weight=10,\\n    n_estimators=150,\\n    learning_rate=0.1,\\n    gamma=3,\\n)\\n\\n# Fit the model on training data\\nxgb_orig.fit(X_train, y_train)\";\n",
       "                var nbb_cells = Jupyter.notebook.get_cells();\n",
       "                for (var i = 0; i < nbb_cells.length; ++i) {\n",
       "                    if (nbb_cells[i].input_prompt_number == nbb_cell_id) {\n",
       "                        if (nbb_cells[i].get_text() == nbb_unformatted_code) {\n",
       "                             nbb_cells[i].set_text(nbb_formatted_code);\n",
       "                        }\n",
       "                        break;\n",
       "                    }\n",
       "                }\n",
       "            }, 500);\n",
       "            "
      ],
      "text/plain": [
       "<IPython.core.display.Javascript object>"
      ]
     },
     "metadata": {},
     "output_type": "display_data"
    }
   ],
   "source": [
    "# building model with best parameters\n",
    "xgb_orig = XGBClassifier(\n",
    "    random_state=1,\n",
    "    eval_metric=\"logloss\",\n",
    "    subsample=0.8,\n",
    "    scale_pos_weight=10,\n",
    "    n_estimators=150,\n",
    "    learning_rate=0.1,\n",
    "    gamma=3,\n",
    ")\n",
    "\n",
    "# Fit the model on training data\n",
    "xgb_orig.fit(X_train, y_train)"
   ]
  },
  {
   "cell_type": "code",
   "execution_count": 73,
   "metadata": {},
   "outputs": [
    {
     "data": {
      "text/html": [
       "<div>\n",
       "<style scoped>\n",
       "    .dataframe tbody tr th:only-of-type {\n",
       "        vertical-align: middle;\n",
       "    }\n",
       "\n",
       "    .dataframe tbody tr th {\n",
       "        vertical-align: top;\n",
       "    }\n",
       "\n",
       "    .dataframe thead th {\n",
       "        text-align: right;\n",
       "    }\n",
       "</style>\n",
       "<table border=\"1\" class=\"dataframe\">\n",
       "  <thead>\n",
       "    <tr style=\"text-align: right;\">\n",
       "      <th></th>\n",
       "      <th>Accuracy</th>\n",
       "      <th>Recall</th>\n",
       "      <th>Precision</th>\n",
       "      <th>F1</th>\n",
       "    </tr>\n",
       "  </thead>\n",
       "  <tbody>\n",
       "    <tr>\n",
       "      <th>0</th>\n",
       "      <td>0.999</td>\n",
       "      <td>1.000</td>\n",
       "      <td>0.988</td>\n",
       "      <td>0.994</td>\n",
       "    </tr>\n",
       "  </tbody>\n",
       "</table>\n",
       "</div>"
      ],
      "text/plain": [
       "   Accuracy  Recall  Precision    F1\n",
       "0     0.999   1.000      0.988 0.994"
      ]
     },
     "execution_count": 73,
     "metadata": {},
     "output_type": "execute_result"
    },
    {
     "data": {
      "application/javascript": [
       "\n",
       "            setTimeout(function() {\n",
       "                var nbb_cell_id = 73;\n",
       "                var nbb_unformatted_code = \"xgb_train_orig = model_performance_classification_sklearn(xgb_orig, X_train, y_train)\\nxgb_train_orig\";\n",
       "                var nbb_formatted_code = \"xgb_train_orig = model_performance_classification_sklearn(xgb_orig, X_train, y_train)\\nxgb_train_orig\";\n",
       "                var nbb_cells = Jupyter.notebook.get_cells();\n",
       "                for (var i = 0; i < nbb_cells.length; ++i) {\n",
       "                    if (nbb_cells[i].input_prompt_number == nbb_cell_id) {\n",
       "                        if (nbb_cells[i].get_text() == nbb_unformatted_code) {\n",
       "                             nbb_cells[i].set_text(nbb_formatted_code);\n",
       "                        }\n",
       "                        break;\n",
       "                    }\n",
       "                }\n",
       "            }, 500);\n",
       "            "
      ],
      "text/plain": [
       "<IPython.core.display.Javascript object>"
      ]
     },
     "metadata": {},
     "output_type": "display_data"
    }
   ],
   "source": [
    "xgb_train_orig = model_performance_classification_sklearn(xgb_orig, X_train, y_train)\n",
    "xgb_train_orig"
   ]
  },
  {
   "cell_type": "code",
   "execution_count": 74,
   "metadata": {},
   "outputs": [
    {
     "data": {
      "text/html": [
       "<div>\n",
       "<style scoped>\n",
       "    .dataframe tbody tr th:only-of-type {\n",
       "        vertical-align: middle;\n",
       "    }\n",
       "\n",
       "    .dataframe tbody tr th {\n",
       "        vertical-align: top;\n",
       "    }\n",
       "\n",
       "    .dataframe thead th {\n",
       "        text-align: right;\n",
       "    }\n",
       "</style>\n",
       "<table border=\"1\" class=\"dataframe\">\n",
       "  <thead>\n",
       "    <tr style=\"text-align: right;\">\n",
       "      <th></th>\n",
       "      <th>Accuracy</th>\n",
       "      <th>Recall</th>\n",
       "      <th>Precision</th>\n",
       "      <th>F1</th>\n",
       "    </tr>\n",
       "  </thead>\n",
       "  <tbody>\n",
       "    <tr>\n",
       "      <th>0</th>\n",
       "      <td>0.989</td>\n",
       "      <td>0.849</td>\n",
       "      <td>0.948</td>\n",
       "      <td>0.896</td>\n",
       "    </tr>\n",
       "  </tbody>\n",
       "</table>\n",
       "</div>"
      ],
      "text/plain": [
       "   Accuracy  Recall  Precision    F1\n",
       "0     0.989   0.849      0.948 0.896"
      ]
     },
     "execution_count": 74,
     "metadata": {},
     "output_type": "execute_result"
    },
    {
     "data": {
      "application/javascript": [
       "\n",
       "            setTimeout(function() {\n",
       "                var nbb_cell_id = 74;\n",
       "                var nbb_unformatted_code = \"xgb_val_orig = model_performance_classification_sklearn(xgb_orig, X_val, y_val)\\nxgb_val_orig\";\n",
       "                var nbb_formatted_code = \"xgb_val_orig = model_performance_classification_sklearn(xgb_orig, X_val, y_val)\\nxgb_val_orig\";\n",
       "                var nbb_cells = Jupyter.notebook.get_cells();\n",
       "                for (var i = 0; i < nbb_cells.length; ++i) {\n",
       "                    if (nbb_cells[i].input_prompt_number == nbb_cell_id) {\n",
       "                        if (nbb_cells[i].get_text() == nbb_unformatted_code) {\n",
       "                             nbb_cells[i].set_text(nbb_formatted_code);\n",
       "                        }\n",
       "                        break;\n",
       "                    }\n",
       "                }\n",
       "            }, 500);\n",
       "            "
      ],
      "text/plain": [
       "<IPython.core.display.Javascript object>"
      ]
     },
     "metadata": {},
     "output_type": "display_data"
    }
   ],
   "source": [
    "xgb_val_orig = model_performance_classification_sklearn(xgb_orig, X_val, y_val)\n",
    "xgb_val_orig"
   ]
  },
  {
   "cell_type": "markdown",
   "metadata": {},
   "source": [
    "- There is overfitting in Recall parameter"
   ]
  },
  {
   "cell_type": "markdown",
   "metadata": {},
   "source": [
    "### XGBoost with oversampled data"
   ]
  },
  {
   "cell_type": "code",
   "execution_count": 75,
   "metadata": {},
   "outputs": [
    {
     "name": "stdout",
     "output_type": "stream",
     "text": [
      "Best parameters are {'subsample': 0.9, 'scale_pos_weight': 10, 'n_estimators': 200, 'learning_rate': 0.2, 'gamma': 0} with CV score=0.9956240108948847:\n"
     ]
    },
    {
     "data": {
      "application/javascript": [
       "\n",
       "            setTimeout(function() {\n",
       "                var nbb_cell_id = 75;\n",
       "                var nbb_unformatted_code = \"# defining model\\nModel = XGBClassifier(random_state=1, eval_metric=\\\"logloss\\\")\\n\\n# Parameter grid to pass in RandomSearchCV\\nparam_grid = {\\n    \\\"n_estimators\\\": [150, 200, 250],\\n    \\\"scale_pos_weight\\\": [5, 10],\\n    \\\"learning_rate\\\": [0.1, 0.2],\\n    \\\"gamma\\\": [0, 3, 5],\\n    \\\"subsample\\\": [0.8, 0.9],\\n}\\n\\n# Calling RandomizedSearchCV\\nrandomized_cv = RandomizedSearchCV(\\n    estimator=Model,\\n    param_distributions=param_grid,\\n    n_iter=10,\\n    n_jobs=-1,\\n    scoring=scorer,\\n    cv=5,\\n    random_state=1,\\n)\\n\\n# Fitting parameters in RandomizedSearchCV\\nrandomized_cv.fit(X_train_over, y_train_over)\\n\\nprint(\\n    \\\"Best parameters are {} with CV score={}:\\\".format(\\n        randomized_cv.best_params_, randomized_cv.best_score_\\n    )\\n)\";\n",
       "                var nbb_formatted_code = \"# defining model\\nModel = XGBClassifier(random_state=1, eval_metric=\\\"logloss\\\")\\n\\n# Parameter grid to pass in RandomSearchCV\\nparam_grid = {\\n    \\\"n_estimators\\\": [150, 200, 250],\\n    \\\"scale_pos_weight\\\": [5, 10],\\n    \\\"learning_rate\\\": [0.1, 0.2],\\n    \\\"gamma\\\": [0, 3, 5],\\n    \\\"subsample\\\": [0.8, 0.9],\\n}\\n\\n# Calling RandomizedSearchCV\\nrandomized_cv = RandomizedSearchCV(\\n    estimator=Model,\\n    param_distributions=param_grid,\\n    n_iter=10,\\n    n_jobs=-1,\\n    scoring=scorer,\\n    cv=5,\\n    random_state=1,\\n)\\n\\n# Fitting parameters in RandomizedSearchCV\\nrandomized_cv.fit(X_train_over, y_train_over)\\n\\nprint(\\n    \\\"Best parameters are {} with CV score={}:\\\".format(\\n        randomized_cv.best_params_, randomized_cv.best_score_\\n    )\\n)\";\n",
       "                var nbb_cells = Jupyter.notebook.get_cells();\n",
       "                for (var i = 0; i < nbb_cells.length; ++i) {\n",
       "                    if (nbb_cells[i].input_prompt_number == nbb_cell_id) {\n",
       "                        if (nbb_cells[i].get_text() == nbb_unformatted_code) {\n",
       "                             nbb_cells[i].set_text(nbb_formatted_code);\n",
       "                        }\n",
       "                        break;\n",
       "                    }\n",
       "                }\n",
       "            }, 500);\n",
       "            "
      ],
      "text/plain": [
       "<IPython.core.display.Javascript object>"
      ]
     },
     "metadata": {},
     "output_type": "display_data"
    }
   ],
   "source": [
    "# defining model\n",
    "Model = XGBClassifier(random_state=1, eval_metric=\"logloss\")\n",
    "\n",
    "# Parameter grid to pass in RandomSearchCV\n",
    "param_grid = {\n",
    "    \"n_estimators\": [150, 200, 250],\n",
    "    \"scale_pos_weight\": [5, 10],\n",
    "    \"learning_rate\": [0.1, 0.2],\n",
    "    \"gamma\": [0, 3, 5],\n",
    "    \"subsample\": [0.8, 0.9],\n",
    "}\n",
    "\n",
    "# Calling RandomizedSearchCV\n",
    "randomized_cv = RandomizedSearchCV(\n",
    "    estimator=Model,\n",
    "    param_distributions=param_grid,\n",
    "    n_iter=10,\n",
    "    n_jobs=-1,\n",
    "    scoring=scorer,\n",
    "    cv=5,\n",
    "    random_state=1,\n",
    ")\n",
    "\n",
    "# Fitting parameters in RandomizedSearchCV\n",
    "randomized_cv.fit(X_train_over, y_train_over)\n",
    "\n",
    "print(\n",
    "    \"Best parameters are {} with CV score={}:\".format(\n",
    "        randomized_cv.best_params_, randomized_cv.best_score_\n",
    "    )\n",
    ")"
   ]
  },
  {
   "cell_type": "code",
   "execution_count": 76,
   "metadata": {},
   "outputs": [
    {
     "data": {
      "text/html": [
       "<style>#sk-container-id-11 {color: black;background-color: white;}#sk-container-id-11 pre{padding: 0;}#sk-container-id-11 div.sk-toggleable {background-color: white;}#sk-container-id-11 label.sk-toggleable__label {cursor: pointer;display: block;width: 100%;margin-bottom: 0;padding: 0.3em;box-sizing: border-box;text-align: center;}#sk-container-id-11 label.sk-toggleable__label-arrow:before {content: \"▸\";float: left;margin-right: 0.25em;color: #696969;}#sk-container-id-11 label.sk-toggleable__label-arrow:hover:before {color: black;}#sk-container-id-11 div.sk-estimator:hover label.sk-toggleable__label-arrow:before {color: black;}#sk-container-id-11 div.sk-toggleable__content {max-height: 0;max-width: 0;overflow: hidden;text-align: left;background-color: #f0f8ff;}#sk-container-id-11 div.sk-toggleable__content pre {margin: 0.2em;color: black;border-radius: 0.25em;background-color: #f0f8ff;}#sk-container-id-11 input.sk-toggleable__control:checked~div.sk-toggleable__content {max-height: 200px;max-width: 100%;overflow: auto;}#sk-container-id-11 input.sk-toggleable__control:checked~label.sk-toggleable__label-arrow:before {content: \"▾\";}#sk-container-id-11 div.sk-estimator input.sk-toggleable__control:checked~label.sk-toggleable__label {background-color: #d4ebff;}#sk-container-id-11 div.sk-label input.sk-toggleable__control:checked~label.sk-toggleable__label {background-color: #d4ebff;}#sk-container-id-11 input.sk-hidden--visually {border: 0;clip: rect(1px 1px 1px 1px);clip: rect(1px, 1px, 1px, 1px);height: 1px;margin: -1px;overflow: hidden;padding: 0;position: absolute;width: 1px;}#sk-container-id-11 div.sk-estimator {font-family: monospace;background-color: #f0f8ff;border: 1px dotted black;border-radius: 0.25em;box-sizing: border-box;margin-bottom: 0.5em;}#sk-container-id-11 div.sk-estimator:hover {background-color: #d4ebff;}#sk-container-id-11 div.sk-parallel-item::after {content: \"\";width: 100%;border-bottom: 1px solid gray;flex-grow: 1;}#sk-container-id-11 div.sk-label:hover label.sk-toggleable__label {background-color: #d4ebff;}#sk-container-id-11 div.sk-serial::before {content: \"\";position: absolute;border-left: 1px solid gray;box-sizing: border-box;top: 0;bottom: 0;left: 50%;z-index: 0;}#sk-container-id-11 div.sk-serial {display: flex;flex-direction: column;align-items: center;background-color: white;padding-right: 0.2em;padding-left: 0.2em;position: relative;}#sk-container-id-11 div.sk-item {position: relative;z-index: 1;}#sk-container-id-11 div.sk-parallel {display: flex;align-items: stretch;justify-content: center;background-color: white;position: relative;}#sk-container-id-11 div.sk-item::before, #sk-container-id-11 div.sk-parallel-item::before {content: \"\";position: absolute;border-left: 1px solid gray;box-sizing: border-box;top: 0;bottom: 0;left: 50%;z-index: -1;}#sk-container-id-11 div.sk-parallel-item {display: flex;flex-direction: column;z-index: 1;position: relative;background-color: white;}#sk-container-id-11 div.sk-parallel-item:first-child::after {align-self: flex-end;width: 50%;}#sk-container-id-11 div.sk-parallel-item:last-child::after {align-self: flex-start;width: 50%;}#sk-container-id-11 div.sk-parallel-item:only-child::after {width: 0;}#sk-container-id-11 div.sk-dashed-wrapped {border: 1px dashed gray;margin: 0 0.4em 0.5em 0.4em;box-sizing: border-box;padding-bottom: 0.4em;background-color: white;}#sk-container-id-11 div.sk-label label {font-family: monospace;font-weight: bold;display: inline-block;line-height: 1.2em;}#sk-container-id-11 div.sk-label-container {text-align: center;}#sk-container-id-11 div.sk-container {/* jupyter's `normalize.less` sets `[hidden] { display: none; }` but bootstrap.min.css set `[hidden] { display: none !important; }` so we also need the `!important` here to be able to override the default hidden behavior on the sphinx rendered scikit-learn.org. See: https://github.com/scikit-learn/scikit-learn/issues/21755 */display: inline-block !important;position: relative;}#sk-container-id-11 div.sk-text-repr-fallback {display: none;}</style><div id=\"sk-container-id-11\" class=\"sk-top-container\"><div class=\"sk-text-repr-fallback\"><pre>XGBClassifier(base_score=0.5, booster=&#x27;gbtree&#x27;, colsample_bylevel=1,\n",
       "              colsample_bynode=1, colsample_bytree=1, enable_categorical=False,\n",
       "              eval_metric=&#x27;logloss&#x27;, gamma=0, gpu_id=-1, importance_type=None,\n",
       "              interaction_constraints=&#x27;&#x27;, learning_rate=0.2, max_delta_step=0,\n",
       "              max_depth=6, min_child_weight=1, missing=nan,\n",
       "              monotone_constraints=&#x27;()&#x27;, n_estimators=200, n_jobs=4,\n",
       "              num_parallel_tree=1, predictor=&#x27;auto&#x27;, random_state=1,\n",
       "              reg_alpha=0, reg_lambda=1, scale_pos_weight=10, subsample=0.9,\n",
       "              tree_method=&#x27;exact&#x27;, validate_parameters=1, verbosity=None)</pre><b>In a Jupyter environment, please rerun this cell to show the HTML representation or trust the notebook. <br />On GitHub, the HTML representation is unable to render, please try loading this page with nbviewer.org.</b></div><div class=\"sk-container\" hidden><div class=\"sk-item\"><div class=\"sk-estimator sk-toggleable\"><input class=\"sk-toggleable__control sk-hidden--visually\" id=\"sk-estimator-id-11\" type=\"checkbox\" checked><label for=\"sk-estimator-id-11\" class=\"sk-toggleable__label sk-toggleable__label-arrow\">XGBClassifier</label><div class=\"sk-toggleable__content\"><pre>XGBClassifier(base_score=0.5, booster=&#x27;gbtree&#x27;, colsample_bylevel=1,\n",
       "              colsample_bynode=1, colsample_bytree=1, enable_categorical=False,\n",
       "              eval_metric=&#x27;logloss&#x27;, gamma=0, gpu_id=-1, importance_type=None,\n",
       "              interaction_constraints=&#x27;&#x27;, learning_rate=0.2, max_delta_step=0,\n",
       "              max_depth=6, min_child_weight=1, missing=nan,\n",
       "              monotone_constraints=&#x27;()&#x27;, n_estimators=200, n_jobs=4,\n",
       "              num_parallel_tree=1, predictor=&#x27;auto&#x27;, random_state=1,\n",
       "              reg_alpha=0, reg_lambda=1, scale_pos_weight=10, subsample=0.9,\n",
       "              tree_method=&#x27;exact&#x27;, validate_parameters=1, verbosity=None)</pre></div></div></div></div></div>"
      ],
      "text/plain": [
       "XGBClassifier(base_score=0.5, booster='gbtree', colsample_bylevel=1,\n",
       "              colsample_bynode=1, colsample_bytree=1, enable_categorical=False,\n",
       "              eval_metric='logloss', gamma=0, gpu_id=-1, importance_type=None,\n",
       "              interaction_constraints='', learning_rate=0.2, max_delta_step=0,\n",
       "              max_depth=6, min_child_weight=1, missing=nan,\n",
       "              monotone_constraints='()', n_estimators=200, n_jobs=4,\n",
       "              num_parallel_tree=1, predictor='auto', random_state=1,\n",
       "              reg_alpha=0, reg_lambda=1, scale_pos_weight=10, subsample=0.9,\n",
       "              tree_method='exact', validate_parameters=1, verbosity=None)"
      ]
     },
     "execution_count": 76,
     "metadata": {},
     "output_type": "execute_result"
    },
    {
     "data": {
      "application/javascript": [
       "\n",
       "            setTimeout(function() {\n",
       "                var nbb_cell_id = 76;\n",
       "                var nbb_unformatted_code = \"# building model with best parameters\\nxgb_ov = XGBClassifier(\\n    random_state=1,\\n    eval_metric=\\\"logloss\\\",\\n    subsample=0.9,\\n    scale_pos_weight=10,\\n    n_estimators=200,\\n    learning_rate=0.2,\\n    gamma=0,\\n)\\n\\n# Fit the model on training data\\nxgb_ov.fit(X_train_over, y_train_over)\";\n",
       "                var nbb_formatted_code = \"# building model with best parameters\\nxgb_ov = XGBClassifier(\\n    random_state=1,\\n    eval_metric=\\\"logloss\\\",\\n    subsample=0.9,\\n    scale_pos_weight=10,\\n    n_estimators=200,\\n    learning_rate=0.2,\\n    gamma=0,\\n)\\n\\n# Fit the model on training data\\nxgb_ov.fit(X_train_over, y_train_over)\";\n",
       "                var nbb_cells = Jupyter.notebook.get_cells();\n",
       "                for (var i = 0; i < nbb_cells.length; ++i) {\n",
       "                    if (nbb_cells[i].input_prompt_number == nbb_cell_id) {\n",
       "                        if (nbb_cells[i].get_text() == nbb_unformatted_code) {\n",
       "                             nbb_cells[i].set_text(nbb_formatted_code);\n",
       "                        }\n",
       "                        break;\n",
       "                    }\n",
       "                }\n",
       "            }, 500);\n",
       "            "
      ],
      "text/plain": [
       "<IPython.core.display.Javascript object>"
      ]
     },
     "metadata": {},
     "output_type": "display_data"
    }
   ],
   "source": [
    "# building model with best parameters\n",
    "xgb_ov = XGBClassifier(\n",
    "    random_state=1,\n",
    "    eval_metric=\"logloss\",\n",
    "    subsample=0.9,\n",
    "    scale_pos_weight=10,\n",
    "    n_estimators=200,\n",
    "    learning_rate=0.2,\n",
    "    gamma=0,\n",
    ")\n",
    "\n",
    "# Fit the model on training data\n",
    "xgb_ov.fit(X_train_over, y_train_over)"
   ]
  },
  {
   "cell_type": "code",
   "execution_count": 77,
   "metadata": {},
   "outputs": [
    {
     "data": {
      "text/html": [
       "<div>\n",
       "<style scoped>\n",
       "    .dataframe tbody tr th:only-of-type {\n",
       "        vertical-align: middle;\n",
       "    }\n",
       "\n",
       "    .dataframe tbody tr th {\n",
       "        vertical-align: top;\n",
       "    }\n",
       "\n",
       "    .dataframe thead th {\n",
       "        text-align: right;\n",
       "    }\n",
       "</style>\n",
       "<table border=\"1\" class=\"dataframe\">\n",
       "  <thead>\n",
       "    <tr style=\"text-align: right;\">\n",
       "      <th></th>\n",
       "      <th>Accuracy</th>\n",
       "      <th>Recall</th>\n",
       "      <th>Precision</th>\n",
       "      <th>F1</th>\n",
       "    </tr>\n",
       "  </thead>\n",
       "  <tbody>\n",
       "    <tr>\n",
       "      <th>0</th>\n",
       "      <td>1.000</td>\n",
       "      <td>1.000</td>\n",
       "      <td>1.000</td>\n",
       "      <td>1.000</td>\n",
       "    </tr>\n",
       "  </tbody>\n",
       "</table>\n",
       "</div>"
      ],
      "text/plain": [
       "   Accuracy  Recall  Precision    F1\n",
       "0     1.000   1.000      1.000 1.000"
      ]
     },
     "execution_count": 77,
     "metadata": {},
     "output_type": "execute_result"
    },
    {
     "data": {
      "application/javascript": [
       "\n",
       "            setTimeout(function() {\n",
       "                var nbb_cell_id = 77;\n",
       "                var nbb_unformatted_code = \"xgb_train_ov = model_performance_classification_sklearn(\\n    xgb_ov, X_train_over, y_train_over\\n)\\nxgb_train_ov\";\n",
       "                var nbb_formatted_code = \"xgb_train_ov = model_performance_classification_sklearn(\\n    xgb_ov, X_train_over, y_train_over\\n)\\nxgb_train_ov\";\n",
       "                var nbb_cells = Jupyter.notebook.get_cells();\n",
       "                for (var i = 0; i < nbb_cells.length; ++i) {\n",
       "                    if (nbb_cells[i].input_prompt_number == nbb_cell_id) {\n",
       "                        if (nbb_cells[i].get_text() == nbb_unformatted_code) {\n",
       "                             nbb_cells[i].set_text(nbb_formatted_code);\n",
       "                        }\n",
       "                        break;\n",
       "                    }\n",
       "                }\n",
       "            }, 500);\n",
       "            "
      ],
      "text/plain": [
       "<IPython.core.display.Javascript object>"
      ]
     },
     "metadata": {},
     "output_type": "display_data"
    }
   ],
   "source": [
    "xgb_train_ov = model_performance_classification_sklearn(\n",
    "    xgb_ov, X_train_over, y_train_over\n",
    ")\n",
    "xgb_train_ov"
   ]
  },
  {
   "cell_type": "code",
   "execution_count": 78,
   "metadata": {},
   "outputs": [
    {
     "data": {
      "text/html": [
       "<div>\n",
       "<style scoped>\n",
       "    .dataframe tbody tr th:only-of-type {\n",
       "        vertical-align: middle;\n",
       "    }\n",
       "\n",
       "    .dataframe tbody tr th {\n",
       "        vertical-align: top;\n",
       "    }\n",
       "\n",
       "    .dataframe thead th {\n",
       "        text-align: right;\n",
       "    }\n",
       "</style>\n",
       "<table border=\"1\" class=\"dataframe\">\n",
       "  <thead>\n",
       "    <tr style=\"text-align: right;\">\n",
       "      <th></th>\n",
       "      <th>Accuracy</th>\n",
       "      <th>Recall</th>\n",
       "      <th>Precision</th>\n",
       "      <th>F1</th>\n",
       "    </tr>\n",
       "  </thead>\n",
       "  <tbody>\n",
       "    <tr>\n",
       "      <th>0</th>\n",
       "      <td>0.985</td>\n",
       "      <td>0.874</td>\n",
       "      <td>0.859</td>\n",
       "      <td>0.866</td>\n",
       "    </tr>\n",
       "  </tbody>\n",
       "</table>\n",
       "</div>"
      ],
      "text/plain": [
       "   Accuracy  Recall  Precision    F1\n",
       "0     0.985   0.874      0.859 0.866"
      ]
     },
     "execution_count": 78,
     "metadata": {},
     "output_type": "execute_result"
    },
    {
     "data": {
      "application/javascript": [
       "\n",
       "            setTimeout(function() {\n",
       "                var nbb_cell_id = 78;\n",
       "                var nbb_unformatted_code = \"xgb_val_ov = model_performance_classification_sklearn(xgb_ov, X_val, y_val)\\nxgb_val_ov\";\n",
       "                var nbb_formatted_code = \"xgb_val_ov = model_performance_classification_sklearn(xgb_ov, X_val, y_val)\\nxgb_val_ov\";\n",
       "                var nbb_cells = Jupyter.notebook.get_cells();\n",
       "                for (var i = 0; i < nbb_cells.length; ++i) {\n",
       "                    if (nbb_cells[i].input_prompt_number == nbb_cell_id) {\n",
       "                        if (nbb_cells[i].get_text() == nbb_unformatted_code) {\n",
       "                             nbb_cells[i].set_text(nbb_formatted_code);\n",
       "                        }\n",
       "                        break;\n",
       "                    }\n",
       "                }\n",
       "            }, 500);\n",
       "            "
      ],
      "text/plain": [
       "<IPython.core.display.Javascript object>"
      ]
     },
     "metadata": {},
     "output_type": "display_data"
    }
   ],
   "source": [
    "xgb_val_ov = model_performance_classification_sklearn(xgb_ov, X_val, y_val)\n",
    "xgb_val_ov"
   ]
  },
  {
   "cell_type": "markdown",
   "metadata": {},
   "source": [
    "- There is overffitting in the model"
   ]
  },
  {
   "cell_type": "markdown",
   "metadata": {},
   "source": [
    "### XGBoost with undersampled data"
   ]
  },
  {
   "cell_type": "code",
   "execution_count": 79,
   "metadata": {},
   "outputs": [
    {
     "name": "stdout",
     "output_type": "stream",
     "text": [
      "Best parameters are {'subsample': 0.9, 'scale_pos_weight': 10, 'n_estimators': 250, 'learning_rate': 0.1, 'gamma': 5} with CV score=0.9266503138301709:\n"
     ]
    },
    {
     "data": {
      "application/javascript": [
       "\n",
       "            setTimeout(function() {\n",
       "                var nbb_cell_id = 79;\n",
       "                var nbb_unformatted_code = \"# defining model\\nModel = XGBClassifier(random_state=1, eval_metric=\\\"logloss\\\")\\n\\n# Parameter grid to pass in RandomSearchCV\\nparam_grid = {\\n    \\\"n_estimators\\\": [150, 200, 250],\\n    \\\"scale_pos_weight\\\": [5, 10],\\n    \\\"learning_rate\\\": [0.1, 0.2],\\n    \\\"gamma\\\": [0, 3, 5],\\n    \\\"subsample\\\": [0.8, 0.9],\\n}\\n\\n# Calling RandomizedSearchCV\\nrandomized_cv = RandomizedSearchCV(\\n    estimator=Model,\\n    param_distributions=param_grid,\\n    n_iter=10,\\n    n_jobs=-1,\\n    scoring=scorer,\\n    cv=5,\\n    random_state=1,\\n)\\n\\n# Fitting parameters in RandomizedSearchCV\\nrandomized_cv.fit(X_train_un, y_train_un)\\n\\nprint(\\n    \\\"Best parameters are {} with CV score={}:\\\".format(\\n        randomized_cv.best_params_, randomized_cv.best_score_\\n    )\\n)\";\n",
       "                var nbb_formatted_code = \"# defining model\\nModel = XGBClassifier(random_state=1, eval_metric=\\\"logloss\\\")\\n\\n# Parameter grid to pass in RandomSearchCV\\nparam_grid = {\\n    \\\"n_estimators\\\": [150, 200, 250],\\n    \\\"scale_pos_weight\\\": [5, 10],\\n    \\\"learning_rate\\\": [0.1, 0.2],\\n    \\\"gamma\\\": [0, 3, 5],\\n    \\\"subsample\\\": [0.8, 0.9],\\n}\\n\\n# Calling RandomizedSearchCV\\nrandomized_cv = RandomizedSearchCV(\\n    estimator=Model,\\n    param_distributions=param_grid,\\n    n_iter=10,\\n    n_jobs=-1,\\n    scoring=scorer,\\n    cv=5,\\n    random_state=1,\\n)\\n\\n# Fitting parameters in RandomizedSearchCV\\nrandomized_cv.fit(X_train_un, y_train_un)\\n\\nprint(\\n    \\\"Best parameters are {} with CV score={}:\\\".format(\\n        randomized_cv.best_params_, randomized_cv.best_score_\\n    )\\n)\";\n",
       "                var nbb_cells = Jupyter.notebook.get_cells();\n",
       "                for (var i = 0; i < nbb_cells.length; ++i) {\n",
       "                    if (nbb_cells[i].input_prompt_number == nbb_cell_id) {\n",
       "                        if (nbb_cells[i].get_text() == nbb_unformatted_code) {\n",
       "                             nbb_cells[i].set_text(nbb_formatted_code);\n",
       "                        }\n",
       "                        break;\n",
       "                    }\n",
       "                }\n",
       "            }, 500);\n",
       "            "
      ],
      "text/plain": [
       "<IPython.core.display.Javascript object>"
      ]
     },
     "metadata": {},
     "output_type": "display_data"
    }
   ],
   "source": [
    "# defining model\n",
    "Model = XGBClassifier(random_state=1, eval_metric=\"logloss\")\n",
    "\n",
    "# Parameter grid to pass in RandomSearchCV\n",
    "param_grid = {\n",
    "    \"n_estimators\": [150, 200, 250],\n",
    "    \"scale_pos_weight\": [5, 10],\n",
    "    \"learning_rate\": [0.1, 0.2],\n",
    "    \"gamma\": [0, 3, 5],\n",
    "    \"subsample\": [0.8, 0.9],\n",
    "}\n",
    "\n",
    "# Calling RandomizedSearchCV\n",
    "randomized_cv = RandomizedSearchCV(\n",
    "    estimator=Model,\n",
    "    param_distributions=param_grid,\n",
    "    n_iter=10,\n",
    "    n_jobs=-1,\n",
    "    scoring=scorer,\n",
    "    cv=5,\n",
    "    random_state=1,\n",
    ")\n",
    "\n",
    "# Fitting parameters in RandomizedSearchCV\n",
    "randomized_cv.fit(X_train_un, y_train_un)\n",
    "\n",
    "print(\n",
    "    \"Best parameters are {} with CV score={}:\".format(\n",
    "        randomized_cv.best_params_, randomized_cv.best_score_\n",
    "    )\n",
    ")"
   ]
  },
  {
   "cell_type": "code",
   "execution_count": 80,
   "metadata": {},
   "outputs": [
    {
     "data": {
      "text/html": [
       "<style>#sk-container-id-12 {color: black;background-color: white;}#sk-container-id-12 pre{padding: 0;}#sk-container-id-12 div.sk-toggleable {background-color: white;}#sk-container-id-12 label.sk-toggleable__label {cursor: pointer;display: block;width: 100%;margin-bottom: 0;padding: 0.3em;box-sizing: border-box;text-align: center;}#sk-container-id-12 label.sk-toggleable__label-arrow:before {content: \"▸\";float: left;margin-right: 0.25em;color: #696969;}#sk-container-id-12 label.sk-toggleable__label-arrow:hover:before {color: black;}#sk-container-id-12 div.sk-estimator:hover label.sk-toggleable__label-arrow:before {color: black;}#sk-container-id-12 div.sk-toggleable__content {max-height: 0;max-width: 0;overflow: hidden;text-align: left;background-color: #f0f8ff;}#sk-container-id-12 div.sk-toggleable__content pre {margin: 0.2em;color: black;border-radius: 0.25em;background-color: #f0f8ff;}#sk-container-id-12 input.sk-toggleable__control:checked~div.sk-toggleable__content {max-height: 200px;max-width: 100%;overflow: auto;}#sk-container-id-12 input.sk-toggleable__control:checked~label.sk-toggleable__label-arrow:before {content: \"▾\";}#sk-container-id-12 div.sk-estimator input.sk-toggleable__control:checked~label.sk-toggleable__label {background-color: #d4ebff;}#sk-container-id-12 div.sk-label input.sk-toggleable__control:checked~label.sk-toggleable__label {background-color: #d4ebff;}#sk-container-id-12 input.sk-hidden--visually {border: 0;clip: rect(1px 1px 1px 1px);clip: rect(1px, 1px, 1px, 1px);height: 1px;margin: -1px;overflow: hidden;padding: 0;position: absolute;width: 1px;}#sk-container-id-12 div.sk-estimator {font-family: monospace;background-color: #f0f8ff;border: 1px dotted black;border-radius: 0.25em;box-sizing: border-box;margin-bottom: 0.5em;}#sk-container-id-12 div.sk-estimator:hover {background-color: #d4ebff;}#sk-container-id-12 div.sk-parallel-item::after {content: \"\";width: 100%;border-bottom: 1px solid gray;flex-grow: 1;}#sk-container-id-12 div.sk-label:hover label.sk-toggleable__label {background-color: #d4ebff;}#sk-container-id-12 div.sk-serial::before {content: \"\";position: absolute;border-left: 1px solid gray;box-sizing: border-box;top: 0;bottom: 0;left: 50%;z-index: 0;}#sk-container-id-12 div.sk-serial {display: flex;flex-direction: column;align-items: center;background-color: white;padding-right: 0.2em;padding-left: 0.2em;position: relative;}#sk-container-id-12 div.sk-item {position: relative;z-index: 1;}#sk-container-id-12 div.sk-parallel {display: flex;align-items: stretch;justify-content: center;background-color: white;position: relative;}#sk-container-id-12 div.sk-item::before, #sk-container-id-12 div.sk-parallel-item::before {content: \"\";position: absolute;border-left: 1px solid gray;box-sizing: border-box;top: 0;bottom: 0;left: 50%;z-index: -1;}#sk-container-id-12 div.sk-parallel-item {display: flex;flex-direction: column;z-index: 1;position: relative;background-color: white;}#sk-container-id-12 div.sk-parallel-item:first-child::after {align-self: flex-end;width: 50%;}#sk-container-id-12 div.sk-parallel-item:last-child::after {align-self: flex-start;width: 50%;}#sk-container-id-12 div.sk-parallel-item:only-child::after {width: 0;}#sk-container-id-12 div.sk-dashed-wrapped {border: 1px dashed gray;margin: 0 0.4em 0.5em 0.4em;box-sizing: border-box;padding-bottom: 0.4em;background-color: white;}#sk-container-id-12 div.sk-label label {font-family: monospace;font-weight: bold;display: inline-block;line-height: 1.2em;}#sk-container-id-12 div.sk-label-container {text-align: center;}#sk-container-id-12 div.sk-container {/* jupyter's `normalize.less` sets `[hidden] { display: none; }` but bootstrap.min.css set `[hidden] { display: none !important; }` so we also need the `!important` here to be able to override the default hidden behavior on the sphinx rendered scikit-learn.org. See: https://github.com/scikit-learn/scikit-learn/issues/21755 */display: inline-block !important;position: relative;}#sk-container-id-12 div.sk-text-repr-fallback {display: none;}</style><div id=\"sk-container-id-12\" class=\"sk-top-container\"><div class=\"sk-text-repr-fallback\"><pre>XGBClassifier(base_score=0.5, booster=&#x27;gbtree&#x27;, colsample_bylevel=1,\n",
       "              colsample_bynode=1, colsample_bytree=1, enable_categorical=False,\n",
       "              eval_metric=&#x27;logloss&#x27;, gamma=5, gpu_id=-1, importance_type=None,\n",
       "              interaction_constraints=&#x27;&#x27;, learning_rate=0.1, max_delta_step=0,\n",
       "              max_depth=6, min_child_weight=1, missing=nan,\n",
       "              monotone_constraints=&#x27;()&#x27;, n_estimators=250, n_jobs=4,\n",
       "              num_parallel_tree=1, predictor=&#x27;auto&#x27;, random_state=1,\n",
       "              reg_alpha=0, reg_lambda=1, scale_pos_weight=10, subsample=0.9,\n",
       "              tree_method=&#x27;exact&#x27;, validate_parameters=1, verbosity=None)</pre><b>In a Jupyter environment, please rerun this cell to show the HTML representation or trust the notebook. <br />On GitHub, the HTML representation is unable to render, please try loading this page with nbviewer.org.</b></div><div class=\"sk-container\" hidden><div class=\"sk-item\"><div class=\"sk-estimator sk-toggleable\"><input class=\"sk-toggleable__control sk-hidden--visually\" id=\"sk-estimator-id-12\" type=\"checkbox\" checked><label for=\"sk-estimator-id-12\" class=\"sk-toggleable__label sk-toggleable__label-arrow\">XGBClassifier</label><div class=\"sk-toggleable__content\"><pre>XGBClassifier(base_score=0.5, booster=&#x27;gbtree&#x27;, colsample_bylevel=1,\n",
       "              colsample_bynode=1, colsample_bytree=1, enable_categorical=False,\n",
       "              eval_metric=&#x27;logloss&#x27;, gamma=5, gpu_id=-1, importance_type=None,\n",
       "              interaction_constraints=&#x27;&#x27;, learning_rate=0.1, max_delta_step=0,\n",
       "              max_depth=6, min_child_weight=1, missing=nan,\n",
       "              monotone_constraints=&#x27;()&#x27;, n_estimators=250, n_jobs=4,\n",
       "              num_parallel_tree=1, predictor=&#x27;auto&#x27;, random_state=1,\n",
       "              reg_alpha=0, reg_lambda=1, scale_pos_weight=10, subsample=0.9,\n",
       "              tree_method=&#x27;exact&#x27;, validate_parameters=1, verbosity=None)</pre></div></div></div></div></div>"
      ],
      "text/plain": [
       "XGBClassifier(base_score=0.5, booster='gbtree', colsample_bylevel=1,\n",
       "              colsample_bynode=1, colsample_bytree=1, enable_categorical=False,\n",
       "              eval_metric='logloss', gamma=5, gpu_id=-1, importance_type=None,\n",
       "              interaction_constraints='', learning_rate=0.1, max_delta_step=0,\n",
       "              max_depth=6, min_child_weight=1, missing=nan,\n",
       "              monotone_constraints='()', n_estimators=250, n_jobs=4,\n",
       "              num_parallel_tree=1, predictor='auto', random_state=1,\n",
       "              reg_alpha=0, reg_lambda=1, scale_pos_weight=10, subsample=0.9,\n",
       "              tree_method='exact', validate_parameters=1, verbosity=None)"
      ]
     },
     "execution_count": 80,
     "metadata": {},
     "output_type": "execute_result"
    },
    {
     "data": {
      "application/javascript": [
       "\n",
       "            setTimeout(function() {\n",
       "                var nbb_cell_id = 80;\n",
       "                var nbb_unformatted_code = \"# building model with best parameters\\nxgb_un = XGBClassifier(\\n    random_state=1,\\n    eval_metric=\\\"logloss\\\",\\n    subsample=0.9,\\n    scale_pos_weight=10,\\n    n_estimators=250,\\n    learning_rate=0.1,\\n    gamma=5,\\n)\\n\\n# Fit the model on training data\\nxgb_un.fit(X_train_un, y_train_un)\";\n",
       "                var nbb_formatted_code = \"# building model with best parameters\\nxgb_un = XGBClassifier(\\n    random_state=1,\\n    eval_metric=\\\"logloss\\\",\\n    subsample=0.9,\\n    scale_pos_weight=10,\\n    n_estimators=250,\\n    learning_rate=0.1,\\n    gamma=5,\\n)\\n\\n# Fit the model on training data\\nxgb_un.fit(X_train_un, y_train_un)\";\n",
       "                var nbb_cells = Jupyter.notebook.get_cells();\n",
       "                for (var i = 0; i < nbb_cells.length; ++i) {\n",
       "                    if (nbb_cells[i].input_prompt_number == nbb_cell_id) {\n",
       "                        if (nbb_cells[i].get_text() == nbb_unformatted_code) {\n",
       "                             nbb_cells[i].set_text(nbb_formatted_code);\n",
       "                        }\n",
       "                        break;\n",
       "                    }\n",
       "                }\n",
       "            }, 500);\n",
       "            "
      ],
      "text/plain": [
       "<IPython.core.display.Javascript object>"
      ]
     },
     "metadata": {},
     "output_type": "display_data"
    }
   ],
   "source": [
    "# building model with best parameters\n",
    "xgb_un = XGBClassifier(\n",
    "    random_state=1,\n",
    "    eval_metric=\"logloss\",\n",
    "    subsample=0.9,\n",
    "    scale_pos_weight=10,\n",
    "    n_estimators=250,\n",
    "    learning_rate=0.1,\n",
    "    gamma=5,\n",
    ")\n",
    "\n",
    "# Fit the model on training data\n",
    "xgb_un.fit(X_train_un, y_train_un)"
   ]
  },
  {
   "cell_type": "code",
   "execution_count": 81,
   "metadata": {},
   "outputs": [
    {
     "data": {
      "text/html": [
       "<div>\n",
       "<style scoped>\n",
       "    .dataframe tbody tr th:only-of-type {\n",
       "        vertical-align: middle;\n",
       "    }\n",
       "\n",
       "    .dataframe tbody tr th {\n",
       "        vertical-align: top;\n",
       "    }\n",
       "\n",
       "    .dataframe thead th {\n",
       "        text-align: right;\n",
       "    }\n",
       "</style>\n",
       "<table border=\"1\" class=\"dataframe\">\n",
       "  <thead>\n",
       "    <tr style=\"text-align: right;\">\n",
       "      <th></th>\n",
       "      <th>Accuracy</th>\n",
       "      <th>Recall</th>\n",
       "      <th>Precision</th>\n",
       "      <th>F1</th>\n",
       "    </tr>\n",
       "  </thead>\n",
       "  <tbody>\n",
       "    <tr>\n",
       "      <th>0</th>\n",
       "      <td>0.990</td>\n",
       "      <td>1.000</td>\n",
       "      <td>0.981</td>\n",
       "      <td>0.990</td>\n",
       "    </tr>\n",
       "  </tbody>\n",
       "</table>\n",
       "</div>"
      ],
      "text/plain": [
       "   Accuracy  Recall  Precision    F1\n",
       "0     0.990   1.000      0.981 0.990"
      ]
     },
     "execution_count": 81,
     "metadata": {},
     "output_type": "execute_result"
    },
    {
     "data": {
      "application/javascript": [
       "\n",
       "            setTimeout(function() {\n",
       "                var nbb_cell_id = 81;\n",
       "                var nbb_unformatted_code = \"xgb_train_un = model_performance_classification_sklearn(xgb_un, X_train_un, y_train_un)\\nxgb_train_un\";\n",
       "                var nbb_formatted_code = \"xgb_train_un = model_performance_classification_sklearn(xgb_un, X_train_un, y_train_un)\\nxgb_train_un\";\n",
       "                var nbb_cells = Jupyter.notebook.get_cells();\n",
       "                for (var i = 0; i < nbb_cells.length; ++i) {\n",
       "                    if (nbb_cells[i].input_prompt_number == nbb_cell_id) {\n",
       "                        if (nbb_cells[i].get_text() == nbb_unformatted_code) {\n",
       "                             nbb_cells[i].set_text(nbb_formatted_code);\n",
       "                        }\n",
       "                        break;\n",
       "                    }\n",
       "                }\n",
       "            }, 500);\n",
       "            "
      ],
      "text/plain": [
       "<IPython.core.display.Javascript object>"
      ]
     },
     "metadata": {},
     "output_type": "display_data"
    }
   ],
   "source": [
    "xgb_train_un = model_performance_classification_sklearn(xgb_un, X_train_un, y_train_un)\n",
    "xgb_train_un"
   ]
  },
  {
   "cell_type": "code",
   "execution_count": 82,
   "metadata": {},
   "outputs": [
    {
     "data": {
      "text/html": [
       "<div>\n",
       "<style scoped>\n",
       "    .dataframe tbody tr th:only-of-type {\n",
       "        vertical-align: middle;\n",
       "    }\n",
       "\n",
       "    .dataframe tbody tr th {\n",
       "        vertical-align: top;\n",
       "    }\n",
       "\n",
       "    .dataframe thead th {\n",
       "        text-align: right;\n",
       "    }\n",
       "</style>\n",
       "<table border=\"1\" class=\"dataframe\">\n",
       "  <thead>\n",
       "    <tr style=\"text-align: right;\">\n",
       "      <th></th>\n",
       "      <th>Accuracy</th>\n",
       "      <th>Recall</th>\n",
       "      <th>Precision</th>\n",
       "      <th>F1</th>\n",
       "    </tr>\n",
       "  </thead>\n",
       "  <tbody>\n",
       "    <tr>\n",
       "      <th>0</th>\n",
       "      <td>0.863</td>\n",
       "      <td>0.910</td>\n",
       "      <td>0.277</td>\n",
       "      <td>0.424</td>\n",
       "    </tr>\n",
       "  </tbody>\n",
       "</table>\n",
       "</div>"
      ],
      "text/plain": [
       "   Accuracy  Recall  Precision    F1\n",
       "0     0.863   0.910      0.277 0.424"
      ]
     },
     "execution_count": 82,
     "metadata": {},
     "output_type": "execute_result"
    },
    {
     "data": {
      "application/javascript": [
       "\n",
       "            setTimeout(function() {\n",
       "                var nbb_cell_id = 82;\n",
       "                var nbb_unformatted_code = \"xgb_val_un = model_performance_classification_sklearn(xgb_un, X_val, y_val)\\nxgb_val_un\";\n",
       "                var nbb_formatted_code = \"xgb_val_un = model_performance_classification_sklearn(xgb_un, X_val, y_val)\\nxgb_val_un\";\n",
       "                var nbb_cells = Jupyter.notebook.get_cells();\n",
       "                for (var i = 0; i < nbb_cells.length; ++i) {\n",
       "                    if (nbb_cells[i].input_prompt_number == nbb_cell_id) {\n",
       "                        if (nbb_cells[i].get_text() == nbb_unformatted_code) {\n",
       "                             nbb_cells[i].set_text(nbb_formatted_code);\n",
       "                        }\n",
       "                        break;\n",
       "                    }\n",
       "                }\n",
       "            }, 500);\n",
       "            "
      ],
      "text/plain": [
       "<IPython.core.display.Javascript object>"
      ]
     },
     "metadata": {},
     "output_type": "display_data"
    }
   ],
   "source": [
    "xgb_val_un = model_performance_classification_sklearn(xgb_un, X_val, y_val)\n",
    "xgb_val_un"
   ]
  },
  {
   "cell_type": "markdown",
   "metadata": {},
   "source": [
    "- Model is performing well in Recall"
   ]
  },
  {
   "cell_type": "markdown",
   "metadata": {
    "id": "D9JNnpxa4jau"
   },
   "source": [
    "## Model performance comparison and choosing the final model"
   ]
  },
  {
   "cell_type": "code",
   "execution_count": 83,
   "metadata": {
    "id": "0JG85rkY4jav"
   },
   "outputs": [
    {
     "name": "stdout",
     "output_type": "stream",
     "text": [
      "Training performance comparison:\n"
     ]
    },
    {
     "data": {
      "text/html": [
       "<div>\n",
       "<style scoped>\n",
       "    .dataframe tbody tr th:only-of-type {\n",
       "        vertical-align: middle;\n",
       "    }\n",
       "\n",
       "    .dataframe tbody tr th {\n",
       "        vertical-align: top;\n",
       "    }\n",
       "\n",
       "    .dataframe thead th {\n",
       "        text-align: right;\n",
       "    }\n",
       "</style>\n",
       "<table border=\"1\" class=\"dataframe\">\n",
       "  <thead>\n",
       "    <tr style=\"text-align: right;\">\n",
       "      <th></th>\n",
       "      <th>Decision Tree tuned with Original data</th>\n",
       "      <th>Decision Tree tuned with oversampled data</th>\n",
       "      <th>Decision Tree tuned with undersampled data</th>\n",
       "      <th>Bagging tuned with Original data</th>\n",
       "      <th>Bagging tuned with oversampled data</th>\n",
       "      <th>Bagging tuned with undersampled data</th>\n",
       "      <th>Random Forest tuned with Original data</th>\n",
       "      <th>Random Forest tuned with oversampled data</th>\n",
       "      <th>Random Forest tuned with undersampled data</th>\n",
       "      <th>XGBoost tuned with Original data</th>\n",
       "      <th>XGBoost tuned with oversampled data</th>\n",
       "      <th>XGBoost tuned with undersampled data</th>\n",
       "    </tr>\n",
       "  </thead>\n",
       "  <tbody>\n",
       "    <tr>\n",
       "      <th>Accuracy</th>\n",
       "      <td>0.974</td>\n",
       "      <td>0.843</td>\n",
       "      <td>0.764</td>\n",
       "      <td>0.999</td>\n",
       "      <td>1.000</td>\n",
       "      <td>1.000</td>\n",
       "      <td>0.995</td>\n",
       "      <td>1.000</td>\n",
       "      <td>0.988</td>\n",
       "      <td>0.999</td>\n",
       "      <td>1.000</td>\n",
       "      <td>0.990</td>\n",
       "    </tr>\n",
       "    <tr>\n",
       "      <th>Recall</th>\n",
       "      <td>0.591</td>\n",
       "      <td>0.917</td>\n",
       "      <td>0.909</td>\n",
       "      <td>0.978</td>\n",
       "      <td>1.000</td>\n",
       "      <td>1.000</td>\n",
       "      <td>0.909</td>\n",
       "      <td>0.999</td>\n",
       "      <td>0.977</td>\n",
       "      <td>1.000</td>\n",
       "      <td>1.000</td>\n",
       "      <td>1.000</td>\n",
       "    </tr>\n",
       "    <tr>\n",
       "      <th>Precision</th>\n",
       "      <td>0.904</td>\n",
       "      <td>0.799</td>\n",
       "      <td>0.705</td>\n",
       "      <td>1.000</td>\n",
       "      <td>1.000</td>\n",
       "      <td>1.000</td>\n",
       "      <td>1.000</td>\n",
       "      <td>1.000</td>\n",
       "      <td>0.999</td>\n",
       "      <td>0.988</td>\n",
       "      <td>1.000</td>\n",
       "      <td>0.981</td>\n",
       "    </tr>\n",
       "    <tr>\n",
       "      <th>F1</th>\n",
       "      <td>0.715</td>\n",
       "      <td>0.854</td>\n",
       "      <td>0.794</td>\n",
       "      <td>0.989</td>\n",
       "      <td>1.000</td>\n",
       "      <td>1.000</td>\n",
       "      <td>0.952</td>\n",
       "      <td>1.000</td>\n",
       "      <td>0.988</td>\n",
       "      <td>0.994</td>\n",
       "      <td>1.000</td>\n",
       "      <td>0.990</td>\n",
       "    </tr>\n",
       "  </tbody>\n",
       "</table>\n",
       "</div>"
      ],
      "text/plain": [
       "           Decision Tree tuned with Original data  \\\n",
       "Accuracy                                    0.974   \n",
       "Recall                                      0.591   \n",
       "Precision                                   0.904   \n",
       "F1                                          0.715   \n",
       "\n",
       "           Decision Tree tuned with oversampled data  \\\n",
       "Accuracy                                       0.843   \n",
       "Recall                                         0.917   \n",
       "Precision                                      0.799   \n",
       "F1                                             0.854   \n",
       "\n",
       "           Decision Tree tuned with undersampled data  \\\n",
       "Accuracy                                        0.764   \n",
       "Recall                                          0.909   \n",
       "Precision                                       0.705   \n",
       "F1                                              0.794   \n",
       "\n",
       "           Bagging tuned with Original data  \\\n",
       "Accuracy                              0.999   \n",
       "Recall                                0.978   \n",
       "Precision                             1.000   \n",
       "F1                                    0.989   \n",
       "\n",
       "           Bagging tuned with oversampled data  \\\n",
       "Accuracy                                 1.000   \n",
       "Recall                                   1.000   \n",
       "Precision                                1.000   \n",
       "F1                                       1.000   \n",
       "\n",
       "           Bagging tuned with undersampled data  \\\n",
       "Accuracy                                  1.000   \n",
       "Recall                                    1.000   \n",
       "Precision                                 1.000   \n",
       "F1                                        1.000   \n",
       "\n",
       "           Random Forest tuned with Original data  \\\n",
       "Accuracy                                    0.995   \n",
       "Recall                                      0.909   \n",
       "Precision                                   1.000   \n",
       "F1                                          0.952   \n",
       "\n",
       "           Random Forest tuned with oversampled data  \\\n",
       "Accuracy                                       1.000   \n",
       "Recall                                         0.999   \n",
       "Precision                                      1.000   \n",
       "F1                                             1.000   \n",
       "\n",
       "           Random Forest tuned with undersampled data  \\\n",
       "Accuracy                                        0.988   \n",
       "Recall                                          0.977   \n",
       "Precision                                       0.999   \n",
       "F1                                              0.988   \n",
       "\n",
       "           XGBoost tuned with Original data  \\\n",
       "Accuracy                              0.999   \n",
       "Recall                                1.000   \n",
       "Precision                             0.988   \n",
       "F1                                    0.994   \n",
       "\n",
       "           XGBoost tuned with oversampled data  \\\n",
       "Accuracy                                 1.000   \n",
       "Recall                                   1.000   \n",
       "Precision                                1.000   \n",
       "F1                                       1.000   \n",
       "\n",
       "           XGBoost tuned with undersampled data  \n",
       "Accuracy                                  0.990  \n",
       "Recall                                    1.000  \n",
       "Precision                                 0.981  \n",
       "F1                                        0.990  "
      ]
     },
     "execution_count": 83,
     "metadata": {},
     "output_type": "execute_result"
    },
    {
     "data": {
      "application/javascript": [
       "\n",
       "            setTimeout(function() {\n",
       "                var nbb_cell_id = 83;\n",
       "                var nbb_unformatted_code = \"# training performance comparison\\n\\nmodels_train_comp_df = pd.concat(\\n    [\\n        dt_train_orig.T,\\n        dt_train_ov.T,\\n        dt_train_un.T,\\n        bag_train_orig.T,\\n        bag_train_ov.T,\\n        bag_train_un.T,\\n        rf_train_orig.T,\\n        rf_train_ov.T,\\n        rf_train_un.T,\\n        xgb_train_orig.T,\\n        xgb_train_ov.T,\\n        xgb_train_un.T,\\n    ],\\n    axis=1,\\n)\\nmodels_train_comp_df.columns = [\\n    \\\"Decision Tree tuned with Original data\\\",\\n    \\\"Decision Tree tuned with oversampled data\\\",\\n    \\\"Decision Tree tuned with undersampled data\\\",\\n    \\\"Bagging tuned with Original data\\\",\\n    \\\"Bagging tuned with oversampled data\\\",\\n    \\\"Bagging tuned with undersampled data\\\",\\n    \\\"Random Forest tuned with Original data\\\",\\n    \\\"Random Forest tuned with oversampled data\\\",\\n    \\\"Random Forest tuned with undersampled data\\\",\\n    \\\"XGBoost tuned with Original data\\\",\\n    \\\"XGBoost tuned with oversampled data\\\",\\n    \\\"XGBoost tuned with undersampled data\\\",\\n]\\nprint(\\\"Training performance comparison:\\\")\\nmodels_train_comp_df\";\n",
       "                var nbb_formatted_code = \"# training performance comparison\\n\\nmodels_train_comp_df = pd.concat(\\n    [\\n        dt_train_orig.T,\\n        dt_train_ov.T,\\n        dt_train_un.T,\\n        bag_train_orig.T,\\n        bag_train_ov.T,\\n        bag_train_un.T,\\n        rf_train_orig.T,\\n        rf_train_ov.T,\\n        rf_train_un.T,\\n        xgb_train_orig.T,\\n        xgb_train_ov.T,\\n        xgb_train_un.T,\\n    ],\\n    axis=1,\\n)\\nmodels_train_comp_df.columns = [\\n    \\\"Decision Tree tuned with Original data\\\",\\n    \\\"Decision Tree tuned with oversampled data\\\",\\n    \\\"Decision Tree tuned with undersampled data\\\",\\n    \\\"Bagging tuned with Original data\\\",\\n    \\\"Bagging tuned with oversampled data\\\",\\n    \\\"Bagging tuned with undersampled data\\\",\\n    \\\"Random Forest tuned with Original data\\\",\\n    \\\"Random Forest tuned with oversampled data\\\",\\n    \\\"Random Forest tuned with undersampled data\\\",\\n    \\\"XGBoost tuned with Original data\\\",\\n    \\\"XGBoost tuned with oversampled data\\\",\\n    \\\"XGBoost tuned with undersampled data\\\",\\n]\\nprint(\\\"Training performance comparison:\\\")\\nmodels_train_comp_df\";\n",
       "                var nbb_cells = Jupyter.notebook.get_cells();\n",
       "                for (var i = 0; i < nbb_cells.length; ++i) {\n",
       "                    if (nbb_cells[i].input_prompt_number == nbb_cell_id) {\n",
       "                        if (nbb_cells[i].get_text() == nbb_unformatted_code) {\n",
       "                             nbb_cells[i].set_text(nbb_formatted_code);\n",
       "                        }\n",
       "                        break;\n",
       "                    }\n",
       "                }\n",
       "            }, 500);\n",
       "            "
      ],
      "text/plain": [
       "<IPython.core.display.Javascript object>"
      ]
     },
     "metadata": {},
     "output_type": "display_data"
    }
   ],
   "source": [
    "# training performance comparison\n",
    "\n",
    "models_train_comp_df = pd.concat(\n",
    "    [\n",
    "        dt_train_orig.T,\n",
    "        dt_train_ov.T,\n",
    "        dt_train_un.T,\n",
    "        bag_train_orig.T,\n",
    "        bag_train_ov.T,\n",
    "        bag_train_un.T,\n",
    "        rf_train_orig.T,\n",
    "        rf_train_ov.T,\n",
    "        rf_train_un.T,\n",
    "        xgb_train_orig.T,\n",
    "        xgb_train_ov.T,\n",
    "        xgb_train_un.T,\n",
    "    ],\n",
    "    axis=1,\n",
    ")\n",
    "models_train_comp_df.columns = [\n",
    "    \"Decision Tree tuned with Original data\",\n",
    "    \"Decision Tree tuned with oversampled data\",\n",
    "    \"Decision Tree tuned with undersampled data\",\n",
    "    \"Bagging tuned with Original data\",\n",
    "    \"Bagging tuned with oversampled data\",\n",
    "    \"Bagging tuned with undersampled data\",\n",
    "    \"Random Forest tuned with Original data\",\n",
    "    \"Random Forest tuned with oversampled data\",\n",
    "    \"Random Forest tuned with undersampled data\",\n",
    "    \"XGBoost tuned with Original data\",\n",
    "    \"XGBoost tuned with oversampled data\",\n",
    "    \"XGBoost tuned with undersampled data\",\n",
    "]\n",
    "print(\"Training performance comparison:\")\n",
    "models_train_comp_df"
   ]
  },
  {
   "cell_type": "code",
   "execution_count": 84,
   "metadata": {},
   "outputs": [
    {
     "name": "stdout",
     "output_type": "stream",
     "text": [
      "Validation performance comparison:\n"
     ]
    },
    {
     "data": {
      "text/html": [
       "<div>\n",
       "<style scoped>\n",
       "    .dataframe tbody tr th:only-of-type {\n",
       "        vertical-align: middle;\n",
       "    }\n",
       "\n",
       "    .dataframe tbody tr th {\n",
       "        vertical-align: top;\n",
       "    }\n",
       "\n",
       "    .dataframe thead th {\n",
       "        text-align: right;\n",
       "    }\n",
       "</style>\n",
       "<table border=\"1\" class=\"dataframe\">\n",
       "  <thead>\n",
       "    <tr style=\"text-align: right;\">\n",
       "      <th></th>\n",
       "      <th>Decision Tree validation tuned with Original data</th>\n",
       "      <th>Decision Tree validation tuned with oversampled data</th>\n",
       "      <th>Decision Tree validation tuned with undersampled data</th>\n",
       "      <th>Bagging validation tuned with Original data</th>\n",
       "      <th>Bagging validation tuned with oversampled data</th>\n",
       "      <th>Bagging validation tuned with undersampled data</th>\n",
       "      <th>Random Forest validation tuned with Original data</th>\n",
       "      <th>Random Forest validation tuned with oversampled data</th>\n",
       "      <th>Random Forest validation tuned with undersampled data</th>\n",
       "      <th>XGBoost validation tuned with Original data</th>\n",
       "      <th>XGBoost validation tuned with oversampled data</th>\n",
       "      <th>XGBoost validation tuned with undersampled data</th>\n",
       "    </tr>\n",
       "  </thead>\n",
       "  <tbody>\n",
       "    <tr>\n",
       "      <th>Accuracy</th>\n",
       "      <td>0.970</td>\n",
       "      <td>0.763</td>\n",
       "      <td>0.609</td>\n",
       "      <td>0.984</td>\n",
       "      <td>0.986</td>\n",
       "      <td>0.938</td>\n",
       "      <td>0.983</td>\n",
       "      <td>0.988</td>\n",
       "      <td>0.944</td>\n",
       "      <td>0.989</td>\n",
       "      <td>0.985</td>\n",
       "      <td>0.863</td>\n",
       "    </tr>\n",
       "    <tr>\n",
       "      <th>Recall</th>\n",
       "      <td>0.583</td>\n",
       "      <td>0.885</td>\n",
       "      <td>0.888</td>\n",
       "      <td>0.737</td>\n",
       "      <td>0.867</td>\n",
       "      <td>0.896</td>\n",
       "      <td>0.712</td>\n",
       "      <td>0.860</td>\n",
       "      <td>0.885</td>\n",
       "      <td>0.849</td>\n",
       "      <td>0.874</td>\n",
       "      <td>0.910</td>\n",
       "    </tr>\n",
       "    <tr>\n",
       "      <th>Precision</th>\n",
       "      <td>0.822</td>\n",
       "      <td>0.176</td>\n",
       "      <td>0.114</td>\n",
       "      <td>0.958</td>\n",
       "      <td>0.883</td>\n",
       "      <td>0.469</td>\n",
       "      <td>0.985</td>\n",
       "      <td>0.926</td>\n",
       "      <td>0.496</td>\n",
       "      <td>0.948</td>\n",
       "      <td>0.859</td>\n",
       "      <td>0.277</td>\n",
       "    </tr>\n",
       "    <tr>\n",
       "      <th>F1</th>\n",
       "      <td>0.682</td>\n",
       "      <td>0.294</td>\n",
       "      <td>0.202</td>\n",
       "      <td>0.833</td>\n",
       "      <td>0.875</td>\n",
       "      <td>0.616</td>\n",
       "      <td>0.827</td>\n",
       "      <td>0.892</td>\n",
       "      <td>0.636</td>\n",
       "      <td>0.896</td>\n",
       "      <td>0.866</td>\n",
       "      <td>0.424</td>\n",
       "    </tr>\n",
       "  </tbody>\n",
       "</table>\n",
       "</div>"
      ],
      "text/plain": [
       "           Decision Tree validation tuned with Original data  \\\n",
       "Accuracy                                               0.970   \n",
       "Recall                                                 0.583   \n",
       "Precision                                              0.822   \n",
       "F1                                                     0.682   \n",
       "\n",
       "           Decision Tree validation tuned with oversampled data  \\\n",
       "Accuracy                                               0.763      \n",
       "Recall                                                 0.885      \n",
       "Precision                                              0.176      \n",
       "F1                                                     0.294      \n",
       "\n",
       "           Decision Tree validation tuned with undersampled data  \\\n",
       "Accuracy                                               0.609       \n",
       "Recall                                                 0.888       \n",
       "Precision                                              0.114       \n",
       "F1                                                     0.202       \n",
       "\n",
       "           Bagging validation tuned with Original data  \\\n",
       "Accuracy                                         0.984   \n",
       "Recall                                           0.737   \n",
       "Precision                                        0.958   \n",
       "F1                                               0.833   \n",
       "\n",
       "           Bagging validation tuned with oversampled data  \\\n",
       "Accuracy                                            0.986   \n",
       "Recall                                              0.867   \n",
       "Precision                                           0.883   \n",
       "F1                                                  0.875   \n",
       "\n",
       "           Bagging validation tuned with undersampled data  \\\n",
       "Accuracy                                             0.938   \n",
       "Recall                                               0.896   \n",
       "Precision                                            0.469   \n",
       "F1                                                   0.616   \n",
       "\n",
       "           Random Forest validation tuned with Original data  \\\n",
       "Accuracy                                               0.983   \n",
       "Recall                                                 0.712   \n",
       "Precision                                              0.985   \n",
       "F1                                                     0.827   \n",
       "\n",
       "           Random Forest validation tuned with oversampled data  \\\n",
       "Accuracy                                               0.988      \n",
       "Recall                                                 0.860      \n",
       "Precision                                              0.926      \n",
       "F1                                                     0.892      \n",
       "\n",
       "           Random Forest validation tuned with undersampled data  \\\n",
       "Accuracy                                               0.944       \n",
       "Recall                                                 0.885       \n",
       "Precision                                              0.496       \n",
       "F1                                                     0.636       \n",
       "\n",
       "           XGBoost validation tuned with Original data  \\\n",
       "Accuracy                                         0.989   \n",
       "Recall                                           0.849   \n",
       "Precision                                        0.948   \n",
       "F1                                               0.896   \n",
       "\n",
       "           XGBoost validation tuned with oversampled data  \\\n",
       "Accuracy                                            0.985   \n",
       "Recall                                              0.874   \n",
       "Precision                                           0.859   \n",
       "F1                                                  0.866   \n",
       "\n",
       "           XGBoost validation tuned with undersampled data  \n",
       "Accuracy                                             0.863  \n",
       "Recall                                               0.910  \n",
       "Precision                                            0.277  \n",
       "F1                                                   0.424  "
      ]
     },
     "execution_count": 84,
     "metadata": {},
     "output_type": "execute_result"
    },
    {
     "data": {
      "application/javascript": [
       "\n",
       "            setTimeout(function() {\n",
       "                var nbb_cell_id = 84;\n",
       "                var nbb_unformatted_code = \"# validation performance comparison\\n\\nmodels_val_comp_df = pd.concat(\\n    [\\n        dt_val_orig.T,\\n        dt_val_ov.T,\\n        dt_val_un.T,\\n        bag_val_orig.T,\\n        bag_val_ov.T,\\n        bag_val_un.T,\\n        rf_val_orig.T,\\n        rf_val_ov.T,\\n        rf_val_un.T,\\n        xgb_val_orig.T,\\n        xgb_val_ov.T,\\n        xgb_val_un.T,\\n    ],\\n    axis=1,\\n)\\nmodels_val_comp_df.columns = [\\n    \\\"Decision Tree validation tuned with Original data\\\",\\n    \\\"Decision Tree validation tuned with oversampled data\\\",\\n    \\\"Decision Tree validation tuned with undersampled data\\\",\\n    \\\"Bagging validation tuned with Original data\\\",\\n    \\\"Bagging validation tuned with oversampled data\\\",\\n    \\\"Bagging validation tuned with undersampled data\\\",\\n    \\\"Random Forest validation tuned with Original data\\\",\\n    \\\"Random Forest validation tuned with oversampled data\\\",\\n    \\\"Random Forest validation tuned with undersampled data\\\",\\n    \\\"XGBoost validation tuned with Original data\\\",\\n    \\\"XGBoost validation tuned with oversampled data\\\",\\n    \\\"XGBoost validation tuned with undersampled data\\\",\\n]\\n\\n\\nprint(\\\"Validation performance comparison:\\\")\\nmodels_val_comp_df\";\n",
       "                var nbb_formatted_code = \"# validation performance comparison\\n\\nmodels_val_comp_df = pd.concat(\\n    [\\n        dt_val_orig.T,\\n        dt_val_ov.T,\\n        dt_val_un.T,\\n        bag_val_orig.T,\\n        bag_val_ov.T,\\n        bag_val_un.T,\\n        rf_val_orig.T,\\n        rf_val_ov.T,\\n        rf_val_un.T,\\n        xgb_val_orig.T,\\n        xgb_val_ov.T,\\n        xgb_val_un.T,\\n    ],\\n    axis=1,\\n)\\nmodels_val_comp_df.columns = [\\n    \\\"Decision Tree validation tuned with Original data\\\",\\n    \\\"Decision Tree validation tuned with oversampled data\\\",\\n    \\\"Decision Tree validation tuned with undersampled data\\\",\\n    \\\"Bagging validation tuned with Original data\\\",\\n    \\\"Bagging validation tuned with oversampled data\\\",\\n    \\\"Bagging validation tuned with undersampled data\\\",\\n    \\\"Random Forest validation tuned with Original data\\\",\\n    \\\"Random Forest validation tuned with oversampled data\\\",\\n    \\\"Random Forest validation tuned with undersampled data\\\",\\n    \\\"XGBoost validation tuned with Original data\\\",\\n    \\\"XGBoost validation tuned with oversampled data\\\",\\n    \\\"XGBoost validation tuned with undersampled data\\\",\\n]\\n\\n\\nprint(\\\"Validation performance comparison:\\\")\\nmodels_val_comp_df\";\n",
       "                var nbb_cells = Jupyter.notebook.get_cells();\n",
       "                for (var i = 0; i < nbb_cells.length; ++i) {\n",
       "                    if (nbb_cells[i].input_prompt_number == nbb_cell_id) {\n",
       "                        if (nbb_cells[i].get_text() == nbb_unformatted_code) {\n",
       "                             nbb_cells[i].set_text(nbb_formatted_code);\n",
       "                        }\n",
       "                        break;\n",
       "                    }\n",
       "                }\n",
       "            }, 500);\n",
       "            "
      ],
      "text/plain": [
       "<IPython.core.display.Javascript object>"
      ]
     },
     "metadata": {},
     "output_type": "display_data"
    }
   ],
   "source": [
    "# validation performance comparison\n",
    "\n",
    "models_val_comp_df = pd.concat(\n",
    "    [\n",
    "        dt_val_orig.T,\n",
    "        dt_val_ov.T,\n",
    "        dt_val_un.T,\n",
    "        bag_val_orig.T,\n",
    "        bag_val_ov.T,\n",
    "        bag_val_un.T,\n",
    "        rf_val_orig.T,\n",
    "        rf_val_ov.T,\n",
    "        rf_val_un.T,\n",
    "        xgb_val_orig.T,\n",
    "        xgb_val_ov.T,\n",
    "        xgb_val_un.T,\n",
    "    ],\n",
    "    axis=1,\n",
    ")\n",
    "models_val_comp_df.columns = [\n",
    "    \"Decision Tree validation tuned with Original data\",\n",
    "    \"Decision Tree validation tuned with oversampled data\",\n",
    "    \"Decision Tree validation tuned with undersampled data\",\n",
    "    \"Bagging validation tuned with Original data\",\n",
    "    \"Bagging validation tuned with oversampled data\",\n",
    "    \"Bagging validation tuned with undersampled data\",\n",
    "    \"Random Forest validation tuned with Original data\",\n",
    "    \"Random Forest validation tuned with oversampled data\",\n",
    "    \"Random Forest validation tuned with undersampled data\",\n",
    "    \"XGBoost validation tuned with Original data\",\n",
    "    \"XGBoost validation tuned with oversampled data\",\n",
    "    \"XGBoost validation tuned with undersampled data\",\n",
    "]\n",
    "\n",
    "\n",
    "print(\"Validation performance comparison:\")\n",
    "models_val_comp_df"
   ]
  },
  {
   "cell_type": "markdown",
   "metadata": {},
   "source": [
    "- The best model that has a good Recall in the train and validation set is Decision Tree Undersampling model"
   ]
  },
  {
   "cell_type": "markdown",
   "metadata": {
    "id": "d_pDMFAz4jav"
   },
   "source": [
    "### Test set final performance"
   ]
  },
  {
   "cell_type": "code",
   "execution_count": 85,
   "metadata": {
    "id": "g8-epsXv4jav"
   },
   "outputs": [
    {
     "data": {
      "text/html": [
       "<div>\n",
       "<style scoped>\n",
       "    .dataframe tbody tr th:only-of-type {\n",
       "        vertical-align: middle;\n",
       "    }\n",
       "\n",
       "    .dataframe tbody tr th {\n",
       "        vertical-align: top;\n",
       "    }\n",
       "\n",
       "    .dataframe thead th {\n",
       "        text-align: right;\n",
       "    }\n",
       "</style>\n",
       "<table border=\"1\" class=\"dataframe\">\n",
       "  <thead>\n",
       "    <tr style=\"text-align: right;\">\n",
       "      <th></th>\n",
       "      <th>Accuracy</th>\n",
       "      <th>Recall</th>\n",
       "      <th>Precision</th>\n",
       "      <th>F1</th>\n",
       "    </tr>\n",
       "  </thead>\n",
       "  <tbody>\n",
       "    <tr>\n",
       "      <th>0</th>\n",
       "      <td>0.633</td>\n",
       "      <td>0.876</td>\n",
       "      <td>0.121</td>\n",
       "      <td>0.212</td>\n",
       "    </tr>\n",
       "  </tbody>\n",
       "</table>\n",
       "</div>"
      ],
      "text/plain": [
       "   Accuracy  Recall  Precision    F1\n",
       "0     0.633   0.876      0.121 0.212"
      ]
     },
     "execution_count": 85,
     "metadata": {},
     "output_type": "execute_result"
    },
    {
     "data": {
      "application/javascript": [
       "\n",
       "            setTimeout(function() {\n",
       "                var nbb_cell_id = 85;\n",
       "                var nbb_unformatted_code = \"# Using Decision tree undersampled to model\\ntest_dt = model_performance_classification_sklearn(dt_un, X_test, y_test)\\ntest_dt\";\n",
       "                var nbb_formatted_code = \"# Using Decision tree undersampled to model\\ntest_dt = model_performance_classification_sklearn(dt_un, X_test, y_test)\\ntest_dt\";\n",
       "                var nbb_cells = Jupyter.notebook.get_cells();\n",
       "                for (var i = 0; i < nbb_cells.length; ++i) {\n",
       "                    if (nbb_cells[i].input_prompt_number == nbb_cell_id) {\n",
       "                        if (nbb_cells[i].get_text() == nbb_unformatted_code) {\n",
       "                             nbb_cells[i].set_text(nbb_formatted_code);\n",
       "                        }\n",
       "                        break;\n",
       "                    }\n",
       "                }\n",
       "            }, 500);\n",
       "            "
      ],
      "text/plain": [
       "<IPython.core.display.Javascript object>"
      ]
     },
     "metadata": {},
     "output_type": "display_data"
    }
   ],
   "source": [
    "# Using Decision tree undersampled to model\n",
    "test_dt = model_performance_classification_sklearn(dt_un, X_test, y_test)\n",
    "test_dt"
   ]
  },
  {
   "cell_type": "markdown",
   "metadata": {},
   "source": [
    "- The model Decision Tree undersampling is performing well on the test data set"
   ]
  },
  {
   "cell_type": "markdown",
   "metadata": {},
   "source": [
    "### Feature Importances"
   ]
  },
  {
   "cell_type": "code",
   "execution_count": 86,
   "metadata": {},
   "outputs": [
    {
     "data": {
      "image/png": "[encoded data removed]",
      "text/plain": [
       "<Figure size 864x864 with 1 Axes>"
      ]
     },
     "metadata": {
      "needs_background": "light"
     },
     "output_type": "display_data"
    },
    {
     "data": {
      "application/javascript": [
       "\n",
       "            setTimeout(function() {\n",
       "                var nbb_cell_id = 86;\n",
       "                var nbb_unformatted_code = \"feature_names = X_train.columns\\nimportances = dt_un.feature_importances_\\nindices = np.argsort(importances)\\n\\nplt.figure(figsize=(12, 12))\\nplt.title(\\\"Feature Importances\\\")\\nplt.barh(range(len(indices)), importances[indices], color=\\\"violet\\\", align=\\\"center\\\")\\nplt.yticks(range(len(indices)), [feature_names[i] for i in indices])\\nplt.xlabel(\\\"Relative Importance\\\")\\nplt.show()\";\n",
       "                var nbb_formatted_code = \"feature_names = X_train.columns\\nimportances = dt_un.feature_importances_\\nindices = np.argsort(importances)\\n\\nplt.figure(figsize=(12, 12))\\nplt.title(\\\"Feature Importances\\\")\\nplt.barh(range(len(indices)), importances[indices], color=\\\"violet\\\", align=\\\"center\\\")\\nplt.yticks(range(len(indices)), [feature_names[i] for i in indices])\\nplt.xlabel(\\\"Relative Importance\\\")\\nplt.show()\";\n",
       "                var nbb_cells = Jupyter.notebook.get_cells();\n",
       "                for (var i = 0; i < nbb_cells.length; ++i) {\n",
       "                    if (nbb_cells[i].input_prompt_number == nbb_cell_id) {\n",
       "                        if (nbb_cells[i].get_text() == nbb_unformatted_code) {\n",
       "                             nbb_cells[i].set_text(nbb_formatted_code);\n",
       "                        }\n",
       "                        break;\n",
       "                    }\n",
       "                }\n",
       "            }, 500);\n",
       "            "
      ],
      "text/plain": [
       "<IPython.core.display.Javascript object>"
      ]
     },
     "metadata": {},
     "output_type": "display_data"
    }
   ],
   "source": [
    "feature_names = X_train.columns\n",
    "importances = dt_un.feature_importances_\n",
    "indices = np.argsort(importances)\n",
    "\n",
    "plt.figure(figsize=(12, 12))\n",
    "plt.title(\"Feature Importances\")\n",
    "plt.barh(range(len(indices)), importances[indices], color=\"violet\", align=\"center\")\n",
    "plt.yticks(range(len(indices)), [feature_names[i] for i in indices])\n",
    "plt.xlabel(\"Relative Importance\")\n",
    "plt.show()"
   ]
  },
  {
   "cell_type": "markdown",
   "metadata": {},
   "source": [
    "- The most important features are V36, V18 and V15"
   ]
  },
  {
   "cell_type": "markdown",
   "metadata": {
    "id": "TM6VZTRn4jav"
   },
   "source": [
    "## Pipelines to build the final model\n"
   ]
  },
  {
   "cell_type": "markdown",
   "metadata": {
    "id": "Zzg12gvx4jav"
   },
   "source": [
    "- Since we have only one datatype in the data, we don't need to use column transformer here"
   ]
  },
  {
   "cell_type": "code",
   "execution_count": 87,
   "metadata": {},
   "outputs": [
    {
     "data": {
      "application/javascript": [
       "\n",
       "            setTimeout(function() {\n",
       "                var nbb_cell_id = 87;\n",
       "                var nbb_unformatted_code = \"Pipeline_model = Pipeline(\\n    [\\n        (\\\"scaler\\\", StandardScaler()),\\n        \\\"DecisionTree\\\",\\n        DecisionTreeClassifier(\\n            random_state=1,\\n            max_depth=2,\\n            min_samples_leaf=1,\\n            max_leaf_nodes=4,\\n            min_impurity_decrease=0.01,\\n        ),\\n    ]\\n)\";\n",
       "                var nbb_formatted_code = \"Pipeline_model = Pipeline(\\n    [\\n        (\\\"scaler\\\", StandardScaler()),\\n        \\\"DecisionTree\\\",\\n        DecisionTreeClassifier(\\n            random_state=1,\\n            max_depth=2,\\n            min_samples_leaf=1,\\n            max_leaf_nodes=4,\\n            min_impurity_decrease=0.01,\\n        ),\\n    ]\\n)\";\n",
       "                var nbb_cells = Jupyter.notebook.get_cells();\n",
       "                for (var i = 0; i < nbb_cells.length; ++i) {\n",
       "                    if (nbb_cells[i].input_prompt_number == nbb_cell_id) {\n",
       "                        if (nbb_cells[i].get_text() == nbb_unformatted_code) {\n",
       "                             nbb_cells[i].set_text(nbb_formatted_code);\n",
       "                        }\n",
       "                        break;\n",
       "                    }\n",
       "                }\n",
       "            }, 500);\n",
       "            "
      ],
      "text/plain": [
       "<IPython.core.display.Javascript object>"
      ]
     },
     "metadata": {},
     "output_type": "display_data"
    }
   ],
   "source": [
    "Pipeline_model = Pipeline(\n",
    "    [\n",
    "        (\"scaler\", StandardScaler()),\n",
    "        \"DecisionTree\",\n",
    "        DecisionTreeClassifier(\n",
    "            random_state=1,\n",
    "            max_depth=2,\n",
    "            min_samples_leaf=1,\n",
    "            max_leaf_nodes=4,\n",
    "            min_impurity_decrease=0.01,\n",
    "        ),\n",
    "    ]\n",
    ")"
   ]
  },
  {
   "cell_type": "code",
   "execution_count": 88,
   "metadata": {},
   "outputs": [
    {
     "data": {
      "application/javascript": [
       "\n",
       "            setTimeout(function() {\n",
       "                var nbb_cell_id = 88;\n",
       "                var nbb_unformatted_code = \"# Separating target variable and other variables\\nX1 = data_train.drop(columns=\\\"Target\\\")\\nY1 = data_train[\\\"Target\\\"]\\n\\n# Since we already have a separate test set, we don't need to divide data into train and test\\n\\nX_test1 = data_test.drop([\\\"Target\\\"], axis=1)\\ny_test1 = data_test[\\\"Target\\\"]\";\n",
       "                var nbb_formatted_code = \"# Separating target variable and other variables\\nX1 = data_train.drop(columns=\\\"Target\\\")\\nY1 = data_train[\\\"Target\\\"]\\n\\n# Since we already have a separate test set, we don't need to divide data into train and test\\n\\nX_test1 = data_test.drop([\\\"Target\\\"], axis=1)\\ny_test1 = data_test[\\\"Target\\\"]\";\n",
       "                var nbb_cells = Jupyter.notebook.get_cells();\n",
       "                for (var i = 0; i < nbb_cells.length; ++i) {\n",
       "                    if (nbb_cells[i].input_prompt_number == nbb_cell_id) {\n",
       "                        if (nbb_cells[i].get_text() == nbb_unformatted_code) {\n",
       "                             nbb_cells[i].set_text(nbb_formatted_code);\n",
       "                        }\n",
       "                        break;\n",
       "                    }\n",
       "                }\n",
       "            }, 500);\n",
       "            "
      ],
      "text/plain": [
       "<IPython.core.display.Javascript object>"
      ]
     },
     "metadata": {},
     "output_type": "display_data"
    }
   ],
   "source": [
    "# Separating target variable and other variables\n",
    "X1 = data_train.drop(columns=\"Target\")\n",
    "Y1 = data_train[\"Target\"]\n",
    "\n",
    "# Since we already have a separate test set, we don't need to divide data into train and test\n",
    "\n",
    "X_test1 = data_test.drop([\"Target\"], axis=1)\n",
    "y_test1 = data_test[\"Target\"]"
   ]
  },
  {
   "cell_type": "code",
   "execution_count": 89,
   "metadata": {},
   "outputs": [
    {
     "data": {
      "application/javascript": [
       "\n",
       "            setTimeout(function() {\n",
       "                var nbb_cell_id = 89;\n",
       "                var nbb_unformatted_code = \"# We can't oversample/undersample data without doing missing value treatment, so let's first treat the missing values in the train set\\nimputer = SimpleImputer(strategy=\\\"median\\\")\\nX1 = imputer.fit_transform(X1)\\n\\n# We don't need to impute missing values in test set as it will be done inside pipeline\";\n",
       "                var nbb_formatted_code = \"# We can't oversample/undersample data without doing missing value treatment, so let's first treat the missing values in the train set\\nimputer = SimpleImputer(strategy=\\\"median\\\")\\nX1 = imputer.fit_transform(X1)\\n\\n# We don't need to impute missing values in test set as it will be done inside pipeline\";\n",
       "                var nbb_cells = Jupyter.notebook.get_cells();\n",
       "                for (var i = 0; i < nbb_cells.length; ++i) {\n",
       "                    if (nbb_cells[i].input_prompt_number == nbb_cell_id) {\n",
       "                        if (nbb_cells[i].get_text() == nbb_unformatted_code) {\n",
       "                             nbb_cells[i].set_text(nbb_formatted_code);\n",
       "                        }\n",
       "                        break;\n",
       "                    }\n",
       "                }\n",
       "            }, 500);\n",
       "            "
      ],
      "text/plain": [
       "<IPython.core.display.Javascript object>"
      ]
     },
     "metadata": {},
     "output_type": "display_data"
    }
   ],
   "source": [
    "# We can't oversample/undersample data without doing missing value treatment, so let's first treat the missing values in the train set\n",
    "imputer = SimpleImputer(strategy=\"median\")\n",
    "X1 = imputer.fit_transform(X1)\n",
    "\n",
    "# We don't need to impute missing values in test set as it will be done inside pipeline"
   ]
  },
  {
   "cell_type": "code",
   "execution_count": 90,
   "metadata": {},
   "outputs": [
    {
     "data": {
      "application/javascript": [
       "\n",
       "            setTimeout(function() {\n",
       "                var nbb_cell_id = 90;\n",
       "                var nbb_unformatted_code = \"# code for undersampling on the data\\n# Under Sampling Technique\\nrus = RandomUnderSampler(random_state=1, sampling_strategy=1)\\nX_train_un, y_train_un = rus.fit_resample(X_train, y_train)\";\n",
       "                var nbb_formatted_code = \"# code for undersampling on the data\\n# Under Sampling Technique\\nrus = RandomUnderSampler(random_state=1, sampling_strategy=1)\\nX_train_un, y_train_un = rus.fit_resample(X_train, y_train)\";\n",
       "                var nbb_cells = Jupyter.notebook.get_cells();\n",
       "                for (var i = 0; i < nbb_cells.length; ++i) {\n",
       "                    if (nbb_cells[i].input_prompt_number == nbb_cell_id) {\n",
       "                        if (nbb_cells[i].get_text() == nbb_unformatted_code) {\n",
       "                             nbb_cells[i].set_text(nbb_formatted_code);\n",
       "                        }\n",
       "                        break;\n",
       "                    }\n",
       "                }\n",
       "            }, 500);\n",
       "            "
      ],
      "text/plain": [
       "<IPython.core.display.Javascript object>"
      ]
     },
     "metadata": {},
     "output_type": "display_data"
    }
   ],
   "source": [
    "# code for undersampling on the data\n",
    "# Under Sampling Technique\n",
    "rus = RandomUnderSampler(random_state=1, sampling_strategy=1)\n",
    "X_train_un, y_train_un = rus.fit_resample(X_train, y_train)"
   ]
  },
  {
   "cell_type": "code",
   "execution_count": 91,
   "metadata": {},
   "outputs": [
    {
     "data": {
      "application/javascript": [
       "\n",
       "            setTimeout(function() {\n",
       "                var nbb_cell_id = 91;\n",
       "                var nbb_unformatted_code = \"# Pipeline_model.fit(X_train_un, y_train_un)\";\n",
       "                var nbb_formatted_code = \"# Pipeline_model.fit(X_train_un, y_train_un)\";\n",
       "                var nbb_cells = Jupyter.notebook.get_cells();\n",
       "                for (var i = 0; i < nbb_cells.length; ++i) {\n",
       "                    if (nbb_cells[i].input_prompt_number == nbb_cell_id) {\n",
       "                        if (nbb_cells[i].get_text() == nbb_unformatted_code) {\n",
       "                             nbb_cells[i].set_text(nbb_formatted_code);\n",
       "                        }\n",
       "                        break;\n",
       "                    }\n",
       "                }\n",
       "            }, 500);\n",
       "            "
      ],
      "text/plain": [
       "<IPython.core.display.Javascript object>"
      ]
     },
     "metadata": {},
     "output_type": "display_data"
    }
   ],
   "source": [
    "# Pipeline_model.fit(X_train_un, y_train_un)"
   ]
  },
  {
   "cell_type": "code",
   "execution_count": 92,
   "metadata": {},
   "outputs": [
    {
     "data": {
      "application/javascript": [
       "\n",
       "            setTimeout(function() {\n",
       "                var nbb_cell_id = 92;\n",
       "                var nbb_unformatted_code = \"# Pipeline_model_test = model_performance_classification_sklearn(\\n#    Pipeline_model, X_test1, y_test1)\\n# Pipeline_model_test\";\n",
       "                var nbb_formatted_code = \"# Pipeline_model_test = model_performance_classification_sklearn(\\n#    Pipeline_model, X_test1, y_test1)\\n# Pipeline_model_test\";\n",
       "                var nbb_cells = Jupyter.notebook.get_cells();\n",
       "                for (var i = 0; i < nbb_cells.length; ++i) {\n",
       "                    if (nbb_cells[i].input_prompt_number == nbb_cell_id) {\n",
       "                        if (nbb_cells[i].get_text() == nbb_unformatted_code) {\n",
       "                             nbb_cells[i].set_text(nbb_formatted_code);\n",
       "                        }\n",
       "                        break;\n",
       "                    }\n",
       "                }\n",
       "            }, 500);\n",
       "            "
      ],
      "text/plain": [
       "<IPython.core.display.Javascript object>"
      ]
     },
     "metadata": {},
     "output_type": "display_data"
    }
   ],
   "source": [
    "# Pipeline_model_test = model_performance_classification_sklearn(\n",
    "#    Pipeline_model, X_test1, y_test1)\n",
    "# Pipeline_model_test"
   ]
  },
  {
   "cell_type": "markdown",
   "metadata": {
    "id": "c5hPmHyR4jaw"
   },
   "source": [
    "# Business Insights and Conclusions"
   ]
  },
  {
   "cell_type": "markdown",
   "metadata": {},
   "source": [
    "### INSIGHTS\n",
    "\n",
    "- From the model, values in the column V36, V18 and V15 respectively are important features in the data\n",
    "- From test dataset, the model can rightly predict when a generator is due for inspection"
   ]
  },
  {
   "cell_type": "markdown",
   "metadata": {},
   "source": [
    "### CONCLUSIONS\n",
    "\n",
    "- A more detailed information of the different columns will enable one to give an accurate recommendations to the company\n",
    "- ReneWind shouild focus on the values in column V36, V18 and V15 as these will determine when the generators need servicing to avoid replacements which costs more"
   ]
  },
  {
   "cell_type": "markdown",
   "metadata": {
    "id": "VB3eO21n_sgt"
   },
   "source": [
    "***"
   ]
  }
 ],
 "metadata": {
  "colab": {
   "collapsed_sections": [
    "jjFpJBnb4jak",
    "vqF4q7G94jam",
    "DVCj6_DD4jan",
    "TWlGr1u1hKyk",
    "_jUaMoVvhKyl",
    "ONL1sM1n4jap",
    "Rxw_gopM4jar",
    "eqCDCbcw4jas",
    "oBKJaFU24jas",
    "1aimb6bn4jat",
    "yZGY1eL84jau",
    "rxM3jQuK_Pqc",
    "GMReRXdH_YUd",
    "chN8hbfThKyr",
    "HtPIiIS7hKyr",
    "D9JNnpxa4jau",
    "d_pDMFAz4jav",
    "TM6VZTRn4jav",
    "c5hPmHyR4jaw"
   ],
   "name": "MT_Project_LearnerNotebook_FullCode (11).ipynb",
   "provenance": []
  },
  "kernelspec": {
   "display_name": "Python 3 (ipykernel)",
   "language": "python",
   "name": "python3"
  },
  "language_info": {
   "codemirror_mode": {
    "name": "ipython",
    "version": 3
   },
   "file_extension": ".py",
   "mimetype": "text/x-python",
   "name": "python",
   "nbconvert_exporter": "python",
   "pygments_lexer": "ipython3",
   "version": "3.9.7"
  }
 },
 "nbformat": 4,
 "nbformat_minor": 1
}
